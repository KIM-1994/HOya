{
  "nbformat": 4,
  "nbformat_minor": 0,
  "metadata": {
    "colab": {
      "name": "점프 투 파이썬 발표구간 (5장~7장)",
      "provenance": [],
      "collapsed_sections": [
        "TVIei2TxmMju"
      ],
      "toc_visible": true
    },
    "kernelspec": {
      "name": "python3",
      "display_name": "Python 3"
    }
  },
  "cells": [
    {
      "cell_type": "markdown",
      "metadata": {
        "id": "pz04tdwXzTAK"
      },
      "source": [
        "# 5장 파이썬 날개달기"
      ]
    },
    {
      "cell_type": "markdown",
      "metadata": {
        "id": "UyatxySEzbDo"
      },
      "source": [
        "이제 프로그래밍의 꽃이라 할 수 있는 클래스와 함께 모듈, 예외 처리 및 파이썬 라이브러리에 대해서 알아보자. 이번 장을 끝으로 여러분은 파이썬 프로그램을 작성하기 위해 알아야 할 대부분의 내용들을 배우게 된다."
      ]
    },
    {
      "cell_type": "markdown",
      "metadata": {
        "id": "hXIBivNHzdhI"
      },
      "source": [
        "## 1.클래스"
      ]
    },
    {
      "cell_type": "markdown",
      "metadata": {
        "id": "s7E36IsazfmY"
      },
      "source": [
        "초보 개발자들에게 클래스(class)는 넘기 힘든 장벽과도 같은 존재이다. 독자들 중에도 클래스라는 단어를 처음 접하는 이들도 있을 것이다. 그러면 도대체 클래스가 무엇인지, 클래스가 왜 필요한지 아주 기초적인 것부터 차근차근 함께 알아보자."
      ]
    },
    {
      "cell_type": "markdown",
      "metadata": {
        "id": "Vkw9aptezhEw"
      },
      "source": [
        "## 클래스는 왜 필요한가?"
      ]
    },
    {
      "cell_type": "markdown",
      "metadata": {
        "id": "v6OSHeU0zjlo"
      },
      "source": [
        "프로그래머들이 가장 많이 사용하는 프로그래밍 언어 중 하나인 C 언어에는 클래스가 없다. 이 말은 굳이 클래스가 없어도 프로그램을 충분히 만들 수 있다는 뜻이다. 파이썬으로 잘 만든 프로그램을 살펴보아도 클래스를 사용하지 않고 작성한 것들이 상당히 많다. 클래스는 지금까지 공부한 함수나 자료형처럼 프로그램 작성을 위해 꼭 필요한 요소는 아니다.\n",
        "\n",
        "하지만 프로그램을 작성할 때 클래스를 적재적소에 사용하면 프로그래머가 얻을 수 있는 이익은 상당하다. 예제를 통해 한번 생각해 보자.\n",
        "\n",
        "여러분 모두 계산기를 사용해 보았을 것이다. 계산기에 숫자 3을 입력하고 + 기호를 입력한 후 4를 입력하면 결괏값으로 7을 보여 준다. 다시 한 번 + 기호를 입력한 후 3을 입력하면 기존 결괏값 7에 3을 더해 10을 보여 준다. 즉 계산기는 이전에 계산한 결괏값을 항상 메모리 어딘가에 저장하고 있어야 한다.\n",
        "\n",
        "※ 계산기는 이전에 계산한 결괏값을 기억하고 있어야 한다.\n",
        "\n",
        "이런 내용을 우리가 앞에서 익힌 함수를 이용해 구현해 보자. 계산기의 \"더하기\" 기능을 구현한 파이썬 코드는 다음과 같다."
      ]
    },
    {
      "cell_type": "code",
      "metadata": {
        "id": "kT7ljUUUzoVI",
        "outputId": "1d163d35-b471-49a0-e2b7-5c4739050cc8",
        "colab": {
          "base_uri": "https://localhost:8080/",
          "height": 53
        }
      },
      "source": [
        "result = 0\n",
        "\n",
        "def add(num):\n",
        "    global result\n",
        "    result += num\n",
        "    return result\n",
        "\n",
        "print(add(3))\n",
        "print(add(4))"
      ],
      "execution_count": null,
      "outputs": [
        {
          "output_type": "stream",
          "text": [
            "3\n",
            "7\n"
          ],
          "name": "stdout"
        }
      ]
    },
    {
      "cell_type": "markdown",
      "metadata": {
        "id": "GQKBX7tQOD-A"
      },
      "source": [
        "※ add 함수는 매개변수 num에 받은 값을 이전에 계산한 결괏값에 더한 후 돌려주는 함수이다.\n",
        "\n",
        "이전에 계산한 결괏값을 유지하기 위해서 result 전역 변수(global)를 사용했다. 프로그램을 실행하면 예상한 대로 위와 같은 결괏값이 출력된다."
      ]
    },
    {
      "cell_type": "markdown",
      "metadata": {
        "id": "JP5VgPSwORe4"
      },
      "source": [
        "그런데 만일 한 프로그램에서 2대의 계산기가 필요한 상황이 발생하면 어떻게 해야 할까? 각 계산기는 각각의 결괏값을 유지해야 하기 때문에 위와 같이 add 함수 하나만으로는 결괏값을 따로 유지할 수 없다.\n",
        "\n",
        "이런 상황을 해결하려면 다음과 같이 함수를 각각 따로 만들어야 한다."
      ]
    },
    {
      "cell_type": "code",
      "metadata": {
        "id": "8N6O6wrWOSwd",
        "outputId": "47f2d9d7-8cf0-4030-d3d4-9e550cdd161b",
        "colab": {
          "base_uri": "https://localhost:8080/",
          "height": 89
        }
      },
      "source": [
        "result1 = 0\n",
        "result2 = 0\n",
        "\n",
        "def add1(num):\n",
        "    global result1\n",
        "    result1 += num\n",
        "    return result1\n",
        "\n",
        "def add2(num):\n",
        "    global result2\n",
        "    result2 += num\n",
        "    return result2\n",
        "\n",
        "print(add1(3))\n",
        "print(add1(4))\n",
        "print(add2(3))\n",
        "print(add2(7))"
      ],
      "execution_count": null,
      "outputs": [
        {
          "output_type": "stream",
          "text": [
            "3\n",
            "7\n",
            "3\n",
            "10\n"
          ],
          "name": "stdout"
        }
      ]
    },
    {
      "cell_type": "markdown",
      "metadata": {
        "id": "xWLMgg9hOUMC"
      },
      "source": [
        "똑같은 일을 하는 add1과 add2 함수를 만들었고 각 함수에서 계산한 결괏값을 유지하면서 저장하는 전역 변수 result1, result2가 필요하게 되었다.\n",
        "\n",
        "결괏값은 위와 같이 의도한 대로 출력된다."
      ]
    },
    {
      "cell_type": "markdown",
      "metadata": {
        "id": "s0kQ2_X-OZp7"
      },
      "source": [
        "계산기 1의 결괏값이 계산기 2에 아무 영향을 끼치지 않음을 확인할 수 있다. 하지만 계산기가 3개, 5개, 10개로 점점 더 많이 필요해진다면 어떻게 해야 할까? 그때마다 전역 변수와 함수를 추가할 것인가? 여기에 빼기나 곱하기 등의 기능을 추가해야 한다면 상황은 점점 더 어려워질 것이다.\n",
        "\n",
        "아직 클래스에 대해 배우지 않았지만, 위와 같은 경우에 클래스를 사용하면 다음과 같이 간단하게 해결할 수 있다.\n",
        "\n",
        "※ 다음 예시 클래스를 아직은 이해하지 못해도 좋다. 곧 자세하게 배울 것이다. 여기에서는 클래스 개념만 이해하면 된다."
      ]
    },
    {
      "cell_type": "code",
      "metadata": {
        "id": "EMTPhqSdOcjY"
      },
      "source": [
        "class Calculator:\n",
        "    def __init__(self):\n",
        "        self.result = 0\n",
        "\n",
        "    def add(self, num):\n",
        "        self.result += num\n",
        "        return self.result\n",
        "\n",
        "cal1 = Calculator()\n",
        "cal2 = Calculator()\n",
        "\n",
        "print(cal1.add(3))\n",
        "print(cal1.add(4))\n",
        "print(cal2.add(3))\n",
        "print(cal2.add(7))"
      ],
      "execution_count": null,
      "outputs": []
    },
    {
      "cell_type": "markdown",
      "metadata": {
        "id": "H55xHexQOejb"
      },
      "source": [
        "프로그램을 실행하면 함수 2개를 사용했을 때와 동일한 결과가 출력된다."
      ]
    },
    {
      "cell_type": "markdown",
      "metadata": {
        "id": "Elnzgb5NOmIp"
      },
      "source": [
        "Calculator 클래스로 만든 별개의 계산기 cal1, cal2(파이썬에서는 이것을 객체라고 부른다)가 각각의 역할을 수행한다. 그리고 계산기(cal1, cal2)의 결괏값 역시 다른 계산기의 결괏값과 상관없이 독립적인 값을 유지한다. 클래스를 사용하면 계산기 대수가 늘어나더라도 객체를 생성만 하면 되기 때문에 함수를 사용하는 경우와 달리 매우 간단해진다. 만약 빼기 기능을 더하려면 Calculator 클래스에 다음과 같은 빼기 기능 함수를 추가해 주면 된다."
      ]
    },
    {
      "cell_type": "code",
      "metadata": {
        "id": "UNq5sJ1vOnxH"
      },
      "source": [
        "def sub(self, num):\n",
        "        self.result -= num\n",
        "        return self.result"
      ],
      "execution_count": null,
      "outputs": []
    },
    {
      "cell_type": "markdown",
      "metadata": {
        "id": "GN05zkiZOqQR"
      },
      "source": [
        "클래스의 이점은 단순히 이것만이 아니다. 하지만 이것 하나만으로도 \"도대체 왜 클래스가 필요한 것일까?\"라는 근본적인 물음에 대한 해답이 되었을 것이다."
      ]
    },
    {
      "cell_type": "markdown",
      "metadata": {
        "id": "whqQiPJ0OrtP"
      },
      "source": [
        "## 클래스와 객체"
      ]
    },
    {
      "cell_type": "markdown",
      "metadata": {
        "id": "LtyK7EP3OtTF"
      },
      "source": [
        "과자를 만드는 과자 틀과 그것을 사용해 만든 과자이다.\n",
        "\n",
        "과자 틀 → 클래스 (class)\n",
        "과자 틀에 의해서 만들어진 과자 → 객체 (object)\n",
        "여기에서 설명할 클래스는 과자 틀과 비슷하다. 클래스(class)란 똑같은 무엇인가를 계속해서 만들어 낼 수 있는 설계 도면이고(과자 틀), 객체(object)란 클래스로 만든 피조물(과자 틀을 사용해 만든 과자)을 뜻한다.\n",
        "\n",
        "클래스로 만든 객체에는 중요한 특징이 있다. 바로 객체마다 고유한 성격을 가진다는 것이다. 과자 틀로 만든 과자에 구멍을 뚫거나 조금 베어 먹더라도 다른 과자에는 아무 영향이 없는 것과 마찬가지로 동일한 클래스로 만든 객체들은 서로 전혀 영향을 주지 않는다.\n",
        "\n",
        "다음은 파이썬 클래스의 가장 간단한 예이다.\n"
      ]
    },
    {
      "cell_type": "code",
      "metadata": {
        "id": "7p-t-zPFO01Z"
      },
      "source": [
        "class Cookie:\n",
        "  pass"
      ],
      "execution_count": null,
      "outputs": []
    },
    {
      "cell_type": "markdown",
      "metadata": {
        "id": "hXqLKezdO4vx"
      },
      "source": [
        "위의 클래스는 아무 기능도 갖고 있지 않은 껍질뿐인 클래스이다. 하지만 이렇게 껍질뿐인 클래스도 객체를 생성하는 기능이 있다. \"과자 틀\"로 \"과자\"를 만드는 것처럼 말이다.\n",
        "\n",
        "객체는 클래스로 만들며 1개의 클래스는 무수히 많은 객체를 만들어 낼 수 있다. 위에서 만든 Cookie 클래스의 객체를 만드는 방법은 다음과 같다."
      ]
    },
    {
      "cell_type": "code",
      "metadata": {
        "id": "BHjQs_p6O6SN"
      },
      "source": [
        "a = Cookie()\n",
        "b = Cookie()"
      ],
      "execution_count": null,
      "outputs": []
    },
    {
      "cell_type": "markdown",
      "metadata": {
        "id": "BVzQS_jLO-Zi"
      },
      "source": [
        "Cookie()의 결괏값을 돌려받은 a와 b가 바로 객체이다. 마치 함수를 사용해서 그 결괏값을 돌려받는 모습과 비슷하다."
      ]
    },
    {
      "cell_type": "markdown",
      "metadata": {
        "id": "jXhTyJMTPAvd"
      },
      "source": [
        "[객체와 인스턴스의 차이]\n",
        "\n",
        "클래스로 만든 객체를 인스턴스라고도 한다. 그렇다면 객체와 인스턴스의 차이는 무엇일까? 이렇게 생각해 보자. a = Cookie() 이렇게 만든 a는 객체이다. 그리고 a 객체는 Cookie의 인스턴스이다. 즉 인스턴스라는 말은 특정 객체(a)가 어떤 클래스(Cookie)의 객체인지를 관계 위주로 설명할 때 사용한다. \"a는 인스턴스\"보다는 \"a는 객체\"라는 표현이 어울리며 \"a는 Cookie의 객체\"보다는 \"a는 Cookie의 인스턴스\"라는 표현이 훨씬 잘 어울린다."
      ]
    },
    {
      "cell_type": "markdown",
      "metadata": {
        "id": "OgDPppinPE1O"
      },
      "source": [
        "## 사칙연산 클래스 만들기"
      ]
    },
    {
      "cell_type": "markdown",
      "metadata": {
        "id": "GC7eDGZdPHD_"
      },
      "source": [
        "\"백견(見)이 불여 일타(打)\"라고 했다. 클래스를 직접 만들며 배워 보자.\n",
        "\n",
        "여기에서는 사칙연산을 쉽게 해주는 클래스를 만들어 볼 것이다. 사칙연산은 더하기, 빼기, 나누기, 곱하기를 말한다."
      ]
    },
    {
      "cell_type": "markdown",
      "metadata": {
        "id": "6ZipTZRMPIoy"
      },
      "source": [
        "### 클래스를 어떻게 만들지 먼저 구상하기"
      ]
    },
    {
      "cell_type": "markdown",
      "metadata": {
        "id": "ZnBuQUWFPKr1"
      },
      "source": [
        "클래스는 무작정 만드는 것보다 클래스로 만든 객체를 중심으로 어떤 식으로 동작하게 할것인지 미리 구상을 한 후에 생각한 것들을 하나씩 해결하면서 완성해 나가는 것이 좋다.\n",
        "\n",
        "사칙연산을 가능하게 하는 FourCal 클래스가 다음처럼 동작한다고 가정해 보자.\n",
        "\n",
        "먼저 a = FourCal()를 입력해서 a라는 객체를 만든다."
      ]
    },
    {
      "cell_type": "code",
      "metadata": {
        "id": "LF1c-2wCPLmu"
      },
      "source": [
        "a = FourCal()"
      ],
      "execution_count": null,
      "outputs": []
    },
    {
      "cell_type": "markdown",
      "metadata": {
        "id": "9F0xtONDPPaP"
      },
      "source": [
        "그런 다음 a.setdata(4, 2)처럼 입력해서 숫자 4와 2를 a에 지정해 주고"
      ]
    },
    {
      "cell_type": "code",
      "metadata": {
        "id": "c7Uj57eKPW6j"
      },
      "source": [
        "a.setdata(4, 2)"
      ],
      "execution_count": null,
      "outputs": []
    },
    {
      "cell_type": "markdown",
      "metadata": {
        "id": "xevYJCmjPZnV"
      },
      "source": [
        "a.add()를 수행하면 두 수를 합한 결과(4 + 2)를 돌려주고"
      ]
    },
    {
      "cell_type": "code",
      "metadata": {
        "id": "KTlQQQlwPe2-"
      },
      "source": [
        "print(a.add())"
      ],
      "execution_count": null,
      "outputs": []
    },
    {
      "cell_type": "code",
      "metadata": {
        "id": "OW5oMvdvPv0Z"
      },
      "source": [
        "print(a.mul())"
      ],
      "execution_count": null,
      "outputs": []
    },
    {
      "cell_type": "code",
      "metadata": {
        "id": "crjDjos6P_yh"
      },
      "source": [
        "print(a.sub())"
      ],
      "execution_count": null,
      "outputs": []
    },
    {
      "cell_type": "code",
      "metadata": {
        "id": "yV1ZqLnnQDD2"
      },
      "source": [
        "print(a.div())"
      ],
      "execution_count": null,
      "outputs": []
    },
    {
      "cell_type": "markdown",
      "metadata": {
        "id": "s-7BTgUTQFxi"
      },
      "source": [
        "이렇게 동작하는 FourCal 클래스를 만드는 것이 바로 우리의 목표이다."
      ]
    },
    {
      "cell_type": "markdown",
      "metadata": {
        "id": "hM6fy0toQINf"
      },
      "source": [
        "### 클래스 구조 만들기"
      ]
    },
    {
      "cell_type": "markdown",
      "metadata": {
        "id": "SmgWDEghQM28"
      },
      "source": [
        "자, 그러면 지금부터 앞에서 구상한 것처럼 동작하는 클래스를 만들어 보자. 제일 먼저 할 일은 a = FourCal()처럼 객체를 만들 수 있게 하는 것이다. 일단은 아무 기능이 없어도 되기 때문에 매우 간단하게 만들 수 있다. 다음을 따라 해 보자."
      ]
    },
    {
      "cell_type": "code",
      "metadata": {
        "id": "T1D-K9ReQN-x"
      },
      "source": [
        "class FourCal:\n",
        "  pass"
      ],
      "execution_count": null,
      "outputs": []
    },
    {
      "cell_type": "markdown",
      "metadata": {
        "id": "JoN570pyQStP"
      },
      "source": [
        "우선 대화형 인터프리터에서 pass란 문장만을 포함한 FourCal 클래스를 만든다. 현재 상태에서 FourCal 클래스는 아무 변수나 함수도 포함하지 않지만 우리가 원하는 객체 a를 만들 수 있는 기능은 가지고 있다. 확인해 보자.\n",
        "\n",
        "※ pass는 아무것도 수행하지 않는 문법으로 임시로 코드를 작성할 때 주로 사용한다."
      ]
    },
    {
      "cell_type": "code",
      "metadata": {
        "id": "deS-eZJxQUlp"
      },
      "source": [
        "a = FourCal()\n",
        "type(a)"
      ],
      "execution_count": null,
      "outputs": []
    },
    {
      "cell_type": "markdown",
      "metadata": {
        "id": "e4xq3ZPMQnSd"
      },
      "source": [
        "위와 같이 a = FourCal()로 a 객체를 먼저 만들고 그다음에 type(a)로 a 객체가 어떤 타입인지 알아보았다. 역시 객체 a가 FourCal 클래스의 객체임을 알 수 있다.\n",
        "\n",
        "※ type 함수는 파이썬이 자체로 가지고 있는 내장 함수로 객체 타입을 출력한다."
      ]
    },
    {
      "cell_type": "markdown",
      "metadata": {
        "id": "W3P-028aQoks"
      },
      "source": [
        "### 객체에 숫자 지정할 수 있게 만드기"
      ]
    },
    {
      "cell_type": "markdown",
      "metadata": {
        "id": "4sFTd1RVQq7t"
      },
      "source": [
        "하지만 생성된 객체 a는 아직 아무런 기능도 하지 못한다. 이제 더하기, 나누기, 곱하기, 빼기등의 기능을 하는 객체를 만들어야 한다. 그런데 이러한 기능을 갖춘 객체를 만들려면 우선 a 객체에 사칙연산을 할 때 사용할 2개의 숫자를 먼저 알려주어야 한다. 다음과 같이 연산을 수행할 대상(4, 2)을 객체에 지정할 수 있게 만들어 보자."
      ]
    },
    {
      "cell_type": "code",
      "metadata": {
        "id": "BkcbfrYJQsLS"
      },
      "source": [
        "a.setdata(4, 2)"
      ],
      "execution_count": null,
      "outputs": []
    },
    {
      "cell_type": "markdown",
      "metadata": {
        "id": "xIATsxBeQv6M"
      },
      "source": [
        "위 문장을 수행하려면 다음과 같이 소스 코드를 작성해야 한다."
      ]
    },
    {
      "cell_type": "code",
      "metadata": {
        "id": "Z9LFASFXQwv4"
      },
      "source": [
        "class FourCal:\n",
        "  def setdata(self, first, second):\n",
        "    self.first = first\n",
        "    self.second = second"
      ],
      "execution_count": null,
      "outputs": []
    },
    {
      "cell_type": "markdown",
      "metadata": {
        "id": "VTFpd3nXQ8me"
      },
      "source": [
        "앞에서 만든 FourCal 클래스에서 pass 문장을 삭제하고 그 대신 setdata 함수를 만들었다. 클래스 안에 구현된 함수는 다른 말로 메서드(Method)라고 부른다. 앞으로 클래스 내부의 함수는 항상 메서드라고 표현할 테니 메서드라는 용어를 기억해 두자.\n",
        "\n",
        "일반적인 함수를 만들 때 다음과 같이 작성한다."
      ]
    },
    {
      "cell_type": "code",
      "metadata": {
        "id": "onIe3UMAQ9ls"
      },
      "source": [
        "def 함수명(매개변수):\n",
        "    수행할 문장\n",
        "    ..."
      ],
      "execution_count": null,
      "outputs": []
    },
    {
      "cell_type": "markdown",
      "metadata": {
        "id": "L5KLjgRFQ_AD"
      },
      "source": [
        "메서드도 클래스에 포함되어 있다는 점만 제외하면 일반 함수와 다를 것이 없다.\n",
        "\n",
        "setdata 메서드를 다시 보면 다음과 같다."
      ]
    },
    {
      "cell_type": "code",
      "metadata": {
        "id": "DVYIUW0wRAPc"
      },
      "source": [
        "def setdata(self, first, second):   # ① 메서드의 매개변수\n",
        "    self.first = first              # ② 메서드의 수행문\n",
        "    self.second = second            # ② 메서드의 수행문"
      ],
      "execution_count": null,
      "outputs": []
    },
    {
      "cell_type": "markdown",
      "metadata": {
        "id": "1tbGaqW8RDLh"
      },
      "source": [
        "#### 1.setdata 메서드의 매개변수"
      ]
    },
    {
      "cell_type": "markdown",
      "metadata": {
        "id": "IYrBag8iRG0U"
      },
      "source": [
        "etdata 메서드는 매개변수로 self, first, second 3개 입력값을 받는다. 그런데 일반 함수와는 달리 메서드의 첫 번째 매개변수 self는 특별한 의미를 가진다.\n",
        "\n",
        "다음과 같이 a 객체를 만들고 a 객체를 통해 setdata 메서드를 호출해 보자."
      ]
    },
    {
      "cell_type": "code",
      "metadata": {
        "id": "xbw6jlR2RKNG"
      },
      "source": [
        "a = FourCal()\n",
        "a.setdata(4, 2)"
      ],
      "execution_count": null,
      "outputs": []
    },
    {
      "cell_type": "markdown",
      "metadata": {
        "id": "rmFxrbrNROz7"
      },
      "source": [
        "※ 객체를 통해 클래스의 메서드를 호출하려면 a.setdata(4, 2)와 같이 도트(.) 연산자를 사용해야 한다."
      ]
    },
    {
      "cell_type": "markdown",
      "metadata": {
        "id": "4hODVkSlRPzc"
      },
      "source": [
        "그런데 뭔가 좀 이상하지 않은가? setdata 메서드에는 self, first, second 총 3개의 매개변수가 필요한데 실제로는 a.setdata(4, 2)처럼 2개 값만 전달했다. 왜 그럴까? 그 이유는 a.setdata(4, 2)처럼 호출하면 setdata 메서드의 첫 번째 매개변수 self에는 setdata메서드를 호출한 객체 a가 자동으로 전달되기 때문이다. 다음 그림을 보면 객체를 호출할 때 입력한 값이 메서드에 어떻게 전달되는지 쉽게 이해할 수 있을 것이다."
      ]
    },
    {
      "cell_type": "markdown",
      "metadata": {
        "id": "CxNjzSKnRUF0"
      },
      "source": [
        "파이썬 메서드의 첫 번째 매개변수 이름은 관례적으로 self를 사용한다. 객체를 호출할 때 호출한 객체 자신이 전달되기 때문에 self를 사용한 것이다. 물론 self말고 다른 이름을 사용해도 상관없다.\n",
        "\n",
        "※ 메서드의 첫 번째 매개변수 self를 명시적으로 구현하는 것은 파이썬만의 독특한 특징이다. 예를 들어 자바 같은 언어는 첫 번째 매개변수 self가 필요없다."
      ]
    },
    {
      "cell_type": "markdown",
      "metadata": {
        "id": "NEHr_mFqRVVh"
      },
      "source": [
        "[메서드의 또 다른 호출 방법]\n",
        "\n",
        "잘 사용하지는 않지만 다음과 같이 클래스를 통해 메서드를 호출하는 것도 가능하다."
      ]
    },
    {
      "cell_type": "code",
      "metadata": {
        "id": "HXOLjeYSRWhU"
      },
      "source": [
        "a = FourCal()\n",
        "FourCal.setdata(a, 4, 2)"
      ],
      "execution_count": null,
      "outputs": []
    },
    {
      "cell_type": "markdown",
      "metadata": {
        "id": "xqAMDmsjRbvY"
      },
      "source": [
        "위와 같이 클래스 이름.메서드 형태로 호출할 때는 객체 a를 첫 번째 매개변수 self에 꼭 전달해 주어야 한다. 반면에 다음처럼 객체.메서드 형태로 호출할 때는 self를 반드시 생략해서 호출해야 한다."
      ]
    },
    {
      "cell_type": "code",
      "metadata": {
        "id": "AogRKIUARc38"
      },
      "source": [
        "a = FourCal()\n",
        "a.setdata(4, 2)"
      ],
      "execution_count": null,
      "outputs": []
    },
    {
      "cell_type": "markdown",
      "metadata": {
        "id": "fR9cirf5Rh01"
      },
      "source": [
        "#### 2.setdata 메서드의 수행문"
      ]
    },
    {
      "cell_type": "markdown",
      "metadata": {
        "id": "j4Ldshu9RlTq"
      },
      "source": [
        "이제 setdata 메서드의 수행문에 대해 알아보자."
      ]
    },
    {
      "cell_type": "code",
      "metadata": {
        "id": "lk-FXsOrRqFx"
      },
      "source": [
        "def setdata(self, first, second):   # ① 메서드의 매개변수\n",
        "    self.first = first              # ② 메서드의 수행문\n",
        "    self.second = second            # ② 메서드의 수행문"
      ],
      "execution_count": null,
      "outputs": []
    },
    {
      "cell_type": "markdown",
      "metadata": {
        "id": "QKjlj4ctRrjU"
      },
      "source": [
        "a.setdata(4, 2)처럼 호출하면 setdata 메서드의 매개변수 first, second에는 각각 값 4와 2가 전달되어 setdata 메서드의 수행문은 다음과 같이 해석된다."
      ]
    },
    {
      "cell_type": "code",
      "metadata": {
        "id": "a6WaI3BeRswY"
      },
      "source": [
        "self.first = 4\n",
        "self.second = 2"
      ],
      "execution_count": null,
      "outputs": []
    },
    {
      "cell_type": "markdown",
      "metadata": {
        "id": "eGOkxz6KRu42"
      },
      "source": [
        "self는 전달된 객체 a이므로 다시 다음과 같이 해석된다."
      ]
    },
    {
      "cell_type": "code",
      "metadata": {
        "id": "JfwGsKddRvyN"
      },
      "source": [
        "a.first = 4\n",
        "a.second = 2"
      ],
      "execution_count": null,
      "outputs": []
    },
    {
      "cell_type": "markdown",
      "metadata": {
        "id": "_63DjkhJRxYf"
      },
      "source": [
        "a.first = 4 문장이 수행되면 a 객체에 객체변수 first가 생성되고 값 4가 저장된다. 마찬가지로 a.second = 2 문장이 수행되면 a 객체에 객체변수 second가 생성되고 값 2가 저장된다.\n",
        "\n",
        "※ 객체에 생성되는 객체만의 변수를 객체변수라고 부른다.\n",
        "\n",
        "다음과 같이 확인해 보자."
      ]
    },
    {
      "cell_type": "code",
      "metadata": {
        "id": "Y_WrNXK_R1Ke"
      },
      "source": [
        "a = FourCal()\n",
        "a.setdata(4, 2)\n",
        "print(a.first)"
      ],
      "execution_count": null,
      "outputs": []
    },
    {
      "cell_type": "code",
      "metadata": {
        "id": "pV4HL-EYR7X-"
      },
      "source": [
        "print(a.second)"
      ],
      "execution_count": null,
      "outputs": []
    },
    {
      "cell_type": "markdown",
      "metadata": {
        "id": "oigeWs-mR_7p"
      },
      "source": [
        "a 객체에 객체변수 first와 second가 생성되었음을 확인할 수 있다.\n",
        "\n",
        "이번에는 다음과 같이 a, b 객체를 만들어 보자."
      ]
    },
    {
      "cell_type": "code",
      "metadata": {
        "id": "CDKeDcILSBqs"
      },
      "source": [
        "a = FourCal()\n",
        "b = FourCal()"
      ],
      "execution_count": null,
      "outputs": []
    },
    {
      "cell_type": "markdown",
      "metadata": {
        "id": "wfOcZBIfSFFR"
      },
      "source": [
        "그리고 a 객체의 객체변수 first를 다음과 같이 생성한다."
      ]
    },
    {
      "cell_type": "code",
      "metadata": {
        "id": "pTX3ThbrSGR0"
      },
      "source": [
        "a.setdata(4, 2)\n",
        "print(a.first)"
      ],
      "execution_count": null,
      "outputs": []
    },
    {
      "cell_type": "markdown",
      "metadata": {
        "id": "XC7WKGAISJ6t"
      },
      "source": [
        "이번에는 b 객체의 객체변수 first를 다음과 같이 생성한다."
      ]
    },
    {
      "cell_type": "code",
      "metadata": {
        "id": "hlkqYjiXSK-P"
      },
      "source": [
        "b.setdata(3, 7)\n",
        "print(b.first)"
      ],
      "execution_count": null,
      "outputs": []
    },
    {
      "cell_type": "markdown",
      "metadata": {
        "id": "v7RKlslxSP0v"
      },
      "source": [
        "자, 이제 여러분에게 아주 중요한 질문을 한 가지 하겠다. 위와 같이 진행하면 b 객체의 객체변수 first에는 값 3이 저장된다는 것을 확인할 수 있었다. 그렇다면 a 객체의 first는 3으로 변할까? 아니면 기존 값 4를 유지할까? 다음과 같이 그 결과를 확인해 보자."
      ]
    },
    {
      "cell_type": "code",
      "metadata": {
        "id": "bVf-95J3SRl6"
      },
      "source": [
        "print(a.first)"
      ],
      "execution_count": null,
      "outputs": []
    },
    {
      "cell_type": "markdown",
      "metadata": {
        "id": "6s1AHwfqSUWo"
      },
      "source": [
        "a 객체의 first 값은 b 객체의 first 값에 영향받지 않고 원래 값을 유지하고 있음을 확인할 수 있다. 이 예제를 통해 여러분에게 강조하고 싶은 점이 바로 이것이다. 클래스로 만든 객체의 객체변수는 다른 객체의 객체변수에 상관없이 독립적인 값을 유지한다.\n",
        "\n",
        "id 함수를 사용하면 객체변수가 독립적인 값을 유지한다는 점을 좀 더 명확하게 증명해 보일 수 있다. 다시 다음과 같이 따라 해 보자.\n",
        "\n",
        "※ id 함수는 객체의 주소를 돌려주는 파이썬 내장 함수이다."
      ]
    },
    {
      "cell_type": "code",
      "metadata": {
        "id": "mNfpmzKRSW04"
      },
      "source": [
        "a = FourCal()\n",
        "b = FourCal()\n",
        "a.setdata(4, 2)\n",
        "b.setdata(3, 7)\n",
        "id(a.first)"
      ],
      "execution_count": null,
      "outputs": []
    },
    {
      "cell_type": "code",
      "metadata": {
        "id": "zx1oQ8YESunc"
      },
      "source": [
        "id(b.first)"
      ],
      "execution_count": null,
      "outputs": []
    },
    {
      "cell_type": "markdown",
      "metadata": {
        "id": "BKY-PopMSxkN"
      },
      "source": [
        "a 객체의 first 주소 값과 b 객체의 first 주소 값이 서로 다르므로 각각 다른 곳에 그 값이 저장된다는 것을 알 수 있다. 객체변수는 그 객체의 고유 값을 저장할 수 있는 공간이다. 객체 변수는 다른 객체들 영향받지 않고 독립적으로 그 값을 유지한다는 점을 꼭 기억하자. 클래스에서는 이 부분을 이해하는 것이 가장 중요하다.\n",
        "\n",
        "다음은 현재까지 완성된 FourCal 클래스이다."
      ]
    },
    {
      "cell_type": "code",
      "metadata": {
        "id": "xV4WiZrnSzBX"
      },
      "source": [
        "class FourCal:\n",
        "  def setdata(self, first, second):\n",
        "    self.first = first\n",
        "    self.second = second"
      ],
      "execution_count": null,
      "outputs": []
    },
    {
      "cell_type": "markdown",
      "metadata": {
        "id": "Z3-owXI1S82P"
      },
      "source": [
        "지금까지 살펴본 내용이 바로 위 4줄을 설명하기 위한 것이었다. 위에서 설명한 것들이 이해가 되지 않는다면 다시 한 번 읽어 보기 바란다. 이 부분을 이해하지 못하면 다음으로 넘어갈수 없기 때문이다."
      ]
    },
    {
      "cell_type": "markdown",
      "metadata": {
        "id": "2vva4QHqS-tv"
      },
      "source": [
        "## 더하기 기능 만들기"
      ]
    },
    {
      "cell_type": "markdown",
      "metadata": {
        "id": "nyg0Yn44TAI9"
      },
      "source": [
        "자! 그럼 2개의 숫자 값을 설정해 주었으니 2개의 숫자를 더하는 기능을 방금 만든 클래스에 추가해 보자. 우리는 다음과 같이 더하기 기능을 갖춘 클래스를 만들어야 한다."
      ]
    },
    {
      "cell_type": "code",
      "metadata": {
        "id": "vDmxWuaHTByh"
      },
      "source": [
        "a = FourCal()\n",
        "a.setdata(4, 2)\n",
        "print(a.add())"
      ],
      "execution_count": null,
      "outputs": []
    },
    {
      "cell_type": "markdown",
      "metadata": {
        "id": "IFrED7UzTJut"
      },
      "source": [
        "이 연산이 가능하도록 다음과 같이 FourCal 클래스를 만들어 보자."
      ]
    },
    {
      "cell_type": "code",
      "metadata": {
        "id": "32vdSFiFTKtQ"
      },
      "source": [
        "class FourCal:\n",
        "  def setdata(self, first, second):\n",
        "    self.first = first\n",
        "    selfr.second = second\n",
        "  def add(self):\n",
        "    result = self.first + self.second\n",
        "    return result "
      ],
      "execution_count": null,
      "outputs": []
    },
    {
      "cell_type": "markdown",
      "metadata": {
        "id": "97BB52yATf2Q"
      },
      "source": [
        "새롭게 추가된 것은 add 메서드이다. 이제 클래스를 사용해 보자."
      ]
    },
    {
      "cell_type": "code",
      "metadata": {
        "id": "tEtKDK2dTgte"
      },
      "source": [
        "a = FourCal()\n",
        "a.setdata(4, 2)"
      ],
      "execution_count": null,
      "outputs": []
    },
    {
      "cell_type": "markdown",
      "metadata": {
        "id": "vZub9c8LToZF"
      },
      "source": [
        "위와 같이 호출하면 앞에서 살펴보았듯이 a객체의 first, second 객체변수에는 각각 값 4와 2가 저장될 것이다."
      ]
    },
    {
      "cell_type": "markdown",
      "metadata": {
        "id": "I_wTpqPcTuRX"
      },
      "source": [
        "이제 add 메서드를 호출해 보자."
      ]
    },
    {
      "cell_type": "code",
      "metadata": {
        "id": "ExOxLBFsTwQU"
      },
      "source": [
        "print(a.add())"
      ],
      "execution_count": null,
      "outputs": []
    },
    {
      "cell_type": "markdown",
      "metadata": {
        "id": "oid7hi7STzJY"
      },
      "source": [
        "a.add()라고 호출하면 add 메서드가 호출되어 값 6이 출력될 것이다. 어떤 과정을 거쳐 값 6이 출력되는지 add 메서드를 따로 떼어 내서 자세히 살펴보자."
      ]
    },
    {
      "cell_type": "code",
      "metadata": {
        "id": "yvxx5t0uT0qn"
      },
      "source": [
        "def add(self):\n",
        "  result = self.first + self.second\n",
        "  return result"
      ],
      "execution_count": null,
      "outputs": []
    },
    {
      "cell_type": "markdown",
      "metadata": {
        "id": "_BEwxAisT7wW"
      },
      "source": [
        "add 메서드의 매개변수는 self이고 반환 값은 result이다. 반환 값인 result를 계산하는 부분은 다음과 같다."
      ]
    },
    {
      "cell_type": "code",
      "metadata": {
        "id": "kCNbfe4bT87P"
      },
      "source": [
        "result = self.first + self.second"
      ],
      "execution_count": null,
      "outputs": []
    },
    {
      "cell_type": "markdown",
      "metadata": {
        "id": "LFGpZmXPUCmh"
      },
      "source": [
        "a.add()와 같이 a 객체에 의해 add 메서드가 수행되면 add 메서드의 self에는 객체 a가 자동으로 입력되므로 위 내용은 다음과 같이 해석한다."
      ]
    },
    {
      "cell_type": "code",
      "metadata": {
        "id": "ZvOoRLxTUD6L"
      },
      "source": [
        "result = 4 + 2"
      ],
      "execution_count": null,
      "outputs": []
    },
    {
      "cell_type": "markdown",
      "metadata": {
        "id": "XAs_vH0RUHsK"
      },
      "source": [
        "따라서 다음과 같이 a.add()를 호출하면 6을 돌려준다."
      ]
    },
    {
      "cell_type": "code",
      "metadata": {
        "id": "c2hA_YGmUIpT"
      },
      "source": [
        "print(a.add())"
      ],
      "execution_count": null,
      "outputs": []
    },
    {
      "cell_type": "markdown",
      "metadata": {
        "id": "SdXKw3yPULwV"
      },
      "source": [
        "여기까지 모두 이해한 독자라면 클래스에 대해 80% 이상을 안 것이다. 파이썬의 클래스는 그다지 어렵지 않다."
      ]
    },
    {
      "cell_type": "markdown",
      "metadata": {
        "id": "fDlOP7ZSUNsz"
      },
      "source": [
        "### 곱하기,빼기,나누기 기능 만들기"
      ]
    },
    {
      "cell_type": "markdown",
      "metadata": {
        "id": "ZyerJ9gLUQJP"
      },
      "source": [
        "이번에는 곱하기, 빼기, 나누기 등을 할 수 있게 프로그램을 만들어 보자."
      ]
    },
    {
      "cell_type": "code",
      "metadata": {
        "id": "VYSarma_UR58"
      },
      "source": [
        "class FourCal:\n",
        "  def setdata(self, first, second):\n",
        "    self.first = first\n",
        "    self.second = second\n",
        "  def add(self):\n",
        "    result = self.first + self.second\n",
        "    return result \n",
        "  def mul(self):\n",
        "    result = self.first * self.second\n",
        "    return result\n",
        "  def sub(self):\n",
        "    result = self.first - self.second\n",
        "    return result\n",
        "  def div(self):\n",
        "    result = self.first / self.second\n",
        "    return result       "
      ],
      "execution_count": null,
      "outputs": []
    },
    {
      "cell_type": "markdown",
      "metadata": {
        "id": "q2GIAtg5U_dg"
      },
      "source": [
        "mul, sub, div 모두 add 메서드에서 배운 것과 동일한 방법이니 따로 설명하지는 않겠다.\n",
        "\n",
        "정말로 모든 것이 제대로 동작하는지 확인해 보자."
      ]
    },
    {
      "cell_type": "code",
      "metadata": {
        "id": "CWmAEH2TVAcz"
      },
      "source": [
        "a = FourCal()\n",
        "b = FourCal()\n",
        "a.setdata(4, 2)\n",
        "b.setdata(3, 8)\n",
        "a.add()\n"
      ],
      "execution_count": null,
      "outputs": []
    },
    {
      "cell_type": "code",
      "metadata": {
        "id": "ak682W-LVRiC"
      },
      "source": [
        "a.mul()"
      ],
      "execution_count": null,
      "outputs": []
    },
    {
      "cell_type": "code",
      "metadata": {
        "id": "oTYRqGdLVf3U"
      },
      "source": [
        "a.sub()"
      ],
      "execution_count": null,
      "outputs": []
    },
    {
      "cell_type": "code",
      "metadata": {
        "id": "D1C6EMQcViK2"
      },
      "source": [
        "a.div()"
      ],
      "execution_count": null,
      "outputs": []
    },
    {
      "cell_type": "code",
      "metadata": {
        "id": "Ij-V4VCfVkyR"
      },
      "source": [
        "b.add()"
      ],
      "execution_count": null,
      "outputs": []
    },
    {
      "cell_type": "code",
      "metadata": {
        "id": "oI-iRb2rVngI"
      },
      "source": [
        "b.mul()"
      ],
      "execution_count": null,
      "outputs": []
    },
    {
      "cell_type": "code",
      "metadata": {
        "id": "j__xa21LVqbY"
      },
      "source": [
        "b.sub()"
      ],
      "execution_count": null,
      "outputs": []
    },
    {
      "cell_type": "code",
      "metadata": {
        "id": "nsTYqaDRVswE"
      },
      "source": [
        "b.div()"
      ],
      "execution_count": null,
      "outputs": []
    },
    {
      "cell_type": "markdown",
      "metadata": {
        "id": "TWtW5eZEVuhs"
      },
      "source": [
        "여기까지 우리가 목표로 한 사칙연산 기능을 가진 클래스를 만들어 보았다."
      ]
    },
    {
      "cell_type": "markdown",
      "metadata": {
        "id": "ILfg_J99V0pe"
      },
      "source": [
        "## 생성자 (Constructor"
      ]
    },
    {
      "cell_type": "markdown",
      "metadata": {
        "id": "kVEnb6g3V3SZ"
      },
      "source": [
        "이번에는 우리가 만든 FourCal 클래스를 다음과 같이 사용해 보자."
      ]
    },
    {
      "cell_type": "code",
      "metadata": {
        "id": "rDTSz6NjV4j_"
      },
      "source": [
        "a = FourCal()\n",
        "a.add()"
      ],
      "execution_count": null,
      "outputs": []
    },
    {
      "cell_type": "markdown",
      "metadata": {
        "id": "zO5L3KozV-bA"
      },
      "source": [
        "FourCal 클래스의 인스턴스 a에 setdata 메서드를 수행하지 않고 add 메서드를 수행하면 \"AttributeError: 'FourCal' object has no attribute 'first'\" 오류가 발생한다. setdata 메서드를 수행해야 객체 a의 객체변수 first와 second가 생성되기 때문이다.\n",
        "\n",
        "이렇게 객체에 초깃값을 설정해야 할 필요가 있을 때는 setdata와 같은 메서드를 호출하여 초깃값을 설정하기보다는 생성자를 구현하는 것이 안전한 방법이다. 생성자(Constructor)란 객체가 생성될 때 자동으로 호출되는 메서드를 의미한다.\n",
        "\n",
        "파이썬 메서드 이름으로 __init__를 사용하면 이 메서드는 생성자가 된다. 다음과 같이 FourCal 클래스에 생성자를 추가해 보자.\n",
        "\n",
        "※ __init__ 메서드의 init 앞뒤로 붙은 __는 언더스코어(_) 두 개를 붙여 쓴 것이다."
      ]
    },
    {
      "cell_type": "code",
      "metadata": {
        "id": "NT_JT42wWCZg"
      },
      "source": [
        "class FourCal:\n",
        "  def __init__(self, first, second):\n",
        "    self.first = first\n",
        "    self.second = second\n",
        "  def setdata(self, first, second):\n",
        "    self.first = frist\n",
        "    self.second = second\n",
        "  def add(self):\n",
        "    result = self.first + self.second\n",
        "    return result\n",
        "  def mul(self):\n",
        "    result = self.first * self.second\n",
        "  def sub(self):\n",
        "    result = self.first - self.second\n",
        "    return result\n",
        "  def div(self):\n",
        "    result = self.first / self.second\n",
        "    return result         "
      ],
      "execution_count": null,
      "outputs": []
    },
    {
      "cell_type": "markdown",
      "metadata": {
        "id": "egVanpawW_U9"
      },
      "source": [
        "새롭게 추가된 생성자 __init__ 메서드만 따로 떼어 내서 살펴보자."
      ]
    },
    {
      "cell_type": "code",
      "metadata": {
        "id": "y9gwOc1_XBOK"
      },
      "source": [
        "def __init__(self, first, second):\n",
        "    self.first = first\n",
        "    self.second = second"
      ],
      "execution_count": null,
      "outputs": []
    },
    {
      "cell_type": "markdown",
      "metadata": {
        "id": "TTkiSJ8MXCag"
      },
      "source": [
        "__init__ 메서드는 setdata 메서드와 이름만 다르고 모든 게 동일하다. 단 메서드 이름을 __init__으로 했기 때문에 생성자로 인식되어 객체가 생성되는 시점에 자동으로 호출되는 차이가 있다.\n",
        "\n",
        "이제 다음처럼 예제를 수행해 보자."
      ]
    },
    {
      "cell_type": "code",
      "metadata": {
        "id": "3R35o-0VXDs0"
      },
      "source": [
        "a = FourCal()"
      ],
      "execution_count": null,
      "outputs": []
    },
    {
      "cell_type": "markdown",
      "metadata": {
        "id": "cIg7ayfkXG_S"
      },
      "source": [
        "a = FourCal()을 수행할 때 생성자 __init__이 호출되어 위와 같은 오류가 발생했다. 오류가 발생한 이유는 생성자의 매개변수 first와 second에 해당하는 값이 전달되지 않았기 때문이다.\n",
        "\n",
        "위 오류를 해결하려면 다음처럼 first와 second에 해당되는 값을 전달하여 객체를 생성해야 한다."
      ]
    },
    {
      "cell_type": "code",
      "metadata": {
        "id": "p-Ma0RDOXIDO"
      },
      "source": [
        "a = FourCal(4, 2)"
      ],
      "execution_count": null,
      "outputs": []
    },
    {
      "cell_type": "markdown",
      "metadata": {
        "id": "kovkYS1CXLJ2"
      },
      "source": [
        "위와 같이 수행하면 __init__ 메서드의 매개변수에는 각각 오른쪽과 같은 값이 대입된다."
      ]
    },
    {
      "cell_type": "markdown",
      "metadata": {
        "id": "Ihgq4i5lXMdq"
      },
      "source": [
        "매개변수\n",
        "\n",
        "self = 생성되는 객체\n",
        "\n",
        "first = 4\n",
        "second = 2"
      ]
    },
    {
      "cell_type": "markdown",
      "metadata": {
        "id": "j0OKM1ftXSOi"
      },
      "source": [
        "※ __init__ 메서드도 다른 메서드와 마찬가지로 첫 번째 매개변수 self에 생성되는 객체가 자동으로 전달된다는 점을 기억하자.\n",
        "\n",
        "따라서 __init__ 메서드가 호출되면 setdata 메서드를 호출했을 때와 마찬가지로 first와 second라는 객체변수가 생성될 것이다.\n",
        "\n",
        "다음과 같이 객체변수의 값을 확인해 보자."
      ]
    },
    {
      "cell_type": "code",
      "metadata": {
        "id": "8cNoZCHEXTmg"
      },
      "source": [
        "a = FourCal(4, 2)\n",
        "print(a.first)"
      ],
      "execution_count": null,
      "outputs": []
    },
    {
      "cell_type": "code",
      "metadata": {
        "id": "3_E9KPDHXYZJ"
      },
      "source": [
        "print(a.second)"
      ],
      "execution_count": null,
      "outputs": []
    },
    {
      "cell_type": "markdown",
      "metadata": {
        "id": "GuLdkQNmXa_p"
      },
      "source": [
        "add나 div 등의 메서드도 잘 동작하는지 확인해 보자."
      ]
    },
    {
      "cell_type": "code",
      "metadata": {
        "id": "-MWNok1WXb7W"
      },
      "source": [
        "a = FourCal(4, 2)\n",
        "a.add()"
      ],
      "execution_count": null,
      "outputs": []
    },
    {
      "cell_type": "code",
      "metadata": {
        "id": "inTXWEDaXgk2"
      },
      "source": [
        "a.div()"
      ],
      "execution_count": null,
      "outputs": []
    },
    {
      "cell_type": "markdown",
      "metadata": {
        "id": "4wAVusLlXiWn"
      },
      "source": [
        "이상 없이 잘 동작하는 것을 확인할 수 있다."
      ]
    },
    {
      "cell_type": "markdown",
      "metadata": {
        "id": "Mw7yNomOXnBv"
      },
      "source": [
        "## 클래스의 상속"
      ]
    },
    {
      "cell_type": "markdown",
      "metadata": {
        "id": "AICM4UelXoKw"
      },
      "source": [
        "상속(Inheritance)이란 \"물려받다\"라는 뜻으로, \"재산을 상속받다\"라고 할 때의 상속과 같은 의미이다. 클래스에도 이 개념을 적용할 수 있다. 어떤 클래스를 만들 때 다른 클래스의 기능을 물려받을 수 있게 만드는 것이다. 이번에는 상속 개념을 사용하여 우리가 만든 FourCal 클래스에 ab (a의 b제곱)을 구할 수 있는 기능을 추가해 보자.\n",
        "\n",
        "앞에서 FourCal 클래스는 이미 만들어 놓았으므로 FourCal 클래스를 상속하는 MoreFourCal 클래스는 다음과 같이 간단하게 만들 수 있다."
      ]
    },
    {
      "cell_type": "code",
      "metadata": {
        "id": "uH9Ar9uZXo_u"
      },
      "source": [
        "class MoreFourCal(FourCal):\n",
        "  pass"
      ],
      "execution_count": null,
      "outputs": []
    },
    {
      "cell_type": "markdown",
      "metadata": {
        "id": "ZH3V7N1vX04G"
      },
      "source": [
        "클래스를 상속하기 위해서는 다음처럼 클래스 이름 뒤 괄호 안에 상속할 클래스 이름을 넣어주면 된다.\n",
        "\n",
        "class 클래스 이름(상속할 클래스 이름)\n",
        "\n",
        "MoreFourCal 클래스는 FourCal 클래스를 상속했으므로 FourCal 클래스의 모든 기능을 사용할 수 있어야 한다.\n",
        "\n",
        "다음과 같이 확인해 보자."
      ]
    },
    {
      "cell_type": "code",
      "metadata": {
        "id": "cWxeEoyxX1uZ"
      },
      "source": [
        "a = MoreFourCal(4, 2)\n",
        "a.add()"
      ],
      "execution_count": null,
      "outputs": []
    },
    {
      "cell_type": "code",
      "metadata": {
        "id": "KB35hi2RX6wj"
      },
      "source": [
        "a.mul()"
      ],
      "execution_count": null,
      "outputs": []
    },
    {
      "cell_type": "code",
      "metadata": {
        "id": "L3WZFuZRYNFk"
      },
      "source": [
        "a.sub()"
      ],
      "execution_count": null,
      "outputs": []
    },
    {
      "cell_type": "code",
      "metadata": {
        "id": "mwDYn3fZYWEB"
      },
      "source": [
        "a.div()"
      ],
      "execution_count": null,
      "outputs": []
    },
    {
      "cell_type": "markdown",
      "metadata": {
        "id": "ZwRuVmjJYX4m"
      },
      "source": [
        "상속받은 FourCal 클래스의 기능을 모두 사용할 수 있음을 확인할 수 있다."
      ]
    },
    {
      "cell_type": "markdown",
      "metadata": {
        "id": "X-TokBnQYYy2"
      },
      "source": [
        "왜 상속을 해야 할까?\n",
        "\n",
        "보통 상속은 기존 클래스를 변경하지 않고 기능을 추가하거나 기존 기능을 변경하려고 할 때 사용한다.\n",
        "\n",
        "\"클래스에 기능을 추가하고 싶으면 기존 클래스를 수정하면 되는데 왜 굳이 상속을 받아서 처리해야 하지?\" 라는 의문이 들 수도 있다. 하지만 기존 클래스가 라이브러리 형태로 제공되거나 수정이 허용되지 않는 상황이라면 상속을 사용해야 한다."
      ]
    },
    {
      "cell_type": "markdown",
      "metadata": {
        "id": "bLndSH_LYb45"
      },
      "source": [
        "이제 원래 목적인 a의 b제곱(ab)을 계산하는 MoreFourCal 클래스를 만들어 보자."
      ]
    },
    {
      "cell_type": "code",
      "metadata": {
        "id": "aumHFVFpYd1B"
      },
      "source": [
        "class MoreFourCal(FourCal):\n",
        "  def pow(self):\n",
        "    result = self.first ** self.second\n",
        "    return result"
      ],
      "execution_count": null,
      "outputs": []
    },
    {
      "cell_type": "markdown",
      "metadata": {
        "id": "w64-X8BGYp6j"
      },
      "source": [
        "pass 문장은 삭제하고 위와 같이 두 수의 거듭제곱을 구할 수 있는 pow 메서드를 추가해 주었다. 그리고 다음과 같이 pow 메서드를 수행해 보자."
      ]
    },
    {
      "cell_type": "code",
      "metadata": {
        "id": "0uWfkq7sYrvc"
      },
      "source": [
        "a = MoreFourCal(4, 2)\n",
        "a.pow()"
      ],
      "execution_count": null,
      "outputs": []
    },
    {
      "cell_type": "markdown",
      "metadata": {
        "id": "sGar51PEYxSq"
      },
      "source": [
        "MoreFourCal 클래스로 만든 a 객체에 값 4와 2를 설정한 후 pow 메서드를 호출하면 4의 2제곱 (42)인 16을 돌려주는 것을 확인할 수 있다.\n",
        "\n",
        "상속은 MoreFourCal 클래스처럼 기존 클래스(FourCal)는 그대로 놔둔 채 클래스의 기능을 확장시킬 때 주로 사용한다."
      ]
    },
    {
      "cell_type": "markdown",
      "metadata": {
        "id": "iMPyrBHkYy1L"
      },
      "source": [
        "## 메서드 오버라이딩"
      ]
    },
    {
      "cell_type": "markdown",
      "metadata": {
        "id": "5qqCvwFKY0Zw"
      },
      "source": [
        "이번에는 FourCal 클래스를 다음과 같이 실행해 보자."
      ]
    },
    {
      "cell_type": "code",
      "metadata": {
        "id": "onBf59IbY1Xj"
      },
      "source": [
        "a = FourCal(4, 0)\n",
        "a.div()"
      ],
      "execution_count": null,
      "outputs": []
    },
    {
      "cell_type": "markdown",
      "metadata": {
        "id": "b6UEytM0Y61P"
      },
      "source": [
        "FourCal 클래스의 객체 a에 4와 0 값을 설정하고 div 메서드를 호출하면 4를 0으로 나누려고 하기 때문에 위와 같은 ZeroDivisionError 오류가 발생한다. 하지만 0으로 나눌 때 오류가 아닌 0을 돌려주도록 만들고 싶다면 어떻게 해야 할까?"
      ]
    },
    {
      "cell_type": "markdown",
      "metadata": {
        "id": "fOVA9yGjY76V"
      },
      "source": [
        "다음과 같이 FourCal 클래스를 상속하는 SafeFourCal 클래스를 만들어 보자."
      ]
    },
    {
      "cell_type": "code",
      "metadata": {
        "id": "TCpxt1XhY8tI"
      },
      "source": [
        "class SafeFourCal(FourCal):\n",
        "  def div(self):\n",
        "    if self.second == 0:\n",
        "      return 0\n",
        "    else:\n",
        "      return self.first / self.second\n",
        "      "
      ],
      "execution_count": null,
      "outputs": []
    },
    {
      "cell_type": "markdown",
      "metadata": {
        "id": "qpnYiToDZJuq"
      },
      "source": [
        "SafeFourCal 클래스는 FourCal 클래스에 있는 div 메서드를 동일한 이름으로 다시 작성하였다. 이렇게 부모 클래스(상속한 클래스)에 있는 메서드를 동일한 이름으로 다시 만드는 것을 메서드 오버라이딩(Overriding, 덮어쓰기)이라고 한다. 이렇게 메서드를 오버라이딩하면 부모클래스의 메서드 대신 오버라이딩한 메서드가 호출된다.\n",
        "\n",
        "SafeFourCal 클래스에 오버라이딩한 div 메서드는 나누는 값이 0인 경우에는 0을 돌려주도록 수정했다. 이제 다시 위에서 수행한 예제를 FourCal 클래스 대신 SafeFourCal 클래스를 사용하여 수행해 보자."
      ]
    },
    {
      "cell_type": "code",
      "metadata": {
        "id": "eZHGiBu-ZKzO"
      },
      "source": [
        "a = SafeFourCal(4,0)\n",
        "a.div()"
      ],
      "execution_count": null,
      "outputs": []
    },
    {
      "cell_type": "markdown",
      "metadata": {
        "id": "V2MVqByrZUCD"
      },
      "source": [
        "FourCal 클래스와는 달리 ZeroDivisionError가 발생하지 않고 의도한 대로 0을 돌려주는 것을 확인할 수 있을 것이다."
      ]
    },
    {
      "cell_type": "markdown",
      "metadata": {
        "id": "Qp4T8ketZVCU"
      },
      "source": [
        "## 클래스 변수"
      ]
    },
    {
      "cell_type": "markdown",
      "metadata": {
        "id": "wCPV3kWeZWXI"
      },
      "source": [
        "객체변수는 다른 객체들에 영향받지 않고 독립적으로 그 값을 유지한다는 점을 이미 알아보았다. 이번에는 객체변수와는 성격이 다른 클래스 변수에 대해 알아보자.\n",
        "\n",
        "다음 클래스를 작성해 보자."
      ]
    },
    {
      "cell_type": "code",
      "metadata": {
        "id": "YaObDjRdZXTC"
      },
      "source": [
        "class Family:\n",
        "  lastname = \"김\""
      ],
      "execution_count": null,
      "outputs": []
    },
    {
      "cell_type": "markdown",
      "metadata": {
        "id": "oxmWzVtXZco0"
      },
      "source": [
        "Family 클래스에 선언한 lastname이 바로 클래스 변수이다. 클래스 변수는 클래스 안에 함수를 선언하는 것과 마찬가지로 클래스 안에 변수를 선언하여 생성한다.\n",
        "\n",
        "이제 Family 클래스를 다음과 같이 사용해 보자."
      ]
    },
    {
      "cell_type": "code",
      "metadata": {
        "id": "Gg71-EwLZeU8"
      },
      "source": [
        "print(Family.lastname)"
      ],
      "execution_count": null,
      "outputs": []
    },
    {
      "cell_type": "markdown",
      "metadata": {
        "id": "mUVBE5EWZiyS"
      },
      "source": [
        "클래스 변수는 위 예와 같이 클래스이름.클래스 변수로 사용할 수 있다.\n",
        "\n",
        "또는 다음과 같이 Family 클래스로 만든 객체를 통해서도 클래스 변수를 사용할 수 있다."
      ]
    },
    {
      "cell_type": "code",
      "metadata": {
        "id": "rRlPQrdlZkJq"
      },
      "source": [
        "a = Family()\n",
        "b = Family()\n",
        "print(a.lastname)"
      ],
      "execution_count": null,
      "outputs": []
    },
    {
      "cell_type": "code",
      "metadata": {
        "id": "byrpVW2iZp-Z"
      },
      "source": [
        "print(b.lastname)"
      ],
      "execution_count": null,
      "outputs": []
    },
    {
      "cell_type": "markdown",
      "metadata": {
        "id": "KFJlcsEsZsiE"
      },
      "source": [
        "만약 Family 클래스의 lastname을 다음과 같이 \"박\"이라는 문자열로 바꾸면 어떻게 될까?"
      ]
    },
    {
      "cell_type": "code",
      "metadata": {
        "id": "IJv_O6qqZttD"
      },
      "source": [
        "Family.lastname = \"박\""
      ],
      "execution_count": null,
      "outputs": []
    },
    {
      "cell_type": "markdown",
      "metadata": {
        "id": "ZVUzWDAqZxfC"
      },
      "source": [
        "다음과 같이 확인해 보자."
      ]
    },
    {
      "cell_type": "code",
      "metadata": {
        "id": "2K1sVR2UZyuV"
      },
      "source": [
        "print(a.lastname)"
      ],
      "execution_count": null,
      "outputs": []
    },
    {
      "cell_type": "code",
      "metadata": {
        "id": "pEH2IFd2Z6Zd"
      },
      "source": [
        "print(b.lastname)"
      ],
      "execution_count": null,
      "outputs": []
    },
    {
      "cell_type": "markdown",
      "metadata": {
        "id": "AHWUOeKZZ8rC"
      },
      "source": [
        "클래스 변수 값을 변경했더니 클래스로 만든 객체의 lastname 값도 모두 변경된다는 것을 확인할 수 있다. 즉 클래스 변수는 클래스로 만든 모든 객체에 공유된다는 특징이 있다.\n",
        "\n",
        "id 함수를 사용하면 클래스 변수가 공유된다는 사실을 증명할 수 있다."
      ]
    },
    {
      "cell_type": "code",
      "metadata": {
        "id": "UU5JMkCuZ-BP"
      },
      "source": [
        "id(Family.lastname)"
      ],
      "execution_count": null,
      "outputs": []
    },
    {
      "cell_type": "code",
      "metadata": {
        "id": "b9eunuc1aCtY"
      },
      "source": [
        "id(a.lastname)"
      ],
      "execution_count": null,
      "outputs": []
    },
    {
      "cell_type": "code",
      "metadata": {
        "id": "KBVUTnwMaHEl"
      },
      "source": [
        "id(b.lastname)"
      ],
      "execution_count": null,
      "outputs": []
    },
    {
      "cell_type": "markdown",
      "metadata": {
        "id": "KIuRja4xaKOp"
      },
      "source": [
        "id 값이 모두 같으므로 Family.lastname, a.lastname, b.lastname은 모두 같은 메모리를 가리키고 있다.\n",
        "\n",
        "클래스 변수를 가장 늦게 설명하는 이유는 클래스에서 클래스 변수보다는 객체변수가 훨씬 중요하기 때문이다. 실무 프로그래밍을 할 때도 클래스 변수보다는 객체변수를 사용하는 비율이 훨씬 높다."
      ]
    },
    {
      "cell_type": "markdown",
      "metadata": {
        "id": "am0bqIhUaL8e"
      },
      "source": [
        "## 2.모듈"
      ]
    },
    {
      "cell_type": "markdown",
      "metadata": {
        "id": "wqfZqDL2aUOg"
      },
      "source": [
        "모듈이란 함수나 변수 또는 클래스를 모아 놓은 파일이다. 모듈은 다른 파이썬 프로그램에서 불러와 사용할 수 있게끔 만든 파이썬 파일이라고도 할 수 있다. 우리는 파이썬으로 프로그래밍을 할 때 굉장히 많은 모듈을 사용한다. 다른 사람들이 이미 만들어 놓은 모듈을 사용할 수도 있고 우리가 직접 만들어서 사용할 수도 있다. 여기에서는 모듈을 어떻게 만들고 사용할 수 있는지 알아보겠다."
      ]
    },
    {
      "cell_type": "markdown",
      "metadata": {
        "id": "PP8IQuzQaV2Z"
      },
      "source": [
        "## 모듈 만들기"
      ]
    },
    {
      "cell_type": "markdown",
      "metadata": {
        "id": "U1DOIQc8aXVA"
      },
      "source": [
        "모듈에 대해 자세히 살펴보기 전에 간단한 모듈을 한번 만들어 보자."
      ]
    },
    {
      "cell_type": "code",
      "metadata": {
        "id": "YbsgL2VsaaZf"
      },
      "source": [
        "# mod1.py\n",
        "def add(a, b):\n",
        "    return a + b\n",
        "\n",
        "def sub(a, b): \n",
        "    return a-b"
      ],
      "execution_count": null,
      "outputs": []
    },
    {
      "cell_type": "markdown",
      "metadata": {
        "id": "b-OUB8PLacSG"
      },
      "source": [
        "위와 같이 add와 sub 함수만 있는 파일 mod1.py를 만들고 C:\\doit 디렉터리에 저장하자. 이 mod1.py 파일이 바로 모듈이다. 지금까지 에디터로 만들어 온 파일과 다르지 않다.\n",
        "\n",
        "※ 파이썬 확장자 .py로 만든 파이썬 파일은 모두 모듈이다."
      ]
    },
    {
      "cell_type": "markdown",
      "metadata": {
        "id": "nuuTcPWMaeAH"
      },
      "source": [
        "## 모듈 불러오기"
      ]
    },
    {
      "cell_type": "markdown",
      "metadata": {
        "id": "BmNGrAl-ag6T"
      },
      "source": [
        "우리가 만든 mod1.py 파일, 즉 모듈을 파이썬에서 불러와 사용하려면 어떻게 해야 할까?\n",
        "\n",
        "먼저 다음과 같이 명령 프롬프트 창을 열고 mod1.py를 저장한 디렉터리(이 책에서는 C:\\doit)로 이동한 다음 대화형 인터프리터를 실행한다.\n",
        "\n",
        "※ 대화형 인터프리터를 실행할 때 나타나는 버전 정보 등의 메시지는 생략했다."
      ]
    },
    {
      "cell_type": "code",
      "metadata": {
        "id": "xC7q3Mseah8l"
      },
      "source": [
        "C:\\Users\\pahkey>cd C:\\doit\n",
        "C:\\doit>dir\n",
        "...\n",
        "2014-09-23 오후 01:53 49 mod1.py\n",
        "...\n",
        "C:\\doit>python\n",
        ">>> "
      ],
      "execution_count": null,
      "outputs": []
    },
    {
      "cell_type": "markdown",
      "metadata": {
        "id": "a7StJrT4ai2n"
      },
      "source": [
        "반드시 mod1.py를 저장한 C:\\doit 디렉터리로 이동한 다음 예제를 진행해야 한다. 그래야만 대화형 인터프리터에서 mod1.py를 읽을 수 있다.\n",
        "\n",
        "이제 다음과 같이 따라 해 보자."
      ]
    },
    {
      "cell_type": "code",
      "metadata": {
        "id": "BL70cHYNaktY"
      },
      "source": [
        "import mod1\n",
        "print(mod1.add(3, 4))"
      ],
      "execution_count": null,
      "outputs": []
    },
    {
      "cell_type": "code",
      "metadata": {
        "id": "oP6WSFVmatwz"
      },
      "source": [
        "print(mod1.sub(4, 2))"
      ],
      "execution_count": null,
      "outputs": []
    },
    {
      "cell_type": "markdown",
      "metadata": {
        "id": "giRekI8oawzF"
      },
      "source": [
        "mod1.py를 불러오기 위해 import mod1이라고 입력하였다. 실수로 import mod1.py로 입력하지 않도록 주의하자. import는 이미 만들어 놓은 파이썬 모듈을 사용할 수 있게 해주는 명령어이다. mod1.py 파일에 있는 add 함수를 사용하기 위해서는 위 예와 같이 mod1.add처럼 모듈 이름 뒤에 \".\"(도트 연산자)를 붙이고 함수 이름을 쓰면 된다.\n",
        "\n",
        "※ import는 현재 디렉터리에 있는 파일이나 파이썬 라이브러리가 저장된 디렉터리에 있는 모듈만 불러올 수 있다. 파이썬 라이브러리는 파이썬을 설치할 때 자동으로 설치되는 파이썬 모듈을 말한다.\n",
        "\n",
        "import의 사용 방법은 다음과 같다."
      ]
    },
    {
      "cell_type": "code",
      "metadata": {
        "id": "zWfaZsSfa1UH"
      },
      "source": [
        "import 모듈이름"
      ],
      "execution_count": null,
      "outputs": []
    },
    {
      "cell_type": "markdown",
      "metadata": {
        "id": "m4H4k5A0a2Mo"
      },
      "source": [
        "여기에서 모듈 이름은 mod1.py에서 .py 확장자를 제거한 mod1만을 가리킨다.\n",
        "\n",
        "때로는 mod1.add, mod1.sub처럼 쓰지 않고 add, sub처럼 모듈 이름 없이 함수 이름만 쓰고 싶은 경우도 있을 것이다. 이럴 때는 \"from 모듈 이름 import 모듈 함수\"를 사용하면 된다.\n",
        "\n",
        "from 모듈이름 import 모듈함수\n",
        "\n",
        "위 형식을 사용하면 위와 같이 모듈 이름을 붙이지 않고 바로 해당 모듈의 함수를 쓸 수 있다.\n",
        "\n",
        "다음과 같이 따라 해 보자."
      ]
    },
    {
      "cell_type": "code",
      "metadata": {
        "id": "ZhME1O2Ba3rQ"
      },
      "source": [
        "from mod1 import add\n",
        "add(3, 4)"
      ],
      "execution_count": null,
      "outputs": []
    },
    {
      "cell_type": "markdown",
      "metadata": {
        "id": "3cmgs0w4a9QJ"
      },
      "source": [
        "그런데 위와 같이 하면 mod1.py 파일의 add 함수만 사용할 수 있다. add 함수와 sub 함수를 둘 다 사용하고 싶다면 어떻게 해야 할까?\n",
        "\n",
        "2가지 방법이 있다."
      ]
    },
    {
      "cell_type": "code",
      "metadata": {
        "id": "NcOcaUekbAyr"
      },
      "source": [
        "from mod1 import add, sub"
      ],
      "execution_count": null,
      "outputs": []
    },
    {
      "cell_type": "markdown",
      "metadata": {
        "id": "CXffMeeRbB3H"
      },
      "source": [
        "첫 번째 방법은 위와 같이 from 모듈 이름 import 모듈 함수1, 모듈 함수2처럼 사용하는 것이다. 콤마로 구분하여 필요한 함수를 불러올 수 있다."
      ]
    },
    {
      "cell_type": "code",
      "metadata": {
        "id": "ofVeUT5PbCxp"
      },
      "source": [
        "from mod1 import *"
      ],
      "execution_count": null,
      "outputs": []
    },
    {
      "cell_type": "markdown",
      "metadata": {
        "id": "pfIEhi4GbD2x"
      },
      "source": [
        "두 번째 방법은 위와 같이 * 문자를 사용하는 방법이다. 07장에서 배울 정규 표현식에서 * 문자는 \"모든 것\"이라는 뜻인데 파이썬에서도 마찬가지 의미로 사용한다. 따라서 from mod1 import *는 mod1.py의 모든 함수를 불러서 사용하겠다는 뜻이다.\n",
        "\n",
        "mod1.py 파일에는 함수가 2개밖에 없기 때문에 위 2가지 방법은 동일하게 적용된다."
      ]
    },
    {
      "cell_type": "markdown",
      "metadata": {
        "id": "liraxEFsbFdo"
      },
      "source": [
        "## if__name__==\"__main\":의 의미"
      ]
    },
    {
      "cell_type": "markdown",
      "metadata": {
        "id": "NgwNhhhMbK-b"
      },
      "source": [
        "이번에는 mod1.py 파일을 다음과 같이 변경해 보자."
      ]
    },
    {
      "cell_type": "code",
      "metadata": {
        "id": "0OzSiFddbMWy",
        "outputId": "9df6f114-9479-45f0-8837-ef58f888a17e",
        "colab": {
          "base_uri": "https://localhost:8080/",
          "height": 53
        }
      },
      "source": [
        "# mod1.py \n",
        "def add(a, b): \n",
        "    return a+b\n",
        "\n",
        "def sub(a, b): \n",
        "    return a-b\n",
        "\n",
        "print(add(1, 4))\n",
        "print(sub(4, 2))"
      ],
      "execution_count": null,
      "outputs": [
        {
          "output_type": "stream",
          "text": [
            "5\n",
            "2\n"
          ],
          "name": "stdout"
        }
      ]
    },
    {
      "cell_type": "markdown",
      "metadata": {
        "id": "4KMaEbhNbOKP"
      },
      "source": [
        "add(1, 4)와 sub(4, 2)의 결과를 출력하는 다음 문장을 추가하였다."
      ]
    },
    {
      "cell_type": "code",
      "metadata": {
        "id": "I6bzpKC8bPF2"
      },
      "source": [
        "print(add(1, 4))\n",
        "print(sub(4, 2))"
      ],
      "execution_count": null,
      "outputs": []
    },
    {
      "cell_type": "markdown",
      "metadata": {
        "id": "hS2iHEIAbSTA"
      },
      "source": [
        "위에서 작성한 mod1.py 파일은 다음과 같이 실행할 수 있다."
      ]
    },
    {
      "cell_type": "code",
      "metadata": {
        "id": "MqBvnk57bUBt"
      },
      "source": [
        "C:\\doit>python mod1.py\n",
        "5\n",
        "2"
      ],
      "execution_count": null,
      "outputs": []
    },
    {
      "cell_type": "markdown",
      "metadata": {
        "id": "KmQRXlcsbUxc"
      },
      "source": [
        "런데 이 mod1.py 파일의 add와 sub 함수를 사용하기 위해 mod1 모듈을 import할 때는 좀 이상한 문제가 생긴다. 명령 프롬프트 창에서 다음을 따라 해 보자."
      ]
    },
    {
      "cell_type": "code",
      "metadata": {
        "id": "zjy6c92XbV5V"
      },
      "source": [
        "C:\\Users\\pahkey> cd C:\\doit\n",
        "C:\\doit> python\n",
        "Type \"help\", \"copyright\", \"credits\" or \"license\" for more information.\n",
        ">>> import mod1\n",
        "5\n",
        "2"
      ],
      "execution_count": null,
      "outputs": []
    },
    {
      "cell_type": "markdown",
      "metadata": {
        "id": "PZHrTO01bY7-"
      },
      "source": [
        "엉뚱하게도 import mod1을 수행하는 순간 mod1.py가 실행이 되어 결괏값을 출력한다. 우리는 단지 mod1.py 파일의 add와 sub 함수만 사용하려고 했는데 말이다.\n",
        "\n",
        "이러한 문제를 방지하려면 mod1.py 파일을 다음처럼 변경해야 한다."
      ]
    },
    {
      "cell_type": "code",
      "metadata": {
        "id": "3cPNkLffbdmq"
      },
      "source": [
        "# mod1.py \n",
        "def add(a, b): \n",
        "    return a+b\n",
        "\n",
        "def sub(a, b): \n",
        "    return a-b\n",
        "\n",
        "if __name__ == \"__main__\":\n",
        "    print(add(1, 4))\n",
        "    print(sub(4, 2))"
      ],
      "execution_count": null,
      "outputs": []
    },
    {
      "cell_type": "markdown",
      "metadata": {
        "id": "OuFMp6Lhbe_u"
      },
      "source": [
        "if __name__ == \"__main__\"을 사용하면 C:\\doit>python mod1.py처럼 직접 이 파일을 실행했을 때는 __name__ == \"__main__\"이 참이 되어 if문 다음 문장이 수행된다. 반대로 대화형 인터프리터나 다른 파일에서 이 모듈을 불러서 사용할 때는 __name__ == \"__main__\"이 거짓이 되어 if문 다음 문장이 수행되지 않는다.\n",
        "\n",
        "위와 같이 수정한 후 다시 대화형 인터프리터를 열고 실행해 보자"
      ]
    },
    {
      "cell_type": "code",
      "metadata": {
        "id": "7QtpFG79bgUl"
      },
      "source": [
        "import mod1"
      ],
      "execution_count": null,
      "outputs": []
    },
    {
      "cell_type": "markdown",
      "metadata": {
        "id": "Hfg2l3MvbiX8"
      },
      "source": [
        "아무 결괏값도 출력되지 않는 것을 확인할 수 있다."
      ]
    },
    {
      "cell_type": "markdown",
      "metadata": {
        "id": "QN_IwDJqbjoT"
      },
      "source": [
        "__name__ 변수란?\n",
        "\n",
        "파이썬의 __name__ 변수는 파이썬이 내부적으로 사용하는 특별한 변수 이름이다. 만약 C:\\doit>python mod1.py처럼 직접 mod1.py 파일을 실행할 경우 mod1.py의 __name__ 변수에는 __main__ 값이 저장된다. 하지만 파이썬 셸이나 다른 파이썬 모듈에서 mod1을 import 할 경우에는 mod1.py의 __name__ 변수에는 mod1.py의 모듈 이름 값 mod1이 저장된다."
      ]
    },
    {
      "cell_type": "markdown",
      "metadata": {
        "id": "3pe_Vn1JblJJ"
      },
      "source": [
        "## 클래스나 변수 등을 포함한 모듈"
      ]
    },
    {
      "cell_type": "markdown",
      "metadata": {
        "id": "umOO_cfDbpXE"
      },
      "source": [
        "지금까지 살펴본 모듈은 함수만 포함했지만 클래스나 변수 등을 포함할 수도 있다. 다음 프로그램을 작성해 보자."
      ]
    },
    {
      "cell_type": "code",
      "metadata": {
        "id": "yYNrREw3bqVy"
      },
      "source": [
        "# mod2.py \n",
        "PI = 3.141592\n",
        "\n",
        "class Math: \n",
        "    def solv(self, r): \n",
        "        return PI * (r ** 2) \n",
        "\n",
        "def add(a, b): \n",
        "    return a+b "
      ],
      "execution_count": null,
      "outputs": []
    },
    {
      "cell_type": "markdown",
      "metadata": {
        "id": "7tES0wlWbs6L"
      },
      "source": [
        "이 파일은 원의 넓이를 계산하는 Math 클래스와 두 값을 더하는 add 함수 그리고 원주율 값에 해당되는 PI 변수처럼 클래스, 함수, 변수 등을 모두 포함하고 있다.\n",
        "\n",
        "파일 이름을 mod2.py로 하고 C:\\doit 디렉터리에 저장하자. 대화형 인터프리터를 열고 다음과 같이 따라 해 보자."
      ]
    },
    {
      "cell_type": "code",
      "metadata": {
        "id": "kLxESfzYbuQe"
      },
      "source": [
        "C:\\Users\\pahkey> cd C:\\doit\n",
        "C:\\doit> python\n",
        "Type \"help\", \"copyright\", \"credits\" or \"license\" for more information.\n",
        "    import mod2\n",
        "    print(mod2.PI)"
      ],
      "execution_count": null,
      "outputs": []
    },
    {
      "cell_type": "markdown",
      "metadata": {
        "id": "5THy5IdEbylG"
      },
      "source": [
        "위 예에서 볼 수 있듯이 mod2.PI처럼 입력해서 mod2.py 파일에 있는 PI 변수 값을 사용할 수 있다."
      ]
    },
    {
      "cell_type": "code",
      "metadata": {
        "id": "WI7S-ND2b0iD"
      },
      "source": [
        "a = mod2.Math()\n",
        "print(a.solv(2))"
      ],
      "execution_count": null,
      "outputs": []
    },
    {
      "cell_type": "markdown",
      "metadata": {
        "id": "w2qkHNcNcCOf"
      },
      "source": [
        "위 예는 mod2.py에 있는 Math 클래스를 사용하는 방법을 보여 준다. 위 예처럼 모듈 안에 있는 클래스를 사용하려면 \".\"(도트 연산자)로 클래스 이름 앞에 모듈 이름을 먼저 입력해야 한다."
      ]
    },
    {
      "cell_type": "code",
      "metadata": {
        "id": "ZT1vliMjcDgJ"
      },
      "source": [
        "print(mod2.add(mod2.PI, 4.4))"
      ],
      "execution_count": null,
      "outputs": []
    },
    {
      "cell_type": "markdown",
      "metadata": {
        "id": "cgNai-gLcH83"
      },
      "source": [
        "mod2.py에 있는 add 함수 역시 당연히 사용할 수 있다."
      ]
    },
    {
      "cell_type": "markdown",
      "metadata": {
        "id": "QRbXaC2-cK5t"
      },
      "source": [
        "## 다른 파일에서 모듈 불러오기"
      ]
    },
    {
      "cell_type": "markdown",
      "metadata": {
        "id": "lOivIj6fcSQC"
      },
      "source": [
        "지금까지는 만들어 놓은 모듈 파일을 사용하기 위해 대화형 인터프리터만 사용했다. 이번에는 다른 파이썬 파일에서 이전에 만들어 놓은 모듈을 불러와서 사용하는 방법에 대해 알아보자. 여기에서는 조금 전에 만든 모듈인 mod2.py 파일을 다른 파이썬 파일에서 불러와 사용할 것이다.\n",
        "\n",
        "먼저 에디터로 C:\\doit\\modtest.py 파일을 다음과 같이 작성한다."
      ]
    },
    {
      "cell_type": "code",
      "metadata": {
        "id": "d70xY5JncTbV"
      },
      "source": [
        "# modtest.py\n",
        "import mod2\n",
        "result = mod2.add(3, 4)\n",
        "print(result)"
      ],
      "execution_count": null,
      "outputs": []
    },
    {
      "cell_type": "markdown",
      "metadata": {
        "id": "tzKimSP-cWIr"
      },
      "source": [
        "위에서 볼 수 있듯이 다른 파이썬 파일에서도 import mod2로 mod2 모듈을 불러와서 사용할 수 있다. 대화형 인터프리터에서 한 것과 마찬가지 방법이다. 위 예제가 정상적으로 실행되기 위해서는 modtest.py 파일과 mod2.py 파일이 동일한 디렉터리(C:\\doit)에 있어야 한다."
      ]
    },
    {
      "cell_type": "markdown",
      "metadata": {
        "id": "bGA9WwQAcYgm"
      },
      "source": [
        "[모듈을 불러오는 또 다른 방법]\n",
        "\n",
        "우리는 지금껏 명령 프롬프트 창을 열고 모듈이 있는 디렉터리로 이동한 다음에 모듈을 사용할 수 있었다. 이번에는 모듈을 저장한 디렉터리로 이동하지 않고 모듈을 불러와서 사용하는 방법에 대해 알아보자.\n",
        "\n",
        "먼저 다음과 같이 이전에 만든 mod2.py 파일을 C:\\doit\\mymod로 이동시킨다."
      ]
    },
    {
      "cell_type": "code",
      "metadata": {
        "id": "MOyZKP88cZx7"
      },
      "source": [
        "C:\\Users\\pahkey>cd C:\\doit\n",
        "C:\\doit>mkdir mymod\n",
        "C:\\doit>move mod2.py mymod\n",
        "        1개 파일을 이동했습니다."
      ],
      "execution_count": null,
      "outputs": []
    },
    {
      "cell_type": "markdown",
      "metadata": {
        "id": "2upffqbLca1T"
      },
      "source": [
        "그리고 다음 예를 따라 해 보자.\n",
        "\n",
        "### 1. sys.path.append(모듈을 저장한 디렉터리) 사용하기\n",
        "\n",
        "먼저 sys 모듈을 불러온다."
      ]
    },
    {
      "cell_type": "code",
      "metadata": {
        "id": "2XEkArxEccIJ"
      },
      "source": [
        "C:\\doit>python\n",
        "    import sys"
      ],
      "execution_count": null,
      "outputs": []
    },
    {
      "cell_type": "markdown",
      "metadata": {
        "id": "l3NMBUX-cdVm"
      },
      "source": [
        "sys 모듈은 파이썬을 설치할 때 함께 설치되는 라이브러리 모듈이다. sys에 대해서는 뒤에서 자세하게 다룰 것이다. 이 sys 모듈을 사용하면 파이썬 라이브러리가 설치되어 있는 디렉터리를 확인할 수 있다.\n",
        "\n",
        "다음과 같이 입력해 보자."
      ]
    },
    {
      "cell_type": "code",
      "metadata": {
        "id": "Ln9A9xeAcfB7"
      },
      "source": [
        "sys.path\n",
        "['', 'C:\\\\Windows\\\\SYSTEM32\\\\python37.zip', 'c:\\\\Python37\\\\DLLs', \n",
        "'c:\\\\Python37\\\\lib', 'c:\\\\Python37', 'c:\\\\Python37\\\\lib\\\\site-packages']"
      ],
      "execution_count": null,
      "outputs": []
    },
    {
      "cell_type": "markdown",
      "metadata": {
        "id": "ZmTRtHR4clgY"
      },
      "source": [
        "sys.path는 파이썬 라이브러리가 설치되어 있는 디렉터리를 보여 준다. 만약 파이썬 모듈이 위 디렉터리에 들어 있다면 모듈이 저장된 디렉터리로 이동할 필요 없이 바로 불러서 사용할 수 있다. 그렇다면 sys.path에 C:\\doit\\mymod 디렉터리를 추가하면 아무 곳에서나 불러 사용할 수 있지 않을까?\n",
        "\n",
        "※ 명령 프롬프트 창에서는 /, \\든 상관없지만, 소스 코드 안에서는 반드시 / 또는 \\\\ 기호를 사용해야 한다.\n",
        "\n",
        "당연하다. sys.path의 결괏값이 리스트이므로 우리는 다음과 같이 할 수 있다."
      ]
    },
    {
      "cell_type": "code",
      "metadata": {
        "id": "8ilei2KecneY"
      },
      "source": [
        "sys.path.append(\"C:/doit/mymod\")\n",
        "sys.path\n",
        "['', 'C:\\\\Windows\\\\SYSTEM32\\\\python37.zip', 'c:\\\\Python37\\\\DLLs', \n",
        "'c:\\\\Python37\\\\lib', 'c:\\\\Python37', 'c:\\\\Python37\\\\lib\\\\site-packages', \n",
        "'C:/doit/mymod']"
      ],
      "execution_count": null,
      "outputs": []
    },
    {
      "cell_type": "markdown",
      "metadata": {
        "id": "xNzxBBf6ct3d"
      },
      "source": [
        "sys.path.append를 사용해서 C:/doit/mymod라는 디렉터리를 sys.path에 추가한 후 다시 sys.path를 보면 가장 마지막 요소에 C:/doit/mymod라고 추가된 것을 확인할 수 있다.\n",
        "\n",
        "자, 실제로 모듈을 불러와서 사용할 수 있는지 확인해 보자."
      ]
    },
    {
      "cell_type": "code",
      "metadata": {
        "id": "Y2w19_Z7cvet"
      },
      "source": [
        "import mod2\n",
        "print(mod2.add(3,4))"
      ],
      "execution_count": null,
      "outputs": []
    },
    {
      "cell_type": "markdown",
      "metadata": {
        "id": "pBtzEMg4c0HL"
      },
      "source": [
        "이상 없이 불러와서 사용할 수 있다."
      ]
    },
    {
      "cell_type": "markdown",
      "metadata": {
        "id": "VRd0bJSmc1Wm"
      },
      "source": [
        "### 2.PYTHONPATH 환경 변수 사용하기"
      ]
    },
    {
      "cell_type": "markdown",
      "metadata": {
        "id": "QfvcyrKAdD3b"
      },
      "source": [
        "모듈을 불러와서 사용하는 또 다른 방법으로는 PYTHONPATH 환경 변수를 사용하는 방법이 있다.\n",
        "\n",
        "다음과 같이 따라 해 보자."
      ]
    },
    {
      "cell_type": "code",
      "metadata": {
        "id": "yGgQamfWdFAE"
      },
      "source": [
        "C:\\doit>set PYTHONPATH=C:\\doit\\mymod\n",
        "C:\\doit>python\n",
        "    import mod2\n",
        "    print(mod2.add(3,4))"
      ],
      "execution_count": null,
      "outputs": []
    },
    {
      "cell_type": "markdown",
      "metadata": {
        "id": "y64s5l7IdLC-"
      },
      "source": [
        "set 명령어를 사용해 PYTHONPATH 환경 변수에 mod2.py 파일이 있는 C:\\doit\\mymod 디렉터리를 설정한다. 그러면 디렉터리 이동이나 별도의 모듈 추가 작업 없이 mod2 모듈을 불러와서 사용할 수 있다."
      ]
    },
    {
      "cell_type": "markdown",
      "metadata": {
        "id": "6DqMsyRydMK4"
      },
      "source": [
        "## 3.패키지"
      ]
    },
    {
      "cell_type": "markdown",
      "metadata": {
        "id": "xQG6ZuCmdOYP"
      },
      "source": [
        "## 패키지란 무엇인가?"
      ]
    },
    {
      "cell_type": "markdown",
      "metadata": {
        "id": "f5XsxM6vdQIr"
      },
      "source": [
        "패키지(Packages)는 도트(.)를 사용하여 파이썬 모듈을 계층적(디렉터리 구조)으로 관리할 수 있게 해준다. 예를 들어 모듈 이름이 A.B인 경우에 A는 패키지 이름이 되고 B는 A 패키지의 B모듈이 된다.\n",
        "\n",
        "파이썬 패키지는 디렉터리와 파이썬 모듈로 이루어지며 구조는 다음과 같다.\n",
        "\n",
        "가상의 game 패키지 예"
      ]
    },
    {
      "cell_type": "code",
      "metadata": {
        "id": "-03x__CsdThO"
      },
      "source": [
        "game/\n",
        "    __init__.py\n",
        "    sound/\n",
        "        __init__.py\n",
        "        echo.py\n",
        "        wav.py\n",
        "    graphic/\n",
        "        __init__.py\n",
        "        screen.py\n",
        "        render.py\n",
        "    play/\n",
        "        __init__.py\n",
        "        run.py\n",
        "        test.py"
      ],
      "execution_count": null,
      "outputs": []
    },
    {
      "cell_type": "markdown",
      "metadata": {
        "id": "xnWw1MmRdXoU"
      },
      "source": [
        "game, sound, graphic, play는 디렉터리 이름이고 확장자가 .py인 파일은 파이썬 모듈이다. game 디렉터리가 이 패키지의 루트 디렉터리이고 sound, graphic, play는 서브 디렉터리이다.\n",
        "\n",
        "※ __init__.py 파일은 조금 특이한 용도로 사용하는데 뒤에서 자세하게 다룰 것이다.\n",
        "\n",
        "간단한 파이썬 프로그램이 아니라면 이렇게 패키지 구조로 파이썬 프로그램을 만드는 것이 공동 작업이나 유지 보수 등 여러 면에서 유리하다. 또한 패키지 구조로 모듈을 만들면 다른 모듈과 이름이 겹치더라도 더 안전하게 사용할 수 있다."
      ]
    },
    {
      "cell_type": "markdown",
      "metadata": {
        "id": "PALI3lGbdZiz"
      },
      "source": [
        "## 패키지 만들기"
      ]
    },
    {
      "cell_type": "markdown",
      "metadata": {
        "id": "zDGdAdyXda4j"
      },
      "source": [
        "이제 위 예와 비슷한 game 패키지를 직접 만들어 보며 패키지에 대해서 알아보자.\n",
        "\n",
        "패키지 기본 구성 요소 준비하기\n",
        "\n",
        "1. C:/doit 디렉터리 밑에 game 및 기타 서브 디렉터리를 생성하고 .py 파일들을 다음과 같이 만들어 보자(만약 C:/doit 디렉터리가 없다면 먼저 생성하고 진행하자)."
      ]
    },
    {
      "cell_type": "code",
      "metadata": {
        "id": "8PddV_hgdcxt"
      },
      "source": [
        "C:/doit/game/__init__.py\n",
        "C:/doit/game/sound/__init__.py\n",
        "C:/doit/game/sound/echo.py\n",
        "C:/doit/game/graphic/__init__.py\n",
        "C:/doit/game/graphic/render.py"
      ],
      "execution_count": null,
      "outputs": []
    },
    {
      "cell_type": "markdown",
      "metadata": {
        "id": "E0jHE898dgMO"
      },
      "source": [
        "2. 각 디렉터리에 __init__.py 파일을 만들어 놓기만 하고 내용은 일단 비워 둔다.\n",
        "\n",
        "3. echo.py 파일은 다음과 같이 만든다."
      ]
    },
    {
      "cell_type": "code",
      "metadata": {
        "id": "jXAFF1rqdiSm"
      },
      "source": [
        "# echo.py\n",
        "def echo_test():\n",
        "    print (\"echo\")"
      ],
      "execution_count": null,
      "outputs": []
    },
    {
      "cell_type": "markdown",
      "metadata": {
        "id": "tglUd-OBdkfA"
      },
      "source": [
        "4. render.py 파일은 다음과 같이 만든다."
      ]
    },
    {
      "cell_type": "code",
      "metadata": {
        "id": "xUyz3teGdlwK"
      },
      "source": [
        "# render.py\n",
        "def render_test():\n",
        "    print (\"render\")"
      ],
      "execution_count": null,
      "outputs": []
    },
    {
      "cell_type": "markdown",
      "metadata": {
        "id": "X2umGZ7ydnBL"
      },
      "source": [
        "5. 다음 예제를 수행하기 전에 우리가 만든 game 패키지를 참조할 수 있도록 명령 프롬프트 창에서 set 명령어로 PYTHONPATH 환경 변수에 C:/doit 디렉터리를 추가한다. 그리고 파이썬 인터프리터(Interactive shell)를 실행한다."
      ]
    },
    {
      "cell_type": "code",
      "metadata": {
        "id": "pwSfty9UdpUB"
      },
      "source": [
        "C:\\> set PYTHONPATH=C:/doit\n",
        "C:\\> python\n",
        "Type \"help\", \"copyright\", \"credits\" or \"license\" for more information."
      ],
      "execution_count": null,
      "outputs": []
    },
    {
      "cell_type": "markdown",
      "metadata": {
        "id": "cucpD8-tdrIE"
      },
      "source": [
        "여기까지 준비가 되었다면 다음을 따라 해 보자."
      ]
    },
    {
      "cell_type": "markdown",
      "metadata": {
        "id": "a5FPdgMbdwQS"
      },
      "source": [
        "## 패키지 안의 함수 실행하기"
      ]
    },
    {
      "cell_type": "markdown",
      "metadata": {
        "id": "D0kCOHgrdyC3"
      },
      "source": [
        "자, 이제 패키지를 사용하여 echo.py 파일의 echo_test 함수를 실행해 보자. 패키지 안의 함수를 실행하는 방법은 다음 3가지가 있다. 다음 예제는 import 예제이므로 하나의 예제를 실행하고 나서 다음 예제를 실행할 때에는 반드시 인터프리터를 종료하고 다시 실행해야 한다. 인터프리터를 다시 시작하지 않을 경우 이전에 import한 것들이 메모리에 남아 있어 엉뚱한 결과가 나올 수 있다(윈도우의 경우 인터프리터 종료는 Ctrl+Z).\n",
        "\n",
        "첫 번째는 echo 모듈을 import하여 실행하는 방법으로, 다음과 같이 실행한다."
      ]
    },
    {
      "cell_type": "code",
      "metadata": {
        "id": "kVC5irMsdzDx"
      },
      "source": [
        "import game.sound.echo\n",
        "game.sound.echo.echo_test()\n",
        "echo"
      ],
      "execution_count": null,
      "outputs": []
    },
    {
      "cell_type": "markdown",
      "metadata": {
        "id": "BEDmd8YLd-jt"
      },
      "source": [
        "두 번째는 echo 모듈이 있는 디렉터리까지를 from ... import하여 실행하는 방법이다."
      ]
    },
    {
      "cell_type": "code",
      "metadata": {
        "id": "N3BiYGdxd_kx"
      },
      "source": [
        "from game.sound.echo import echo_test\n",
        "echo_test()\n",
        "echo"
      ],
      "execution_count": null,
      "outputs": []
    },
    {
      "cell_type": "markdown",
      "metadata": {
        "id": "kwlrExK1eGwW"
      },
      "source": [
        "하지만 다음과 같이 echo_test 함수를 사용하는 것은 불가능하다."
      ]
    },
    {
      "cell_type": "code",
      "metadata": {
        "id": "ISEsMQi-eIDM"
      },
      "source": [
        "import game\n",
        "game.sound.echo.echo_test()"
      ],
      "execution_count": null,
      "outputs": []
    },
    {
      "cell_type": "markdown",
      "metadata": {
        "id": "vSz1DFlOeQhM"
      },
      "source": [
        "import game을 수행하면 game 디렉터리의 모듈 또는 game 디렉터리의 __init__.py에 정의한 것만 참조할 수 있다.\n",
        "\n",
        "또 다음처럼 echo_test 함수를 사용하는 것도 불가능하다."
      ]
    },
    {
      "cell_type": "code",
      "metadata": {
        "id": "zq_BNJcWeRbw"
      },
      "source": [
        "import game.sound.echo.echo_test"
      ],
      "execution_count": null,
      "outputs": []
    },
    {
      "cell_type": "markdown",
      "metadata": {
        "id": "mt6AaZVVeTNm"
      },
      "source": [
        "도트 연산자(.)를 사용해서 import a.b.c처럼 import할 때 가장 마지막 항목인 c는 반드시 모듈 또는 패키지여야만 한다."
      ]
    },
    {
      "cell_type": "markdown",
      "metadata": {
        "id": "4aPgZqcueUPM"
      },
      "source": [
        "## __init__.py 의 용도"
      ]
    },
    {
      "cell_type": "markdown",
      "metadata": {
        "id": "RsbqbLlSeWfZ"
      },
      "source": [
        "__init__.py 파일은 해당 디렉터리가 패키지의 일부임을 알려주는 역할을 한다. 만약 game, sound, graphic 등 패키지에 포함된 디렉터리에 __init__.py 파일이 없다면 패키지로 인식되지 않는다.\n",
        "\n",
        "※ python3.3 버전부터는 __init__.py 파일이 없어도 패키지로 인식한다(PEP 420). 하지만 하위 버전 호환을 위해 __init__.py 파일을 생성하는 것이 안전한 방법이다.\n",
        "\n",
        "다음을 따라 해 보자."
      ]
    },
    {
      "cell_type": "code",
      "metadata": {
        "id": "SnduhldAeYpO"
      },
      "source": [
        "from game.sound import *\n",
        "echo.echo_test()"
      ],
      "execution_count": null,
      "outputs": []
    },
    {
      "cell_type": "markdown",
      "metadata": {
        "id": "x1LDTkDnecWm"
      },
      "source": [
        "뭔가 이상하지 않은가? 분명 game.sound 패키지에서 모든 것(*)을 import하였으므로 echo 모듈을 사용할 수 있어야 할 것 같은데 echo라는 이름이 정의되지 않았다는 이름 오류(NameError)가 발생했다.\n",
        "\n",
        "이렇게 특정 디렉터리의 모듈을 *를 사용하여 import할 때에는 다음과 같이 해당 디렉터리의 __init__.py 파일에 __all__ 변수를 설정하고 import할 수 있는 모듈을 정의해 주어야 한다."
      ]
    },
    {
      "cell_type": "code",
      "metadata": {
        "id": "zTDHVovfeeOh"
      },
      "source": [
        "# C:/doit/game/sound/__init__.py\n",
        "__all__ = ['echo']"
      ],
      "execution_count": null,
      "outputs": []
    },
    {
      "cell_type": "markdown",
      "metadata": {
        "id": "oBdRjvRtefXh"
      },
      "source": [
        "여기에서 __all__이 의미하는 것은 sound 디렉터리에서 * 기호를 사용하여 import할 경우 이곳에 정의된 echo 모듈만 import된다는 의미이다.\n",
        "\n",
        "※ 착각하기 쉬운데 from game.sound.echo import * 는 __all__과 상관없이 무조건 import된다. 이렇게 __all__과 상관없이 무조건 import되는 경우는 from a.b.c import * 에서 from의 마지막 항목인 c가 모듈인 경우이다.\n",
        "\n",
        "위와 같이 __init__.py 파일을 변경한 후 위 예제를 수행하면 원하던 결과가 출력되는 것을 확인할 수 있다."
      ]
    },
    {
      "cell_type": "code",
      "metadata": {
        "id": "xKQXUQEZeg7P"
      },
      "source": [
        "from game.sound import *\n",
        "echo.echo_test()\n",
        "echo"
      ],
      "execution_count": null,
      "outputs": []
    },
    {
      "cell_type": "markdown",
      "metadata": {
        "id": "REvAusR6ekmR"
      },
      "source": [
        "## relative 패키지"
      ]
    },
    {
      "cell_type": "markdown",
      "metadata": {
        "id": "jxcCnL3mepHH"
      },
      "source": [
        "만약 graphic 디렉터리의 render.py 모듈이 sound 디렉터리의 echo.py 모듈을 사용하고 싶다면 어떻게 해야 할까? 다음과 같이 render.py를 수정하면 가능하다."
      ]
    },
    {
      "cell_type": "code",
      "metadata": {
        "id": "HFXc-WPBerqG"
      },
      "source": [
        "# render.py\n",
        "from game.sound.echo import echo_test\n",
        "def render_test():\n",
        "    print (\"render\")\n",
        "    echo_test()"
      ],
      "execution_count": null,
      "outputs": []
    },
    {
      "cell_type": "markdown",
      "metadata": {
        "id": "HnXId6F5eu8H"
      },
      "source": [
        "from game.sound.echo import echo_test 문장을 추가하여 echo_test 함수를 사용할 수 있도록 수정했다.\n",
        "\n",
        "이렇게 수정한 후 다음과 같이 수행해 보자."
      ]
    },
    {
      "cell_type": "code",
      "metadata": {
        "id": "8fWeGO7EewFS"
      },
      "source": [
        "from game.graphic.render import render_test\n",
        "render_test()\n",
        "render\n",
        "echo"
      ],
      "execution_count": null,
      "outputs": []
    },
    {
      "cell_type": "markdown",
      "metadata": {
        "id": "jtgczrDTe18T"
      },
      "source": [
        "이상 없이 잘 수행된다.\n",
        "\n",
        "위 예제처럼 from game.sound.echo import echo_test를 입력해 전체 경로를 사용하여 import할 수도 있지만 다음과 같이 relative하게 import하는 것도 가능하다."
      ]
    },
    {
      "cell_type": "code",
      "metadata": {
        "id": "swyAyUnNe3Px"
      },
      "source": [
        "# render.py\n",
        "from ..sound.echo import echo_test\n",
        "\n",
        "def render_test():\n",
        "    print (\"render\")\n",
        "    echo_test()"
      ],
      "execution_count": null,
      "outputs": []
    },
    {
      "cell_type": "markdown",
      "metadata": {
        "id": "YBmnGVDUe4Q_"
      },
      "source": [
        "from game.sound.echo import echo_test가 from ..sound.echo import echo_test로 변경되었다. 여기에서 ..은 부모 디렉터리를 의미한다. graphic과 sound 디렉터리는 동일한 깊이(depth)이므로 부모 디렉터리(..)를 사용하여 위와 같은 import가 가능한 것이다.\n",
        "\n",
        "relative한 접근자에는 다음과 같은 것이 있다.\n",
        "\n",
        ".. – 부모 디렉터리\n",
        ". – 현재 디렉터리\n",
        "..과 같은 relative한 접근자는 render.py처럼 모듈 안에서만 사용해야 한다. 파이썬 인터프리터에서 relative한 접근자를 사용하면 \"SystemError: cannot perform relative import\" 오류가 발생한다."
      ]
    },
    {
      "cell_type": "markdown",
      "metadata": {
        "id": "01eOkwLde8M1"
      },
      "source": [
        "## 4.예외처리"
      ]
    },
    {
      "cell_type": "markdown",
      "metadata": {
        "id": "p_FpJiIWfCw5"
      },
      "source": [
        "프로그램을 만들다 보면 수없이 많은 오류를 만나게 된다. 물론 오류가 발생하는 이유는 프로그램이 잘못 동작하는 것을 막기 위한 파이썬의 배려이다. 하지만 때때로 이러한 오류를 무시하고 싶을 때도 있다. 이를 위해 파이썬은 try, except를 사용해서 예외적으로 오류를 처리할 수 있게 해준다."
      ]
    },
    {
      "cell_type": "markdown",
      "metadata": {
        "id": "-x7PbUYnfDwi"
      },
      "source": [
        "## 오류는 어떤 때 발생하는가?"
      ]
    },
    {
      "cell_type": "markdown",
      "metadata": {
        "id": "2F1_TaAofFrt"
      },
      "source": [
        "오류를 처리하는 방법을 알기 전에 어떤 상황에서 오류가 발생하는지 한번 알아보자. 오타를 입력했을 때 발생하는 구문 오류 같은 것이 아닌 실제 프로그램에서 자주 발생하는 오류를 중심으로 살펴본다.\n",
        "\n",
        "먼저 디렉터리 안에 없는 파일을 열려고 시도했을 때 발생하는 오류이다."
      ]
    },
    {
      "cell_type": "code",
      "metadata": {
        "id": "dQ_N6qj_fGxH"
      },
      "source": [
        " f = open(\"나없는파일\", 'r')"
      ],
      "execution_count": null,
      "outputs": []
    },
    {
      "cell_type": "markdown",
      "metadata": {
        "id": "V1nz5HxsfI8t"
      },
      "source": [
        "위 예에서 볼 수 있듯이 없는 파일을 열려고 시도하면 FileNotFoundError 오류가 발생한다.\n",
        "\n",
        "이번에는 0으로 다른 숫자를 나누는 경우를 생각해 보자. 이 역시 자주 발생하는 오류이다."
      ]
    },
    {
      "cell_type": "code",
      "metadata": {
        "id": "oGErgfmPfLJu"
      },
      "source": [
        "4 / 0"
      ],
      "execution_count": null,
      "outputs": []
    },
    {
      "cell_type": "markdown",
      "metadata": {
        "id": "GMpeiRJjfMMT"
      },
      "source": [
        "4를 0으로 나누려니까 ZeroDivisionError 오류가 발생한다.\n",
        "\n",
        "마지막으로 한 가지 예를 더 들어 보자. 다음 오류는 정말 빈번하게 일어난다."
      ]
    },
    {
      "cell_type": "code",
      "metadata": {
        "id": "CufCNUX0fNJ1"
      },
      "source": [
        "a = [1,2,3]\n",
        "a[4]"
      ],
      "execution_count": null,
      "outputs": []
    },
    {
      "cell_type": "markdown",
      "metadata": {
        "id": "24gqOfiGfQzP"
      },
      "source": [
        "a는 리스트 [1, 2, 3]인데 a[4]는 a 리스트에서 얻을 수 없는 값이다. 따라서 IndexError 오류가 발생한다. 파이썬은 이런 오류가 발생하면 프로그램을 중단하고 오류 메시지를 보여 준다."
      ]
    },
    {
      "cell_type": "markdown",
      "metadata": {
        "id": "XCKk9xM9fRzI"
      },
      "source": [
        "## 오류 예외 처리 기법"
      ]
    },
    {
      "cell_type": "markdown",
      "metadata": {
        "id": "Zuv94dH2fTiW"
      },
      "source": [
        "자, 이제 유연한 프로그래밍을 위한 오류 처리 기법에 대해 살펴보자."
      ]
    },
    {
      "cell_type": "markdown",
      "metadata": {
        "id": "ZINycT6gfVS3"
      },
      "source": [
        "### try,except문"
      ]
    },
    {
      "cell_type": "markdown",
      "metadata": {
        "id": "LVI0Q_swfYrn"
      },
      "source": [
        "다음은 오류 처리를 위한 try, except문의 기본 구조이다."
      ]
    },
    {
      "cell_type": "code",
      "metadata": {
        "id": "K4Dis-YVfZ93"
      },
      "source": [
        "try:\n",
        "    ...\n",
        "except [발생 오류[as 오류 메시지 변수]]:\n",
        "    ..."
      ],
      "execution_count": null,
      "outputs": []
    },
    {
      "cell_type": "markdown",
      "metadata": {
        "id": "KDDXA1Hffa0q"
      },
      "source": [
        "ry 블록 수행 중 오류가 발생하면 except 블록이 수행된다. 하지만 try 블록에서 오류가 발생하지 않는다면 except 블록은 수행되지 않는다.\n",
        "\n",
        "except 구문을 자세히 살펴보자.\n",
        "\n",
        "except [발생 오류 [as 오류 메시지 변수]]:\n",
        "\n",
        "위 구문을 보면 [ ] 기호를 사용하는데, 이 기호는 괄호 안의 내용을 생략할 수 있다는 관례 표기법이다. 즉 except 구문은 다음 3가지 방법으로 사용할 수 있다.\n",
        "\n",
        "1. try, except만 쓰는 방법"
      ]
    },
    {
      "cell_type": "code",
      "metadata": {
        "id": "JV79ikztfcbN"
      },
      "source": [
        "try:\n",
        "    ...\n",
        "except:\n",
        "    ..."
      ],
      "execution_count": null,
      "outputs": []
    },
    {
      "cell_type": "markdown",
      "metadata": {
        "id": "gs6_KGVjfdti"
      },
      "source": [
        "이 경우는 오류 종류에 상관없이 오류가 발생하면 except 블록을 수행한다.\n",
        "\n",
        "2. 발생 오류만 포함한 except문"
      ]
    },
    {
      "cell_type": "code",
      "metadata": {
        "id": "nopBaCPnfejr"
      },
      "source": [
        "try:\n",
        "    ...\n",
        "except 발생 오류:\n",
        "    ..."
      ],
      "execution_count": null,
      "outputs": []
    },
    {
      "cell_type": "markdown",
      "metadata": {
        "id": "onUP-vgHff2r"
      },
      "source": [
        "이 경우는 오류가 발생했을 때 except문에 미리 정해 놓은 오류 이름과 일치할 때만 except 블록을 수행한다는 뜻이다.\n",
        "\n",
        "3. 발생 오류와 오류 메시지 변수까지 포함한 except문"
      ]
    },
    {
      "cell_type": "code",
      "metadata": {
        "id": "Q8JuomAPfhEk"
      },
      "source": [
        "try:\n",
        "    ...\n",
        "except 발생 오류 as 오류 메시지 변수:\n",
        "    ..."
      ],
      "execution_count": null,
      "outputs": []
    },
    {
      "cell_type": "markdown",
      "metadata": {
        "id": "k0q7ua_afiBw"
      },
      "source": [
        "이 경우는 두 번째 경우에서 오류 메시지의 내용까지 알고 싶을 때 사용하는 방법이다.\n",
        "\n",
        "이 방법의 예를 들어 보면 다음과 같다."
      ]
    },
    {
      "cell_type": "code",
      "metadata": {
        "id": "YcL2Ub1ffkd6"
      },
      "source": [
        "try:\n",
        "    4 / 0\n",
        "except ZeroDivisionError as e:\n",
        "    print(e)"
      ],
      "execution_count": null,
      "outputs": []
    },
    {
      "cell_type": "markdown",
      "metadata": {
        "id": "DsnfQmEwfogq"
      },
      "source": [
        "### try .. finally"
      ]
    },
    {
      "cell_type": "markdown",
      "metadata": {
        "id": "tKdzWAdAfrkw"
      },
      "source": [
        "try문에는 finally절을 사용할 수 있다. finally절은 try문 수행 도중 예외 발생 여부에 상관없이 항상 수행된다. 보통 finally절은 사용한 리소스를 close해야 할 때에 많이 사용한다.\n",
        "\n",
        "다음 예를 보자."
      ]
    },
    {
      "cell_type": "code",
      "metadata": {
        "id": "Yk3TxdsUfszG"
      },
      "source": [
        "f = open('foo.txt', 'w')\n",
        "try:\n",
        "    # 무언가를 수행한다.\n",
        "finally:\n",
        "    f.close()"
      ],
      "execution_count": null,
      "outputs": []
    },
    {
      "cell_type": "markdown",
      "metadata": {
        "id": "jLOEUTVXfuNy"
      },
      "source": [
        "foo.txt 파일을 쓰기 모드로 연 후에 try문을 수행한 후 예외 발생 여부와 상관없이 finally절에서 f.close()로 열린 파일을 닫을 수 있다."
      ]
    },
    {
      "cell_type": "markdown",
      "metadata": {
        "id": "5Mb5pqgUfv6D"
      },
      "source": [
        "### 여러개의 오류처리하기"
      ]
    },
    {
      "cell_type": "markdown",
      "metadata": {
        "id": "hoAozrx1f0Az"
      },
      "source": [
        "try문 안에서 여러 개의 오류를 처리하기 위해 다음 구문을 사용한다."
      ]
    },
    {
      "cell_type": "code",
      "metadata": {
        "id": "_oLI2RRxf2PJ"
      },
      "source": [
        "try:\n",
        "    ...\n",
        "except 발생 오류1:\n",
        "   ... \n",
        "except 발생 오류2:\n",
        "   ..."
      ],
      "execution_count": null,
      "outputs": []
    },
    {
      "cell_type": "markdown",
      "metadata": {
        "id": "YDyLR7Mhf3OY"
      },
      "source": [
        "즉 0으로 나누는 오류와 인덱싱 오류를 다음과 같이 처리할 수 있다."
      ]
    },
    {
      "cell_type": "code",
      "metadata": {
        "id": "t8FXjdsXf4AT"
      },
      "source": [
        "try:\n",
        "    a = [1,2]\n",
        "    print(a[3])\n",
        "    4/0\n",
        "except ZeroDivisionError:\n",
        "    print(\"0으로 나눌 수 없습니다.\")\n",
        "except IndexError:\n",
        "    print(\"인덱싱 할 수 없습니다.\")"
      ],
      "execution_count": null,
      "outputs": []
    },
    {
      "cell_type": "markdown",
      "metadata": {
        "id": "Mi0QdWB0f84O"
      },
      "source": [
        "a는 2개의 요솟값을 가지고 있기 때문에 a[3]는 IndexError를 발생시키므로 \"인덱싱할 수 없습니다.\"라는 문자열이 출력될 것이다. 인덱싱 오류가 먼저 발생했으므로 4/0으로 발생되는 ZeroDivisionError 오류는 발생하지 않았다.\n",
        "\n",
        "앞에서 알아본 것과 마찬가지로 오류 메시지도 다음과 같이 가져올 수 있다."
      ]
    },
    {
      "cell_type": "code",
      "metadata": {
        "id": "jc92wMDZgAmp"
      },
      "source": [
        "try:\n",
        "    a = [1,2]\n",
        "    print(a[3])\n",
        "    4/0\n",
        "except ZeroDivisionError as e:\n",
        "    print(e)\n",
        "except IndexError as e:\n",
        "    print(e)"
      ],
      "execution_count": null,
      "outputs": []
    },
    {
      "cell_type": "markdown",
      "metadata": {
        "id": "SB19HDkkgDDq"
      },
      "source": [
        "프로그램을 실행하면 \"list index out of range\" 오류 메시지가 출력될 것이다.\n",
        "\n",
        "다음과 같이 ZerroDivisionError와 IndexError를 함께 처리할 수도 있다."
      ]
    },
    {
      "cell_type": "code",
      "metadata": {
        "id": "AfsD1ojBgEBJ"
      },
      "source": [
        "try:\n",
        "    a = [1,2]\n",
        "    print(a[3])\n",
        "    4/0\n",
        "except (ZeroDivisionError, IndexError) as e:\n",
        "    print(e)"
      ],
      "execution_count": null,
      "outputs": []
    },
    {
      "cell_type": "markdown",
      "metadata": {
        "id": "PfrFFXlSgJl8"
      },
      "source": [
        "2개 이상의 오류를 동일하게 처리하기 위해서는 위와 같이 괄호를 사용하여 함께 묶어 처리하면 된다."
      ]
    },
    {
      "cell_type": "markdown",
      "metadata": {
        "id": "-kLEK0AIgLMi"
      },
      "source": [
        "## 오류 회피하기"
      ]
    },
    {
      "cell_type": "markdown",
      "metadata": {
        "id": "eAELnwsbgMzP"
      },
      "source": [
        "프로그래밍을 하다 보면 특정 오류가 발생할 경우 그냥 통과시켜야 할 때가 있다. 다음 예를 보자."
      ]
    },
    {
      "cell_type": "code",
      "metadata": {
        "id": "_zHduh9rgNt7"
      },
      "source": [
        "try:\n",
        "    f = open(\"나없는파일\", 'r')\n",
        "except FileNotFoundError:\n",
        "    pass"
      ],
      "execution_count": null,
      "outputs": []
    },
    {
      "cell_type": "markdown",
      "metadata": {
        "id": "rXPSuN-tgPuQ"
      },
      "source": [
        "try문 안에서 FileNotFoundError가 발생할 경우에 pass를 사용하여 오류를 그냥 회피하도록 작성한 예제이다."
      ]
    },
    {
      "cell_type": "markdown",
      "metadata": {
        "id": "bBGJCxgUgRyG"
      },
      "source": [
        "## 오류 일부러 발생시키기"
      ]
    },
    {
      "cell_type": "markdown",
      "metadata": {
        "id": "hJukPTO9gTp1"
      },
      "source": [
        "이상하게 들리겠지만 프로그래밍을 하다 보면 종종 오류를 일부러 발생시켜야 할 경우도 생긴다. 파이썬은 raise 명령어를 사용해 오류를 강제로 발생시킬 수 있다.\n",
        "\n",
        "예를 들어 Bird 클래스를 상속받는 자식 클래스는 반드시 fly라는 함수를 구현하도록 만들고 싶은 경우(강제로 그렇게 하고 싶은 경우)가 있을 수 있다. 다음 예를 보자."
      ]
    },
    {
      "cell_type": "code",
      "metadata": {
        "id": "QkyYNFoKgU0a"
      },
      "source": [
        "class Bird:\n",
        "    def fly(self):\n",
        "        raise NotImplementedError"
      ],
      "execution_count": null,
      "outputs": []
    },
    {
      "cell_type": "markdown",
      "metadata": {
        "id": "dKNPbwZTgWpZ"
      },
      "source": [
        "위 예제는 Bird 클래스를 상속받는 자식 클래스는 반드시 fly 함수를 구현해야 한다는 의지를 보여 준다. 만약 자식 클래스가 fly 함수를 구현하지 않은 상태로 fly 함수를 호출한다면 어떻게 될까?\n",
        "\n",
        "※ NotImplementedError는 파이썬 내장 오류로, 꼭 작성해야 하는 부분이 구현되지 않았을 경우 일부러 오류를 일으키기 위해 사용한다."
      ]
    },
    {
      "cell_type": "code",
      "metadata": {
        "id": "6kNWOrGdgZHw"
      },
      "source": [
        "class Eagle(Bird):\n",
        "    pass\n",
        "\n",
        "eagle = Eagle()\n",
        "eagle.fly()"
      ],
      "execution_count": null,
      "outputs": []
    },
    {
      "cell_type": "markdown",
      "metadata": {
        "id": "82uvrSgYgbgv"
      },
      "source": [
        "Eagle 클래스는 Bird 클래스를 상속받는다. 그런데 Eagle 클래스에서 fly 함수를 구현하지 않았기 때문에 Bird 클래스의 fly 함수가 호출된다. 그리고 raise문에 의해 NotImplemented Error가 발생할 것이다.\n",
        "\n",
        "※ 상속받는 클래스에서 함수를 재구현하는 것을 메서드 오버라이딩이라고 부른다."
      ]
    },
    {
      "cell_type": "markdown",
      "metadata": {
        "id": "mD6U-6DOgeQl"
      },
      "source": [
        "NotImplementedError가 발생되지 않게 하려면 다음과 같이 Eagle 클래스에 fly 함수를 반드시 구현해야 한다."
      ]
    },
    {
      "cell_type": "code",
      "metadata": {
        "id": "TUaC9KmBgfnL"
      },
      "source": [
        "class Eagle(Bird):\n",
        "    def fly(self):\n",
        "        print(\"very fast\")\n",
        "\n",
        "eagle = Eagle()\n",
        "eagle.fly()"
      ],
      "execution_count": null,
      "outputs": []
    },
    {
      "cell_type": "markdown",
      "metadata": {
        "id": "mbDuPVu9ghsY"
      },
      "source": [
        "위 예처럼 fly 함수를 구현한 후 프로그램을 실행하면 오류 없이 다음 문장이 출력된다."
      ]
    },
    {
      "cell_type": "markdown",
      "metadata": {
        "id": "MM6Gv-S6gi4S"
      },
      "source": [
        "## 예외 만들기"
      ]
    },
    {
      "cell_type": "markdown",
      "metadata": {
        "id": "qle0rRZEglVe"
      },
      "source": [
        "프로그램 수행 도중 특수한 경우에만 예외 처리를 하기 위해서 종종 예외를 만들어서 사용한다. 직접 예외를 만들어 보자. 예외는 다음과 같이 파이썬 내장 클래스인 Exception 클래스를 상속하여 만들 수 있다."
      ]
    },
    {
      "cell_type": "code",
      "metadata": {
        "id": "hj4JmEk5gnVa"
      },
      "source": [
        "class MyError(Exception):\n",
        "    pass"
      ],
      "execution_count": null,
      "outputs": []
    },
    {
      "cell_type": "markdown",
      "metadata": {
        "id": "O8N-ODcSgpdL"
      },
      "source": [
        "그리고 별명을 출력해 주는 함수를 다음과 같이 작성한다."
      ]
    },
    {
      "cell_type": "code",
      "metadata": {
        "id": "h7Sod3OhgqTg"
      },
      "source": [
        "def say_nick(nick):\n",
        "    if nick == '바보':\n",
        "        raise MyError()\n",
        "    print(nick)"
      ],
      "execution_count": null,
      "outputs": []
    },
    {
      "cell_type": "markdown",
      "metadata": {
        "id": "55B1gMnzgsZ9"
      },
      "source": [
        "그리고 다음과 같이 say_nick 함수를 호출해 보자."
      ]
    },
    {
      "cell_type": "code",
      "metadata": {
        "id": "551ydZvAgtjq"
      },
      "source": [
        "say_nick(\"천사\")\n",
        "say_nick(\"바보\")"
      ],
      "execution_count": null,
      "outputs": []
    },
    {
      "cell_type": "markdown",
      "metadata": {
        "id": "8KjfXUa9gxLg"
      },
      "source": [
        "저장한 뒤 프로그램을 실행해 보면 다음과 같이 \"천사\"가 한 번 출력된 후 MyError가 발생한다."
      ]
    },
    {
      "cell_type": "markdown",
      "metadata": {
        "id": "1IJBYGOtgyWF"
      },
      "source": [
        "이번에는 예외 처리 기법을 사용하여 MyError 발생을 예외 처리해 보자."
      ]
    },
    {
      "cell_type": "code",
      "metadata": {
        "id": "8D_v46T_gz2e"
      },
      "source": [
        "try:\n",
        "    say_nick(\"천사\")\n",
        "    say_nick(\"바보\")\n",
        "except MyError:\n",
        "    print(\"허용되지 않는 별명입니다.\")"
      ],
      "execution_count": null,
      "outputs": []
    },
    {
      "cell_type": "markdown",
      "metadata": {
        "id": "vEVqo0ZDg2Zp"
      },
      "source": [
        "만약 오류 메시지를 사용하고 싶다면 다음처럼 예외 처리를 하면 된다."
      ]
    },
    {
      "cell_type": "code",
      "metadata": {
        "id": "6NOSto86g3mU"
      },
      "source": [
        "try:\n",
        "    say_nick(\"천사\")\n",
        "    say_nick(\"바보\")\n",
        "except MyError as e:\n",
        "    print(e)"
      ],
      "execution_count": null,
      "outputs": []
    },
    {
      "cell_type": "markdown",
      "metadata": {
        "id": "q9MtS7R7g8hB"
      },
      "source": [
        "하지만 프로그램을 실행해 보면 print(e)로 오류 메시지가 출력되지 않는 것을 확인할 수 있다. 오류 메시지를 출력했을 때 오류 메시지가 보이게 하려면 오류 클래스에 다음과 같은 __str__ 메서드를 구현해야 한다. __str__ 메서드는 print(e)처럼 오류 메시지를 print문으로 출력할 경우에 호출되는 메서드이다."
      ]
    },
    {
      "cell_type": "code",
      "metadata": {
        "id": "Su0ChfaYg9lx"
      },
      "source": [
        "class MyError(Exception):\n",
        "    def __str__(self):\n",
        "        return \"허용되지 않는 별명입니다.\""
      ],
      "execution_count": null,
      "outputs": []
    },
    {
      "cell_type": "markdown",
      "metadata": {
        "id": "hl4EfLkChAYr"
      },
      "source": [
        "프로그램을 다시 실행해 보면 \"허용되지 않는 별명입니다.\"라는 오류메시지가 출력되는 것을 확인할 수 있다."
      ]
    },
    {
      "cell_type": "markdown",
      "metadata": {
        "id": "HvRdNK6OhDSI"
      },
      "source": [
        "## 5.내장함수"
      ]
    },
    {
      "cell_type": "markdown",
      "metadata": {
        "id": "u1ZEdYWxhF5_"
      },
      "source": [
        "지금까지 파이썬으로 프로그래밍하기 위해 알아야 하는 것들을 대부분 공부했다. 이제 여러분은 원하는 프로그램을 직접 만들 수 있을 것이다. 하지만 그 전에 먼저 여러분이 만들려는 프로그램이 이미 만들어져 있는지 살펴보기 바란다. 물론 공부를 위해서라면 누군가 만들어 놓은 프로그램을 또 만들 수도 있다. 하지만 그런 목적이 아니라면 이미 만들어진 것을 다시 만드는 것은 불필요한 행동이다(Don’t Reinvent The Wheel, 이미 있는 것을 다시 만드느라 쓸데없이 시간을 낭비하지 말라). 그리고 이미 만들어진 프로그램은 테스트 과정을 수 없이 거쳤기 때문에 충분히 검증되어 있다. 따라서 무엇인가 새로운 프로그램을 만들기 전에는 이미 만들어진 것들, 그중에서도 특히 파이썬 배포본에 함께 들어 있는 파이썬 라이브러리를 살펴보는 것이 매우 중요하다.\n",
        "\n",
        "라이브러리를 살펴보기 전에 파이썬 내장 함수를 먼저 살펴보자. 우리는 이미 몇 가지 내장 함수를 배웠다. print, del, type 등이 바로 그것이다. 이러한 파이썬 내장 함수는 외부 모듈과 달리 import가 필요하지 않기 때문에 아무런 설정 없이 바로 사용할 수 있다.\n",
        "\n",
        "이 책에서는 활용 빈도가 높고 중요한 함수를 중심으로 알파벳 순서대로 간략히 정리했다. 파이썬으로 프로그래밍을 하기 위해 이들 함수를 지금 당장 모두 알아야 하는 것은 아니므로 가벼운 마음으로 천천히 살펴보자."
      ]
    },
    {
      "cell_type": "markdown",
      "metadata": {
        "id": "SEfFAd9EhITo"
      },
      "source": [
        "## abs"
      ]
    },
    {
      "cell_type": "markdown",
      "metadata": {
        "id": "nrqFVDCohLV2"
      },
      "source": [
        "abs(x)는 어떤 숫자를 입력받았을 때, 그 숫자의 절댓값을 돌려주는 함수이다."
      ]
    },
    {
      "cell_type": "code",
      "metadata": {
        "id": "uYfF6LrwhNNf"
      },
      "source": [
        "abs(3)"
      ],
      "execution_count": null,
      "outputs": []
    },
    {
      "cell_type": "code",
      "metadata": {
        "id": "v1XWcnEBhPnm"
      },
      "source": [
        "abs(-3)"
      ],
      "execution_count": null,
      "outputs": []
    },
    {
      "cell_type": "code",
      "metadata": {
        "id": "IoURNXA5hSBq"
      },
      "source": [
        "abs(-1.2)"
      ],
      "execution_count": null,
      "outputs": []
    },
    {
      "cell_type": "markdown",
      "metadata": {
        "id": "N4tfpNGlhWRJ"
      },
      "source": [
        "## all"
      ]
    },
    {
      "cell_type": "markdown",
      "metadata": {
        "id": "wi2pPS7HhXol"
      },
      "source": [
        "all(x)는 반복 가능한(iterable) 자료형 x를 입력 인수로 받으며 이 x의 요소가 모두 참이면 True, 거짓이 하나라도 있으면 False를 돌려준다.\n",
        "\n",
        "※ 반복 가능한 자료형이란 for문으로 그 값을 출력할 수 있는 것을 의미한다. 리스트, 튜플, 문자열, 딕셔너리, 집합 등이 있다.\n",
        "\n",
        "다음 예를 보자."
      ]
    },
    {
      "cell_type": "code",
      "metadata": {
        "id": "4NrZ4guIhZdC"
      },
      "source": [
        "all([1, 2, 3])"
      ],
      "execution_count": null,
      "outputs": []
    },
    {
      "cell_type": "markdown",
      "metadata": {
        "id": "Qh8GphLchc7T"
      },
      "source": [
        "리스트 자료형 [1, 2, 3]은 모든 요소가 참이므로 True를 돌려준다."
      ]
    },
    {
      "cell_type": "code",
      "metadata": {
        "id": "LujmOmIEhd9t"
      },
      "source": [
        "all([1, 2, 3, 0])"
      ],
      "execution_count": null,
      "outputs": []
    },
    {
      "cell_type": "markdown",
      "metadata": {
        "id": "V6t0iMB5hh2j"
      },
      "source": [
        "리스트 자료형 [1, 2, 3, 0] 중에서 요소 0은 거짓이므로 False를 돌려준다."
      ]
    },
    {
      "cell_type": "code",
      "metadata": {
        "id": "MpcWYF4khi2b"
      },
      "source": [
        "all([])"
      ],
      "execution_count": null,
      "outputs": []
    },
    {
      "cell_type": "markdown",
      "metadata": {
        "id": "eGkDWGL-hlif"
      },
      "source": [
        "만약 all의 입력 인수가 빈 값인 경우에는 True를 리턴한다.\n",
        "\n",
        "※ 자료형의 참과 거짓에 대해 잘 기억나지 않는다면 02-7을 다시 한 번 읽어 보자."
      ]
    },
    {
      "cell_type": "markdown",
      "metadata": {
        "id": "p4rcwuV3hnCF"
      },
      "source": [
        "## any"
      ]
    },
    {
      "cell_type": "markdown",
      "metadata": {
        "id": "jYgOse5Thoop"
      },
      "source": [
        "any(x)는 반복 가능한(iterable) 자료형 x를 입력 인수로 받으며 이 x의 요소 중 하나라도 참이 있으면 True를 돌려주고, x가 모두 거짓일 때에만 False를 돌려준다. all(x)의 반대이다.\n",
        "\n",
        "다음 예를 보자."
      ]
    },
    {
      "cell_type": "code",
      "metadata": {
        "id": "GGL9GXJchqDN"
      },
      "source": [
        "any([1, 2, 3, 0])"
      ],
      "execution_count": null,
      "outputs": []
    },
    {
      "cell_type": "markdown",
      "metadata": {
        "id": "Idny2aqUhtre"
      },
      "source": [
        "리스트 자료형 [1, 2, 3, 0] 중에서 1, 2, 3이 참이므로 True를 돌려준다"
      ]
    },
    {
      "cell_type": "code",
      "metadata": {
        "id": "qGO0dXmShur5"
      },
      "source": [
        "any([0, \"\"])"
      ],
      "execution_count": null,
      "outputs": []
    },
    {
      "cell_type": "markdown",
      "metadata": {
        "id": "nQ7Liz6rhy8U"
      },
      "source": [
        "리스트 자료형 [0, \"\"]의 요소 0과 \"\"은 모두 거짓이므로 False를 돌려준다."
      ]
    },
    {
      "cell_type": "code",
      "metadata": {
        "id": "rTA25FgDh0bd"
      },
      "source": [
        "any([])"
      ],
      "execution_count": null,
      "outputs": []
    },
    {
      "cell_type": "markdown",
      "metadata": {
        "id": "r-aRfnyEh2-q"
      },
      "source": [
        "만약 any의 입력 인수가 빈 값인 경우에는 False를 리턴한다."
      ]
    },
    {
      "cell_type": "markdown",
      "metadata": {
        "id": "c1vyX61qh48m"
      },
      "source": [
        "## chr"
      ]
    },
    {
      "cell_type": "markdown",
      "metadata": {
        "id": "7csubBh8h62D"
      },
      "source": [
        "chr(i)는 아스키(ASCII) 코드 값을 입력받아 그 코드에 해당하는 문자를 출력하는 함수이다.\n",
        "\n",
        "※ 아스키 코드란 0에서 127 사이의 숫자를 각각 하나의 문자 또는 기호에 대응시켜 놓은 것이다."
      ]
    },
    {
      "cell_type": "code",
      "metadata": {
        "id": "ad958Bm8h79U"
      },
      "source": [
        "chr(97)"
      ],
      "execution_count": null,
      "outputs": []
    },
    {
      "cell_type": "code",
      "metadata": {
        "id": "3rGknXqLh_du"
      },
      "source": [
        "chr(48)"
      ],
      "execution_count": null,
      "outputs": []
    },
    {
      "cell_type": "markdown",
      "metadata": {
        "id": "BtKDaQv5iCFv"
      },
      "source": [
        "## dir"
      ]
    },
    {
      "cell_type": "markdown",
      "metadata": {
        "id": "pXPimUPkiDZK"
      },
      "source": [
        "dir은 객체가 자체적으로 가지고 있는 변수나 함수를 보여 준다. 다음 예는 리스트와 딕셔너리 객체 관련 함수(메서드)를 보여 주는 예이다. 우리가 02장에서 살펴본 자료형 관련 함수를 만나 볼 수 있다."
      ]
    },
    {
      "cell_type": "code",
      "metadata": {
        "id": "7WA3tFnIiFET"
      },
      "source": [
        "dir([1, 2, 3])"
      ],
      "execution_count": null,
      "outputs": []
    },
    {
      "cell_type": "code",
      "metadata": {
        "id": "3Z6B_F6piJlU"
      },
      "source": [
        "dir({'1':'a'})"
      ],
      "execution_count": null,
      "outputs": []
    },
    {
      "cell_type": "markdown",
      "metadata": {
        "id": "yD9c6LZxiX3U"
      },
      "source": [
        "## divmod"
      ]
    },
    {
      "cell_type": "markdown",
      "metadata": {
        "id": "SiE_6kZyiZ9E"
      },
      "source": [
        "divmod(a, b)는 2개의 숫자를 입력으로 받는다. 그리고 a를 b로 나눈 몫과 나머지를 튜플 형태로 돌려주는 함수이다."
      ]
    },
    {
      "cell_type": "code",
      "metadata": {
        "id": "bS8B8irMia2F"
      },
      "source": [
        "divmod(7, 3)"
      ],
      "execution_count": null,
      "outputs": []
    },
    {
      "cell_type": "markdown",
      "metadata": {
        "id": "KffY4nRfieF2"
      },
      "source": [
        "몫을 구하는 연산자 //와 나머지를 구하는 연산자 %를 각각 사용한 결과와 비교해 보자."
      ]
    },
    {
      "cell_type": "code",
      "metadata": {
        "id": "I8HZgtr_igRh"
      },
      "source": [
        "7 // 3"
      ],
      "execution_count": null,
      "outputs": []
    },
    {
      "cell_type": "code",
      "metadata": {
        "id": "I3-mKQmdiiJC"
      },
      "source": [
        "7 % 3"
      ],
      "execution_count": null,
      "outputs": []
    },
    {
      "cell_type": "markdown",
      "metadata": {
        "id": "erPQfj1_ilwO"
      },
      "source": [
        "## enumerate"
      ]
    },
    {
      "cell_type": "markdown",
      "metadata": {
        "id": "mPP8PKVhioOP"
      },
      "source": [
        "enumerate는 \"열거하다\"라는 뜻이다. 이 함수는 순서가 있는 자료형(리스트, 튜플, 문자열)을 입력으로 받아 인덱스 값을 포함하는 enumerate 객체를 돌려준다.\n",
        "\n",
        "※ 보통 enumerate 함수는 다음 예제처럼 for문과 함께 자주 사용한다.\n",
        "\n",
        "잘 이해되지 않으면 다음 예를 보자."
      ]
    },
    {
      "cell_type": "code",
      "metadata": {
        "id": "Bny5R6zYip51"
      },
      "source": [
        "for i, name in enumerate(['body', 'foo', 'bar']):\n",
        "  print(i, name)"
      ],
      "execution_count": null,
      "outputs": []
    },
    {
      "cell_type": "markdown",
      "metadata": {
        "id": "H_mSxotMi2MY"
      },
      "source": [
        "순서 값과 함께 body, foo, bar가 순서대로 출력되었다. 즉 위 예제와 같이 enumerate를 for문과 함께 사용하면 자료형의 현재 순서(index)와 그 값을 쉽게 알 수 있다.\n",
        "\n",
        "for문처럼 반복되는 구간에서 객체가 현재 어느 위치에 있는지 알려 주는 인덱스 값이 필요할때 enumerate 함수를 사용하면 매우 유용하다."
      ]
    },
    {
      "cell_type": "markdown",
      "metadata": {
        "id": "2VCGAw6mi3OV"
      },
      "source": [
        "## eval"
      ]
    },
    {
      "cell_type": "markdown",
      "metadata": {
        "id": "pOeLquUvi5Jg"
      },
      "source": [
        "eval(expression )은 실행 가능한 문자열(1+2, 'hi' + 'a' 같은 것)을 입력으로 받아 문자열을 실행한 결괏값을 돌려주는 함수이다."
      ]
    },
    {
      "cell_type": "code",
      "metadata": {
        "id": "hvJJY9-ji6YX"
      },
      "source": [
        "eval('1+2')"
      ],
      "execution_count": null,
      "outputs": []
    },
    {
      "cell_type": "code",
      "metadata": {
        "id": "Kv6eRVg4i-3j"
      },
      "source": [
        "eval(\"'hi' + 'a'\")"
      ],
      "execution_count": null,
      "outputs": []
    },
    {
      "cell_type": "code",
      "metadata": {
        "id": "hTrtSD0KjE6p"
      },
      "source": [
        "eval('divmod(4, 3)')"
      ],
      "execution_count": null,
      "outputs": []
    },
    {
      "cell_type": "markdown",
      "metadata": {
        "id": "6z3XdajQjKGb"
      },
      "source": [
        "보통 eval은 입력받은 문자열로 파이썬 함수나 클래스를 동적으로 실행하고 싶을 때 사용한다."
      ]
    },
    {
      "cell_type": "markdown",
      "metadata": {
        "id": "ny5I3ThRjLV2"
      },
      "source": [
        "## filter"
      ]
    },
    {
      "cell_type": "markdown",
      "metadata": {
        "id": "mHAoxrcOjNhZ"
      },
      "source": [
        "filter란 무엇인가를 걸러낸다는 뜻으로 filter 함수도 동일한 의미를 가진다.\n",
        "\n",
        "filter 함수는 첫 번째 인수로 함수 이름을, 두 번째 인수로 그 함수에 차례로 들어갈 반복 가능한 자료형을 받는다. 그리고 두 번째 인수인 반복 가능한 자료형 요소가 첫 번째 인수인 함수에 입력되었을 때 반환 값이 참인 것만 묶어서(걸러 내서) 돌려준다.\n",
        "\n",
        "다음 예를 보자."
      ]
    },
    {
      "cell_type": "code",
      "metadata": {
        "id": "qWUsklL-jSmm"
      },
      "source": [
        "#positive.py \n",
        "def positive(l): \n",
        "    result = [] \n",
        "    for i in l: \n",
        "        if i > 0: \n",
        "            result.append(i) \n",
        "    return result\n",
        "\n",
        "print(positive([1,-3,2,0,-5,6]))"
      ],
      "execution_count": null,
      "outputs": []
    },
    {
      "cell_type": "markdown",
      "metadata": {
        "id": "qtLKDU55jUN7"
      },
      "source": [
        "즉 위에서 만든 positive 함수는 리스트를 입력값으로 받아 각각의 요소를 판별해서 양수 값만 돌려주는 함수이다.\n",
        "\n",
        "filter 함수를 사용하면 위 내용을 다음과 같이 간단하게 작성할 수 있다."
      ]
    },
    {
      "cell_type": "code",
      "metadata": {
        "id": "KeIpzXuijVUE"
      },
      "source": [
        "#filter1.py\n",
        "def positive(x):\n",
        "    return x > 0\n",
        "\n",
        "print(list(filter(positive, [1, -3, 2, 0, -5, 6])))"
      ],
      "execution_count": null,
      "outputs": []
    },
    {
      "cell_type": "markdown",
      "metadata": {
        "id": "q06qpK_kjX9a"
      },
      "source": [
        "여기에서는 두 번째 인수인 리스트의 요소들이 첫 번째 인수인 positive 함수에 입력되었을때 반환 값이 참인 것만 묶어서 돌려준다. 앞의 예에서는 1, 2, 6만 양수여서 x > 0 문장이 참이되므로 [1, 2, 6]이라는 결괏값을 돌려주게 된 것이다.\n",
        "\n",
        "앞의 함수는 lambda를 사용하면 더욱 간편하게 코드를 작성할 수 있다."
      ]
    },
    {
      "cell_type": "code",
      "metadata": {
        "id": "_J1uTbpOjZCi"
      },
      "source": [
        "list(filter(lambda x: x > 0, [1, -3, 2, 0, -5, 6]))"
      ],
      "execution_count": null,
      "outputs": []
    },
    {
      "cell_type": "markdown",
      "metadata": {
        "id": "d9Y0O646jkYr"
      },
      "source": [
        "## hex"
      ]
    },
    {
      "cell_type": "markdown",
      "metadata": {
        "id": "TMXsRH0rjloZ"
      },
      "source": [
        "hex(x)는 정수 값을 입력받아 16진수(hexadecimal)로 변환하여 돌려주는 함수이다."
      ]
    },
    {
      "cell_type": "code",
      "metadata": {
        "id": "Qohag5Oijm3y"
      },
      "source": [
        "hex(234)"
      ],
      "execution_count": null,
      "outputs": []
    },
    {
      "cell_type": "code",
      "metadata": {
        "id": "95KhYReojpsu"
      },
      "source": [
        "hex(3)"
      ],
      "execution_count": null,
      "outputs": []
    },
    {
      "cell_type": "markdown",
      "metadata": {
        "id": "KdHQqS4qjrvE"
      },
      "source": [
        "## id"
      ]
    },
    {
      "cell_type": "markdown",
      "metadata": {
        "id": "_KZODu0Yjtdx"
      },
      "source": [
        "id(object)는 객체를 입력받아 객체의 고유 주소 값(레퍼런스)을 돌려주는 함수이다."
      ]
    },
    {
      "cell_type": "code",
      "metadata": {
        "id": "zSpMPS7cjuz6"
      },
      "source": [
        "a = 3\n",
        "id(3)"
      ],
      "execution_count": null,
      "outputs": []
    },
    {
      "cell_type": "code",
      "metadata": {
        "id": "cUovigz_jxnL"
      },
      "source": [
        "id(a)"
      ],
      "execution_count": null,
      "outputs": []
    },
    {
      "cell_type": "code",
      "metadata": {
        "id": "ZDmqH06Lj1Qy",
        "outputId": "9e076ec6-ab31-43f5-e8e4-b533cf880a0d",
        "colab": {
          "base_uri": "https://localhost:8080/",
          "height": 35
        }
      },
      "source": [
        "b = a\n",
        "id(b)"
      ],
      "execution_count": null,
      "outputs": [
        {
          "output_type": "execute_result",
          "data": {
            "text/plain": [
              "10914560"
            ]
          },
          "metadata": {
            "tags": []
          },
          "execution_count": 189
        }
      ]
    },
    {
      "cell_type": "markdown",
      "metadata": {
        "id": "ZDGdmQTlj5GS"
      },
      "source": [
        "위 예의 3, a, b는 고유 주소 값이 모두 10914560이다. 즉 3, a, b가 모두 같은 객체를 가리키고 있다.\n",
        "\n",
        "만약 id(4)라고 입력하면 4는 3, a, b와 다른 객체이므로 당연히 다른 고유 주소 값이 출력된다."
      ]
    },
    {
      "cell_type": "code",
      "metadata": {
        "id": "kQbzihFokCoc"
      },
      "source": [
        "id(4)"
      ],
      "execution_count": null,
      "outputs": []
    },
    {
      "cell_type": "markdown",
      "metadata": {
        "id": "KxKAz6EukFBU"
      },
      "source": [
        "## input"
      ]
    },
    {
      "cell_type": "markdown",
      "metadata": {
        "id": "71Y2gfhQkGwp"
      },
      "source": [
        "input([prompt])은 사용자 입력을 받는 함수이다. 매개변수로 문자열을 주면 다음 세 번째 예에서 볼 수 있듯이 그 문자열은 프롬프트가 된다.\n",
        "\n",
        "※ [ ] 기호는 괄호 안의 내용을 생략할 수 있다는 관례 표기법임을 기억하자."
      ]
    },
    {
      "cell_type": "code",
      "metadata": {
        "id": "8l-0KaXCkHwH"
      },
      "source": [
        "a = input()\n",
        "hi\n",
        "a\n",
        "\n",
        "b = input(\"Enter: \")\n",
        "Enter: hi"
      ],
      "execution_count": null,
      "outputs": []
    },
    {
      "cell_type": "markdown",
      "metadata": {
        "id": "Eh7x7TW1knL2"
      },
      "source": [
        "위에서 입력받은 문자열을 확인해 보면 다음과 같다."
      ]
    },
    {
      "cell_type": "code",
      "metadata": {
        "id": "EEjqr671koHg"
      },
      "source": [
        "b"
      ],
      "execution_count": null,
      "outputs": []
    },
    {
      "cell_type": "markdown",
      "metadata": {
        "id": "gvh343HMnpvS"
      },
      "source": [
        "## int"
      ]
    },
    {
      "cell_type": "markdown",
      "metadata": {
        "id": "QMcAJii3nsQf"
      },
      "source": [
        "int(x)는 문자열 형태의 숫자나 소수점이 있는 숫자 등을 정수 형태로 돌려주는 함수로, 정수를 입력으로 받으면 그대로 돌려준다."
      ]
    },
    {
      "cell_type": "code",
      "metadata": {
        "id": "wbPQUsZtntZt"
      },
      "source": [
        "int('3')"
      ],
      "execution_count": null,
      "outputs": []
    },
    {
      "cell_type": "code",
      "metadata": {
        "id": "YR3T-7xknwHO"
      },
      "source": [
        "int(3.4)"
      ],
      "execution_count": null,
      "outputs": []
    },
    {
      "cell_type": "markdown",
      "metadata": {
        "id": "DV4tmqXAny0e"
      },
      "source": [
        "int(x, radix)는 radix 진수로 표현된 문자열 x를 10진수로 변환하여 돌려준다.\n",
        "\n",
        "2진수로 표현된 11의 10진수 값은 다음과 같이 구한다."
      ]
    },
    {
      "cell_type": "code",
      "metadata": {
        "id": "Om411C8mn0A8"
      },
      "source": [
        "int('11', 2)"
      ],
      "execution_count": null,
      "outputs": []
    },
    {
      "cell_type": "markdown",
      "metadata": {
        "id": "IErqSRyEn3LA"
      },
      "source": [
        "16진수로 표현된 1A의 10진수 값은 다음과 같이 구한다."
      ]
    },
    {
      "cell_type": "code",
      "metadata": {
        "id": "aeK8GIpdn44P"
      },
      "source": [
        "int('1A', 16)"
      ],
      "execution_count": null,
      "outputs": []
    },
    {
      "cell_type": "markdown",
      "metadata": {
        "id": "GJ_kuS5bn95v"
      },
      "source": [
        "## isinstance"
      ]
    },
    {
      "cell_type": "markdown",
      "metadata": {
        "id": "D5AKGaKSoAaq"
      },
      "source": [
        "isinstance(object, class )는 첫 번째 인수로 인스턴스, 두 번째 인수로 클래스 이름을 받는다. 입력으로 받은 인스턴스가 그 클래스의 인스턴스인지를 판단하여 참이면 True, 거짓이면 False를 돌려준다."
      ]
    },
    {
      "cell_type": "code",
      "metadata": {
        "id": "dH3gV-u8oBdW"
      },
      "source": [
        "class Person: pass\n",
        "\n",
        "a = Person()\n",
        "isinstance(a, Person)"
      ],
      "execution_count": null,
      "outputs": []
    },
    {
      "cell_type": "markdown",
      "metadata": {
        "id": "wTDZt01MoMBp"
      },
      "source": [
        "위 예는 a가 Person 클래스가 만든 인스턴스임을 확인시켜 준다."
      ]
    },
    {
      "cell_type": "code",
      "metadata": {
        "id": "z0Ui2hmgoNuJ"
      },
      "source": [
        "b = 3\n",
        "isinstance(b, Person)"
      ],
      "execution_count": null,
      "outputs": []
    },
    {
      "cell_type": "markdown",
      "metadata": {
        "id": "zLiGFOJ2oRfm"
      },
      "source": [
        "b는 Person 클래스가 만든 인스턴스가 아니므로 False를 돌려준다."
      ]
    },
    {
      "cell_type": "markdown",
      "metadata": {
        "id": "aMvQuOzMoSjH"
      },
      "source": [
        "## len"
      ]
    },
    {
      "cell_type": "markdown",
      "metadata": {
        "id": "vq6AGjxYoUbq"
      },
      "source": [
        "len(s)은 입력값 s의 길이(요소의 전체 개수)를 돌려주는 함수이다."
      ]
    },
    {
      "cell_type": "code",
      "metadata": {
        "id": "Gu0AE2AXoVja"
      },
      "source": [
        "len(\"Python\")"
      ],
      "execution_count": null,
      "outputs": []
    },
    {
      "cell_type": "code",
      "metadata": {
        "id": "_iGinBmYoZ-d"
      },
      "source": [
        "len([1,2,3])"
      ],
      "execution_count": null,
      "outputs": []
    },
    {
      "cell_type": "code",
      "metadata": {
        "id": "OVvYKL2Zoc4q"
      },
      "source": [
        "len((1, 'a'))"
      ],
      "execution_count": null,
      "outputs": []
    },
    {
      "cell_type": "markdown",
      "metadata": {
        "id": "DB2A4Z3hofrH"
      },
      "source": [
        "## list"
      ]
    },
    {
      "cell_type": "markdown",
      "metadata": {
        "id": "ISCPgZsNoh-U"
      },
      "source": [
        "list(s)는 반복 가능한 자료형 s를 입력받아 리스트로 만들어 돌려주는 함수이다."
      ]
    },
    {
      "cell_type": "code",
      "metadata": {
        "id": "I5ypTV3_ojLR"
      },
      "source": [
        "list(\"python\")\n",
        "['p', 'y', 'h', 'o', 'n']\n",
        "list((1,2,3))"
      ],
      "execution_count": null,
      "outputs": []
    },
    {
      "cell_type": "markdown",
      "metadata": {
        "id": "2StoYEN6ouxy"
      },
      "source": [
        "list 함수에 리스트를 입력으로 주면 똑같은 리스트를 복사하여 돌려준다."
      ]
    },
    {
      "cell_type": "code",
      "metadata": {
        "id": "fdqBcCFnov2E"
      },
      "source": [
        "a = [1, 2, 3]\n",
        "b = list(a)\n",
        "b"
      ],
      "execution_count": null,
      "outputs": []
    },
    {
      "cell_type": "markdown",
      "metadata": {
        "id": "XJDCWlFho1B7"
      },
      "source": [
        "## map"
      ]
    },
    {
      "cell_type": "markdown",
      "metadata": {
        "id": "gYFMlnYmo2Rc"
      },
      "source": [
        "map(f, iterable)은 함수(f)와 반복 가능한(iterable) 자료형을 입력으로 받는다. map은 입력받은 자료형의 각 요소를 함수 f가 수행한 결과를 묶어서 돌려주는 함수이다."
      ]
    },
    {
      "cell_type": "markdown",
      "metadata": {
        "id": "Pade9VTqo3Xu"
      },
      "source": [
        "다음 예를 보자."
      ]
    },
    {
      "cell_type": "code",
      "metadata": {
        "id": "MWzn_WJ-o40N"
      },
      "source": [
        "# two_times.py\n",
        "def two_times(numberList):\n",
        "    result = [ ]\n",
        "    for number in numberList:\n",
        "        result.append(number*2)\n",
        "    return result\n",
        "\n",
        "result = two_times([1, 2, 3, 4])\n",
        "print(result)"
      ],
      "execution_count": null,
      "outputs": []
    },
    {
      "cell_type": "markdown",
      "metadata": {
        "id": "DXLxhz7Yo7Uy"
      },
      "source": [
        "two_times 함수는 리스트 요소를 입력받아 각 요소에 2를 곱한 결괏값을 돌려준다. 실행 결과는 다음과 같다."
      ]
    },
    {
      "cell_type": "markdown",
      "metadata": {
        "id": "NGyrA-0fo_z2"
      },
      "source": [
        "결과값: [2, 4, 6, 8]"
      ]
    },
    {
      "cell_type": "markdown",
      "metadata": {
        "id": "JPe5LyGYpBIA"
      },
      "source": [
        "위 예제는 map 함수를 사용하면 다음처럼 바꿀 수 있다."
      ]
    },
    {
      "cell_type": "code",
      "metadata": {
        "id": "3iOY4qnEpCH0"
      },
      "source": [
        "def two_times(x):\n",
        "  return x*2\n",
        "\n",
        "list(map(two_times, [1, 2, 3, 4]))  "
      ],
      "execution_count": null,
      "outputs": []
    },
    {
      "cell_type": "markdown",
      "metadata": {
        "id": "Y8I00PNJpNsV"
      },
      "source": [
        "이제 앞 예제를 해석해 보자. 먼저 리스트의 첫 번째 요소인 1이 two_times 함수의 입력값으로 들어가고 1 * 2의 과정을 거쳐서 2가 된다. 다음으로 리스트의 두 번째 요소인 2가 2 * 2 의 과정을 거쳐 4가 된다. 따라서 결괏값 리스트는 이제 [2, 4]가 된다. 총 4개의 요솟값이 모두 수행되면 마지막으로 [2, 4, 6, 8]을 돌려준다. 이것이 map 함수가 하는 일이다.\n",
        "\n",
        "※ 위 예에서 map의 결과를 리스트로 보여 주기위해 list 함수를 사용하여 출력하였다.\n",
        "\n",
        "앞의 예는 lambda를 사용하면 다음처럼 간략하게 만들 수 있다."
      ]
    },
    {
      "cell_type": "code",
      "metadata": {
        "id": "J63PglRxpPZ7"
      },
      "source": [
        "list(map(lambda a: a*2, [1, 2, 3, 4]))"
      ],
      "execution_count": null,
      "outputs": []
    },
    {
      "cell_type": "markdown",
      "metadata": {
        "id": "wICwHYHlpVmN"
      },
      "source": [
        "## max"
      ]
    },
    {
      "cell_type": "markdown",
      "metadata": {
        "id": "vFRwdrDRpW16"
      },
      "source": [
        "max(iterable)는 인수로 반복 가능한 자료형을 입력받아 그 최댓값을 돌려주는 함수이다."
      ]
    },
    {
      "cell_type": "code",
      "metadata": {
        "id": "P_6A-8KcpZGz"
      },
      "source": [
        "max([1, 2, 3])"
      ],
      "execution_count": null,
      "outputs": []
    },
    {
      "cell_type": "code",
      "metadata": {
        "id": "s_4CVDE8pcw_"
      },
      "source": [
        "max(\"python\")"
      ],
      "execution_count": null,
      "outputs": []
    },
    {
      "cell_type": "markdown",
      "metadata": {
        "id": "AK6qv5D9phTH"
      },
      "source": [
        "## min"
      ]
    },
    {
      "cell_type": "markdown",
      "metadata": {
        "id": "h79VCXfnpi6W"
      },
      "source": [
        "min(iterable)은 max 함수와 반대로, 인수로 반복 가능한 자료형을 입력받아 그 최솟값을 돌려주는 함수이다."
      ]
    },
    {
      "cell_type": "code",
      "metadata": {
        "id": "9paexJITpkWR"
      },
      "source": [
        "min([1, 2, 3])"
      ],
      "execution_count": null,
      "outputs": []
    },
    {
      "cell_type": "code",
      "metadata": {
        "id": "nMmPMCCKpoK5"
      },
      "source": [
        "min(\"python\")"
      ],
      "execution_count": null,
      "outputs": []
    },
    {
      "cell_type": "markdown",
      "metadata": {
        "id": "FBSdBF04prQ5"
      },
      "source": [
        "## oct"
      ]
    },
    {
      "cell_type": "markdown",
      "metadata": {
        "id": "cL6L-DG5pswh"
      },
      "source": [
        "oct(x)는 정수 형태의 숫자를 8진수 문자열로 바꾸어 돌려주는 함수이다."
      ]
    },
    {
      "cell_type": "code",
      "metadata": {
        "id": "T3JfxSNkpxRn"
      },
      "source": [
        "oct(34)"
      ],
      "execution_count": null,
      "outputs": []
    },
    {
      "cell_type": "code",
      "metadata": {
        "id": "hFfuhVWEpz5l"
      },
      "source": [
        "oct(12345)"
      ],
      "execution_count": null,
      "outputs": []
    },
    {
      "cell_type": "markdown",
      "metadata": {
        "id": "uN7yQ48Hp2Kg"
      },
      "source": [
        "## open"
      ]
    },
    {
      "cell_type": "markdown",
      "metadata": {
        "id": "_7qBqDiBp4d1"
      },
      "source": [
        "open(filename, [mode])은 \"파일 이름\"과 \"읽기 방법\"을 입력받아 파일 객체를 돌려주는 함수이다. 읽기 방법(mode)을 생략하면 기본값인 읽기 전용 모드(r)로 파일 객체를 만들어 돌려준다."
      ]
    },
    {
      "cell_type": "markdown",
      "metadata": {
        "id": "-cqmrCLPp6Jd"
      },
      "source": [
        "mode\n",
        "\n",
        "w = 쓰기 모드로 파일 열기\n",
        "\n",
        "r = 읽기 모드로 파일 열기\n",
        "\n",
        "a = 추가 모드로 파일 열기\n",
        "\n",
        "b = 바이너리 모드로 파일 열기"
      ]
    },
    {
      "cell_type": "markdown",
      "metadata": {
        "id": "0wmLQZI6qCgj"
      },
      "source": [
        "b는 w, r, a와 함께 사용한다"
      ]
    },
    {
      "cell_type": "code",
      "metadata": {
        "id": "XabBwtM_qFts"
      },
      "source": [
        "f = open(\"binary_file\",\"rb\")"
      ],
      "execution_count": null,
      "outputs": []
    },
    {
      "cell_type": "markdown",
      "metadata": {
        "id": "_2SXVIxbqPDc"
      },
      "source": [
        "위 예의 rb는 \"바이너리 읽기 모드\"를 의미한다.\n",
        "\n",
        "다음 예의 fread와 fread2는 동일한 방법이다."
      ]
    },
    {
      "cell_type": "code",
      "metadata": {
        "id": "CPzO8n--qP6y"
      },
      "source": [
        "fread = open(\"read_mode.txt\",'r')\n",
        "fread2 = open(\"read_mode.txt\")"
      ],
      "execution_count": null,
      "outputs": []
    },
    {
      "cell_type": "markdown",
      "metadata": {
        "id": "XCGJ6o43qaSt"
      },
      "source": [
        "즉 모드 부분을 생략하면 기본값으로 읽기 모드 r를 갖게 된다.\n",
        "\n",
        "다음은 추가 모드(a)로 파일을 여는 예이다."
      ]
    },
    {
      "cell_type": "code",
      "metadata": {
        "id": "Q-09xjpEqbd0"
      },
      "source": [
        "fappend = open(\"append_mode.txt, 'a\")"
      ],
      "execution_count": null,
      "outputs": []
    },
    {
      "cell_type": "markdown",
      "metadata": {
        "id": "2vp3l07Nqe-_"
      },
      "source": [
        "## ord"
      ]
    },
    {
      "cell_type": "markdown",
      "metadata": {
        "id": "bdv9BK_QqgNY"
      },
      "source": [
        "ord(c)는 문자의 아스키 코드 값을 돌려주는 함수이다.\n",
        "\n",
        "※ ord 함수는 chr 함수와 반대이다."
      ]
    },
    {
      "cell_type": "code",
      "metadata": {
        "id": "677Bg6-4qi9m"
      },
      "source": [
        "ord('a')"
      ],
      "execution_count": null,
      "outputs": []
    },
    {
      "cell_type": "code",
      "metadata": {
        "id": "G1j6zUZlqlP7"
      },
      "source": [
        "ord('0')"
      ],
      "execution_count": null,
      "outputs": []
    },
    {
      "cell_type": "markdown",
      "metadata": {
        "id": "vpL3rayHqnut"
      },
      "source": [
        "## pow"
      ]
    },
    {
      "cell_type": "markdown",
      "metadata": {
        "id": "8coj6WMDqo0T"
      },
      "source": [
        "pow(x, y)는 x의 y 제곱한 결괏값을 돌려주는 함수이다."
      ]
    },
    {
      "cell_type": "code",
      "metadata": {
        "id": "T-xdVFhnqpzt"
      },
      "source": [
        "pow(2, 4)"
      ],
      "execution_count": null,
      "outputs": []
    },
    {
      "cell_type": "code",
      "metadata": {
        "id": "7JheRcjtqsdZ"
      },
      "source": [
        "pow(3, 3)"
      ],
      "execution_count": null,
      "outputs": []
    },
    {
      "cell_type": "markdown",
      "metadata": {
        "id": "yFrwPVRBqvsY"
      },
      "source": [
        "## range"
      ]
    },
    {
      "cell_type": "markdown",
      "metadata": {
        "id": "hdMGHoVAqxJC"
      },
      "source": [
        "range([start,] stop [,step] )는 for문과 함께 자주 사용하는 함수이다. 이 함수는 입력받은 숫자에 해당하는 범위 값을 반복 가능한 객체로 만들어 돌려준다.\n",
        "\n",
        "인수가 하나일 경우\n",
        "\n",
        "시작 숫자를 지정해 주지 않으면 range 함수는 0부터 시작한다."
      ]
    },
    {
      "cell_type": "code",
      "metadata": {
        "id": "x01lLxjvqydS"
      },
      "source": [
        "list(range(5, 10))"
      ],
      "execution_count": null,
      "outputs": []
    },
    {
      "cell_type": "markdown",
      "metadata": {
        "id": "BXGztYbQq2Zn"
      },
      "source": [
        "인수가 3개일 경우\n",
        "\n",
        "세 번째 인수는 숫자 사이의 거리를 말한다."
      ]
    },
    {
      "cell_type": "code",
      "metadata": {
        "id": "u7M-IQqpq3TR"
      },
      "source": [
        "list(range(1, 10, 2))"
      ],
      "execution_count": null,
      "outputs": []
    },
    {
      "cell_type": "code",
      "metadata": {
        "id": "ftH7Dkv1q9TY"
      },
      "source": [
        "list(range(0, -10, -1))"
      ],
      "execution_count": null,
      "outputs": []
    },
    {
      "cell_type": "markdown",
      "metadata": {
        "id": "zTO4KYkZrBCk"
      },
      "source": [
        "## round"
      ]
    },
    {
      "cell_type": "markdown",
      "metadata": {
        "id": "9rYr0IMtrCUB"
      },
      "source": [
        "round(number[, ndigits]) 함수는 숫자를 입력받아 반올림해 주는 함수이다.\n",
        "\n",
        "※ [, ndigits]는 ndigits가 있을 수도 있고 없을 수도 있다는 의미이다."
      ]
    },
    {
      "cell_type": "code",
      "metadata": {
        "id": "xktayb_XrDou"
      },
      "source": [
        "round(4.6)"
      ],
      "execution_count": null,
      "outputs": []
    },
    {
      "cell_type": "code",
      "metadata": {
        "id": "Jqo-n2OYrHTW"
      },
      "source": [
        "round(4.2)"
      ],
      "execution_count": null,
      "outputs": []
    },
    {
      "cell_type": "markdown",
      "metadata": {
        "id": "_e5FoIY5rJyL"
      },
      "source": [
        "다음과 같이 실수 5.678을 소수점 2자리까지만 반올림하여 표시할 수 있다."
      ]
    },
    {
      "cell_type": "code",
      "metadata": {
        "id": "JcYSuEnxrM_d"
      },
      "source": [
        "round(5.678, 2)"
      ],
      "execution_count": null,
      "outputs": []
    },
    {
      "cell_type": "markdown",
      "metadata": {
        "id": "rQqXLTaLrQH8"
      },
      "source": [
        "round 함수의 두 번째 매개변수는 반올림하여 표시하고 싶은 소수점의 자릿수(ndigits)이다."
      ]
    },
    {
      "cell_type": "markdown",
      "metadata": {
        "id": "1e7fZd6DrRoI"
      },
      "source": [
        "## sorted"
      ]
    },
    {
      "cell_type": "markdown",
      "metadata": {
        "id": "_BSn2A0crTET"
      },
      "source": [
        "sorted(iterable) 함수는 입력값을 정렬한 후 그 결과를 리스트로 돌려주는 함수이다."
      ]
    },
    {
      "cell_type": "code",
      "metadata": {
        "id": "13GTTqc3rUWc"
      },
      "source": [
        "sorted([3, 1, 2])"
      ],
      "execution_count": null,
      "outputs": []
    },
    {
      "cell_type": "code",
      "metadata": {
        "id": "VoG8etkurarp"
      },
      "source": [
        "sorted(['a', 'c', 'b'])"
      ],
      "execution_count": null,
      "outputs": []
    },
    {
      "cell_type": "code",
      "metadata": {
        "id": "URBtwojirfIB"
      },
      "source": [
        "sorted(\"zero\")"
      ],
      "execution_count": null,
      "outputs": []
    },
    {
      "cell_type": "code",
      "metadata": {
        "id": "43xMAEt3rk6p"
      },
      "source": [
        "sorted((3, 2, 1))"
      ],
      "execution_count": null,
      "outputs": []
    },
    {
      "cell_type": "markdown",
      "metadata": {
        "id": "t4FNptwsro4i"
      },
      "source": [
        "리스트 자료형에도 sort 함수가 있다. 하지만 리스트 자료형의 sort 함수는 리스트 객체 그 자체를 정렬만 할 뿐 정렬된 결과를 돌려주지는 않는다."
      ]
    },
    {
      "cell_type": "markdown",
      "metadata": {
        "id": "PVGRv8UIrpvW"
      },
      "source": [
        "## str"
      ]
    },
    {
      "cell_type": "markdown",
      "metadata": {
        "id": "pzNLRiALrscf"
      },
      "source": [
        "str(object)은 문자열 형태로 객체를 변환하여 돌려주는 함수이다."
      ]
    },
    {
      "cell_type": "code",
      "metadata": {
        "id": "rt6bpEMIrtWr"
      },
      "source": [
        "str(3)"
      ],
      "execution_count": null,
      "outputs": []
    },
    {
      "cell_type": "code",
      "metadata": {
        "id": "2O_IYhLnrvqW"
      },
      "source": [
        "str('hi')"
      ],
      "execution_count": null,
      "outputs": []
    },
    {
      "cell_type": "code",
      "metadata": {
        "id": "2jVJCpqYryZ6"
      },
      "source": [
        "str('hi'.upper())"
      ],
      "execution_count": null,
      "outputs": []
    },
    {
      "cell_type": "markdown",
      "metadata": {
        "id": "R23cFzOGr2w5"
      },
      "source": [
        "## sum"
      ]
    },
    {
      "cell_type": "markdown",
      "metadata": {
        "id": "3HYajvYnr4GP"
      },
      "source": [
        "sum(iterable) 은 입력받은 리스트나 튜플의 모든 요소의 합을 돌려주는 함수이다."
      ]
    },
    {
      "cell_type": "code",
      "metadata": {
        "id": "sVXPXFsGr5KO"
      },
      "source": [
        "sum([1,2,3])"
      ],
      "execution_count": null,
      "outputs": []
    },
    {
      "cell_type": "code",
      "metadata": {
        "id": "pa5uA5qvr80B"
      },
      "source": [
        "sum((4,5,6))"
      ],
      "execution_count": null,
      "outputs": []
    },
    {
      "cell_type": "markdown",
      "metadata": {
        "id": "KabaUMVIr_wz"
      },
      "source": [
        "## tuple"
      ]
    },
    {
      "cell_type": "markdown",
      "metadata": {
        "id": "lL1WRSrasCB2"
      },
      "source": [
        "tuple(iterable)은 반복 가능한 자료형을 입력받아 튜플 형태로 바꾸어 돌려주는 함수이다. 만약 튜플이 입력으로 들어오면 그대로 돌려준다."
      ]
    },
    {
      "cell_type": "code",
      "metadata": {
        "id": "jgVuSmuXsDCU"
      },
      "source": [
        "tuple(\"abc\")"
      ],
      "execution_count": null,
      "outputs": []
    },
    {
      "cell_type": "code",
      "metadata": {
        "id": "si0a5JHgsGpJ"
      },
      "source": [
        "tuple([1, 2, 3])"
      ],
      "execution_count": null,
      "outputs": []
    },
    {
      "cell_type": "code",
      "metadata": {
        "id": "IRtvIPzxsLfC"
      },
      "source": [
        "tuple((1, 2, 3))"
      ],
      "execution_count": null,
      "outputs": []
    },
    {
      "cell_type": "markdown",
      "metadata": {
        "id": "0WEoHgjWsQAm"
      },
      "source": [
        "## type"
      ]
    },
    {
      "cell_type": "markdown",
      "metadata": {
        "id": "moEBYPfosRgv"
      },
      "source": [
        "type(object)은 입력값의 자료형이 무엇인지 알려 주는 함수이다."
      ]
    },
    {
      "cell_type": "code",
      "metadata": {
        "id": "JVLOlRoasUf0"
      },
      "source": [
        "type(\"abc\")"
      ],
      "execution_count": null,
      "outputs": []
    },
    {
      "cell_type": "code",
      "metadata": {
        "id": "wTzNqEVhsc0W"
      },
      "source": [
        "type([ ])"
      ],
      "execution_count": null,
      "outputs": []
    },
    {
      "cell_type": "code",
      "metadata": {
        "id": "sD5h2Dc4sf2l"
      },
      "source": [
        "type(open(\"test\", 'w'))"
      ],
      "execution_count": null,
      "outputs": []
    },
    {
      "cell_type": "markdown",
      "metadata": {
        "id": "QcqDQn3Usj_e"
      },
      "source": [
        "## zip"
      ]
    },
    {
      "cell_type": "markdown",
      "metadata": {
        "id": "IngzSir4slwD"
      },
      "source": [
        "zip(*iterable)은 동일한 개수로 이루어진 자료형을 묶어 주는 역할을 하는 함수이다.\n",
        "\n",
        "※ 여기서 사용한 *iterable은 반복 가능(iterable)한 자료형 여러 개를 입력할 수 있다는 의미이다.\n",
        "\n",
        "잘 이해되지 않는다면 다음 예제를 살펴보자."
      ]
    },
    {
      "cell_type": "code",
      "metadata": {
        "id": "9QTncHpIsnOi"
      },
      "source": [
        "list(zip([1, 2, 3], [4, 5, 6]))"
      ],
      "execution_count": null,
      "outputs": []
    },
    {
      "cell_type": "code",
      "metadata": {
        "id": "JLQ6MV31swuq"
      },
      "source": [
        "list(zip([1, 2, 3], [4, 5, 6], [7, 8, 9]))"
      ],
      "execution_count": null,
      "outputs": []
    },
    {
      "cell_type": "code",
      "metadata": {
        "id": "stYnMya3s5c1"
      },
      "source": [
        "list(zip(\"abc\", \"def\"))"
      ],
      "execution_count": null,
      "outputs": []
    },
    {
      "cell_type": "markdown",
      "metadata": {
        "id": "SlqOFXeOs-zE"
      },
      "source": [
        "## 6.라이브러리"
      ]
    },
    {
      "cell_type": "markdown",
      "metadata": {
        "id": "lL-U_RpJtBMX"
      },
      "source": [
        "이제 파이썬 프로그래밍 능력을 높여 줄 더 큰 날개를 달아 보자. 전 세계의 파이썬 사용자들이 만든 유용한 프로그램을 모아 놓은 것이 바로 파이썬 라이브러리이다. \"라이브러리\"는 \"도서관\"이라는 뜻 그대로 원하는 정보를 찾아보는 곳이다. 모든 라이브러리를 다 알 필요는 없고 어떤 일을 할 때 어떤 라이브러리를 사용해야 한다는 정도만 알면 된다. 그러기 위해 어떤 라이브러리가 존재하고 어떻게 사용하는지 알아야 한다. 자주 사용되고 꼭 알아 두면 좋은 라이브러리를 중심으로 하나씩 살펴보자.\n",
        "\n",
        "※ 파이썬 라이브러리는 파이썬을 설치할 때 자동으로 컴퓨터에 설치한다."
      ]
    },
    {
      "cell_type": "markdown",
      "metadata": {
        "id": "UB50E2WptCZQ"
      },
      "source": [
        "## sys"
      ]
    },
    {
      "cell_type": "markdown",
      "metadata": {
        "id": "Q5mBx9M_tBCB"
      },
      "source": [
        "sys 모듈은 파이썬 인터프리터가 제공하는 변수와 함수를 직접 제어할 수 있게 해주는 모듈이다.\n",
        "\n",
        "명령 행에서 인수 전달하기 - sys.argv"
      ]
    },
    {
      "cell_type": "code",
      "metadata": {
        "id": "K9ZBrFUatGte"
      },
      "source": [
        "C:/User/home>python test.py abc pey guido"
      ],
      "execution_count": null,
      "outputs": []
    },
    {
      "cell_type": "markdown",
      "metadata": {
        "id": "9qIT9FTKtHoF"
      },
      "source": [
        "명령 프롬프트 창에서 위 예처럼 test.py 뒤에 또 다른 값을 함께 넣어 주면 sys.argv 리스트에 그 값이 추가된다.\n",
        "\n",
        "예제를 따라 하며 확인해 보자. 우선 다음과 같은 파이썬 프로그램을 작성하자. argv_test.py 파일은 C:/doit/Mymod 디렉터리에 저장했다고 가정한다(만약 C:/doit/Mymod 디렉터리가 없다면 먼저 생성하고 진행하자)."
      ]
    },
    {
      "cell_type": "code",
      "metadata": {
        "id": "nwn9RhaVtIwW"
      },
      "source": [
        "# argv_test.py\n",
        "import sys\n",
        "print(sys.argv)"
      ],
      "execution_count": null,
      "outputs": []
    },
    {
      "cell_type": "markdown",
      "metadata": {
        "id": "vWdsZmlHtJqO"
      },
      "source": [
        "명령 프롬프트 창에서 Mymod 디렉터리로 들어간 뒤 다음과 같이 실행해 보자."
      ]
    },
    {
      "cell_type": "code",
      "metadata": {
        "id": "rCPSFZ7etKxy"
      },
      "source": [
        "C:/doit/Mymod>python argv_test.py you need python\n",
        "['argv_test.py', 'you', 'need', 'python']"
      ],
      "execution_count": null,
      "outputs": []
    },
    {
      "cell_type": "markdown",
      "metadata": {
        "id": "LqRSaCgItMUe"
      },
      "source": [
        "python 명령어 뒤의 모든 것들이 공백을 기준으로 나뉘어서 sys.argv 리스트의 요소가 된다.\n",
        "\n",
        "※ 명령 프롬프트 창에서는 /, \\든 상관없지만, 소스코드 안에서는 반드시 / 또는 \\\\ 기호를 사용해야 한다.\n",
        "\n",
        "강제로 스크립트 종료하기 - sys.exit"
      ]
    },
    {
      "cell_type": "code",
      "metadata": {
        "id": "IUz_RFV8tNVP"
      },
      "source": [
        "sys.exit()"
      ],
      "execution_count": null,
      "outputs": []
    },
    {
      "cell_type": "markdown",
      "metadata": {
        "id": "k6Z8gAnytOMQ"
      },
      "source": [
        "sys.exit는 Ctrl+Z나 Ctrl+D를 눌러서 대화형 인터프리터를 종료하는 것과 같은 기능을 한다. 프로그램 파일 안에서 사용하면 프로그램을 중단시킨다.\n",
        "\n",
        "자신이 만든 모듈 불러와 사용하기 - sys.path\n",
        "\n",
        "sys.path는 파이썬 모듈들이 저장되어 있는 위치를 나타낸다. 즉 이 위치에 있는 파이썬 모듈은 경로에 상관없이 어디에서나 불러올 수 있다.\n",
        "\n",
        "다음은 그 실행 결과이다."
      ]
    },
    {
      "cell_type": "code",
      "metadata": {
        "id": "BQxaDd8utSRv"
      },
      "source": [
        "import sys\n",
        "sys.path\n",
        "['', 'C:\\\\Windows\\\\SYSTEM32\\\\python37.zip', 'c:\\\\Python37\\\\DLLs', \n",
        "'c:\\\\Python37\\\\lib', 'c:\\\\Python37', 'c:\\\\Python37\\\\lib\\\\site-packages']"
      ],
      "execution_count": null,
      "outputs": []
    },
    {
      "cell_type": "markdown",
      "metadata": {
        "id": "XMbRRV4JtW6i"
      },
      "source": [
        "위 예에서 ''는 현재 디렉터리를 말한다."
      ]
    },
    {
      "cell_type": "code",
      "metadata": {
        "id": "VGbwsEb5tYsJ"
      },
      "source": [
        "# path_append.py\n",
        "import sys\n",
        "sys.path.append(\"C:/doit/mymod\")"
      ],
      "execution_count": null,
      "outputs": []
    },
    {
      "cell_type": "markdown",
      "metadata": {
        "id": "gOnYOf8HtZuA"
      },
      "source": [
        "위와 같이 파이썬 프로그램 파일에서 sys.path.append를 사용해 경로 이름을 추가할 수 있다. 이렇게 하고 난 후에는 C:/doit/Mymod 디렉터리에 있는 파이썬 모듈을 불러와서 사용할 수 있다."
      ]
    },
    {
      "cell_type": "markdown",
      "metadata": {
        "id": "O5-ruU8mtaq4"
      },
      "source": [
        "## pickle"
      ]
    },
    {
      "cell_type": "markdown",
      "metadata": {
        "id": "kXZKuVpbtcc4"
      },
      "source": [
        "pickle은 객체의 형태를 그대로 유지하면서 파일에 저장하고 불러올 수 있게 하는 모듈이다. 다음 예는 pickle 모듈의 dump 함수를 사용하여 딕셔너리 객체인 data를 그대로 파일에 저장하는 방법을 보여 준다."
      ]
    },
    {
      "cell_type": "code",
      "metadata": {
        "id": "QXvhfg73tdzk"
      },
      "source": [
        "import pickle\n",
        "f = open(\"test.txt\", 'wb')\n",
        "data = {1: 'python', 2: 'you need'}\n",
        "pickle.dump(data, f)\n",
        "f.close()"
      ],
      "execution_count": null,
      "outputs": []
    },
    {
      "cell_type": "markdown",
      "metadata": {
        "id": "2nEoesRstj2y"
      },
      "source": [
        "다음은 pickle.dump로 저장한 파일을 pickle.load를 사용해서 원래 있던 딕셔너리 객체(data) 상태 그대로 불러오는 예이다."
      ]
    },
    {
      "cell_type": "code",
      "metadata": {
        "id": "A-gGs217tkyq"
      },
      "source": [
        "import pickle\n",
        "f = open(\"test.txt\", 'rb')\n",
        "data = pickle.load(f)\n",
        "print(data)\n",
        "{2:'you need', 1:'python'}"
      ],
      "execution_count": null,
      "outputs": []
    },
    {
      "cell_type": "markdown",
      "metadata": {
        "id": "xXIatmyjtsF7"
      },
      "source": [
        "위 예에서는 딕셔너리 객체를 사용했지만 어떤 자료형이든저장하고 불러올 수 있다."
      ]
    },
    {
      "cell_type": "markdown",
      "metadata": {
        "id": "hBzmv2ytttJd"
      },
      "source": [
        "## os"
      ]
    },
    {
      "cell_type": "markdown",
      "metadata": {
        "id": "pvq-nAqxtuXO"
      },
      "source": [
        "OS 모듈은 환경 변수나 디렉터리, 파일 등의 OS 자원을 제어할 수 있게 해주는 모듈이다.\n",
        "\n",
        "내 시스템의 환경 변수값을 알고 싶을 때 - os.environ\n",
        "\n",
        "시스템은 제각기 다른 환경 변수 값을 가지고 있는데, os.environ은 현재 시스템의 환경 변수 값을 보여 준다. 다음을 따라 해 보자."
      ]
    },
    {
      "cell_type": "code",
      "metadata": {
        "id": "VJ7IaqEBtvgh"
      },
      "source": [
        "import os\n",
        "os.environ\n",
        "environ({'PROGRAMFILES': 'C:\\\\Program Files', 'APPDATA': … 생략 …})"
      ],
      "execution_count": null,
      "outputs": []
    },
    {
      "cell_type": "markdown",
      "metadata": {
        "id": "ot7ZQ5w7tzMa"
      },
      "source": [
        "디렉터리 위치 변경하기 - os.chdir\n",
        "\n",
        "os.chdir를 사용하면 다음과 같이 현재 디렉터리 위치를 변경할 수 있다"
      ]
    },
    {
      "cell_type": "code",
      "metadata": {
        "id": "Ry78-aYft0fL"
      },
      "source": [
        "os.chdir(\"C:\\WINDOWS\")"
      ],
      "execution_count": null,
      "outputs": []
    },
    {
      "cell_type": "markdown",
      "metadata": {
        "id": "lU6eZy7ft1gm"
      },
      "source": [
        "디렉터리 위치 돌려받기 - os.getcwd\n",
        "\n",
        "os.getcwd는 현재 자신의 디렉터리 위치를 돌려준다."
      ]
    },
    {
      "cell_type": "code",
      "metadata": {
        "id": "w3ut0iAZt2nx"
      },
      "source": [
        " os.getcwd()\n",
        "'C:\\WINDOWS'"
      ],
      "execution_count": null,
      "outputs": []
    },
    {
      "cell_type": "markdown",
      "metadata": {
        "id": "qb5F8DiQt6lA"
      },
      "source": [
        "시스템 명령어 호출하기 - os.system\n",
        "\n",
        "시스템 자체의 프로그램이나 기타 명령어를 파이썬에서 호출할 수도 있다. os.system(\"명령어\")처럼 사용한다. 다음은 현재 디렉터리에서 시스템 명령어 dir을 실행하는 예이다."
      ]
    },
    {
      "cell_type": "code",
      "metadata": {
        "id": "Qy3lvHvMt7e6"
      },
      "source": [
        "os.system(\"dir\")"
      ],
      "execution_count": null,
      "outputs": []
    },
    {
      "cell_type": "markdown",
      "metadata": {
        "id": "RgMhqp5Bt9Jq"
      },
      "source": [
        "실행한 시스템 명령어의 결괏값 돌려받기 - os.popen\n",
        "\n",
        "os.popen은 시스템 명령어를 실행한 결괏값을 읽기 모드 형태의 파일 객체로 돌려준다."
      ]
    },
    {
      "cell_type": "code",
      "metadata": {
        "id": "TMBRsV4Xt-OV"
      },
      "source": [
        "f = os.popen(\"dir\")"
      ],
      "execution_count": null,
      "outputs": []
    },
    {
      "cell_type": "markdown",
      "metadata": {
        "id": "XhDu4_XMt_YD"
      },
      "source": [
        "읽어 들인 파일 객체의 내용을 보기 위해서는 다음과 같이 하면 된다."
      ]
    },
    {
      "cell_type": "code",
      "metadata": {
        "id": "q2Za7Q9auB5h"
      },
      "source": [
        "print(f.read())"
      ],
      "execution_count": null,
      "outputs": []
    },
    {
      "cell_type": "markdown",
      "metadata": {
        "id": "spcIxKv-uDcI"
      },
      "source": [
        "기타 유용한 os 관련 함수"
      ]
    },
    {
      "cell_type": "markdown",
      "metadata": {
        "id": "yRlARf7XuFEF"
      },
      "source": [
        "함수\n",
        "\n",
        "os.mkdir(디렉터리) : 디렉터리를 생성한다.\n",
        "\n",
        "os.rmdir(디렉터리) : 디렉터리를 삭제한다.단, 디렉터리가 비어있어야 삭제가 가능하다.\n",
        "\n",
        "os.unlink(파일) : 파일을 지운다.\n",
        "\n",
        "os.rename(src, dst) : src라는 이름의 파일을 dst라는 이름으로 바꾼다.\n",
        "\n"
      ]
    },
    {
      "cell_type": "markdown",
      "metadata": {
        "id": "cPQBqqWsgGkj"
      },
      "source": [
        "## shutil"
      ]
    },
    {
      "cell_type": "markdown",
      "metadata": {
        "id": "f28Tv-5-gIap"
      },
      "source": [
        "shutil은 파일을 복사해 주는 파이썬 모듈이다.\n",
        "\n",
        "다음 예시는 src라는 이름의 파일을 dst로 복사한다. 만약 dst가 디렉터리 이름이라면 src라는 파일 이름으로 dst 디렉터리에 복사하고 동일한 파일 이름이 있을 경우에는 덮어쓴다."
      ]
    },
    {
      "cell_type": "code",
      "metadata": {
        "id": "TpeiH7h9gJlP"
      },
      "source": [
        "import shutil\n",
        "shutil.copy(\"src.txt\", \"dst.txt\")"
      ],
      "execution_count": null,
      "outputs": []
    },
    {
      "cell_type": "markdown",
      "metadata": {
        "id": "gg35IMuVgNgr"
      },
      "source": [
        "## tempfile"
      ]
    },
    {
      "cell_type": "markdown",
      "metadata": {
        "id": "4GG5PP-fgPQF"
      },
      "source": [
        "파일을 임시로 만들어서 사용할 때 유용한 모듈이 바로 tempfile이다. tempfile.mkstemp()는 중복되지 않는 임시 파일의 이름을 무작위로 만들어서 돌려준다."
      ]
    },
    {
      "cell_type": "code",
      "metadata": {
        "id": "_k8GwA8AgQPG"
      },
      "source": [
        "import tempfile\n",
        "filename = tempfile.mkstemp()\n",
        "filename\n",
        "'C:\\WINDOWS\\TEMP\\~-275151-0'"
      ],
      "execution_count": null,
      "outputs": []
    },
    {
      "cell_type": "markdown",
      "metadata": {
        "id": "rxzxHFhLgVbx"
      },
      "source": [
        "tempfile.TemporaryFile()은 임시 저장 공간으로 사용할 파일 객체를 돌려준다. 이 파일은 기본적으로 바이너리 쓰기 모드(wb)를 갖는다. f.close()가 호출되면 이 파일 객체는 자동으로 사라진다."
      ]
    },
    {
      "cell_type": "markdown",
      "metadata": {
        "id": "1wEY_vrKgWtE"
      },
      "source": [
        "## time"
      ]
    },
    {
      "cell_type": "markdown",
      "metadata": {
        "id": "GryDcexugYqY"
      },
      "source": [
        "시간과 관련된 time 모듈에는 함수가 굉장히 많다. 그중 가장 유용한 몇 가지만 알아보자."
      ]
    },
    {
      "cell_type": "markdown",
      "metadata": {
        "id": "gHv9UosRgZkj"
      },
      "source": [
        "time.time"
      ]
    },
    {
      "cell_type": "markdown",
      "metadata": {
        "id": "hxG_I2gRganI"
      },
      "source": [
        "time.time()은 UTC(Universal Time Coordinated 협정 세계 표준시)를 사용하여 현재 시간을 실수 형태로 돌려주는 함수이다. 1970년 1월 1일 0시 0분 0초를 기준으로 지난 시간을 초 단위로 돌려준다."
      ]
    },
    {
      "cell_type": "code",
      "metadata": {
        "id": "_yaRvfVHgdb1"
      },
      "source": [
        "import time\n",
        "time.time()\n"
      ],
      "execution_count": null,
      "outputs": []
    },
    {
      "cell_type": "markdown",
      "metadata": {
        "id": "_j0eUm6-gvPo"
      },
      "source": [
        "time.localtime\n",
        "\n",
        "time.localtime은 time.time()이 돌려준 실수 값을 사용해서 연도, 월, 일, 시, 분, 초, ... 의 형태로 바꾸어 주는 함수이다."
      ]
    },
    {
      "cell_type": "code",
      "metadata": {
        "id": "G4a9M8LUgwJR"
      },
      "source": [
        "time.localtime(time.time())\n"
      ],
      "execution_count": null,
      "outputs": []
    },
    {
      "cell_type": "markdown",
      "metadata": {
        "id": "cQseo_1Fg5Kr"
      },
      "source": [
        "time.asctime"
      ]
    },
    {
      "cell_type": "markdown",
      "metadata": {
        "id": "oUYQ90IZg6hG"
      },
      "source": [
        "위 time.localtime에 의해서 반환된 튜플 형태의 값을 인수로 받아서 날짜와 시간을 알아보기 쉬운 형태로 돌려주는 함수이다."
      ]
    },
    {
      "cell_type": "code",
      "metadata": {
        "id": "8x15Yqbtg7x2"
      },
      "source": [
        "time.asctime(time.localtime(time.time()))"
      ],
      "execution_count": null,
      "outputs": []
    },
    {
      "cell_type": "markdown",
      "metadata": {
        "id": "XuyGOXmUg_J0"
      },
      "source": [
        "time.ctime\n",
        "\n",
        "time.asctime(time.localtime(time.time()))은 time.ctime()을 사용해 간편하게 표시할 수 있다. asctime과 다른 점은 ctime은 항상 현재 시간만을 돌려준다는 점이다."
      ]
    },
    {
      "cell_type": "code",
      "metadata": {
        "id": "94WpdAkQhAw4"
      },
      "source": [
        "time.ctime()"
      ],
      "execution_count": null,
      "outputs": []
    },
    {
      "cell_type": "markdown",
      "metadata": {
        "id": "-Nm7X0IphLpg"
      },
      "source": [
        "time.strftime"
      ]
    },
    {
      "cell_type": "code",
      "metadata": {
        "id": "IitQ7II1hMk5"
      },
      "source": [
        "time.strftime('출력할 형식 포맷 코드', time.localtime(time.time()))"
      ],
      "execution_count": null,
      "outputs": []
    },
    {
      "cell_type": "markdown",
      "metadata": {
        "id": "U9NrXn9yhPTV"
      },
      "source": [
        "strftime 함수는 시간에 관계된 것을 세밀하게 표현하는 여러 가지 포맷 코드를 제공한다.\n",
        "\n",
        "시간에 관계된 것을 표현하는 포맷 코드"
      ]
    },
    {
      "cell_type": "markdown",
      "metadata": {
        "id": "ZFE_5cP8hRkq"
      },
      "source": [
        "포맷코드\n",
        "\n",
        "%a : 요일 줄임말\n",
        "\n",
        "%A : 요일\n",
        "\n",
        "%B : 달\n",
        "\n",
        "%c : 날짜와 시간을 출력함\n",
        "\n",
        "%d : 날(day)\n",
        "\n",
        "%H : 시간(hour)-24시간 출력 형태\n",
        "\n",
        "%l : 시간(hour)-12시간 출력 형태\n",
        "\n",
        "%j : 1년 중 누적 날짜\n",
        "\n",
        "%m : 달\n",
        "\n",
        "%M : 분\n",
        "\n",
        "%p : AM or PM\n",
        "\n",
        "%S : 초\n",
        "\n",
        "%U : 1년 중 누적 주-일요일을 시작으로\n",
        "\n",
        "%w : 숫자로 된 요일\n",
        "\n",
        "%W : 1년 중 누적 주-월요일을 시작으로\n",
        "\n",
        "%x : 현재 설정된 로케일에 기반한 날짜 출력\n",
        "\n",
        "%X : 현재 설정된 로케일에 기반한 시간 출력\n",
        "\n",
        "%Y : 년도 출력\n",
        "\n",
        "%Z : 시간대 출력\n",
        "\n",
        "%% : 문자\n",
        "\n",
        "%y : 세기부분을 제외한 년도 출력"
      ]
    },
    {
      "cell_type": "markdown",
      "metadata": {
        "id": "kb5CQZuhkEa9"
      },
      "source": [
        "다음은 time.strftime을 사용하는 예이다."
      ]
    },
    {
      "cell_type": "code",
      "metadata": {
        "id": "jpg0bwC7kFcH"
      },
      "source": [
        "import time\n",
        "time.strftime('%x', time.localtime(time.time()))\n"
      ],
      "execution_count": null,
      "outputs": []
    },
    {
      "cell_type": "code",
      "metadata": {
        "id": "7EbvbwugkgD5"
      },
      "source": [
        "time.strftime('%c', time.localtime(time.time()))"
      ],
      "execution_count": null,
      "outputs": []
    },
    {
      "cell_type": "markdown",
      "metadata": {
        "id": "FaeJsfXzkjVQ"
      },
      "source": [
        "time.sleep\n",
        "\n",
        "time.sleep 함수는 주로 루프 안에서 많이 사용한다. 이 함수를 사용하면 일정한 시간 간격을 두고 루프를 실행할 수 있다. 다음 예를 보자."
      ]
    },
    {
      "cell_type": "code",
      "metadata": {
        "id": "EZdkJebzkkS3"
      },
      "source": [
        "#sleep1.py\n",
        "import time\n",
        "for i in range(10):\n",
        "    print(i)\n",
        "    time.sleep(1)"
      ],
      "execution_count": null,
      "outputs": []
    },
    {
      "cell_type": "markdown",
      "metadata": {
        "id": "4Nmra3HNkpo3"
      },
      "source": [
        "위 예는 1초 간격으로 0부터 9까지의 숫자를 출력한다. 위 예에서 볼 수 있듯이 time.sleep 함수의 인수는 실수 형태를 쓸 수 있다. 즉 1이면 1초, 0.5면 0.5초가 되는 것이다."
      ]
    },
    {
      "cell_type": "markdown",
      "metadata": {
        "id": "cNJuv1LMkrMF"
      },
      "source": [
        "## calendar"
      ]
    },
    {
      "cell_type": "markdown",
      "metadata": {
        "id": "pqLmTVPnkudY"
      },
      "source": [
        "calendar는 파이썬에서 달력을 볼 수 있게 해주는 모듈이다.\n",
        "\n",
        "calendar.calendar(연도)로 사용하면 그해의 전체 달력을 볼 수 있다. 결괏값은 달력이 너무 길어 생략하겠다."
      ]
    },
    {
      "cell_type": "code",
      "metadata": {
        "id": "0m99czLSkvs7"
      },
      "source": [
        " import calendar\n",
        " print(calendar.calendar(2020))"
      ],
      "execution_count": null,
      "outputs": []
    },
    {
      "cell_type": "markdown",
      "metadata": {
        "id": "zadNaKmLk4LC"
      },
      "source": [
        "calendar.prcal(연도)를 사용해도 위와 똑같은 결괏값을 얻을 수 있다."
      ]
    },
    {
      "cell_type": "code",
      "metadata": {
        "id": "9cAGoZ1ok5ty"
      },
      "source": [
        "calendar.prcal(2020)"
      ],
      "execution_count": null,
      "outputs": []
    },
    {
      "cell_type": "markdown",
      "metadata": {
        "id": "VSlBPREbk-Kh"
      },
      "source": [
        "다음 예는 2020년 12월의 달력만 보여 준다."
      ]
    },
    {
      "cell_type": "code",
      "metadata": {
        "id": "yiXYei6BlAsv"
      },
      "source": [
        "calendar.prmonth(2020, 12)"
      ],
      "execution_count": null,
      "outputs": []
    },
    {
      "cell_type": "markdown",
      "metadata": {
        "id": "TL1OCTdtlHAb"
      },
      "source": [
        "calendar.weekday\n",
        "\n",
        "calendar 모듈의 또 다른 유용한 함수를 보자. weekday(연도, 월, 일) 함수는 그 날짜에 해당하는 요일 정보를 돌려준다. 월요일은 0, 화요일은 1, 수요일은 2, 목요일은 3, 금요일은 4, 토요일은 5, 일요일은 6이라는 값을 돌려준다."
      ]
    },
    {
      "cell_type": "code",
      "metadata": {
        "id": "JYHHsnbKlIem"
      },
      "source": [
        "calendar.weekday(2015, 12, 31)"
      ],
      "execution_count": null,
      "outputs": []
    },
    {
      "cell_type": "markdown",
      "metadata": {
        "id": "RQnmg-Y-lb8Z"
      },
      "source": [
        "위의 예에서 2015년 12월 31일은 목요일임을 보여 준다."
      ]
    },
    {
      "cell_type": "markdown",
      "metadata": {
        "id": "jfDmPpQVldVx"
      },
      "source": [
        "calendar.monthrange\n",
        "\n",
        "monthrange(연도, 월) 함수는 입력받은 달의 1일이 무슨 요일인지와 그 달이 며칠까지 있는지를 튜플 형태로 돌려준다."
      ]
    },
    {
      "cell_type": "code",
      "metadata": {
        "id": "lSh37fcllfJH"
      },
      "source": [
        " calendar.monthrange(2015,12)"
      ],
      "execution_count": null,
      "outputs": []
    },
    {
      "cell_type": "markdown",
      "metadata": {
        "id": "M9MVzeYHlluL"
      },
      "source": [
        "위 예는 2015년 12월 1일은 화요일이고, 이 달은 31일까지 있다는 것을 보여 준다.\n",
        "\n",
        "날짜와 관련된 프로그래밍을 할 때 위 2가지 함수는 매우 유용하게 사용된다."
      ]
    },
    {
      "cell_type": "markdown",
      "metadata": {
        "id": "b2lqrxxvlm4r"
      },
      "source": [
        "## random"
      ]
    },
    {
      "cell_type": "markdown",
      "metadata": {
        "id": "RBtY_-1DloRt"
      },
      "source": [
        "random은 난수(규칙이 없는 임의의 수)를 발생시키는 모듈이다. random과 randint에 대해 알아보자.\n",
        "\n",
        "다음은 0.0에서 1.0 사이의 실수 중에서 난수 값을 돌려주는 예를 보여 준다."
      ]
    },
    {
      "cell_type": "code",
      "metadata": {
        "id": "oFkR9KiRlsKi"
      },
      "source": [
        "import random\n",
        "random.random()"
      ],
      "execution_count": null,
      "outputs": []
    },
    {
      "cell_type": "markdown",
      "metadata": {
        "id": "yDANglEOlyU8"
      },
      "source": [
        "다음 예는 1에서 10 사이의 정수 중에서 난수 값을 돌려준다."
      ]
    },
    {
      "cell_type": "code",
      "metadata": {
        "id": "9NKM2FKnlzLl"
      },
      "source": [
        "random.randint(1, 10)"
      ],
      "execution_count": null,
      "outputs": []
    },
    {
      "cell_type": "markdown",
      "metadata": {
        "id": "JxmyE1ezl2vD"
      },
      "source": [
        "다음 예는 1에서 55 사이의 정수 중에서 난수 값을 돌려준다."
      ]
    },
    {
      "cell_type": "code",
      "metadata": {
        "id": "H7kQ8Ngbl4GI"
      },
      "source": [
        "random.randint(1, 55)"
      ],
      "execution_count": null,
      "outputs": []
    },
    {
      "cell_type": "markdown",
      "metadata": {
        "id": "-GGn3BKTl7oS"
      },
      "source": [
        "random 모듈을 사용해서 재미있는 함수를 하나 만들어 보자."
      ]
    },
    {
      "cell_type": "code",
      "metadata": {
        "id": "1CyQHsRyl8i3"
      },
      "source": [
        "# random_pop.py\n",
        "import random\n",
        "def random_pop(data):\n",
        "    number = random.randint(0, len(data)-1)\n",
        "    return data.pop(number)\n",
        "\n",
        "if __name__ == \"__main__\":\n",
        "    data = [1, 2, 3, 4, 5]\n",
        "    while data: \n",
        "        print(random_pop(data))"
      ],
      "execution_count": null,
      "outputs": []
    },
    {
      "cell_type": "markdown",
      "metadata": {
        "id": "1S7jcs8-l_zH"
      },
      "source": [
        "위 random_pop 함수는 리스트의 요소 중에서 무작위로 하나를 선택하여 꺼낸 다음 그 값을 돌려준다. 물론 꺼낸 요소는 pop 메서드에 의해 사라진다.\n",
        "\n",
        "random_pop 함수는 random 모듈의 choice 함수를 사용하여 다음과 같이 좀 더 직관적으로 만들 수도 있다."
      ]
    },
    {
      "cell_type": "code",
      "metadata": {
        "id": "FQHr8ZQ4mBMq"
      },
      "source": [
        "def random_pop(data):\n",
        "    number = random.choice(data)\n",
        "    data.remove(number)\n",
        "    return number"
      ],
      "execution_count": null,
      "outputs": []
    },
    {
      "cell_type": "markdown",
      "metadata": {
        "id": "0Eooa6w3mDa5"
      },
      "source": [
        "random.choice 함수는 입력으로 받은 리스트에서 무작위로 하나를 선택하여 돌려준다.\n",
        "\n",
        "리스트의 항목을 무작위로 섞고 싶을 때는 random.shuffle 함수를 사용하면 된다."
      ]
    },
    {
      "cell_type": "code",
      "metadata": {
        "id": "R01x8VJamErj",
        "outputId": "d7c9d70f-163a-491f-93e3-c7e92c9a1bb4",
        "colab": {
          "base_uri": "https://localhost:8080/",
          "height": 35
        }
      },
      "source": [
        "import random\n",
        "data = [1, 2, 3, 4, 5]\n",
        "random.shuffle(data)\n",
        "data"
      ],
      "execution_count": null,
      "outputs": [
        {
          "output_type": "execute_result",
          "data": {
            "text/plain": [
              "[4, 5, 1, 2, 3]"
            ]
          },
          "metadata": {
            "tags": []
          },
          "execution_count": 21
        }
      ]
    },
    {
      "cell_type": "markdown",
      "metadata": {
        "id": "lzYhii21mMHq"
      },
      "source": [
        "[1, 2, 3, 4, 5] 리스트가 shuffle 함수에 의해 섞여서 [4, 5, 1, 2, 3]로 변한 것을 확인할 수 있다."
      ]
    },
    {
      "cell_type": "markdown",
      "metadata": {
        "id": "adpARG6OmTKM"
      },
      "source": [
        "webbrowser\n",
        "webbrowser는 자신의 시스템에서 사용하는 기본 웹 브라우저를 자동으로 실행하는 모듈이다. 다음 예제는 웹 브라우저를 자동으로 실행하고 해당 URL인 google.com으로 가게 해 준다."
      ]
    },
    {
      "cell_type": "code",
      "metadata": {
        "id": "nlozGzgNmV0v"
      },
      "source": [
        "import webbrowser\n",
        "webbrowser.open(\"http://google.com\")"
      ],
      "execution_count": null,
      "outputs": []
    },
    {
      "cell_type": "markdown",
      "metadata": {
        "id": "fDXkcznHmf9V"
      },
      "source": [
        "webbrowser의 open 함수는 웹 브라우저가 이미 실행된 상태라면 입력 주소로 이동한다. 만약 웹 브라우저가 실행되지 않은 상태라면 새로 웹 브라우저를 실행한 후 해당 주소로 이동한다.\n",
        "\n",
        "open_new 함수는 이미 웹 브라우저가 실행된 상태이더라도 새로운 창으로 해당 주소가 열리게 한다."
      ]
    },
    {
      "cell_type": "code",
      "metadata": {
        "id": "JapQJbr6migE"
      },
      "source": [
        "webbrowser.open_new(\"http://google.com\")"
      ],
      "execution_count": null,
      "outputs": []
    },
    {
      "cell_type": "markdown",
      "metadata": {
        "id": "MgmlQFeFmon3"
      },
      "source": [
        "[스레드를 다루는 threading 모듈]\n",
        "\n",
        "스레드 프로그래밍은 초보 프로그래머가 구현하기에는 매우 어려운 기술이다. 여기에 잠시 소개했으니 눈으로만 살펴보고 넘어가자.\n",
        "\n",
        "컴퓨터에서 동작하고 있는 프로그램을 프로세스(Process)라고 한다. 보통 1개의 프로세스는 한 가지 일만 하지만 스레드(Thread)를 사용하면 한 프로세스 안에서 2가지 또는 그 이상의 일을 동시에 수행할 수 있다.\n",
        "\n",
        "간단한 예제로 설명을 대신하겠다."
      ]
    },
    {
      "cell_type": "code",
      "metadata": {
        "id": "jiUANvKCmpmS"
      },
      "source": [
        "# thread_test.py\n",
        "import time\n",
        "\n",
        "def long_task():\n",
        "    for i in range(5):\n",
        "        time.sleep(1)\n",
        "        print(\"working:%s\\n\" % i)\n",
        "\n",
        "print(\"Start\")\n",
        "\n",
        "for i in range(5):\n",
        "    long_task()\n",
        "\n",
        "print(\"End\")"
      ],
      "execution_count": null,
      "outputs": []
    },
    {
      "cell_type": "markdown",
      "metadata": {
        "id": "Kts4DieXm6gm"
      },
      "source": [
        "ong_task 함수는 수행하는 데 5초의 시간이 걸리는 함수이다. 위 프로그램은 이 함수를 총 5번 반복해서 수행하는 프로그램이다. 이 프로그램은 5초가 5번 반복되니 총 25초의 시간이 걸린다.\n",
        "\n",
        "하지만 앞에서 설명했듯이 스레드를 사용하면 5초의 시간이 걸리는 long_task 함수를 동시에 실행할 수 있으니 시간을 줄일 수 있다.\n",
        "\n",
        "다음과 같이 프로그램을 수정해 보자."
      ]
    },
    {
      "cell_type": "code",
      "metadata": {
        "id": "Hl7k46Jzm7m8"
      },
      "source": [
        "# thread_test.py\n",
        "import time\n",
        "import threading\n",
        "\n",
        "def long_task():\n",
        "    for i in range(5):\n",
        "        time.sleep(1)\n",
        "        print(\"working:%s\\n\" % i)\n",
        "\n",
        "print(\"Start\")\n",
        "\n",
        "threads = []\n",
        "for i in range(5):\n",
        "    t = threading.Thread(target=long_task)\n",
        "    threads.append(t) \n",
        "\n",
        "for t in threads:\n",
        "    t.start()\n",
        "\n",
        "print(\"End\")"
      ],
      "execution_count": null,
      "outputs": []
    },
    {
      "cell_type": "markdown",
      "metadata": {
        "id": "PNIZsdFInC4S"
      },
      "source": [
        "이와 같이 프로그램을 수정하고 실행해 보면 25초 걸리던 작업이 5초 정도에 수행되는 것을 확인할 수 있다. threading.Thread를 사용하여 만든 스레드 객체가 동시 작업을 가능하게 해 주기 때문이다.\n",
        "\n",
        "하지만 위 프로그램을 실행해 보면 \"Start\"와 \"End\"가 먼저 출력되고 그 이후에 스레드의 결과가 출력되는 것을 확인할 수 있다. 그리고 프로그램이 정상 종료되지 않는다. 우리가 기대하는 것은 \"Start\"가 출력되고 그다음에 스레드의 결과가 출력된 후 마지막으로 \"End\"가 출력되는 것이다.\n",
        "\n",
        "이 문제를 해결하기 위해서는 다음과 같이 프로그램을 수정해야 한다."
      ]
    },
    {
      "cell_type": "code",
      "metadata": {
        "id": "PFTXlpBenFIJ"
      },
      "source": [
        "# thread_test.py\n",
        "import time\n",
        "import threading\n",
        "\n",
        "def long_task():\n",
        "    for i in range(5):\n",
        "        time.sleep(1)\n",
        "        print(\"working:%s\\n\" % i)\n",
        "\n",
        "print(\"Start\")\n",
        "\n",
        "threads = []\n",
        "for i in range(5):\n",
        "    t = threading.Thread(target=long_task)\n",
        "    threads.append(t)\n",
        "\n",
        "for t in threads:\n",
        "    t.start()\n",
        "\n",
        "for t in threads:\n",
        "    t.join()  # join으로 스레드가 종료될때까지 기다린다.\n",
        "\n",
        "print(\"End\")"
      ],
      "execution_count": null,
      "outputs": []
    },
    {
      "cell_type": "markdown",
      "metadata": {
        "id": "VRcKuQuLnKSy"
      },
      "source": [
        "스레드의 join 함수는 해당 스레드가 종료될 때까지 기다리게 한다. 따라서 위와 같이 수정하면 우리가 원하던 출력을 보게 된다."
      ]
    },
    {
      "cell_type": "markdown",
      "metadata": {
        "id": "-3HpYoSSnMNy"
      },
      "source": [
        "# 6장 파이썬 프로그래밍, 어떻게 시작해야 할까?"
      ]
    },
    {
      "cell_type": "markdown",
      "metadata": {
        "id": "qtUxnVninPnB"
      },
      "source": [
        "이 장에서는 아주 짤막한 스크립트와 함수들을 만들어 본다. 아마 프로그래밍 감각을 키우는 데 더할 나위 없이 좋은 재료가 될 것이다. 스크립트란 에디터로 작성한 파이썬 프로그램 파일을 말한다. 앞으로는 에디터로 작성한 파이썬 프로그램파일을 파이썬 스크립트라고 부를 것이니 혼동하지 말자. 이 장에 소개된 모든 파이썬 프로그램 예제는 대화형 인터프리터가 아닌 에디터로 작성해야 한다."
      ]
    },
    {
      "cell_type": "markdown",
      "metadata": {
        "id": "r0iixS0ynRE5"
      },
      "source": [
        "## 1.내가 프로그램을 만들 수 있을까?"
      ]
    },
    {
      "cell_type": "markdown",
      "metadata": {
        "id": "GJb3MQUOnV8t"
      },
      "source": [
        "프로그램을 막 시작하려는 사람이 맨 먼저 부딪히게 되는 벽은 아마도 다음과 같지 않을까?\n",
        "\n",
        "\"문법도 어느 정도 알겠고, 책 내용도 대부분 이해된다. 하지만 이러한 지식을 바탕으로 내가 도대체 어떤 프로그램을 만들 수 있을까?\"\n",
        "\n",
        "이럴 때는 \"어떤 프로그램을 짜야지\"라는 생각보다는 다른 사람들이 만든 프로그램 파일을 자세히 들여다보고 분석하는 데서 시작하는 것이 좋다. 그러다 보면 다른 사람들의 생각도 읽을 수 있고 거기에 더해 뭔가 새로운 아이디어가 떠오를 수도 있다. 하지만 여기에서 가장 중요한 것은 자신의 수준에 맞는 소스를 찾는 일이다. 그래서 이 장에서는 아주 쉬운 예제부터 시작해서 차츰 수준을 높여 실용적인 예제까지 다루려고 노력하였다. 배운 내용을 어떻게 활용하는가는 독자의 몫이다.\n",
        "\n",
        "필자는 예전에 프로그래밍을 막 시작한 사람에게 구구단 프로그램을 짜 보라고 한 적이 있다. 쉬운 과제이고 파이썬 문법도 다 공부한 사람이었는데 프로그램을 어떻게 만들어야 할지 전혀 갈피를 잡지 못했다. 그래서 필자는 다음과 같은 해결책을 알려 주었다.\n",
        "\n",
        "프로그램을 만들려면 가장 먼저 \"입력\"과 \"출력\"을 생각하라.\n",
        "\n",
        "가령 구구단 프로그램 중 2단을 만든다면 2를 입력값으로 주었을 때 어떻게 출력되어야 할지 생각해 보라고 했다. 그래도 그림이 그려지지 않는 것 같아 직접 연습장에 적어 가며 설명해 주었다.\n",
        "\n",
        "함수 이름은? GuGu로 짓자\n",
        "입력받는 값은? 2\n",
        "출력하는 값은? 2단(2, 4, 6, 8, …, 18)\n",
        "결과는 어떤 형태로 저장하지? 연속된 자료형이니까 리스트!\n",
        "독자들도 함께 따라 해 보기 바란다."
      ]
    },
    {
      "cell_type": "markdown",
      "metadata": {
        "id": "U2dEMEFUnYtL"
      },
      "source": [
        "1. 먼저 에디터를 열고 다음과 같이 입력한다. GuGu라는 함수에 2를 입력값으로 주면 result라는 변수에 결괏값을 넣으라는 뜻이다."
      ]
    },
    {
      "cell_type": "code",
      "metadata": {
        "id": "bAGvHgOUnaU_"
      },
      "source": [
        "result = GuGu(2)"
      ],
      "execution_count": null,
      "outputs": []
    },
    {
      "cell_type": "markdown",
      "metadata": {
        "id": "_wpAgHyznfcA"
      },
      "source": [
        "2. 이제 결괏값을 어떤 형태로 받을 것인지 고민해 보자. 2단이니까 2, 4, 6, … 18까지 갈 것이다. 이런 종류의 데이터는 리스트 자료형이 딱이다. 따라서 result = [2, 4, 6, 8, 10, 12, 14, 16, 18] 같은 결과를 얻는 것이 좋겠다는 생각을 먼저 하고 나서 프로그래밍을 시작하는 것이 필요하다. 이런 식으로 머릿속에 그림이 그려지기 시작하면 의외로 생각이 가볍게 좁혀지는 것을 느낄 수 있을 것이다."
      ]
    },
    {
      "cell_type": "markdown",
      "metadata": {
        "id": "Fv0_BidenhF6"
      },
      "source": [
        "3. 어떻게 만들지 생각해 봤으니 1번에서 입력한 문장은 지우고 진짜 프로그램을 짜 보자. 일단 이름을 GuGu로 지은 함수를 다음과 같이 만든다."
      ]
    },
    {
      "cell_type": "code",
      "metadata": {
        "id": "zT0bkyDsniEX"
      },
      "source": [
        "def GuGu(n):\n",
        "  print(n)"
      ],
      "execution_count": null,
      "outputs": []
    },
    {
      "cell_type": "markdown",
      "metadata": {
        "id": "RpVEP2eQnn8B"
      },
      "source": [
        "위와 같은 함수를 만들고 GuGu(2)처럼 실행하면 2를 출력하게 된다. 즉 입력값으로 2가 잘 들어오는지 확인하는 것이다."
      ]
    },
    {
      "cell_type": "markdown",
      "metadata": {
        "id": "PGRudSCGnqxD"
      },
      "source": [
        "4. 이제 결괏값을 담을 리스트를 하나 생성하자. 앞에서 작성한 print(n)은 입력이 잘되는지 를 확인하기 위한 것이었으므로 지워도 좋다."
      ]
    },
    {
      "cell_type": "code",
      "metadata": {
        "id": "D4U1AEMsnr83"
      },
      "source": [
        "def GuGu(n):\n",
        "  result = []"
      ],
      "execution_count": null,
      "outputs": []
    },
    {
      "cell_type": "markdown",
      "metadata": {
        "id": "B8iUUOkrnwXd"
      },
      "source": [
        "5. 다음으로 result에 2, 4, 6, … 18을 어떻게 넣어야 할지 생각해 보자. 필자는 다음과 같이 리스트에 요소를 추가하는 append 내장 함수를 사용하기로 결정했다."
      ]
    },
    {
      "cell_type": "code",
      "metadata": {
        "id": "hbS6bSrNnyP_"
      },
      "source": [
        "def GuGu(n):\n",
        "    result = []\n",
        "    result.append(n*1)\n",
        "    result.append(n*2)\n",
        "    result.append(n*3)\n",
        "    result.append(n*4)\n",
        "    result.append(n*5)\n",
        "    result.append(n*6)\n",
        "    result.append(n*7)\n",
        "    result.append(n*8)\n",
        "    result.append(n*9)\n",
        "    return result\n",
        "\n",
        "print(GuGu(2))"
      ],
      "execution_count": null,
      "outputs": []
    },
    {
      "cell_type": "markdown",
      "metadata": {
        "id": "2MOk2sSVn10H"
      },
      "source": [
        "결괏값: [2, 4, 6, 8, 10, 12, 14, 16, 18]\n",
        "\n",
        "정말 무식한 방법이지만 입력값 2를 주었을 때 원하는 결괏값을 얻을 수 있었다.\n",
        "\n",
        "6. 그런데 위 함수는 반복이 너무 많다. 가만히 보면 result.append(n*□)의 □ 위치에 1부터 9까지 숫자만 다르게 들어가 있다는 것을 알 수 있다. 똑같은 일을 반복할 때는 \"반복문\"을 사용한다고 했다. 그렇다면 1부터 9까지 출력해 주는 반복문을 만들면 되지 않을까?\n",
        "\n",
        "대화형 인터프리터를 열고 다음과 같이 테스트해 보았다."
      ]
    },
    {
      "cell_type": "code",
      "metadata": {
        "id": "OQexrkgrn3TO"
      },
      "source": [
        "i = 1\n",
        "while i < 10:\n",
        "  print(i)\n",
        "  i = i + 1"
      ],
      "execution_count": null,
      "outputs": []
    },
    {
      "cell_type": "markdown",
      "metadata": {
        "id": "OwoENs0WoDuQ"
      },
      "source": [
        "아주 만족스러운 결과이다. 이제 위 소스 코드를 GuGu 함수에 적용해 보자.\n",
        "\n",
        "7. 이상의 생각을 바탕으로 완성한 GuGu 함수는 다음과 같다."
      ]
    },
    {
      "cell_type": "code",
      "metadata": {
        "id": "_rWLVr9aoE9h"
      },
      "source": [
        "def GuGu(n):\n",
        "    result = []\n",
        "    i = 1\n",
        "    while i < 10:\n",
        "        result.append(n * i)\n",
        "        i = i + 1\n",
        "    return result"
      ],
      "execution_count": null,
      "outputs": []
    },
    {
      "cell_type": "markdown",
      "metadata": {
        "id": "jd3ImZanoHLB"
      },
      "source": [
        "다음과 같이 테스트해 보자."
      ]
    },
    {
      "cell_type": "code",
      "metadata": {
        "id": "E3a6L6rOoIEl"
      },
      "source": [
        "print(GuGu(2))"
      ],
      "execution_count": null,
      "outputs": []
    },
    {
      "cell_type": "markdown",
      "metadata": {
        "id": "1WcKpysyoLfc"
      },
      "source": [
        "결괏값: [2, 4, 6, 8, 10, 12, 14, 16, 18]\n",
        "\n",
        "결과는 대만족이다.\n",
        "\n",
        "사실 GuGu 함수는 위와 같은 과정을 거치지 않고도 바로 만들 수 있는 독자들이 많을 것이다. 하지만 더 복잡한 함수를 만들 때는 위와 같이 구체적이고 단계적으로 접근하는 방식이 매우 도움이 된다. 프로그래밍을 할 땐 매우 구체적으로 접근해야 머리가 덜 아프다는 것을 기억하자. 자, 이제 다양한 예제를 접해 보며 여러분 나름대로 멋진 생각을 해보기 바란다."
      ]
    },
    {
      "cell_type": "markdown",
      "metadata": {
        "id": "h3AwLnJ5oOsx"
      },
      "source": [
        "## 2.3과 5의 배수 합하기"
      ]
    },
    {
      "cell_type": "markdown",
      "metadata": {
        "id": "3uqLnEldoSka"
      },
      "source": [
        "자, 다음 문제를 어떻게 풀면 좋을지 생각해 보자."
      ]
    },
    {
      "cell_type": "code",
      "metadata": {
        "id": "k06d-zGToTyM"
      },
      "source": [
        "10 미만의 자연수에서 3과 5의 배수를 구하면 3, 5, 6, 9이다. 이들의 총합은 23이다.\n",
        "1000 미만의 자연수에서 3의 배수와 5의 배수의 총합을 구하라."
      ],
      "execution_count": null,
      "outputs": []
    },
    {
      "cell_type": "markdown",
      "metadata": {
        "id": "4h-DgwVcoU3S"
      },
      "source": [
        "입력 받는 값은? 1부터 999까지(1000 미만의 자연수)\n",
        "출력하는 값은? 3의 배수와 5의 배수의 총합\n",
        "생각해 볼 것은?\n",
        "1. 3의 배수와 5의 배수는 어떻게 찾지?\n",
        "2. 3의 배수와 5의 배수가 겹칠 때는 어떻게 하지?\n",
        "이 문제를 풀기 위한 중요 포인트는 두 가지이다. 한 가지는 1000 미만의 자연수를 구하는 방법이고 또 다른 한 가지는 3과 5의 배수를 구하는 것이다. 이 두 가지만 해결되면 문제는 쉽게 해결될 것으로 보인다.\n",
        "\n",
        "1. 먼저 1000 미만의 자연수는 어떻게 구할 수 있을지 생각해 보자. 여러 가지 방법이 떠오를 것이다. 다음과 같이 변수에 초깃값 1을 준 후 루프를 돌리며 1씩 증가시켜서 999까지 진행하는 방법이 가장 일반적인 방법일 것이다."
      ]
    },
    {
      "cell_type": "code",
      "metadata": {
        "id": "FgeuADMEocol"
      },
      "source": [
        "n = 1\n",
        "while n < 1000:\n",
        "  print(n)\n",
        "  n += 1"
      ],
      "execution_count": null,
      "outputs": []
    },
    {
      "cell_type": "markdown",
      "metadata": {
        "id": "lmZ1-u8JojET"
      },
      "source": [
        "또는 다음과 같이 좀 더 파이썬다운 range 함수를 사용할 수도 있다."
      ]
    },
    {
      "cell_type": "code",
      "metadata": {
        "id": "F_lNyQnDoj_C"
      },
      "source": [
        "for n in range(1, 1000):\n",
        "  print(n)"
      ],
      "execution_count": null,
      "outputs": []
    },
    {
      "cell_type": "markdown",
      "metadata": {
        "id": "pPHTl7kLop7T"
      },
      "source": [
        "두 가지 예 모두 실행하면 1부터 999까지 출력하는 것을 확인할 수 있다.\n",
        "\n",
        "2. 1000까지의 자연수를 차례로 구하는 방법을 알았으니 3과 5의 배수를 구하는 방법을 알아보자. 1000 미만의 자연수 중 3의 배수는 다음과 같이 증가할 것이다."
      ]
    },
    {
      "cell_type": "markdown",
      "metadata": {
        "id": "h1FuoxUDorhp"
      },
      "source": [
        "3, 6, 9, 12, 15, 18, …, 999\n",
        "\n",
        "그렇다면 1부터 1000까지 수가 진행되는 동안 그 수가 3의 배수인지는 어떻게 알 수 있을까? 1부터 1000까지의 수 중 3으로 나누었을 때 나누어떨어지는 경우, 즉 3으로 나누었을 때 나머지가 0인 경우가 바로 3의 배수이다. 따라서 다음과 같이 % 연산자를 사용하면 3의 배수를 쉽게 찾을 수 있다."
      ]
    },
    {
      "cell_type": "code",
      "metadata": {
        "id": "5xGJAjnfosko"
      },
      "source": [
        "for n in range(1, 1000):\n",
        "    if n % 3 == 0:\n",
        "        print(n)"
      ],
      "execution_count": null,
      "outputs": []
    },
    {
      "cell_type": "markdown",
      "metadata": {
        "id": "MyWePyyYowFq"
      },
      "source": [
        "그렇다면 5의 배수는 n % 5가 0이 되는 수로 구할 수 있을 것이다.\n",
        "\n",
        "3. 이러한 내용을 바탕으로 만든 최종 풀이는 다음과 같다."
      ]
    },
    {
      "cell_type": "code",
      "metadata": {
        "id": "skGCzw2bow-z"
      },
      "source": [
        "result = 0\n",
        "for n in range(1, 1000):\n",
        "    if n % 3 == 0 or n % 5 == 0: \n",
        "        result += n\n",
        "print(result)"
      ],
      "execution_count": null,
      "outputs": []
    },
    {
      "cell_type": "markdown",
      "metadata": {
        "id": "1rP_c7BBozOF"
      },
      "source": [
        "3과 5의 배수에 해당하는 수를 result 변수에 계속해서 더해 주었다.\n",
        "\n",
        "이 문제에는 한 가지 함정이 있는데 3으로도 5로도 나누어지는 15와 같은 수를 이중으로 더해서는 안 된다는 점이다. 따라서 15와 같이 3의 배수도 되고 5의 배수도 되는 값이 이중으로 더해지지 않기 위해 or 연산자를 사용하였다.\n",
        "\n",
        "다음 예는 15와 같은 수를 이중으로 더하여 잘못된 결과를 출력하는 잘못된 풀이이다."
      ]
    },
    {
      "cell_type": "markdown",
      "metadata": {
        "id": "t1GeciyBo00s"
      },
      "source": [
        "[잘못된 풀이]"
      ]
    },
    {
      "cell_type": "code",
      "metadata": {
        "id": "R8sgrRX0o2XX"
      },
      "source": [
        "result = 0\n",
        "for n in range(1, 1000):\n",
        "    if n % 3 == 0:\n",
        "        result += n\n",
        "    if n % 5 == 0:\n",
        "        result += n\n",
        "print(result)"
      ],
      "execution_count": null,
      "outputs": []
    },
    {
      "cell_type": "markdown",
      "metadata": {
        "id": "k0XWL7jko4E0"
      },
      "source": [
        "[코딩 연습을 할 수 있는 사이트]\n",
        "\n",
        "이 문제는 코딩 연습을 할 수 있는 \"프로젝트 오일러\"라는 사이트의 첫 번째 문제이다. 이 사이트는 첫 번째 문제부터 차례대로 풀 수 있으며 본인이 작성한 답이 맞는지 즉시 확인할 수도 있다.\n",
        "\n",
        "프로젝트 오일러(http://projecteuler.net/archives)"
      ]
    },
    {
      "cell_type": "markdown",
      "metadata": {
        "id": "VpREC-hAo9fP"
      },
      "source": [
        "## 3.게시판 페이징하기"
      ]
    },
    {
      "cell_type": "markdown",
      "metadata": {
        "id": "8sJsKyw1pA0K"
      },
      "source": [
        "A 씨는 게시판 프로그램을 작성하고 있다. 그런데 게시물의 총 건수와 한 페이지에 보여 줄 게시물 수를 입력으로 주었을 때 총 페이지 수를 출력하는 프로그램이 필요하다고 한다.\n",
        "\n",
        "※ 이렇게 게시판의 페이지 수를 보여 주는 것을 \"페이징\"한다고 부른다.\n",
        "\n",
        "함수 이름은? getTotalPage\n",
        "입력 받는 값은? 게시물의 총 건수(m), 한 페이지에 보여줄 게시물 수(n)\n",
        "출력하는 값은? 총 페이지수\n",
        "A씨가 필요한 프로그램을 만들기 위해 입력값과 결괏값이 어떻게 나와야 하는지 먼저 살펴보자. 게시물의 총 건수가 5이고 한 페이지에서 보여 줄 게시물 수가 10이면 총 페이지 수는 당연히 1이 된다. 만약 게시물의 총 건수가 15이고 한 페이지에서 보여 줄 게시물 수가 10이라면 총 페이지 수는 2가 될 것이다."
      ]
    },
    {
      "cell_type": "markdown",
      "metadata": {
        "id": "3ikvUyBdpBzN"
      },
      "source": [
        "게시물의 총 건수(m), 페이지당 보여줄 게시물 수(n) 총 페이지 수\n",
        "\n",
        "5 , 10, 1\n",
        "\n",
        "15, 10, 2\n",
        "\n",
        "25, 10, 3\n",
        "\n",
        "30, 10, 3"
      ]
    },
    {
      "cell_type": "markdown",
      "metadata": {
        "id": "YpjLrtbHpUp7"
      },
      "source": [
        "이 문제는 게시판 프로그램을 만들 때 가장 처음 마주치는 난관이라고 할 수 있는 총 페이지수를 구하는 문제이다. 사실 실제 업무에서 사용하는 페이징 기술은 훨씬 복잡한데 여기에서는 그중 가장 간단한 총 페이지 수를 구하는 방법에 대해서만 알아보겠다.\n",
        "\n",
        "1. 다음과 같이 총 건수(m)를 한 페이지에 보여 줄 게시물 수(n)로 나누고 1을 더하면 총 페이지 수를 얻을 수 있다.\n",
        "\n",
        "총 페이지 수 = (총 건수 / 한 페이지당 보여 줄 건수) + 1\n",
        "\n",
        "2. 이러한 공식을 적용했을 경우 총 페이지 수가 표의 값처럼 구해지는지 확인해 보자(m을 n으로 나눌 때 소수점 아래 자리를 버리기 위해 / 대신 // 연산자를 사용하였다)."
      ]
    },
    {
      "cell_type": "code",
      "metadata": {
        "id": "a12AcTsXpV1N"
      },
      "source": [
        "def getTotalPage(m, n):\n",
        "    return m // n + 1\n",
        "\n",
        "print(getTotalPage(5, 10))\n",
        "print(getTotalPage(15, 10))\n",
        "print(getTotalPage(25, 10))\n",
        "print(getTotalPage(30, 10))"
      ],
      "execution_count": null,
      "outputs": []
    },
    {
      "cell_type": "markdown",
      "metadata": {
        "id": "WwjXq-0PpbPG"
      },
      "source": [
        "첫 번째, 두 번째, 세 번째 케이스는 공식에 맞게 결과가 출력된다. 하지만 네 번째 케이스는 총 건수가 30이고 한 페이지에 보여 줄 건수가 10인데 4가 출력되어 실패해 버렸다. 잘 생각해 보자. 총 건수가 30이고 한 페이지에 보여 줄 건수가 10이라면 당연히 총 페이지 수는 3이되어야 한다.\n",
        "\n",
        "3. 실패 케이스는 총 게시물 수와 한 페이지에 보여 줄 게시물 수를 나눈 나머지 값이 0이 될 때 발생함을 유추할 수 있을 것이다. 이 실패 케이스를 해결하려면 다음과 같이 코드를 변경해야 한다."
      ]
    },
    {
      "cell_type": "code",
      "metadata": {
        "id": "6UevcsIopc5v"
      },
      "source": [
        "def getTotalPage(m, n):\n",
        "    if m % n == 0:\n",
        "        return m // n\n",
        "    else:\n",
        "        return m // n + 1\n",
        "\n",
        "print(getTotalPage(5, 10))\n",
        "print(getTotalPage(15, 10))\n",
        "print(getTotalPage(25, 10))\n",
        "print(getTotalPage(30, 10))"
      ],
      "execution_count": null,
      "outputs": []
    },
    {
      "cell_type": "markdown",
      "metadata": {
        "id": "a0aOMCQGpgMR"
      },
      "source": [
        "나누었을 때 나머지가 0인 경우는 나누기의 몫만 돌려주고 그 이외의 경우에는 1을 더하여 돌려주도록 변경했다.\n",
        "\n",
        "프로그램을 실행해 보면 모든 케이스가 원하던 결과를 출력함을 확인할 수 있다."
      ]
    },
    {
      "cell_type": "markdown",
      "metadata": {
        "id": "iwrLaeDtpiSt"
      },
      "source": [
        "## 간단한 메모장 만들기"
      ]
    },
    {
      "cell_type": "markdown",
      "metadata": {
        "id": "ZcU9hLHTpj27"
      },
      "source": [
        "원하는 메모를 파일에 저장하고 추가 및 조회가 가능한 간단한 메모장을 만들어 보자.\n",
        "\n",
        "필요한 기능은? 메모 추가하기, 메모 조회하기\n",
        "입력 받는 값은? 메모 내용, 프로그램 실행 옵션\n",
        "출력하는 값은? memo.txt\n",
        "가장 먼저 해야 할 일은 메모를 추가하는 것이다. 다음 명령을 실행했을 때 메모를 추가할 수 있도록 만들어 보자.\n",
        "\n",
        "python memo.py -a \"Life is too short\"\n",
        "\n",
        "memo.py는 우리가 작성할 파이썬 프로그램 이름이다. –a는 이 프로그램의 실행 옵션이고 \"Life is too short\"는 추가할 메모 내용이 된다.\n",
        "\n",
        "1. 우선 다음과 같이 입력으로 받은 옵션과 메모를 출력하는 코드를 작성해 보자."
      ]
    },
    {
      "cell_type": "code",
      "metadata": {
        "id": "P5rtVsc5pldt"
      },
      "source": [
        "# C:/doit/memo.py\n",
        "import sys\n",
        "\n",
        "option = sys.argv[1]\n",
        "memo = sys.argv[2]\n",
        "\n",
        "print(option)\n",
        "print(memo)"
      ],
      "execution_count": null,
      "outputs": []
    },
    {
      "cell_type": "markdown",
      "metadata": {
        "id": "CO8PgqStppDl"
      },
      "source": [
        "sys.argv는 프로그램을 실행할 때 입력된 값을 읽어 들일 수 있는 파이썬 라이브러리이다. sys.argv[0]는 입력받은 값 중에서 파이썬 프로그램 이름인 memo.py이므로 우리가 만들려는 기능에는 필요 없는 값이다. 그리고 순서대로 sys.argv[1]은 프로그램 실행 옵션 값이 되고 sys.argv[2]는 메모 내용이 된다.\n",
        "\n",
        "2. memo.py를 작성했다면 다음 명령을 수행해 보자.\n",
        "\n",
        "※ memo.py는 C:\\doit 디렉터리에 저장한다"
      ]
    },
    {
      "cell_type": "code",
      "metadata": {
        "id": "gyxtZ30pprIj"
      },
      "source": [
        "C:\\doit>python memo.py -a \"Life is too short\"\n",
        "-a\n",
        "Life is too short"
      ],
      "execution_count": null,
      "outputs": []
    },
    {
      "cell_type": "markdown",
      "metadata": {
        "id": "Qt8HjpRopvGk"
      },
      "source": [
        "입력으로 전달한 옵션과 메모 내용이 그대로 출력되는 것을 확인할 수 있다.\n",
        "\n",
        "3. 이제 입력으로 받은 메모를 파일에 쓰도록 코드를 변경해 보자."
      ]
    },
    {
      "cell_type": "code",
      "metadata": {
        "id": "qHiDtAmBpwIk"
      },
      "source": [
        "# c:/doit/memo.py\n",
        "import sys\n",
        "\n",
        "option = sys.argv[1]\n",
        "\n",
        "if option == '-a':\n",
        "    memo = sys.argv[2]\n",
        "    f = open('memo.txt', 'a')\n",
        "    f.write(memo)\n",
        "    f.write('\\n')\n",
        "    f.close()"
      ],
      "execution_count": null,
      "outputs": []
    },
    {
      "cell_type": "markdown",
      "metadata": {
        "id": "_uOnlp-zpx1X"
      },
      "source": [
        "옵션이 -a인 경우에만 memo 값을 읽어 memo.txt 파일에 그 값을 쓰도록 코드를 작성했다. 여기에서 메모는 항상 새로운 내용이 작성되는 것이 아니라 한 줄씩 추가되어야 하므로 파일열기 모드를 a로 했다. 그리고 메모를 추가할 때마다 다음 줄에 저장되도록 줄바꿈 문자(\\n)도 추가로 파일에 쓰게 했다.\n",
        "\n",
        "4. 이제 다음과 같은 명령을 수행해 보자."
      ]
    },
    {
      "cell_type": "code",
      "metadata": {
        "id": "TnUNJnzRpy05"
      },
      "source": [
        "C:\\doit>python memo.py -a \"Life is too short\"  \n",
        "C:\\doit>python memo.py -a \"You need python\""
      ],
      "execution_count": null,
      "outputs": []
    },
    {
      "cell_type": "markdown",
      "metadata": {
        "id": "M0_M1NnMpzv9"
      },
      "source": [
        "그리고 파일에 정상적으로 메모가 기입되었는지 다음과 같이 확인해 보자."
      ]
    },
    {
      "cell_type": "code",
      "metadata": {
        "id": "STb8WZh7p06m"
      },
      "source": [
        "C:\\doit>type memo.txt\n",
        "Life is too short\n",
        "You need python"
      ],
      "execution_count": null,
      "outputs": []
    },
    {
      "cell_type": "markdown",
      "metadata": {
        "id": "y2ZUFqtdp1xX"
      },
      "source": [
        "추가한 메모가 정상적으로 저장된 것을 볼 수 있다.\n",
        "\n",
        "5. 이번에는 작성한 메모를 출력하는 부분을 만들 차례이다. 메모 출력은 다음과 같이 동작하도록 만들어 보자.\n",
        "\n",
        "python memo.py -v\n",
        "\n",
        "메모 추가는 –a 옵션을 사용하고 메모 출력은 –v 옵션을 사용한다.\n",
        "\n",
        "이제 메모 출력을 위해 다음과 같이 코드를 변경해 보자."
      ]
    },
    {
      "cell_type": "code",
      "metadata": {
        "id": "JFgPvf1vp2x2"
      },
      "source": [
        "# c:/doit/memo.py\n",
        "import sys\n",
        "\n",
        "option = sys.argv[1]\n",
        "\n",
        "if option == '-a':\n",
        "    memo = sys.argv[2]\n",
        "    f = open('memo.txt', 'a')\n",
        "    f.write(memo)\n",
        "    f.write('\\n')\n",
        "    f.close()\n",
        "elif option == '-v':\n",
        "    f = open('memo.txt')\n",
        "    memo = f.read()\n",
        "    f.close()\n",
        "    print(memo)"
      ],
      "execution_count": null,
      "outputs": []
    },
    {
      "cell_type": "markdown",
      "metadata": {
        "id": "JzICL7UOp3_E"
      },
      "source": [
        "옵션으로 –v가 들어온 경우 memo.txt 파일을 읽어서 출력한다.\n",
        "\n",
        "6. 코드를 수정한 후 다음과 같은 명령을 수행해 보자."
      ]
    },
    {
      "cell_type": "code",
      "metadata": {
        "id": "JRECVGvAp48t"
      },
      "source": [
        "C:\\doit>python memo.py -v\n",
        "Life is too short\n",
        "You need python"
      ],
      "execution_count": null,
      "outputs": []
    },
    {
      "cell_type": "markdown",
      "metadata": {
        "id": "2PTejpy3p5zs"
      },
      "source": [
        "입력한 메모가 그대로 출력되는 것을 확인할 수 있다."
      ]
    },
    {
      "cell_type": "markdown",
      "metadata": {
        "id": "rrX-vKOlp9ON"
      },
      "source": [
        "## 5.탭을 4개의 공백으로 바꾸기"
      ]
    },
    {
      "cell_type": "markdown",
      "metadata": {
        "id": "WjPYald0qAmn"
      },
      "source": [
        "이번에는 문서 파일을 읽어서 그 문서 파일 안에 있는 탭(tab)을 공백(space) 4개로 바꾸어 주는 스크립트를 작성해 보자.\n",
        "\n",
        "필요한 기능은? 문서 파일 읽어 들이기, 문자열 변경하기\n",
        "입력 받는 값은? 탭을 포함한 문서 파일\n",
        "출력하는 값은? 탭이 공백으로 수정된 문서 파일\n",
        "다음과 같은 형식으로 프로그램이 수행되도록 만들 것이다."
      ]
    },
    {
      "cell_type": "code",
      "metadata": {
        "id": "iScRAPCGqBqG"
      },
      "source": [
        "python tabto4.py src dst"
      ],
      "execution_count": null,
      "outputs": []
    },
    {
      "cell_type": "markdown",
      "metadata": {
        "id": "qUjPBg5eqDrn"
      },
      "source": [
        "tabto4.py는 우리가 작성해야 할 파이썬 프로그램 이름이고 src는 탭을 포함하고 있는 원본 파일 이름이다. dst는 파일 안의 탭을 공백 4개로 변환한 결과를 저장할 파일 이름이다.\n",
        "\n",
        "예를 들어 a.txt 파일에 있는 탭을 4개의 공백으로 바꾸어 b.txt 파일에 저장하고 싶다면 다음과 같이 수행해야 한다."
      ]
    },
    {
      "cell_type": "code",
      "metadata": {
        "id": "IImw218EqFJg"
      },
      "source": [
        "python tabto4.py a.txt b.txt"
      ],
      "execution_count": null,
      "outputs": []
    },
    {
      "cell_type": "markdown",
      "metadata": {
        "id": "A3KddFQ6qHWM"
      },
      "source": [
        "1. 우선 다음과 같이 tabto4.py 파일을 작성해 보자.\n",
        "\n",
        "※ tabto4.py는 C:\\doit 디렉터리에 저장한다."
      ]
    },
    {
      "cell_type": "markdown",
      "metadata": {
        "id": "IQJz-ShyqI7Y"
      },
      "source": [
        "# c:/doit/tabto4.py\n",
        "import sys\n",
        "\n",
        "src = sys.argv[1]\n",
        "dst = sys.argv[2]\n",
        "\n",
        "print(src)\n",
        "print(dst)\n"
      ]
    },
    {
      "cell_type": "markdown",
      "metadata": {
        "id": "nonJWHSJqNEX"
      },
      "source": [
        "sys.argv를 사용하여 입력값을 확인하도록 만든 코드이다.\n",
        "\n",
        "2. 다음과 같이 수행했을 때 입력값이 정상적으로 출력되는지 확인해 보자."
      ]
    },
    {
      "cell_type": "code",
      "metadata": {
        "id": "gn-0dfzlqOAL"
      },
      "source": [
        "C:\\doit>python tabto4.py a.txt b.txt\n",
        "a.txt\n",
        "b.txt"
      ],
      "execution_count": null,
      "outputs": []
    },
    {
      "cell_type": "markdown",
      "metadata": {
        "id": "z3a3pF5gqO0E"
      },
      "source": [
        "입력으로 전달한 a.txt와 b.txt가 정상적으로 출력되는 것을 확인할 수 있다.\n",
        "\n",
        "3. 테스트를 위한 원본 파일(탭을 포함하는 파일)인 a.txt를 다음과 같이 작성한다. 각 단어는 탭(\\t) 문자로 분리되도록 입력해야 한다."
      ]
    },
    {
      "cell_type": "code",
      "metadata": {
        "id": "TEfG674SqRrq"
      },
      "source": [
        "Life    is  too short\n",
        "You need    python"
      ],
      "execution_count": null,
      "outputs": []
    },
    {
      "cell_type": "markdown",
      "metadata": {
        "id": "3IbYv6iFqTA2"
      },
      "source": [
        "4. 이제 탭 문자를 포함한 a.txt 파일을 읽어서 탭을 공백 4개로 변환할 수 있도록 코드를 변경해 보자."
      ]
    },
    {
      "cell_type": "code",
      "metadata": {
        "id": "mP6sgQxtqUOJ"
      },
      "source": [
        "# c:/doit/tabto4.py\n",
        "import sys\n",
        "\n",
        "src = sys.argv[1]\n",
        "dst = sys.argv[2]\n",
        "\n",
        "f = open(src)\n",
        "tab_content = f.read()\n",
        "f.close()\n",
        "\n",
        "space_content = tab_content.replace(\"\\t\", \" \"*4)\n",
        "print(space_content)"
      ],
      "execution_count": null,
      "outputs": []
    },
    {
      "cell_type": "markdown",
      "metadata": {
        "id": "df0heee_qV5I"
      },
      "source": [
        "위 코드는 src에 해당되는 입력 파일을 읽어서 그 내용을 tab_content라는 변수에 저장한 후 문자열의 replace 함수를 사용하여 탭(\\t)을 4개의 공백으로 변경하는 코드이다.\n",
        "\n",
        "5. tabto4.py를 위와 같이 변경한 후 다음과 같은 명령을 수행해 보자."
      ]
    },
    {
      "cell_type": "code",
      "metadata": {
        "id": "xrkZFdJNqW6C"
      },
      "source": [
        "C:\\doit>python tabto4.py a.txt b.txt\n",
        "Life    is    too    short\n",
        "You    need    python"
      ],
      "execution_count": null,
      "outputs": []
    },
    {
      "cell_type": "markdown",
      "metadata": {
        "id": "a3WQUBlVqX-V"
      },
      "source": [
        "아마도 탭 문자가 공백 4개로 변경되어 출력될 것이다. 하지만 탭과 공백의 차이점을 눈으로 알 수는 없으므로 탭이 정상적으로 공백으로 변경되었는지 확인하기 어렵다.\n",
        "\n",
        "6. 이제 변경된 내용을 b.txt 파일에 저장할 수 있도록 다음과 같이 프로그램을 변경해 보자."
      ]
    },
    {
      "cell_type": "code",
      "metadata": {
        "id": "eaG2AxPpqZWy"
      },
      "source": [
        "# c:/doit/tabto4.py\n",
        "import sys\n",
        "\n",
        "src = sys.argv[1]\n",
        "dst = sys.argv[2]\n",
        "\n",
        "f = open(src)\n",
        "tab_content = f.read()\n",
        "f.close()\n",
        "\n",
        "space_content = tab_content.replace(\"\\t\", \" \"*4)\n",
        "\n",
        "f = open(dst, 'w')\n",
        "f.write(space_content)\n",
        "f.close()"
      ],
      "execution_count": null,
      "outputs": []
    },
    {
      "cell_type": "markdown",
      "metadata": {
        "id": "gq6Hxn-Hqawg"
      },
      "source": [
        "탭이 공백으로 변경된 space_content를 출력 파일인 dst에 쓰도록 코드를 수정하였다.\n",
        "\n",
        "7. 프로그램을 실행하기 위해 다음 명령을 수행한다."
      ]
    },
    {
      "cell_type": "code",
      "metadata": {
        "id": "9veut7DTqbzV"
      },
      "source": [
        "C:\\doit>python tabto4.py a.txt b.txt"
      ],
      "execution_count": null,
      "outputs": []
    },
    {
      "cell_type": "markdown",
      "metadata": {
        "id": "Im1P_FASqcs-"
      },
      "source": [
        "위 명령을 수행하면 b.txt 파일이 C:\\doit 디렉터리에 생성된다. 에디터로 b.txt 파일을 열어서 탭이 4개의 공백 문자로 변경되었는지 확인해 보자. 프로그램을 작성할 때 사용하는 에디터는 대부분 탭과 공백 문자를 다르게 표시하므로 눈으로 확인이 가능할 것이다."
      ]
    },
    {
      "cell_type": "markdown",
      "metadata": {
        "id": "F7ChQ4q7qeG4"
      },
      "source": [
        "## 6.하위 디렉터리 검색하기"
      ]
    },
    {
      "cell_type": "markdown",
      "metadata": {
        "id": "rf7LFa0xqhsT"
      },
      "source": [
        "특정 디렉터리부터 시작해서 그 하위 모든 파일 중 파이썬 파일(*.py)만 출력해 주는 프로그램을 만들려면 어떻게 해야 할까?\n",
        "\n",
        "1. 다음과 같이 sub_dir_search.py 파일을 작성해 보자.\n",
        "\n",
        "※ sub_dir_search.py는 C:\\doit 디렉터리에 저장한다."
      ]
    },
    {
      "cell_type": "code",
      "metadata": {
        "id": "30pkhiD6qkXv"
      },
      "source": [
        "# C:/doit/sub_dir_search.py\n",
        "\n",
        "def search(dirname):\n",
        "    print (dirname)\n",
        "\n",
        "search(\"c:/\")"
      ],
      "execution_count": null,
      "outputs": []
    },
    {
      "cell_type": "markdown",
      "metadata": {
        "id": "PKJYOWiqqlW6"
      },
      "source": [
        "search 함수를 만들고 시작 디렉터리를 입력받도록 코드를 작성했다.\n",
        "\n",
        "2. 이제 이 디렉터리에 있는 파일을 검색할 수 있도록 소스를 변경해 보자."
      ]
    },
    {
      "cell_type": "code",
      "metadata": {
        "id": "tGCKdzRsqnK1"
      },
      "source": [
        "# C:/doit/sub_dir_search.py\n",
        "import os\n",
        "\n",
        "def search(dirname):\n",
        "    filenames = os.listdir(dirname)\n",
        "    for filename in filenames:\n",
        "        full_filename = os.path.join(dirname, filename)\n",
        "        print (full_filename)\n",
        "\n",
        "search(\"c:/\")"
      ],
      "execution_count": null,
      "outputs": []
    },
    {
      "cell_type": "markdown",
      "metadata": {
        "id": "4WugKe0iqoF3"
      },
      "source": [
        "os.listdir를 사용하면 해당 디렉터리에 있는 파일들의 리스트를 구할 수 있다. 여기에서 구하는 파일 리스트는 파일 이름만 포함되어 있으므로 경로를 포함한 파일 이름을 구하기 위해서는 입력으로 받은 dirname을 앞에 덧붙여 주어야 한다. os 모듈에는 디렉터리와 파일 이름을 이어 주는 os.path.join 함수가 있으므로 이 함수를 사용하면 디렉터리를 포함한 전체 경로를 쉽게 구할 수 있다.\n",
        "\n",
        "위 코드를 수행하면 C:/ 디렉터리에 있는 파일이 다음과 비슷하게 출력될 것이다.\n",
        "\n",
        "[디렉토리 출력 예]"
      ]
    },
    {
      "cell_type": "code",
      "metadata": {
        "id": "ffzwu8zbqpO7"
      },
      "source": [
        "c:/$Recycle.Bin\n",
        "c:/$WINDOWS.~BT\n",
        "c:/$Windows.~WS\n",
        "c:/adb\n",
        "c:/AMD\n",
        "c:/android\n",
        "c:/bootmgr\n",
        "c:/BOOTNXT\n",
        "… 생략 …"
      ],
      "execution_count": null,
      "outputs": []
    },
    {
      "cell_type": "markdown",
      "metadata": {
        "id": "A5qw5kleqqmo"
      },
      "source": [
        "3. 이제 C:/ 디렉터리에 있는 파일들 중 확장자가 .py인 파일만을 출력하도록 코드를 변경해 보자."
      ]
    },
    {
      "cell_type": "code",
      "metadata": {
        "id": "OJoiYoIWqrWE"
      },
      "source": [
        "# C:/doit/sub_dir_search.py\n",
        "import os\n",
        "\n",
        "def search(dirname):\n",
        "    filenames = os.listdir(dirname)\n",
        "    for filename in filenames:\n",
        "        full_filename = os.path.join(dirname, filename)\n",
        "        ext = os.path.splitext(full_filename)[-1]\n",
        "        if ext == '.py': \n",
        "            print(full_filename)\n",
        "\n",
        "search(\"c:/\")"
      ],
      "execution_count": null,
      "outputs": []
    },
    {
      "cell_type": "markdown",
      "metadata": {
        "id": "s4UyKaThqtE5"
      },
      "source": [
        "파일 이름에서 확장자만 추출하기 위해 os 모듈의 os.path.splitext 함수를 사용하였다. os.path.splitext는 파일 이름을 확장자를 기준으로 두 부분으로 나누어 준다. 따라서 os.path.splitext(full_filename)[-1]은 해당 파일의 확장자 이름이 된다. 위 코드는 확장자 이름이 .py인 경우만을 출력하도록 작성했다. C:/디렉터리에 파이썬 파일이 없다면 아무것도 출력되지 않을 것이다.\n",
        "\n",
        "4. 하지만 우리가 원하는 것은 C:/디렉터리 바로 밑에 있는 파일뿐만 아니라 그 하위 디렉터리(sub directory)를 포함한 모든 파이썬 파일을 검색하는 것이다. 하위 디렉터리도 검색이 가능하도록 다음과 같이 코드를 변경해야 한다."
      ]
    },
    {
      "cell_type": "code",
      "metadata": {
        "id": "yj5R3YTZquek"
      },
      "source": [
        "# C:/doit/sub_dir_search.py\n",
        "import os\n",
        "\n",
        "def search(dirname):\n",
        "    try:\n",
        "        filenames = os.listdir(dirname)\n",
        "        for filename in filenames:\n",
        "            full_filename = os.path.join(dirname, filename)\n",
        "            if os.path.isdir(full_filename):\n",
        "                search(full_filename)\n",
        "            else:\n",
        "                ext = os.path.splitext(full_filename)[-1]\n",
        "                if ext == '.py': \n",
        "                    print(full_filename)\n",
        "    except PermissionError:\n",
        "        pass\n",
        "\n",
        "search(\"c:/\")"
      ],
      "execution_count": null,
      "outputs": []
    },
    {
      "cell_type": "markdown",
      "metadata": {
        "id": "wrjitCaUqvte"
      },
      "source": [
        "try ... except PermissionError로 함수 전체를 감싼 이유는 os.listdir를 수행할 때 권한이 없는 디렉터리에 접근하더라도 프로그램이 오류로 종료되지 않고 그냥 수행되도록 하기 위해서이다.\n",
        "\n",
        "full_filename이 디렉터리인지 파일인지 구별하기 위하여 os.path.isdir 함수를 사용하였고 디렉터리일 경우 해당 경로를 입력받아 다시 search 함수를 호출하였다. 이렇게 해당 디렉터리의 파일이 디렉터리일 경우 다시 search 함수를 호출해 나가면 (재귀 호출) 해당 디렉터리의 하위 파일을 다시 검색하기 시작하므로 결국 모든 파일들을 검색할 수 있게 된다.\n",
        "\n",
        "※ 재귀 호출이란 자기 자신을 다시 호출하는 프로그래밍 기법이다. 이 코드에서 보면 search 함수에서 다시 자기 자신인 search 함수를 호출하는 것이 바로 재귀 호출이다.\n",
        "\n",
        "위 코드를 수행하면 C:/디렉터리에 있는 모든 파이썬 파일이 출력될 것이다."
      ]
    },
    {
      "cell_type": "markdown",
      "metadata": {
        "id": "eOCkLdD9qxJ5"
      },
      "source": [
        "[하위 디렉터리 검색을 쉽게 해주는 os.walk]\n",
        "\n",
        "os.walk를 사용하면 위에서 작성한 코드를 보다 간편하게 만들 수 있다. os.walk는 시작 디렉터리부터 시작하여 그 하위 모든 디렉터리를 차례대로 방문하게 해주는 함수이다."
      ]
    },
    {
      "cell_type": "code",
      "metadata": {
        "id": "qKXWzW1PqyOQ"
      },
      "source": [
        "import os\n",
        "\n",
        "for (path, dir, files) in os.walk(\"c:/\"):\n",
        "    for filename in files:\n",
        "        ext = os.path.splitext(filename)[-1]\n",
        "        if ext == '.py':\n",
        "            print(\"%s/%s\" % (path, filename))"
      ],
      "execution_count": null,
      "outputs": []
    },
    {
      "cell_type": "markdown",
      "metadata": {
        "id": "qX0NUH14qzzp"
      },
      "source": [
        "디렉터리와 파일을 검색하는 일반적인 경우라면 os.walk를 사용하는 것을 추천한다."
      ]
    },
    {
      "cell_type": "markdown",
      "metadata": {
        "id": "q6nSTZq3q25m"
      },
      "source": [
        "## 7.파이보"
      ]
    },
    {
      "cell_type": "markdown",
      "metadata": {
        "id": "25lVVGrNq6XP"
      },
      "source": [
        "파이보는 파이썬 \"질문과 답변\" 게시판 서비스이다.\n",
        "\n",
        "파이보 (https://pybo.kr)\n",
        "파이썬을 공부하며 이해되지 않는 부분이나 궁금한 점들을 파이보에 질문해 보자. 본인이 정확히 어떤 것을 모르는지 질문을 하는 것만으로도 큰 공부가 될 것이다.\n",
        "\n",
        "그리고 다른이의 질문에 대한 답변도 달아보자. 예전에 \"파이썬 정보광장\"이라는 유명한 국내 파이썬 커뮤니티가 있었는데 이곳에서 활동했던 어떤 분의 다음과 같은 말이 아직도 기억에 남는다.\n",
        "\n",
        "\"올라오는 질문들에 대한 모든 답변을 하려고 노력했습니다. 모르는 질문이 있으면 찾아보고 연구해서까지 답변을 달았습니다. 그러다보니 어느순간 파이썬에 대해서는 모르는 것이 없을 정도가 되어 있었습니다.\"\n",
        "\n",
        "안타깝게도 \"파이썬 정보광장\"은 더 이상 운영을 하지 못하게 되었지만 필자가 최근 오픈한 파이보 서비스가 그 역할을 대신하고자 하니 여러분의 많은 참여를 기대한다."
      ]
    },
    {
      "cell_type": "markdown",
      "metadata": {
        "id": "EnCzUQ7Xq8sd"
      },
      "source": [
        "## 8.코딩도장"
      ]
    },
    {
      "cell_type": "markdown",
      "metadata": {
        "id": "PHs-1wQ2q_6m"
      },
      "source": [
        "다음은 \"위대한 프로그래머가 되려면 어떻게 해야할까?\" 라는 질문에 대한 \"워드 커닝햄\"의 답변이다.\n",
        "\n",
        "저는 작지만 유용한 프로그램들을 매일 작성할 것을 추천합니다. 누군가가 똑같거나 혹은 더 나은 걸 이미 만들었다는 데에 절대 신경쓰지 마세요. 유용성과 복잡성 간의 균형 감각을 얻기 위해서는 당신 자신이 만든 프로그램의 유용성을 직접 느껴봐야만 합니다.\n",
        "-- 워드 커닝햄 (김창준씨와의 인터뷰중에서)\n",
        "\n",
        "\"워드 커닝햄\"의 말을 실천할 수 있는 방법 중 하나로 위키독스의 자매사이트인 코딩도장을 소개한다. 코딩도장은 프로그래밍 문제풀이를 통해서 코딩 실력을 수련(Practice)하는 곳이다.\n",
        "\n",
        "코딩도장 : http://codingdojang.com\n",
        "이 곳에서 쉬운문제부터 천천히 풀어보도록 하자."
      ]
    },
    {
      "cell_type": "markdown",
      "metadata": {
        "id": "TvAY3DYVq_wz"
      },
      "source": [
        "# 7장 정규표현식"
      ]
    },
    {
      "cell_type": "markdown",
      "metadata": {
        "id": "EuaVWHrerGte"
      },
      "source": [
        "필자는 \"정규 표현식\"을 이 책 《점프 투 파이썬》에 포함시켜야 할지 오랜시간 고민했다. 왜냐하면 정규 표현식은 꽤 오랜 기간 코드를 작성해 온 프로그래머라도 잘 모를 수 있는 고급 주제여서 초보자를 대상으로 하는이 책에는 어울리지 않을 수 있기 때문이다.\n",
        "\n",
        "하지만 정규 표현식을 배워 익히기만 하면 아주 달콤한 열매를 맛볼 수 있다. 그래서 파이썬 하우투(docs.python.org/3.7/howto/regex.html)를 참고하여 그곳에서 소개하는 수준의 내용만이라도 독자들이 이해하고 사용할 수 있도록 노력했다. 여러분이 정규 표현식을 잘 다루면 파이썬 외에 또 하나의 강력한 무기를 얻게 되는 것이다.\n",
        "\n",
        "다시 말하지만 프로그래밍 입문자가 이해하기에는 어려운 내용이니 부담 갖지 말고 편하게 읽어 주기 바란다."
      ]
    },
    {
      "cell_type": "markdown",
      "metadata": {
        "id": "I28H57BtrIeC"
      },
      "source": [
        "## 1.정규 표현식 살펴보기"
      ]
    },
    {
      "cell_type": "markdown",
      "metadata": {
        "id": "JWlFDmBprLYn"
      },
      "source": [
        "정규 표현식(Regular Expressions)은 복잡한 문자열을 처리할 때 사용하는 기법으로, 파이썬만의 고유 문법이 아니라 문자열을 처리하는 모든 곳에서 사용한다. 정규 표현식을 배우는 것은 파이썬을 배우는 것과는 또 다른 영역의 과제이다.\n",
        "\n",
        "※ 정규 표현식은 줄여서 간단히 \"정규식\"이라고도 말한다."
      ]
    },
    {
      "cell_type": "markdown",
      "metadata": {
        "id": "BTf6meQ2rNRh"
      },
      "source": [
        "### 정규 표현식은 왜 필요한가?"
      ]
    },
    {
      "cell_type": "markdown",
      "metadata": {
        "id": "0JO25cUPrPIT"
      },
      "source": [
        "다음과 같은 문제가 주어졌다고 가정해 보자."
      ]
    },
    {
      "cell_type": "code",
      "metadata": {
        "id": "udKYBWmErQxe"
      },
      "source": [
        "주민등록번호를 포함하고 있는 텍스트가 있다. 이 텍스트에 포함된 모든 주민등록번호의 뒷자리를 * 문자로 변경해 보자."
      ],
      "execution_count": null,
      "outputs": []
    },
    {
      "cell_type": "markdown",
      "metadata": {
        "id": "SjJ56U5frRjh"
      },
      "source": [
        "우선 정규식을 전혀 모르면 다음과 같은 순서로 프로그램을 작성해야 할 것이다.\n",
        "\n",
        "1. 전체 텍스트를 공백 문자로 나눈다(split).\n",
        "2. 나뉜 단어가 주민등록번호 형식인지 조사한다.\n",
        "3. 단어가 주민등록번호 형식이라면 뒷자리를 *로 변환한다.\n",
        "4. 나뉜 단어를 다시 조립한다.\n",
        "이를 구현한 코드는 아마도 다음과 같을 것이다."
      ]
    },
    {
      "cell_type": "code",
      "metadata": {
        "id": "e7IPU8kVrWLP"
      },
      "source": [
        "data = \"\"\"\n",
        "park 800905-1049118\n",
        "kim  700905-1059119\n",
        "\"\"\"\n",
        "\n",
        "result = []\n",
        "for line in data.split(\"\\n\"):\n",
        "    word_result = []\n",
        "    for word in line.split(\" \"):\n",
        "        if len(word) == 14 and word[:6].isdigit() and word[7:].isdigit():\n",
        "            word = word[:6] + \"-\" + \"*******\"\n",
        "        word_result.append(word)\n",
        "    result.append(\" \".join(word_result))\n",
        "print(\"\\n\".join(result))"
      ],
      "execution_count": null,
      "outputs": []
    },
    {
      "cell_type": "markdown",
      "metadata": {
        "id": "FYy_mpjKrY1A"
      },
      "source": [
        "결과값:\n",
        "park 800905-*******\n",
        "kim  700905-*******\n",
        "반면에 정규식을 사용하면 다음처럼 훨씬 간편하고 직관적인 코드를 작성할 수 있다. 아직 정규식 사용 방법을 배우지 않았으니 눈으로만 살펴보자."
      ]
    },
    {
      "cell_type": "code",
      "metadata": {
        "id": "ldMGf2qurZsX"
      },
      "source": [
        "import re \n",
        "\n",
        "data = \"\"\"\n",
        "park 800905-1049118\n",
        "kim  700905-1059119\n",
        "\"\"\"\n",
        "\n",
        "pat = re.compile(\"(\\d{6})[-]\\d{7}\")\n",
        "print(pat.sub(\"\\g<1>-*******\", data))"
      ],
      "execution_count": null,
      "outputs": []
    },
    {
      "cell_type": "markdown",
      "metadata": {
        "id": "K7RufJMirccP"
      },
      "source": [
        "결과값:\n",
        "park 800905-*******\n",
        "kim  700905-*******\n",
        "정규 표현식을 사용하면 이렇게 간단한 예제에서도 코드가 상당히 간결해진다. 만약 찾으려는 문자열 또는 바꾸어야 할 문자열의 규칙이 매우 복잡하다면 정규식의 효용은 더 커지게 된다.\n",
        "\n",
        "이제부터 정규 표현식의 기초부터 심화 부분까지 차근차근 알아보자."
      ]
    },
    {
      "cell_type": "markdown",
      "metadata": {
        "id": "QFLLZsWLrdrD"
      },
      "source": [
        "## 2.정규 표현식 시작하기"
      ]
    },
    {
      "cell_type": "markdown",
      "metadata": {
        "id": "AfY_WizFrhH2"
      },
      "source": [
        "### 정규 표현식의 기초, 메타 문자"
      ]
    },
    {
      "cell_type": "markdown",
      "metadata": {
        "id": "hgth1Bb5rj5V"
      },
      "source": [
        "정규 표현식에서 사용하는 메타 문자(meta characters)에는 다음과 같은 것이 있다.\n",
        "\n",
        "※ 메타 문자란 원래 그 문자가 가진 뜻이 아닌 특별한 용도로 사용하는 문자를 말한다."
      ]
    },
    {
      "cell_type": "code",
      "metadata": {
        "id": "own0le2-rl18"
      },
      "source": [
        ". ^ $ * + ? { } [ ] \\ | ( )"
      ],
      "execution_count": null,
      "outputs": []
    },
    {
      "cell_type": "markdown",
      "metadata": {
        "id": "IzOZp_Ckrm43"
      },
      "source": [
        "정규 표현식에 위 메타 문자를 사용하면 특별한 의미를 갖게 된다.\n",
        "\n",
        "자, 그러면 가장 간단한 정규 표현식부터 시작해 각 메타 문자의 의미와 사용법을 알아보자."
      ]
    },
    {
      "cell_type": "markdown",
      "metadata": {
        "id": "XzyhWZaPro01"
      },
      "source": [
        "### 문자 클래스 []"
      ]
    },
    {
      "cell_type": "markdown",
      "metadata": {
        "id": "DEowmbDerrIq"
      },
      "source": [
        "우리가 가장 먼저 살펴볼 메타 문자는 바로 문자 클래스(character class)인 [ ]이다. 문자 클래스로 만들어진 정규식은 \"[ ] 사이의 문자들과 매치\"라는 의미를 갖는다.\n",
        "\n",
        "※ 문자 클래스를 만드는 메타 문자인 [ ] 사이에는 어떤 문자도 들어갈 수 있다.\n",
        "\n",
        "즉 정규 표현식이 [abc]라면 이 표현식의 의미는 \"a, b, c 중 한 개의 문자와 매치\"를 뜻한다. 이해를 돕기 위해 문자열 \"a\", \"before\", \"dude\"가 정규식 [abc]와 어떻게 매치되는지 살펴보자.\n",
        "\n",
        "\"a\"는 정규식과 일치하는 문자인 \"a\"가 있으므로 매치\n",
        "\"before\"는 정규식과 일치하는 문자인 \"b\"가 있으므로 매치\n",
        "\"dude\"는 정규식과 일치하는 문자인 a, b, c 중 어느 하나도 포함하고 있지 않으므로 매치되지 않음\n",
        "[ ] 안의 두 문자 사이에 하이픈(-)을 사용하면 두 문자 사이의 범위(From - To)를 의미한다. 예를 들어 [a-c]라는 정규 표현식은 [abc]와 동일하고 [0-5]는 [012345]와 동일하다.\n",
        "\n",
        "다음은 하이픈(-)을 사용한 문자 클래스의 사용 예이다.\n",
        "\n",
        "[a-zA-Z] : 알파벳 모두\n",
        "[0-9] : 숫자\n",
        "문자 클래스([ ]) 안에는 어떤 문자나 메타 문자도 사용할수 있지만 주의해야 할 메타 문자가 1가지 있다. 그것은 바로 ^인데, 문자 클래스 안에 ^ 메타 문자를 사용할 경우에는 반대(not)라는 의미를 갖는다. 예를 들어 [^0-9]라는 정규 표현식은 숫자가 아닌 문자만 매치된다."
      ]
    },
    {
      "cell_type": "markdown",
      "metadata": {
        "id": "W6OrcHUnrs7U"
      },
      "source": [
        "[자주 사용하는 문자 클래스]\n",
        "\n",
        "[0-9] 또는 [a-zA-Z] 등은 무척 자주 사용하는 정규 표현식이다. 이렇게 자주 사용하는 정규식은 별도의 표기법으로 표현할 수 있다. 다음을 기억해 두자.\n",
        "\n",
        "\\d - 숫자와 매치, [0-9]와 동일한 표현식이다.\n",
        "\n",
        "\\D - 숫자가 아닌 것과 매치, [^0-9]와 동일한 표현식이다.\n",
        "\n",
        "\\s - whitespace 문자와 매치, [ \\t\\n\\r\\f\\v]와 동일한 표현식이다. 맨 앞의 빈 칸은 공백문자(space)를 의미한다.\n",
        "\n",
        "\\S - whitespace 문자가 아닌 것과 매치, [^ \\t\\n\\r\\f\\v]와 동일한 표현식이다.\n",
        "\n",
        "\\w - 문자+숫자(alphanumeric)와 매치, [a-zA-Z0-9_]와 동일한 표현식이다.\n",
        "\n",
        "\\W - 문자+숫자(alphanumeric)가 아닌 문자와 매치, [^a-zA-Z0-9_]와 동일한 표현식이다.\n",
        "대문자로 사용된 것은 소문자의 반대임을 추측할 수 있다."
      ]
    },
    {
      "cell_type": "markdown",
      "metadata": {
        "id": "4iNmErV7rz10"
      },
      "source": [
        "### Dot(.)"
      ]
    },
    {
      "cell_type": "markdown",
      "metadata": {
        "id": "2NiJdKvgr2W_"
      },
      "source": [
        "정규 표현식의 Dot(.) 메타 문자는 줄바꿈 문자인 \\n을 제외한 모든 문자와 매치됨을 의미한다.\n",
        "\n",
        "※ 나중에 배우겠지만 정규식을 작성할 때 re.DOTALL 옵션을 주면 \\n 문자와도 매치된다."
      ]
    },
    {
      "cell_type": "markdown",
      "metadata": {
        "id": "OWZI3g5Wr4B3"
      },
      "source": [
        "다음 정규식을 보자."
      ]
    },
    {
      "cell_type": "code",
      "metadata": {
        "id": "EmL-9Qrtr43G"
      },
      "source": [
        "a.b"
      ],
      "execution_count": null,
      "outputs": []
    },
    {
      "cell_type": "markdown",
      "metadata": {
        "id": "9s4ozPgYr5s3"
      },
      "source": [
        "위 정규식의 의미는 다음과 같다.\n",
        "\n",
        "\"a + 모든문자 + b\"\n",
        "\n",
        "즉 a와 b라는 문자 사이에 어떤 문자가 들어가도 모두 매치된다는 의미이다.\n",
        "\n",
        "이해를 돕기 위해 문자열 \"aab\", \"a0b\", \"abc\"가 정규식 a.b와 어떻게 매치되는지 살펴보자.\n",
        "\n",
        "\"aab\"는 가운데 문자 \"a\"가 모든 문자를 의미하는 .과 일치하므로 정규식과 매치된다.\n",
        "\"a0b\"는 가운데 문자 \"0\"가 모든 문자를 의미하는 .과 일치하므로 정규식과 매치된다.\n",
        "\"abc\"는 \"a\"문자와 \"b\"문자 사이에 어떤 문자라도 하나는있어야 하는 이 정규식과 일치하지 않으므로 매치되지 않는다.\n",
        "다음 정규식을 보자."
      ]
    },
    {
      "cell_type": "code",
      "metadata": {
        "id": "lGVKqqCgr6sU"
      },
      "source": [
        "a[.]b"
      ],
      "execution_count": null,
      "outputs": []
    },
    {
      "cell_type": "markdown",
      "metadata": {
        "id": "jpQMAtV_r7tg"
      },
      "source": [
        "이 정규식의 의미는 다음과 같다.\n",
        "\n",
        "\"a + Dot(.)문자 + b\"\n",
        "\n",
        "따라서 정규식 a[.]b는 \"a.b\" 문자열과 매치되고, \"a0b\" 문자열과는 매치되지 않는다.\n",
        "\n",
        "※ 만약 앞에서 살펴본 문자 클래스([]) 내에 Dot(.) 메타 문자가 사용된다면 이것은 \"모든 문자\"라는 의미가 아닌 문자 . 그대로를 의미한다. 혼동하지 않도록 주의하자."
      ]
    },
    {
      "cell_type": "markdown",
      "metadata": {
        "id": "e8X63STrr9FK"
      },
      "source": [
        "### 반복(*)"
      ]
    },
    {
      "cell_type": "markdown",
      "metadata": {
        "id": "vwhGfuvDr-0N"
      },
      "source": [
        "다음 정규식을 보자."
      ]
    },
    {
      "cell_type": "code",
      "metadata": {
        "id": "chRC2AAgr_tH"
      },
      "source": [
        "ca*t"
      ],
      "execution_count": null,
      "outputs": []
    },
    {
      "cell_type": "markdown",
      "metadata": {
        "id": "jpAsRczPsAj_"
      },
      "source": [
        "이 정규식에는 반복을 의미하는 * 메타 문자가 사용되었다. 여기에서 사용한 *은 * 바로 앞에 있는 문자 a가 0부터 무한대로 반복될 수 있다는 의미이다.\n",
        "\n",
        "※ 여기에서 * 메타 문자의 반복 개수가 무한대라고 표현했는데 사실 메모리 제한으로 2억 개 정도만 가능하다고 한다.\n",
        "\n",
        "즉 다음과 같은 문자열이 모두 매치된다."
      ]
    },
    {
      "cell_type": "markdown",
      "metadata": {
        "id": "iDKtDpKlsCkW"
      },
      "source": [
        "정규식 , 문자열 , Match 여부 , 설명\n",
        "\n",
        "ca*t, ct, Yes, \"a\"가 0번 반복되어 매치\n",
        "\n",
        "ca*t, cat, Yes, \"a\"가 0번 이상 반복되어 매치 (1번 반복)\n",
        "\n",
        "ca*t, caaat, Yes, \"a\"가 0번 이상 반복되어 매치 (3번 반복)"
      ]
    },
    {
      "cell_type": "markdown",
      "metadata": {
        "id": "onCiDvJZsaVk"
      },
      "source": [
        "### 반복 (+)"
      ]
    },
    {
      "cell_type": "markdown",
      "metadata": {
        "id": "PCyAa_-hscGP"
      },
      "source": [
        "반복을 나타내는 또 다른 메타 문자로 +가 있다. +는 최소 1번 이상 반복될 때 사용한다. 즉 *가 반복 횟수 0부터라면 +는 반복 횟수 1부터인 것이다.\n",
        "\n",
        "다음 정규식을 보자."
      ]
    },
    {
      "cell_type": "code",
      "metadata": {
        "id": "e9Od5DLXsc_s"
      },
      "source": [
        "ca+t"
      ],
      "execution_count": null,
      "outputs": []
    },
    {
      "cell_type": "markdown",
      "metadata": {
        "id": "eHvkGavKseGa"
      },
      "source": [
        "위 정규식의 의미는 다음과 같다.\n",
        "\n",
        "\"c + a(1번 이상 반복) + t\"\n",
        "\n",
        "위 정규식에 대한 매치여부는 다음 표와 같다."
      ]
    },
    {
      "cell_type": "markdown",
      "metadata": {
        "id": "D8P2kr_Gsfxn"
      },
      "source": [
        "정규식 , 문자열 , Match 여부, 설명\n",
        "\n",
        "ca+t, ct, No, \"a\"가 0번 반복되어 매치되지 않음\n",
        "\n",
        "ca+t, cat, Yes \"a\"가 1번 이상 반복되어 매치 (1번 반복)\n",
        "\n",
        "ca+t, caaat, Yes, \"a\"가 1번 이상 반복되어 매치 (3번 반복)"
      ]
    },
    {
      "cell_type": "markdown",
      "metadata": {
        "id": "ExPx941Zsy0c"
      },
      "source": [
        "### 반복 ({m,n}, ?)"
      ]
    },
    {
      "cell_type": "markdown",
      "metadata": {
        "id": "-x6uYUw2s38F"
      },
      "source": [
        "여기에서 잠깐 생각해 볼 게 있다. 반복 횟수를 3회만 또는 1회부터 3회까지만으로 제한하고 싶을 수도 있지 않을까?\n",
        "\n",
        "{ } 메타 문자를 사용하면 반복 횟수를 고정할 수 있다. {m, n} 정규식을 사용하면 반복 횟수가 m부터 n까지 매치할 수 있다. 또한 m 또는 n을 생략할 수도 있다. 만약 {3,}처럼 사용하면 반복 횟수가 3 이상인 경우이고 {,3}처럼 사용하면 반복 횟수가 3 이하를 의미한다. 생략된 m은 0과 동일하며, 생략된 n은 무한대(2억 개 미만)의 의미를 갖는다.\n",
        "\n",
        "※ {1,}은 +와 동일하고, {0,}은 *와 동일하다.\n",
        "\n",
        "{ }을 사용한 몇 가지 정규식을 살펴보자.\n",
        "\n",
        "1. {m}"
      ]
    },
    {
      "cell_type": "code",
      "metadata": {
        "id": "GJ-g9jx6s5PW"
      },
      "source": [
        "ca{2}t"
      ],
      "execution_count": null,
      "outputs": []
    },
    {
      "cell_type": "markdown",
      "metadata": {
        "id": "fJBB_JYJs6F-"
      },
      "source": [
        "위 정규식의 의미는 다음과 같다.\n",
        "\n",
        "\"c + a(반드시 2번 반복) + t\"\n",
        "\n",
        "위 정규식에 대한 매치여부는 다음 표와 같다."
      ]
    },
    {
      "cell_type": "markdown",
      "metadata": {
        "id": "mBq53uZMs7e8"
      },
      "source": [
        "정규식, 문자열, Match 여부, 설명\n",
        "\n",
        "ca{2}t, cat, No, \"a\"가 1번만 반복되어 매치되지 않음\n",
        "\n",
        "ca{2}t, caat, Yes, \"a\"가 2번 반복되어 매치"
      ]
    },
    {
      "cell_type": "markdown",
      "metadata": {
        "id": "ga4EGAYstLBM"
      },
      "source": [
        "2. {m, n}"
      ]
    },
    {
      "cell_type": "code",
      "metadata": {
        "id": "WnIPSjAbtMO4"
      },
      "source": [
        "ca{2,5}t"
      ],
      "execution_count": null,
      "outputs": []
    },
    {
      "cell_type": "markdown",
      "metadata": {
        "id": "IGKSJ9TntNMs"
      },
      "source": [
        "위 정규식의 의미는 다음과 같다:\n",
        "\n",
        "\"c + a(2~5회 반복) + t\"\n",
        "\n",
        "위 정규식에 대한 매치여부는 다음 표와 같다."
      ]
    },
    {
      "cell_type": "markdown",
      "metadata": {
        "id": "9KnNyQQitORP"
      },
      "source": [
        "정규식, 문자열ㄹ, Match 여부, 설명\n",
        "\n",
        "\n",
        "ca{2,5}t, cat, No, \"a\"가 1번만 반복되어 매치되지 않음\n",
        "\n",
        "ca{2,5}t, caat, Yes, \"a\"가 2번 반복되어 매치\n",
        "\n",
        "ca{2,5}t, caaaaat, Yes, \"a\"가 5번 반복되어 매치"
      ]
    },
    {
      "cell_type": "markdown",
      "metadata": {
        "id": "PcYT2k-gth2j"
      },
      "source": [
        "3. ?\n",
        "\n",
        "반복은 아니지만 이와 비슷한 개념으로 ? 이 있다. ? 메타문자가 의미하는 것은 {0, 1} 이다.\n",
        "\n",
        "다음 정규식을 보자."
      ]
    },
    {
      "cell_type": "code",
      "metadata": {
        "id": "3NkmmUlUti8D"
      },
      "source": [
        "ab?c"
      ],
      "execution_count": null,
      "outputs": []
    },
    {
      "cell_type": "markdown",
      "metadata": {
        "id": "TiTMHj__tjxB"
      },
      "source": [
        "위 정규식의 의미는 다음과 같다:\n",
        "\n",
        "\"a + b(있어도 되고 없어도 된다) + c\"\n",
        "\n",
        "위 정규식에 대한 매치여부는 다음 표와 같다."
      ]
    },
    {
      "cell_type": "markdown",
      "metadata": {
        "id": "Q1XXIWQKtlJY"
      },
      "source": [
        "정규식, 문자열, Match 여부, 설명\n",
        "\n",
        "ab?c, abc, Yes, \"b\"가 1번 사용되어 매치\n",
        "\n",
        "ab?c, ac, Yes, \"b\"가 0번 사용되어 매치"
      ]
    },
    {
      "cell_type": "markdown",
      "metadata": {
        "id": "eXtZ4NxMtu8W"
      },
      "source": [
        "즉 b 문자가 있거나 없거나 둘 다 매치되는 경우이다.\n",
        "\n",
        "*, +, ? 메타 문자는 모두 {m, n} 형태로 고쳐 쓰는 것이 가능하지만 가급적 이해하기 쉽고 표현도 간결한 *, +, ? 메타 문자를 사용하는 것이 좋다.\n",
        "\n",
        "지금까지 아주 기초적인 정규 표현식에 대해서 알아보았다. 알아야 할 것들이 아직 많이 남아 있지만 그에 앞에서 파이썬으로 이러한 정규 표현식을 어떻게 사용할 수 있는지 먼저 알아보기로 하자."
      ]
    },
    {
      "cell_type": "markdown",
      "metadata": {
        "id": "d78BQYxytv_6"
      },
      "source": [
        "## 파이썬에서 정규 표현식을 지원하는 re 모듈"
      ]
    },
    {
      "cell_type": "markdown",
      "metadata": {
        "id": "nZkL4Cokty6L"
      },
      "source": [
        "파이썬은 정규 표현식을 지원하기 위해 re(regular expression의 약어) 모듈을 제공한다. re 모듈은 파이썬을 설치할 때 자동으로 설치되는 기본 라이브러리로 사용 방법은 다음과 같다."
      ]
    },
    {
      "cell_type": "code",
      "metadata": {
        "id": "uFnTe3kRt0R9"
      },
      "source": [
        ">>> import re\n",
        ">>> p = re.compile('ab*')"
      ],
      "execution_count": null,
      "outputs": []
    },
    {
      "cell_type": "markdown",
      "metadata": {
        "id": "tLimDuBtt2O2"
      },
      "source": [
        "re.compile을 사용하여 정규 표현식(위 예에서는 ab*)을 컴파일한다. re.compile의 결과로 돌려주는 객체 p(컴파일된 패턴 객체)를 사용하여 그 이후의 작업을 수행할 것이다.\n",
        "\n",
        "※ 정규식을 컴파일할 때 특정 옵션을 주는 것도 가능한데, 이에 대해서는 뒤에서 자세히 살펴본다.\n",
        "※ 패턴이란 정규식을 컴파일한 결과이다."
      ]
    },
    {
      "cell_type": "markdown",
      "metadata": {
        "id": "hmQX9APlt4BJ"
      },
      "source": [
        "## 정규식을 이용한 문자열 검색"
      ]
    },
    {
      "cell_type": "markdown",
      "metadata": {
        "id": "kL1ZEmZht6ps"
      },
      "source": [
        "이제 컴파일된 패턴 객체를 사용하여 문자열 검색을 수행해 보자. 컴파일된 패턴 객체는 다음과 같은 4가지 메서드를 제공한다."
      ]
    },
    {
      "cell_type": "markdown",
      "metadata": {
        "id": "0w89ZzMet7-P"
      },
      "source": [
        "Method, 목적\n",
        "\n",
        "match(), 문자열의 처음부터 정규식과 매치되는지 조사한다.\n",
        "\n",
        "search(), 문자열 전체를 검색하여 정규식과 매치되는지 조사한다.\n",
        "\n",
        "findall(), 정규식과 매치되는 모든 문자열(substring)을 리스트로 돌려준다.\n",
        "\n",
        "finditer(), 정규식과 매치되는 모든 문자열(substring)을 반복 가능한 객체로 돌려준다."
      ]
    },
    {
      "cell_type": "markdown",
      "metadata": {
        "id": "lccg4roUuQ_1"
      },
      "source": [
        "match, search는 정규식과 매치될 때는 match 객체를 돌려주고, 매치되지 않을 때는 None을 돌려준다. 이들 메서드에 대한 간단한 예를 살펴보자.\n",
        "\n",
        "※ match 객체란 정규식의 검색 결과로 돌려주는 객체이다."
      ]
    },
    {
      "cell_type": "code",
      "metadata": {
        "id": "Ge_LJ8MFuR_m"
      },
      "source": [
        "import re\n",
        "p = re.compile('[a-z]+')"
      ],
      "execution_count": null,
      "outputs": []
    },
    {
      "cell_type": "markdown",
      "metadata": {
        "id": "WDLyZMFAuXxs"
      },
      "source": [
        "## match"
      ]
    },
    {
      "cell_type": "markdown",
      "metadata": {
        "id": "PO12-_-AuagP"
      },
      "source": [
        "match 메서드는 문자열의 처음부터 정규식과 매치되는지 조사한다. 위 패턴에 match 메서드를 수행해 보자."
      ]
    },
    {
      "cell_type": "code",
      "metadata": {
        "id": "Tg7weBBwub1B"
      },
      "source": [
        "m = p.match(\"python\")\n",
        "print(m)"
      ],
      "execution_count": null,
      "outputs": []
    },
    {
      "cell_type": "markdown",
      "metadata": {
        "id": "xhwimwR6ulCi"
      },
      "source": [
        "\"python\" 문자열은 [a-z]+ 정규식에 부합되므로 match 객체를 돌려준다."
      ]
    },
    {
      "cell_type": "code",
      "metadata": {
        "id": "VvgXUYrRumGe"
      },
      "source": [
        "m = p.match(\"3 python\")\n",
        "print(m)"
      ],
      "execution_count": null,
      "outputs": []
    },
    {
      "cell_type": "markdown",
      "metadata": {
        "id": "6i8GCEPVurLp"
      },
      "source": [
        "\"3 python\" 문자열은 처음에 나오는 문자 3이 정규식 [a-z]+에 부합되지 않으므로 None을 돌려준다.\n",
        "\n",
        "match의 결과로 match 객체 또는 None을 돌려주기 때문에 파이썬 정규식 프로그램은 보통 다음과 같은 흐름으로 작성한다."
      ]
    },
    {
      "cell_type": "code",
      "metadata": {
        "id": "mmC_cIuKusit"
      },
      "source": [
        "p = re.compile(정규표현식)\n",
        "m = p.match( 'string goes here' )\n",
        "if m:\n",
        "    print('Match found: ', m.group())\n",
        "else:\n",
        "    print('No match')"
      ],
      "execution_count": null,
      "outputs": []
    },
    {
      "cell_type": "markdown",
      "metadata": {
        "id": "1CoKxkQXuviy"
      },
      "source": [
        "즉 match의 결괏값이 있을 때만 그다음 작업을 수행하겠다는 것이다."
      ]
    },
    {
      "cell_type": "markdown",
      "metadata": {
        "id": "_qpwjjx_uwbL"
      },
      "source": [
        "## search"
      ]
    },
    {
      "cell_type": "markdown",
      "metadata": {
        "id": "Ol5ho30auySC"
      },
      "source": [
        "컴파일된 패턴 객체 p를 가지고 이번에는 search 메서드를 수행해 보자."
      ]
    },
    {
      "cell_type": "code",
      "metadata": {
        "id": "xZUy47uuuzJv"
      },
      "source": [
        "m = p.search(\"python\")\n",
        "print(m)"
      ],
      "execution_count": null,
      "outputs": []
    },
    {
      "cell_type": "markdown",
      "metadata": {
        "id": "vJ5Tx040u4Zy"
      },
      "source": [
        "\"3 python\" 문자열의 첫 번째 문자는 \"3\"이지만 search는 문자열의 처음부터 검색하는 것이 아니라 문자열 전체를 검색하기 때문에 \"3 \" 이후의 \"python\" 문자열과 매치된다.\n",
        "\n",
        "이렇듯 match 메서드와 search 메서드는 문자열의 처음부터 검색할지의 여부에 따라 다르게 사용해야 한다."
      ]
    },
    {
      "cell_type": "markdown",
      "metadata": {
        "id": "fY-hFH3Gu507"
      },
      "source": [
        "## findall"
      ]
    },
    {
      "cell_type": "markdown",
      "metadata": {
        "id": "60MV3ytdu9qF"
      },
      "source": [
        "이번에는 findall 메서드를 수행해 보자."
      ]
    },
    {
      "cell_type": "code",
      "metadata": {
        "id": "zWB1eOlJu-xq"
      },
      "source": [
        "result = p.findall(\"life is too short\")\n",
        "print(result)"
      ],
      "execution_count": null,
      "outputs": []
    },
    {
      "cell_type": "markdown",
      "metadata": {
        "id": "95Cbet8BvGgT"
      },
      "source": [
        "\"life is too short\" 문자열의 'life', 'is', 'too', 'short' 단어를 각각 [a-z]+ 정규식과 매치해서 리스트로 돌려준다."
      ]
    },
    {
      "cell_type": "markdown",
      "metadata": {
        "id": "-oM7j_8avHXD"
      },
      "source": [
        "## finditer"
      ]
    },
    {
      "cell_type": "markdown",
      "metadata": {
        "id": "b2r0g_b6vJRN"
      },
      "source": [
        "이번에는 finditer 메서드를 수행해 보자."
      ]
    },
    {
      "cell_type": "code",
      "metadata": {
        "id": "kxl8Kzd8vKE3"
      },
      "source": [
        "result = p.finditer(\"life is too short\")\n",
        "print(result)"
      ],
      "execution_count": null,
      "outputs": []
    },
    {
      "cell_type": "code",
      "metadata": {
        "id": "JbszCHMRvR4-"
      },
      "source": [
        "for r in result: print(r)"
      ],
      "execution_count": null,
      "outputs": []
    },
    {
      "cell_type": "markdown",
      "metadata": {
        "id": "NuxqsA-BvX3S"
      },
      "source": [
        "finditer는 findall과 동일하지만 그 결과로 반복 가능한 객체(iterator object)를 돌려준다. 반복 가능한 객체가 포함하는 각각의 요소는 match 객체이다."
      ]
    },
    {
      "cell_type": "markdown",
      "metadata": {
        "id": "vL0Lu-kSvanb"
      },
      "source": [
        "## match 객체의 메서드"
      ]
    },
    {
      "cell_type": "markdown",
      "metadata": {
        "id": "tnP6ccG8vdHd"
      },
      "source": [
        "자, 이제 match 메서드와 search 메서드를 수행한 결과로 돌려준 match 객체에 대해 알아보자. 앞에서 정규식을 사용한 문자열 검색을 수행하면서 아마도 다음과 같은 궁금증이 생겼을 것이다.\n",
        "\n",
        "어떤 문자열이 매치되었는가?\n",
        "매치된 문자열의 인덱스는 어디서부터 어디까지인가?\n",
        "match 객체의 메서드를 사용하면 이 같은 궁금증을 해결할 수 있다. 다음 표를 보자."
      ]
    },
    {
      "cell_type": "markdown",
      "metadata": {
        "id": "f4ac2NUrvXuf"
      },
      "source": [
        "method, 목적\n",
        "\n",
        "group(), 매치된 문자열을 돌려준다.\n",
        "\n",
        "start(), 매치된 문자열의 시작 위치를 돌려준다.\n",
        "\n",
        "end(), 매치된 문자열의 끝 위치를 돌려준다.\n",
        "\n",
        "span(), 매치된 문자열의 (시작,끝)에 해당하는 튜플을 돌려준다."
      ]
    },
    {
      "cell_type": "markdown",
      "metadata": {
        "id": "4b22yUgmvu6I"
      },
      "source": [
        "다음 예로 확인해 보자."
      ]
    },
    {
      "cell_type": "code",
      "metadata": {
        "id": "gNbSl_Xhvv_2"
      },
      "source": [
        "m = p.match(\"python\")\n",
        "m.group()"
      ],
      "execution_count": null,
      "outputs": []
    },
    {
      "cell_type": "code",
      "metadata": {
        "id": "fXeUDYRBv12O"
      },
      "source": [
        "m.start()"
      ],
      "execution_count": null,
      "outputs": []
    },
    {
      "cell_type": "code",
      "metadata": {
        "id": "AMqjdRwzv4Fm"
      },
      "source": [
        "m.end()"
      ],
      "execution_count": null,
      "outputs": []
    },
    {
      "cell_type": "code",
      "metadata": {
        "id": "0NnD4sQzv6cm"
      },
      "source": [
        "m.span()"
      ],
      "execution_count": null,
      "outputs": []
    },
    {
      "cell_type": "markdown",
      "metadata": {
        "id": "3CwTEPYbv8r_"
      },
      "source": [
        "예상한 대로 결괏값이 출력되는 것을 확인할 수 있다. match 메서드를 수행한 결과로 돌려준 match 객체의 start()의 결괏값은 항상 0일 수밖에 없다. 왜냐하면 match 메서드는 항상 문자열의 시작부터 조사하기 때문이다.\n",
        "\n",
        "만약 search 메서드를 사용했다면 start() 값은 다음과 같이 다르게 나올 것이다."
      ]
    },
    {
      "cell_type": "code",
      "metadata": {
        "id": "tqqF-X9Rv-SZ"
      },
      "source": [
        "m = p.search(\"3 python\")\n",
        "m.group()"
      ],
      "execution_count": null,
      "outputs": []
    },
    {
      "cell_type": "code",
      "metadata": {
        "id": "MoyqR4GvwD4D"
      },
      "source": [
        "m.start()"
      ],
      "execution_count": null,
      "outputs": []
    },
    {
      "cell_type": "code",
      "metadata": {
        "id": "D0DHCm4cwF2N"
      },
      "source": [
        "m.end()"
      ],
      "execution_count": null,
      "outputs": []
    },
    {
      "cell_type": "code",
      "metadata": {
        "id": "sdhCfR06wH9V"
      },
      "source": [
        "m.span()"
      ],
      "execution_count": null,
      "outputs": []
    },
    {
      "cell_type": "markdown",
      "metadata": {
        "id": "EBpFk_avwJ1q"
      },
      "source": [
        "[모듈 단위로 수행하기]\n",
        "\n",
        "지금까지 우리는 re.compile을 사용하여 컴파일된 패턴 객체로 그 이후의 작업을 수행했다. re 모듈은 이것을 좀 축약한 형태로 사용할 수 있는 방법을 제공한다. 다음 예를 보자."
      ]
    },
    {
      "cell_type": "code",
      "metadata": {
        "id": "5sdRPXXSwLWS"
      },
      "source": [
        "p = re.compile('[a-z]+')\n",
        "m = p.match(\"python\")"
      ],
      "execution_count": null,
      "outputs": []
    },
    {
      "cell_type": "markdown",
      "metadata": {
        "id": "9I7lAI38wRcV"
      },
      "source": [
        "위 코드가 축약된 형태는 다음과 같다."
      ]
    },
    {
      "cell_type": "code",
      "metadata": {
        "id": "6E48h4OwwSec"
      },
      "source": [
        "m = re.match('[a-z]+',\"python\")"
      ],
      "execution_count": null,
      "outputs": []
    },
    {
      "cell_type": "markdown",
      "metadata": {
        "id": "Pokb_NypwX-5"
      },
      "source": [
        "위 예처럼 사용하면 컴파일과 match 메서드를 한 번에 수행할 수 있다. 보통 한 번 만든 패턴 객체를 여러번 사용해야 할 때는 이 방법보다 re.compile을 사용하는 것이 편하다."
      ]
    },
    {
      "cell_type": "markdown",
      "metadata": {
        "id": "YDZrX5TVwY4e"
      },
      "source": [
        "## 컴파일 옵션"
      ]
    },
    {
      "cell_type": "markdown",
      "metadata": {
        "id": "9H_EerodwajU"
      },
      "source": [
        "정규식을 컴파일할 때 다음 옵션을 사용할 수 있다.\n",
        "\n",
        "DOTALL(S) - . 이 줄바꿈 문자를 포함하여 모든 문자와 매치할 수 있도록 한다.\n",
        "IGNORECASE(I) - 대소문자에 관계없이 매치할 수 있도록 한다.\n",
        "MULTILINE(M) - 여러줄과 매치할 수 있도록 한다. (^, $ 메타문자의 사용과 관계가 있는 옵션이다)\n",
        "VERBOSE(X) - verbose 모드를 사용할 수 있도록 한다. (정규식을 보기 편하게 만들수 있고 주석등을 사용할 수 있게된다.)\n",
        "옵션을 사용할 때는 re.DOTALL처럼 전체 옵션 이름을 써도 되고 re.S처럼 약어를 써도 된다."
      ]
    },
    {
      "cell_type": "markdown",
      "metadata": {
        "id": "-nvxuoeJwb2A"
      },
      "source": [
        "## DOTALL,S"
      ]
    },
    {
      "cell_type": "markdown",
      "metadata": {
        "id": "KzJYVCOnweMY"
      },
      "source": [
        ". 메타 문자는 줄바꿈 문자(\\n)를 제외한 모든 문자와 매치되는 규칙이 있다. 만약 \\n 문자도 포함하여 매치하고 싶다면 re.DOTALL 또는 re.S 옵션을 사용해 정규식을 컴파일하면 된다.\n",
        "\n",
        "다음 예를 보자."
      ]
    },
    {
      "cell_type": "code",
      "metadata": {
        "id": "lDxWsZOFwfUz",
        "outputId": "dbc69ab9-b27e-49d7-ff9d-f86a9db939b1",
        "colab": {
          "base_uri": "https://localhost:8080/",
          "height": 35
        }
      },
      "source": [
        "import re\n",
        "p = re.compile('a.b')\n",
        "m = p.match('a\\nb')\n",
        "print(m)"
      ],
      "execution_count": null,
      "outputs": [
        {
          "output_type": "stream",
          "text": [
            "None\n"
          ],
          "name": "stdout"
        }
      ]
    },
    {
      "cell_type": "markdown",
      "metadata": {
        "id": "xF-O7rViwsWa"
      },
      "source": [
        "정규식이 a.b인 경우 문자열 a\\nb는 매치되지 않음을 알 수 있다. 왜냐하면 \\n은 . 메타 문자와 매치되지 않기 때문이다. \\n 문자와도 매치되게 하려면 다음과 같이 re.DOTALL 옵션을 사용해야 한다."
      ]
    },
    {
      "cell_type": "code",
      "metadata": {
        "id": "PfzpY19IwtXN"
      },
      "source": [
        "p = re.compile('a.b', re.DOTALL)\n",
        "m = p.match('a\\nb')\n",
        "print(m)"
      ],
      "execution_count": null,
      "outputs": []
    },
    {
      "cell_type": "markdown",
      "metadata": {
        "id": "uO3civD7w4sL"
      },
      "source": [
        "보통 re.DOTALL 옵션은 여러 줄로 이루어진 문자열에서 \\n에 상관없이 검색할 때 많이 사용한다."
      ]
    },
    {
      "cell_type": "markdown",
      "metadata": {
        "id": "P0UbXLvpw53H"
      },
      "source": [
        "## IGNORECASE, I"
      ]
    },
    {
      "cell_type": "markdown",
      "metadata": {
        "id": "lc44beSqw7UI"
      },
      "source": [
        "re.IGNORECASE 또는 re.I 옵션은 대소문자 구별 없이 매치를 수행할 때 사용하는 옵션이다. 다음 예제를 보자."
      ]
    },
    {
      "cell_type": "code",
      "metadata": {
        "id": "3t177kA5w8nu"
      },
      "source": [
        "p = re.compile('[a-z]', re.I)\n",
        "p.match('python')"
      ],
      "execution_count": null,
      "outputs": []
    },
    {
      "cell_type": "code",
      "metadata": {
        "id": "Oc2Sc1iyxFd9"
      },
      "source": [
        "p.match('Python')"
      ],
      "execution_count": null,
      "outputs": []
    },
    {
      "cell_type": "code",
      "metadata": {
        "id": "2udcIAGUxPA5"
      },
      "source": [
        "p.match('PYTHON')"
      ],
      "execution_count": null,
      "outputs": []
    },
    {
      "cell_type": "markdown",
      "metadata": {
        "id": "1Bcy3DTKxUxY"
      },
      "source": [
        "[a-z] 정규식은 소문자만을 의미하지만 re.I 옵션으로 대소문자 구별 없이 매치된다."
      ]
    },
    {
      "cell_type": "markdown",
      "metadata": {
        "id": "WGZZkLPexVzp"
      },
      "source": [
        "## MULTILINE, M"
      ]
    },
    {
      "cell_type": "markdown",
      "metadata": {
        "id": "47tw9pYvxXNk"
      },
      "source": [
        "re.MULTILINE 또는 re.M 옵션은 조금 후에 설명할 메타 문자인 ^, $와 연관된 옵션이다. 이 메타 문자에 대해 간단히 설명하자면 ^는 문자열의 처음을 의미하고, $는 문자열의 마지막을 의미한다. 예를 들어 정규식이 ^python인 경우 문자열의 처음은 항상 python으로 시작해야 매치되고, 만약 정규식이 python$이라면 문자열의 마지막은 항상 python으로 끝나야 매치된다는 의미이다.\n",
        "\n",
        "다음 예를 보자."
      ]
    },
    {
      "cell_type": "code",
      "metadata": {
        "id": "lueqnEuQxYRZ"
      },
      "source": [
        "import re\n",
        "p = re.compile(\"^python\\s\\w+\")\n",
        "\n",
        "data = \"\"\"python one\n",
        "life is too short\n",
        "python two\n",
        "you need python\n",
        "python three\"\"\"\n",
        "\n",
        "print(p.findall(data))"
      ],
      "execution_count": null,
      "outputs": []
    },
    {
      "cell_type": "markdown",
      "metadata": {
        "id": "yoW1Fllgxblv"
      },
      "source": [
        "정규식 ^python\\s\\w+은 python이라는 문자열로 시작하고 그 뒤에 whitespace, 그 뒤에 단어가 와야 한다는 의미이다. 검색할 문자열 data는 여러 줄로 이루어져 있다.\n",
        "\n",
        "이 스크립트를 실행하면 다음과 같은 결과를 돌려준다."
      ]
    },
    {
      "cell_type": "code",
      "metadata": {
        "id": "IuJaDc3Uxch5"
      },
      "source": [
        "['python one']"
      ],
      "execution_count": null,
      "outputs": []
    },
    {
      "cell_type": "markdown",
      "metadata": {
        "id": "4A5cdNW0xdiE"
      },
      "source": [
        "^ 메타 문자에 의해 python이라는 문자열을 사용한 첫 번째 줄만 매치된 것이다.\n",
        "\n",
        "하지만 ^ 메타 문자를 문자열 전체의 처음이 아니라 각 라인의 처음으로 인식시키고 싶은 경우도 있을 것이다. 이럴 때 사용할 수 있는 옵션이 바로 re.MULTILINE 또는 re.M이다. 위 코드를 다음과 같이 수정해 보자."
      ]
    },
    {
      "cell_type": "code",
      "metadata": {
        "id": "UuZ4Ynubxekz"
      },
      "source": [
        "import re\n",
        "p = re.compile(\"^python\\s\\w+\", re.MULTILINE)\n",
        "\n",
        "data = \"\"\"python one\n",
        "life is too short\n",
        "python two\n",
        "you need python\n",
        "python three\"\"\"\n",
        "\n",
        "print(p.findall(data))"
      ],
      "execution_count": null,
      "outputs": []
    },
    {
      "cell_type": "markdown",
      "metadata": {
        "id": "rsS35mhpxg0M"
      },
      "source": [
        "re.MULTILINE 옵션으로 인해 ^ 메타 문자가 문자열 전체가 아닌 각 줄의 처음이라는 의미를 갖게 되었다. 이 스크립트를 실행하면 다음과 같은 결과가 출력된다."
      ]
    },
    {
      "cell_type": "code",
      "metadata": {
        "id": "JdPvu5UJxjYc"
      },
      "source": [
        "['python one', 'python two', 'python three']"
      ],
      "execution_count": null,
      "outputs": []
    },
    {
      "cell_type": "markdown",
      "metadata": {
        "id": "HnX6V9yDxkWg"
      },
      "source": [
        "즉 re.MULTILINE 옵션은 ^, $ 메타 문자를 문자열의 각 줄마다 적용해 주는 것이다."
      ]
    },
    {
      "cell_type": "markdown",
      "metadata": {
        "id": "6Djkv6rhxlXH"
      },
      "source": [
        "## VERBOSE, X"
      ]
    },
    {
      "cell_type": "markdown",
      "metadata": {
        "id": "pQmGyd71xnbj"
      },
      "source": [
        "지금껏 알아본 정규식은 매우 간단하지만 정규식 전문가들이 만든 정규식을 보면 거의 암호수준이다. 정규식을 이해하려면 하나하나 조심스럽게 뜯어보아야만 한다. 이렇게 이해하기 어려운 정규식을 주석 또는 줄 단위로 구분할 수 있다면 얼마나 보기 좋고 이해하기 쉬울까? 방법이 있다. 바로 re.VERBOSE 또는 re.X 옵션을 사용하면 된다.\n",
        "\n",
        "다음 예를 보자."
      ]
    },
    {
      "cell_type": "code",
      "metadata": {
        "id": "iY2l_XXLxodi"
      },
      "source": [
        "charref = re.compile(r'&[#](0[0-7]+|[0-9]+|x[0-9a-fA-F]+);')"
      ],
      "execution_count": null,
      "outputs": []
    },
    {
      "cell_type": "markdown",
      "metadata": {
        "id": "UUmSaqxgxqGW"
      },
      "source": [
        "위 정규식이 쉽게 이해되는가? 이제 다음 예를 보자."
      ]
    },
    {
      "cell_type": "code",
      "metadata": {
        "id": "MbEmeG-Jxq9F"
      },
      "source": [
        "charref = re.compile(r\"\"\"\n",
        " &[#]                # Start of a numeric entity reference\n",
        " (\n",
        "     0[0-7]+         # Octal form\n",
        "   | [0-9]+          # Decimal form\n",
        "   | x[0-9a-fA-F]+   # Hexadecimal form\n",
        " )\n",
        " ;                   # Trailing semicolon\n",
        "\"\"\", re.VERBOSE)"
      ],
      "execution_count": null,
      "outputs": []
    },
    {
      "cell_type": "markdown",
      "metadata": {
        "id": "ko80LwCYxsy4"
      },
      "source": [
        "첫 번째와 두 번째 예를 비교해 보면 컴파일된 패턴 객체인 charref는 모두 동일한 역할을 한다. 하지만 정규식이 복잡할 경우 두 번째처럼 주석을 적고 여러 줄로 표현하는 것이 훨씬 가독성이 좋다는 것을 알 수 있다."
      ]
    },
    {
      "cell_type": "markdown",
      "metadata": {
        "id": "O8giL2bYxugw"
      },
      "source": [
        "re.VERBOSE 옵션을 사용하면 문자열에 사용된 whitespace는 컴파일할 때 제거된다(단 [ ] 안에 사용한 whitespace는 제외). 그리고 줄 단위로 #기호를 사용하여 주석문을 작성할 수 있다."
      ]
    },
    {
      "cell_type": "markdown",
      "metadata": {
        "id": "lC0_bsAgxxNP"
      },
      "source": [
        "## 백슬래시 문제"
      ]
    },
    {
      "cell_type": "markdown",
      "metadata": {
        "id": "ArJnZ8kJx0dQ"
      },
      "source": [
        "정규 표현식을 파이썬에서 사용할 때 혼란을 주는 요소가 한 가지 있는데, 바로 백슬래시(\\)이다.\n",
        "\n",
        "예를 들어 어떤 파일 안에 있는 \"\\section\" 문자열을 찾기 위한 정규식을 만든다고 가정해 보자."
      ]
    },
    {
      "cell_type": "code",
      "metadata": {
        "id": "bXomrxFDx18y"
      },
      "source": [
        "\\section"
      ],
      "execution_count": null,
      "outputs": []
    },
    {
      "cell_type": "markdown",
      "metadata": {
        "id": "JBlwq0UIx4ak"
      },
      "source": [
        "이 정규식은 \\s 문자가 whitespace로 해석되어 의도한 대로 매치가 이루어지지 않는다.\n",
        "\n",
        "위 표현은 다음과 동일한 의미이다."
      ]
    },
    {
      "cell_type": "code",
      "metadata": {
        "id": "lb5KC5k0x6Vk"
      },
      "source": [
        "[ \\t\\n\\r\\f\\v]ection"
      ],
      "execution_count": null,
      "outputs": []
    },
    {
      "cell_type": "markdown",
      "metadata": {
        "id": "WitOW-x3x8dH"
      },
      "source": [
        "의도한 대로 매치하고 싶다면 다음과 같이 변경해야 한다."
      ]
    },
    {
      "cell_type": "code",
      "metadata": {
        "id": "eVSa_s8nx9WN"
      },
      "source": [
        "\\\\section"
      ],
      "execution_count": null,
      "outputs": []
    },
    {
      "cell_type": "markdown",
      "metadata": {
        "id": "CNJLpK4rx_cN"
      },
      "source": [
        "즉 위 정규식에서 사용한 \\ 문자가 문자열 자체임을 알려 주기 위해 백슬래시 2개를 사용하여 이스케이프 처리를 해야 한다.\n",
        "\n",
        "따라서 위 정규식을 컴파일하려면 다음과 같이 작성해야 한다."
      ]
    },
    {
      "cell_type": "code",
      "metadata": {
        "id": "34O8FTeuyA2l"
      },
      "source": [
        "p = re.compile('\\\\section')"
      ],
      "execution_count": null,
      "outputs": []
    },
    {
      "cell_type": "markdown",
      "metadata": {
        "id": "mlojvsZlyEKd"
      },
      "source": [
        "그런데 여기에서 또 하나의 문제가 발견된다. 위처럼 정규식을 만들어서 컴파일하면 실제 파이썬 정규식 엔진에는 파이썬 문자열 리터럴 규칙에 따라 \\\\이 \\로 변경되어 \\section이 전달된다.\n",
        "\n",
        "※ 이 문제는 위와 같은 정규식을 파이썬에서 사용할 때만 발생한다(파이썬의 리터럴 규칙). 유닉스의 grep, vi 등에서는 이러한 문제가 없다.\n",
        "\n",
        "결국 정규식 엔진에 \\\\ 문자를 전달하려면 파이썬은 \\\\\\\\처럼 백슬래시를 4개나 사용해야 한다.\n",
        "\n",
        "※ 정규식 엔진은 정규식을 해석하고 수행하는 모듈이다."
      ]
    },
    {
      "cell_type": "code",
      "metadata": {
        "id": "GZtA9aFcyGbd"
      },
      "source": [
        " p = re.compile('\\\\\\\\section')"
      ],
      "execution_count": null,
      "outputs": []
    },
    {
      "cell_type": "markdown",
      "metadata": {
        "id": "54aIm75LyI36"
      },
      "source": [
        "이렇게 해야만 원하는 결과를 얻을 수 있다. 하지만 너무 복잡하지 않은가?\n",
        "\n",
        "만약 위와 같이 \\를 사용한 표현이 계속 반복되는 정규식이라면 너무 복잡해서 이해하기 쉽지않을 것이다. 이러한 문제로 인해 파이썬 정규식에는 Raw String 규칙이 생겨나게 되었다. 즉 컴파일해야 하는 정규식이 Raw String임을 알려 줄 수 있도록 파이썬 문법을 만든 것이다. 그 방법은 다음과 같다."
      ]
    },
    {
      "cell_type": "code",
      "metadata": {
        "id": "CDLYB5VTyJ_S"
      },
      "source": [
        "p = re.compile(r'\\\\section')"
      ],
      "execution_count": null,
      "outputs": []
    },
    {
      "cell_type": "markdown",
      "metadata": {
        "id": "pdNYeDOZyMFV"
      },
      "source": [
        "위와 같이 정규식 문자열 앞에 r 문자를 삽입하면 이 정규식은 Raw String 규칙에 의하여 백슬래시 2개 대신 1개만 써도 2개를 쓴 것과 동일한 의미를 갖게 된다.\n",
        "\n",
        "※ 만약 백슬래시를 사용하지 않는 정규식이라면 r의 유무에 상관없이 동일한 정규식이 될 것이다."
      ]
    },
    {
      "cell_type": "markdown",
      "metadata": {
        "id": "85MflxJgyNN7"
      },
      "source": [
        "## 3.강력한 정규 표현식의 세계로"
      ]
    },
    {
      "cell_type": "markdown",
      "metadata": {
        "id": "vmI3LAbYyQpO"
      },
      "source": [
        "이제 07-2에서 배우지 않은 몇몇 메타 문자의 의미를 살펴보고 그룹(Group)을 만드는 법, 전방 탐색 등 더욱 강력한 정규 표현식에 대해서 살펴보자."
      ]
    },
    {
      "cell_type": "markdown",
      "metadata": {
        "id": "VHFelvmFyR0w"
      },
      "source": [
        "## 메타문자"
      ]
    },
    {
      "cell_type": "markdown",
      "metadata": {
        "id": "BMScU6mHyTbC"
      },
      "source": [
        "아직 살펴보지 않은 메타 문자에 대해서 모두 살펴보자. 여기에서 다룰 메타 문자는 앞에서 살펴본 메타 문자와 성격이 조금 다르다. 앞에서 살펴본 +, *, [], {} 등의 메타문자는 매치가 진행될 때 현재 매치되고 있는 문자열의 위치가 변경된다(보통 소비된다고 표현한다). 하지만 이와 달리 문자열을 소비시키지 않는 메타 문자도 있다. 이번에는 이런 문자열 소비가 없는(zerowidth assertions) 메타 문자에 대해 살펴보자."
      ]
    },
    {
      "cell_type": "markdown",
      "metadata": {
        "id": "yfksbEajyWU-"
      },
      "source": [
        "## |"
      ]
    },
    {
      "cell_type": "markdown",
      "metadata": {
        "id": "U8sljcH1yYV5"
      },
      "source": [
        "| 메타 문자는 or과 동일한 의미로 사용된다. A|B라는 정규식이 있다면 A 또는 B라는 의미가 된다."
      ]
    },
    {
      "cell_type": "code",
      "metadata": {
        "id": "kUKyOoVHyfLt",
        "outputId": "f13b35af-56fc-4a17-a524-5fa1d13c5d35",
        "colab": {
          "base_uri": "https://localhost:8080/",
          "height": 35
        }
      },
      "source": [
        "p = re.compile('Crow|Servo')\n",
        "m = p.match('CrowHello')\n",
        "print(m)"
      ],
      "execution_count": null,
      "outputs": [
        {
          "output_type": "stream",
          "text": [
            "<_sre.SRE_Match object; span=(0, 4), match='Crow'>\n"
          ],
          "name": "stdout"
        }
      ]
    },
    {
      "cell_type": "markdown",
      "metadata": {
        "id": "HQ8Zb3DtykJ9"
      },
      "source": [
        "## ^"
      ]
    },
    {
      "cell_type": "markdown",
      "metadata": {
        "id": "Sx9L6-T6ylx4"
      },
      "source": [
        "^ 메타 문자는 문자열의 맨 처음과 일치함을 의미한다. 앞에서 살펴본 컴파일 옵션 re.MULTILINE을 사용할 경우에는 여러 줄의 문자열일 때 각 줄의 처음과 일치하게 된다.\n",
        "\n",
        "다음 예를 보자."
      ]
    },
    {
      "cell_type": "code",
      "metadata": {
        "id": "9OYMAa0vyngf"
      },
      "source": [
        "print(re.search('^Life', 'Life is too short'))"
      ],
      "execution_count": null,
      "outputs": []
    },
    {
      "cell_type": "code",
      "metadata": {
        "id": "44EBBnjqypwm"
      },
      "source": [
        "print(re.search('^Life', 'My Life'))"
      ],
      "execution_count": null,
      "outputs": []
    },
    {
      "cell_type": "markdown",
      "metadata": {
        "id": "OAGcFyAkyryw"
      },
      "source": [
        "^Life 정규식은 Life 문자열이 처음에 온 경우에는 매치하지만 처음 위치가 아닌 경우에는 매치되지 않음을 알 수 있다."
      ]
    },
    {
      "cell_type": "code",
      "metadata": {
        "id": "ksOkF48yywH-"
      },
      "source": [
        "## $"
      ],
      "execution_count": null,
      "outputs": []
    },
    {
      "cell_type": "markdown",
      "metadata": {
        "id": "K7nnyKljyxQv"
      },
      "source": [
        "$ 메타 문자는 ^ 메타 문자와 반대의 경우이다. 즉 $는 문자열의 끝과 매치함을 의미한다.\n",
        "\n",
        "다음 예를 보자."
      ]
    },
    {
      "cell_type": "code",
      "metadata": {
        "id": "TT44Q-Rqyyqr"
      },
      "source": [
        "print(re.search('short$', 'Life is too short'))"
      ],
      "execution_count": null,
      "outputs": []
    },
    {
      "cell_type": "code",
      "metadata": {
        "id": "-c8m_uWly05z"
      },
      "source": [
        "print(re.search('short$', 'Life is too short, you need python'))"
      ],
      "execution_count": null,
      "outputs": []
    },
    {
      "cell_type": "markdown",
      "metadata": {
        "id": "Qn9sfgTky3dN"
      },
      "source": [
        "short$ 정규식은 검색할 문자열이 short로 끝난 경우에는 매치되지만 그 이외의 경우에는 매치되지 않음을 알 수 있다.\n",
        "\n",
        "※ ^ 또는 $ 문자를 메타 문자가 아닌 문자 그 자체로 매치하고 싶은 경우에는 \\^, \\$ 로 사용하면 된다."
      ]
    },
    {
      "cell_type": "markdown",
      "metadata": {
        "id": "ow5OH2qfy5nE"
      },
      "source": [
        "## \\A"
      ]
    },
    {
      "cell_type": "markdown",
      "metadata": {
        "id": "d11EVRgfy8c2"
      },
      "source": [
        "\\A는 문자열의 처음과 매치됨을 의미한다. ^ 메타 문자와 동일한 의미이지만 re.MULTILINE 옵션을 사용할 경우에는 다르게 해석된다. re.MULTILINE 옵션을 사용할 경우 ^은 각 줄의 문자열의 처음과 매치되지만 \\A는 줄과 상관없이 전체 문자열의 처음하고만 매치된다."
      ]
    },
    {
      "cell_type": "markdown",
      "metadata": {
        "id": "ntWM7AJiy9vv"
      },
      "source": [
        "## \\Z"
      ]
    },
    {
      "cell_type": "markdown",
      "metadata": {
        "id": "xUkY0rmLy_Kq"
      },
      "source": [
        "\\Z는 문자열의 끝과 매치됨을 의미한다. 이것 역시 \\A와 동일하게 re.MULTILINE 옵션을 사용할 경우 $ 메타 문자와는 달리 전체 문자열의 끝과 매치된다."
      ]
    },
    {
      "cell_type": "markdown",
      "metadata": {
        "id": "mauRIhN8zAxC"
      },
      "source": [
        "## \\b\n"
      ]
    },
    {
      "cell_type": "markdown",
      "metadata": {
        "id": "asU6MuzLzDp6"
      },
      "source": [
        "\\b는 단어 구분자(Word boundary)이다. 보통 단어는 whitespace에 의해 구분된다.\n",
        "\n",
        "다음 예를 보자."
      ]
    },
    {
      "cell_type": "code",
      "metadata": {
        "id": "WchFuvQ8zEoT"
      },
      "source": [
        "p = re.compile(r'\\bclass\\b')\n",
        "print(p.search('no class at all'))"
      ],
      "execution_count": null,
      "outputs": []
    },
    {
      "cell_type": "markdown",
      "metadata": {
        "id": "O4D5ytb8zH9i"
      },
      "source": [
        "\\bclass\\b 정규식은 앞뒤가 whitespace로 구분된 class라는 단어와 매치됨을 의미한다. 따라서 no class at all의 class라는 단어와 매치됨을 확인할 수 있다."
      ]
    },
    {
      "cell_type": "code",
      "metadata": {
        "id": "7uBWPb1YzJIV"
      },
      "source": [
        "print(p.search('the declassified algorithm'))"
      ],
      "execution_count": null,
      "outputs": []
    },
    {
      "cell_type": "markdown",
      "metadata": {
        "id": "MXIvzOcrzNJr"
      },
      "source": [
        "위 예의 the declassified algorithm 문자열 안에도 class 문자열이 포함되어 있긴 하지만 whitespace로 구분된 단어가 아니므로 매치되지 않는다."
      ]
    },
    {
      "cell_type": "code",
      "metadata": {
        "id": "-OSJYVZRzOM7"
      },
      "source": [
        "print(p.search('one subclass is'))"
      ],
      "execution_count": null,
      "outputs": []
    },
    {
      "cell_type": "markdown",
      "metadata": {
        "id": "fNgsWhv3zQlj"
      },
      "source": [
        "subclass 문자열 역시 class 앞에 sub 문자열이 더해져 있으므로 매치되지 않음을 알 수 있다."
      ]
    },
    {
      "cell_type": "markdown",
      "metadata": {
        "id": "JfBjUuP6zR8R"
      },
      "source": [
        "\\b 메타 문자를 사용할 때 주의해야 할 점이 있다. \\b는 파이썬 리터럴 규칙에 의하면 백스페이스(BackSpace)를 의미하므로 백스페이스가 아닌 단어 구분자임을 알려 주기 위해 r'\\bclass\\b'처럼 Raw string임을 알려주는 기호 r을 반드시 붙여 주어야 한다."
      ]
    },
    {
      "cell_type": "markdown",
      "metadata": {
        "id": "CoqAmWTuzTo-"
      },
      "source": [
        "## \\B"
      ]
    },
    {
      "cell_type": "markdown",
      "metadata": {
        "id": "tOsVP6H3zWWe"
      },
      "source": [
        "\\B 메타 문자는 \\b 메타 문자와 반대의 경우이다. 즉 whitespace로 구분된 단어가 아닌 경우에만 매치된다."
      ]
    },
    {
      "cell_type": "code",
      "metadata": {
        "id": "RFrSqmIozXyS",
        "outputId": "3dec1c0b-4b3c-422e-f7ba-02aeafe1878b",
        "colab": {
          "base_uri": "https://localhost:8080/",
          "height": 35
        }
      },
      "source": [
        "p = re.compile(r'\\Bclass\\B')\n",
        "print(p.search('no class at all'))"
      ],
      "execution_count": null,
      "outputs": [
        {
          "output_type": "stream",
          "text": [
            "None\n"
          ],
          "name": "stdout"
        }
      ]
    },
    {
      "cell_type": "code",
      "metadata": {
        "id": "An7meQWHzcmA"
      },
      "source": [
        " print(p.search('the declassified algorithm'))"
      ],
      "execution_count": null,
      "outputs": []
    },
    {
      "cell_type": "code",
      "metadata": {
        "id": "Z3ZLAfurzfNj"
      },
      "source": [
        "print(p.search('one subclass is'))"
      ],
      "execution_count": null,
      "outputs": []
    },
    {
      "cell_type": "markdown",
      "metadata": {
        "id": "m_lDmIuUzjAy"
      },
      "source": [
        "class 단어의 앞뒤에 whitespace가 하나라도 있는 경우에는 매치가 안 되는 것을 확인할 수 있다."
      ]
    },
    {
      "cell_type": "markdown",
      "metadata": {
        "id": "Bkn6HWH9zk5o"
      },
      "source": [
        "## 그루핑"
      ]
    },
    {
      "cell_type": "markdown",
      "metadata": {
        "id": "HBEYHbVuzmsc"
      },
      "source": [
        "ABC 문자열이 계속해서 반복되는지 조사하는 정규식을 작성하고 싶다고 하자. 어떻게 해야할까? 지금까지 공부한 내용으로는 위 정규식을 작성할 수 없다. 이럴 때 필요한 것이 바로 그루핑(Grouping) 이다.\n",
        "\n",
        "위 경우는 다음처럼 그루핑을 사용하여 작성할 수 있다"
      ]
    },
    {
      "cell_type": "code",
      "metadata": {
        "id": "5nhjiAkqznyr"
      },
      "source": [
        "(ABC)+"
      ],
      "execution_count": null,
      "outputs": []
    },
    {
      "cell_type": "markdown",
      "metadata": {
        "id": "-BXhoHV_zosq"
      },
      "source": [
        "그룹을 만들어 주는 메타 문자는 바로 ( )이다."
      ]
    },
    {
      "cell_type": "code",
      "metadata": {
        "id": "J1tUaGnUzqHB"
      },
      "source": [
        "p = re.compile('(ABC)+')\n",
        "m = p.search('ABCABCABC OK?')\n",
        "print(m)"
      ],
      "execution_count": null,
      "outputs": []
    },
    {
      "cell_type": "code",
      "metadata": {
        "id": "iMTyCg36zxCg"
      },
      "source": [
        "print(m.group())"
      ],
      "execution_count": null,
      "outputs": []
    },
    {
      "cell_type": "markdown",
      "metadata": {
        "id": "_aCESLsqz0Sc"
      },
      "source": [
        "다음 예를 보자."
      ]
    },
    {
      "cell_type": "code",
      "metadata": {
        "id": "DGJnj14Dz1Sr"
      },
      "source": [
        "p = re.compile(r\"\\w+\\s+\\d+[-]\\d+[-]\\d+\")\n",
        "m = p.search(\"park 010-1234-1234\")"
      ],
      "execution_count": null,
      "outputs": []
    },
    {
      "cell_type": "markdown",
      "metadata": {
        "id": "1WChOofEz84M"
      },
      "source": [
        "\\w+\\s+\\d+[-]\\d+[-]\\d+은 이름 + \" \" + 전화번호 형태의 문자열을 찾는 정규식이다. 그런데 이렇게 매치된 문자열 중에서 이름만 뽑아내고 싶다면 어떻게 해야 할까?\n",
        "\n",
        "보통 반복되는 문자열을 찾을 때 그룹을 사용하는데, 그룹을 사용하는 보다 큰 이유는 위에서 볼 수 있듯이 매치된 문자열 중에서 특정 부분의 문자열만 뽑아내기 위해서인 경우가 더 많다.\n",
        "\n",
        "위 예에서 만약 ‘이름’ 부분만 뽑아내려 한다면 다음과 같이 할 수 있다."
      ]
    },
    {
      "cell_type": "code",
      "metadata": {
        "id": "pdJm_gDG0DLt"
      },
      "source": [
        "p = re.compile(r\"(\\w+)\\s+\\d+[-]\\d+\")\n",
        "m = p.search(\"park 010-1234-1234\")\n",
        "print(m.group(1))"
      ],
      "execution_count": null,
      "outputs": []
    },
    {
      "cell_type": "markdown",
      "metadata": {
        "id": "wUdA9oQY0gp7"
      },
      "source": [
        "이름에 해당하는 \\w+ 부분을 그룹 (\\w+)으로 만들면 match 객체의 group(인덱스) 메서드를 사용하여 그루핑된 부분의 문자열만 뽑아낼 수 있다. group 메서드의 인덱스는 다음과 같은 의미를 갖는다."
      ]
    },
    {
      "cell_type": "markdown",
      "metadata": {
        "id": "CahlgPqc0iAv"
      },
      "source": [
        "group(인덱스), 설명\n",
        "\n",
        "group(0), 매치된 전체 문자열\n",
        "\n",
        "group(1), 첫 번째 그룹에 해당되는 문자열\n",
        "\n",
        "group(2), 두 번째 그룹에 해당되는 문자열\n",
        "\n",
        "group(n), n 번째 그룹에 해당되는 문자열"
      ]
    },
    {
      "cell_type": "markdown",
      "metadata": {
        "id": "OT8exi3h0vuB"
      },
      "source": [
        "다음 예제를 계속해서 보자."
      ]
    },
    {
      "cell_type": "code",
      "metadata": {
        "id": "G8ZYEHw_0wk5"
      },
      "source": [
        "p = re.compile(r\"(\\w+)\\s+(\\d+[-]\\d+[-]\\d+)\")\n",
        "m = p.search(\"park 010-1234-1234\")\n",
        "print(m.group(2))"
      ],
      "execution_count": null,
      "outputs": []
    },
    {
      "cell_type": "markdown",
      "metadata": {
        "id": "oGZfueR8012T"
      },
      "source": [
        "이번에는 전화번호 부분을 추가로 그룹 (\\d+[-]\\d+[-]\\d+)로 만들었다. 이렇게 하면 group(2)처럼 사용하여 전화번호만 뽑아낼 수 있다.\n",
        "\n",
        "만약 전화번호 중에서 국번만 뽑아내고 싶으면 어떻게 해야 할까? 다음과 같이 국번 부분을 또 그루핑하면 된다."
      ]
    },
    {
      "cell_type": "code",
      "metadata": {
        "id": "rdwSLx3q028s"
      },
      "source": [
        "p = re.compile(r\"(\\w+)\\s+((\\d+)[-]\\d+[-]\\d+)\")\n",
        "m = p.search(\"park 010-1234-1234\")\n",
        "print(m.group(3))"
      ],
      "execution_count": null,
      "outputs": []
    },
    {
      "cell_type": "markdown",
      "metadata": {
        "id": "OGLsvjHQ0783"
      },
      "source": [
        "위 예에서 볼 수 있듯이 (\\w+)\\s+((\\d+)[-]\\d+[-]\\d+)처럼 그룹을 중첩되게 사용하는 것도 가능하다. 그룹이 중첩되어 있는 경우는 바깥쪽부터 시작하여 안쪽으로 들어갈수록 인덱스가 증가한다."
      ]
    },
    {
      "cell_type": "markdown",
      "metadata": {
        "id": "zwEdreGs09us"
      },
      "source": [
        "## 그루핑된 문자열 재참조하기"
      ]
    },
    {
      "cell_type": "markdown",
      "metadata": {
        "id": "K4Dsl6dn1AH3"
      },
      "source": [
        "그룹의 또 하나 좋은 점은 한 번 그루핑한 문자열을 재참조(Backreferences)할 수 있다는 점이다. 다음 예를 보자."
      ]
    },
    {
      "cell_type": "code",
      "metadata": {
        "id": "GekGx4lh1BUm"
      },
      "source": [
        "p = re.compile(r'(\\b\\w+)\\s+\\1')\n",
        "p.search('Paris in the the spring').group()"
      ],
      "execution_count": null,
      "outputs": []
    },
    {
      "cell_type": "markdown",
      "metadata": {
        "id": "14uovknj1FFx"
      },
      "source": [
        "정규식 (\\b\\w+)\\s+\\1은 (그룹) + \" \" + 그룹과 동일한 단어와 매치됨을 의미한다. 이렇게 정규식을 만들게 되면 2개의 동일한 단어를 연속적으로 사용해야만 매치된다. 이것을 가능하게 해주는 것이 바로 재참조 메타 문자인 \\1이다. \\1은 정규식의 그룹 중 첫 번째 그룹을 가리킨다."
      ]
    },
    {
      "cell_type": "markdown",
      "metadata": {
        "id": "vp46fPWs1G68"
      },
      "source": [
        "※ 두 번째 그룹을 참조하려면 \\2를 사용하면 된다."
      ]
    },
    {
      "cell_type": "markdown",
      "metadata": {
        "id": "EvSFMOtJ1IHu"
      },
      "source": [
        "## 그루핑된 문자열에 이름 붙이기"
      ]
    },
    {
      "cell_type": "markdown",
      "metadata": {
        "id": "dzxhGIvh1Lh1"
      },
      "source": [
        "정규식 안에 그룹이 무척 많아진다고 가정해 보자. 예를 들어 정규식 안에 그룹이 10개 이상만 되어도 매우 혼란스러울 것이다. 거기에 더해 정규식이 수정되면서 그룹이 추가, 삭제되면 그 그룹을 인덱스로 참조한 프로그램도 모두 변경해 주어야 하는 위험도 갖게 된다.\n",
        "\n",
        "만약 그룹을 인덱스가 아닌 이름(Named Groups)으로 참조할 수 있다면 어떨까? 그렇다면 이런 문제에서 해방되지 않을까?\n",
        "\n",
        "이러한 이유로 정규식은 그룹을 만들 때 그룹 이름을 지정할 수 있게 했다. 그 방법은 다음과 같다."
      ]
    },
    {
      "cell_type": "code",
      "metadata": {
        "id": "KBegv3hd1M58"
      },
      "source": [
        "(?P<name>\\w+)\\s+((\\d+)[-]\\d+[-]\\d+)"
      ],
      "execution_count": null,
      "outputs": []
    },
    {
      "cell_type": "markdown",
      "metadata": {
        "id": "rzfZ_aaS1N80"
      },
      "source": [
        "위 정규식은 앞에서 본 이름과 전화번호를 추출하는 정규식이다. 기존과 달라진 부분은 다음과 같다."
      ]
    },
    {
      "cell_type": "markdown",
      "metadata": {
        "id": "c1o6XNJ51QeX"
      },
      "source": [
        "(\\w+) --> (?P<name>\\w+)\n",
        "\n",
        "대단히 복잡해진 것처럼 보이지만 (\\w+)라는 그룹에 name이라는 이름을 붙인 것에 불과하다. 여기에서 사용한 (?...) 표현식은 정규 표현식의 확장 구문이다. 이 확장 구문을 사용하기 시작하면 가독성이 상당히 떨어지긴 하지만 반면에 강력함을 갖게 된다.\n",
        "\n",
        "그룹에 이름을 지어 주려면 다음과 같은 확장 구문을 사용해야 한다."
      ]
    },
    {
      "cell_type": "code",
      "metadata": {
        "id": "jIJDoLJz1SE6"
      },
      "source": [
        "(?P<그룹명>...)"
      ],
      "execution_count": null,
      "outputs": []
    },
    {
      "cell_type": "markdown",
      "metadata": {
        "id": "_6ZRozC-1S1b"
      },
      "source": [
        "그룹에 이름을 지정하고 참조하는 다음 예를 보자."
      ]
    },
    {
      "cell_type": "code",
      "metadata": {
        "id": "pgvOADp21UcE"
      },
      "source": [
        "p = re.compile(r\"(?P<name>\\w+)\\s+((\\d+)[-]\\d+[-]\\d+)\")\n",
        "m = p.search(\"park 010-1234-1234\")\n",
        "print(m.group(\"name\"))"
      ],
      "execution_count": null,
      "outputs": []
    },
    {
      "cell_type": "markdown",
      "metadata": {
        "id": "dDiuppTc1cD_"
      },
      "source": [
        "위 예에서 볼 수 있듯이 name이라는 그룹 이름으로 참조할 수 있다.\n",
        "\n",
        "그룹 이름을 사용하면 정규식 안에서 재참조하는 것도 가능하다."
      ]
    },
    {
      "cell_type": "code",
      "metadata": {
        "id": "98wrzq4X1c9l",
        "outputId": "3405fff3-663b-4406-8ff6-6b9f46808779",
        "colab": {
          "base_uri": "https://localhost:8080/",
          "height": 35
        }
      },
      "source": [
        "p = re.compile(r'(?P<word>\\b\\w+)\\s+(?P=word)')\n",
        "p.search('Paris in the the spring').group()"
      ],
      "execution_count": null,
      "outputs": [
        {
          "output_type": "execute_result",
          "data": {
            "application/vnd.google.colaboratory.intrinsic+json": {
              "type": "string"
            },
            "text/plain": [
              "'the the'"
            ]
          },
          "metadata": {
            "tags": []
          },
          "execution_count": 107
        }
      ]
    },
    {
      "cell_type": "markdown",
      "metadata": {
        "id": "rm-xgvfF1iRB"
      },
      "source": [
        "위 예에서 볼 수 있듯이 재참조할 때에는 (?P=그룹이름)이라는 확장 구문을 사용해야 한다."
      ]
    },
    {
      "cell_type": "markdown",
      "metadata": {
        "id": "4SA506oG1kxN"
      },
      "source": [
        "## 전방 탐색"
      ]
    },
    {
      "cell_type": "markdown",
      "metadata": {
        "id": "Ctu5nkXZ1mbu"
      },
      "source": [
        "정규식에 막 입문한 사람들이 가장 어려워하는 것이 바로 전방 탐색(Lookahead Assertions) 확장 구문이다. 정규식 안에 이 확장 구문을 사용하면 순식간에 암호문처럼 알아보기 어렵게 바뀌기 때문이다. 하지만 이 전방 탐색이 꼭 필요한 경우가 있으며 매우 유용한 경우도 많으니 꼭 알아 두자.\n",
        "\n",
        "다음 예를 보자."
      ]
    },
    {
      "cell_type": "code",
      "metadata": {
        "id": "MvBtgZNP1nT0"
      },
      "source": [
        "p = re.compile(\".+:\")\n",
        "m = p.search(\"http://google.com\")\n",
        "print(m.group())"
      ],
      "execution_count": null,
      "outputs": []
    },
    {
      "cell_type": "markdown",
      "metadata": {
        "id": "eRNv-AME1umV"
      },
      "source": [
        "정규식 .+:과 일치하는 문자열로 http:를 돌려주었다. 만약 http:라는 검색 결과에서 :을 제외하고 출력하려면 어떻게 해야 할까? 위 예는 그나마 간단하지만 훨씬 복잡한 정규식이어서 그루핑은 추가로 할 수 없다는 조건까지 더해진다면 어떻게 해야 할까?\n",
        "\n",
        "이럴 때 사용할 수 있는 것이 바로 전방 탐색이다. 전방 탐색에는 긍정(Positive)과 부정(Negative)의 2종류가 있고 다음과 같이 표현한다.\n",
        "\n",
        "긍정형 전방 탐색((?=...)) - ... 에 해당되는 정규식과 매치되어야 하며 조건이 통과되어도 문자열이 소비되지 않는다.\n",
        "부정형 전방 탐색((?!...)) - ...에 해당되는 정규식과 매치되지 않아야 하며 조건이 통과되어도 문자열이 소비되지 않는다."
      ]
    },
    {
      "cell_type": "markdown",
      "metadata": {
        "id": "WmBIbBY71wOK"
      },
      "source": [
        "## 긍정형 전방 탐색"
      ]
    },
    {
      "cell_type": "markdown",
      "metadata": {
        "id": "aAROdUxo1yGk"
      },
      "source": [
        "긍정형 전방 탐색을 사용하면 http:의 결과를 http로 바꿀 수 있다. 다음 예를 보자"
      ]
    },
    {
      "cell_type": "code",
      "metadata": {
        "id": "rPSjzLFv10f0"
      },
      "source": [
        "p = re.compile(\".+(?=:)\")\n",
        "m = p.search(\"http://google.com\")\n",
        "print(m.group())"
      ],
      "execution_count": null,
      "outputs": []
    },
    {
      "cell_type": "markdown",
      "metadata": {
        "id": "x3Vn3-cu16IN"
      },
      "source": [
        "정규식 중 :에 해당하는 부분에 긍정형 전방 탐색 기법을 적용하여 (?=:)으로 변경하였다. 이렇게 되면 기존 정규식과 검색에서는 동일한 효과를 발휘하지만 : 에 해당하는 문자열이 정규식 엔진에 의해 소비되지 않아(검색에는 포함되지만 검색 결과에는 제외됨) 검색 결과에서는 :이 제거된 후 돌려주는 효과가 있다.\n",
        "\n",
        "자, 이번에는 다음 정규식을 보자."
      ]
    },
    {
      "cell_type": "code",
      "metadata": {
        "id": "a3aFu7Em198T"
      },
      "source": [
        ".*[.].*$"
      ],
      "execution_count": null,
      "outputs": []
    },
    {
      "cell_type": "markdown",
      "metadata": {
        "id": "0xIty_lL1-sP"
      },
      "source": [
        "이 정규식은 파일 이름 + . + 확장자를 나타내는 정규식이다. 이 정규식은 foo.bar, autoexec.bat, sendmail.cf 같은 형식의 파일과 매치될 것이다.\n",
        "\n",
        "이 정규식에 확장자가 \"bat인 파일은 제외해야 한다\"는 조건을 추가해 보자. 가장 먼저 생각할 수 있는 정규식은 다음과 같다."
      ]
    },
    {
      "cell_type": "code",
      "metadata": {
        "id": "OfR-YNb91_nV"
      },
      "source": [
        ".*[.][^b].*$"
      ],
      "execution_count": null,
      "outputs": []
    },
    {
      "cell_type": "markdown",
      "metadata": {
        "id": "K_Pf8Jgh2Akz"
      },
      "source": [
        "이 정규식은 확장자가 b라는 문자로 시작하면 안 된다는 의미이다. 하지만 이 정규식은 foo.bar라는 파일마저 걸러 낸다. 정규식을 다음과 같이 수정해 보자."
      ]
    },
    {
      "cell_type": "code",
      "metadata": {
        "id": "gxUn0yPL2BjE"
      },
      "source": [
        ".*[.]([^b]..|.[^a].|..[^t])$"
      ],
      "execution_count": null,
      "outputs": []
    },
    {
      "cell_type": "markdown",
      "metadata": {
        "id": "k3pto7CV2Cf8"
      },
      "source": [
        "이 정규식은 | 메타 문자를 사용하여 확장자의 첫 번째 문자가 b가 아니거나 두 번째 문자가 a가 아니거나 세 번째 문자가 t가 아닌 경우를 의미한다. 이 정규식에 의하여 foo.bar는 제외되지 않고 autoexec.bat은 제외되어 만족스러운 결과를 돌려준다. 하지만 이 정규식은 아쉽게도 sendmail.cf처럼 확장자의 문자 개수가 2개인 케이스를 포함하지 못하는 오동작을 하기 시작한다.\n",
        "\n",
        "따라서 다음과 같이 바꾸어야 한다."
      ]
    },
    {
      "cell_type": "code",
      "metadata": {
        "id": "K4LNyIof2D1s"
      },
      "source": [
        ".*[.]([^b].?.?|.[^a]?.?|..?[^t]?)$"
      ],
      "execution_count": null,
      "outputs": []
    },
    {
      "cell_type": "markdown",
      "metadata": {
        "id": "o-aA4otM2FNE"
      },
      "source": [
        "확장자의 문자 개수가 2개여도 통과되는 정규식이 만들어졌다. 하지만 정규식은 점점 더 복잡해지고 이해하기 어려워진다.\n",
        "\n",
        "그런데 여기에서 bat 파일말고 exe 파일도 제외하라는 조건이 추가로 생긴다면 어떻게 될까? 이 모든 조건을 만족하는 정규식을 구현하려면 패턴은 더욱더 복잡해질 것이다."
      ]
    },
    {
      "cell_type": "markdown",
      "metadata": {
        "id": "kbMXqgED2Gm-"
      },
      "source": [
        "## 부정형 전방 탐색"
      ]
    },
    {
      "cell_type": "markdown",
      "metadata": {
        "id": "cSWx2T6Z2IiE"
      },
      "source": [
        "이러한 상황의 구원 투수는 바로 부정형 전방 탐색이다. 위 예는 부정형 전방 탐색을 사용하면 다음과 같이 간단하게 처리된다."
      ]
    },
    {
      "cell_type": "code",
      "metadata": {
        "id": "Pp00gtSu2Jf1"
      },
      "source": [
        ".*[.](?!bat$).*$"
      ],
      "execution_count": null,
      "outputs": []
    },
    {
      "cell_type": "markdown",
      "metadata": {
        "id": "Yc713HfE2KMm"
      },
      "source": [
        "확장자가 bat가 아닌 경우에만 통과된다는 의미이다. bat 문자열이 있는지 조사하는 과정에서 문자열이 소비되지 않으므로 bat가 아니라고 판단되면 그 이후 정규식 매치가 진행된다.\n",
        "\n",
        "exe 역시 제외하라는 조건이 추가되더라도 다음과 같이 간단히 표현할 수 있다."
      ]
    },
    {
      "cell_type": "code",
      "metadata": {
        "id": "U4wYZG692Nge"
      },
      "source": [
        ".*[.](?!bat$|exe$).*$"
      ],
      "execution_count": null,
      "outputs": []
    },
    {
      "cell_type": "markdown",
      "metadata": {
        "id": "b602yE1W2OwH"
      },
      "source": [
        "## 문자열 바꾸기"
      ]
    },
    {
      "cell_type": "markdown",
      "metadata": {
        "id": "vzQzxNAC2SKo"
      },
      "source": [
        "sub 메서드를 사용하면 정규식과 매치되는 부분을 다른 문자로 쉽게 바꿀 수 있다.\n",
        "\n",
        "다음 예를 보자."
      ]
    },
    {
      "cell_type": "code",
      "metadata": {
        "id": "G6U-lTSm2UJW"
      },
      "source": [
        "p = re.compile('(blue|white|red)')\n",
        "p.sub('colour', 'blue socks and red shoes')"
      ],
      "execution_count": null,
      "outputs": []
    },
    {
      "cell_type": "markdown",
      "metadata": {
        "id": "mNTH5Wqs2ZP_"
      },
      "source": [
        "sub 메서드의 첫 번째 매개변수는 \"바꿀 문자열(replacement)\"이 되고, 두 번째 매개변수는 \"대상 문자열\"이 된다. 위 예에서 볼 수 있듯이 blue 또는 white 또는 red라는 문자열이 colour라는 문자열로 바뀌는 것을 확인할 수 있다.\n",
        "\n",
        "그런데 딱 한 번만 바꾸고 싶은 경우도 있다. 이렇게 바꾸기 횟수를 제어하려면 다음과 같이 세 번째 매개변수로 count 값을 넘기면 된다."
      ]
    },
    {
      "cell_type": "code",
      "metadata": {
        "id": "tCavluQ02aVr"
      },
      "source": [
        "p.sub('colour', 'blue socks and red shoes', count=1)"
      ],
      "execution_count": null,
      "outputs": []
    },
    {
      "cell_type": "markdown",
      "metadata": {
        "id": "AHwuPIza2dHq"
      },
      "source": [
        "처음 일치하는 blue만 colour라는 문자열로 한 번만 바꾸기가 실행되는 것을 알 수 있다."
      ]
    },
    {
      "cell_type": "markdown",
      "metadata": {
        "id": "seuvZpM02eSN"
      },
      "source": [
        "[sub 메서드와 유사한 subn 메서드]\n",
        "\n",
        "subn 역시 sub와 동일한 기능을 하지만 반환 결과를 튜플로 돌려준다는 차이가 있다. 돌려준 튜플의 첫 번째 요소는 변경된 문자열이고, 두 번째 요소는 바꾸기가 발생한 횟수이다."
      ]
    },
    {
      "cell_type": "code",
      "metadata": {
        "id": "qq0q-ELQ2fP8"
      },
      "source": [
        "p = re.compile('(blue|white|red)')\n",
        "p.subn( 'colour', 'blue socks and red shoes')"
      ],
      "execution_count": null,
      "outputs": []
    },
    {
      "cell_type": "markdown",
      "metadata": {
        "id": "D66pSLIi2jJV"
      },
      "source": [
        "##  sub 메서드 사용 시 참조 구문 사용하기"
      ]
    },
    {
      "cell_type": "markdown",
      "metadata": {
        "id": "hTzeBOAP2ngJ"
      },
      "source": [
        "sub 메서드를 사용할 때 참조 구문을 사용할 수 있다. 다음 예를 보자."
      ]
    },
    {
      "cell_type": "code",
      "metadata": {
        "id": "AIcvqkv-2pXs"
      },
      "source": [
        "p = re.compile(r\"(?P<name>\\w+)\\s+(?P<phone>(\\d+)[-]\\d+[-]\\d+)\")\n",
        "print(p.sub(\"\\g<phone> \\g<name>\", \"park 010-1234-1234\"))"
      ],
      "execution_count": null,
      "outputs": []
    },
    {
      "cell_type": "markdown",
      "metadata": {
        "id": "32TF1PK12tGQ"
      },
      "source": [
        "위 예는 이름 + 전화번호의 문자열을 전화번호 + 이름으로 바꾸는 예이다. sub의 바꿀 문자열 부분에 \\g<그룹이름>을 사용하면 정규식의 그룹 이름을 참조할 수 있게 된다.\n",
        "\n",
        "다음과 같이 그룹 이름 대신 참조 번호를 사용해도 마찬가지 결과를 돌려준다."
      ]
    },
    {
      "cell_type": "code",
      "metadata": {
        "id": "XOpv2ac12uDt"
      },
      "source": [
        "p = re.compile(r\"(?P<name>\\w+)\\s+(?P<phone>(\\d+)[-]\\d+[-]\\d+)\")\n",
        "print(p.sub(\"\\g<2> \\g<1>\", \"park 010-1234-1234\"))"
      ],
      "execution_count": null,
      "outputs": []
    },
    {
      "cell_type": "markdown",
      "metadata": {
        "id": "WkN4sP3m21CP"
      },
      "source": [
        "## sub 메서드의 매개변수로 함수 넣기"
      ]
    },
    {
      "cell_type": "markdown",
      "metadata": {
        "id": "ANOV97mP24Bz"
      },
      "source": [
        "sub 메서드의 첫 번째 매개변수로 함수를 넣을 수도 있다. 다음 예를 보자."
      ]
    },
    {
      "cell_type": "code",
      "metadata": {
        "id": "exWEXhRA25QR"
      },
      "source": [
        "def hexrepl(match):\n",
        " value = int(match.group())\n",
        " return hex(value)\n",
        " "
      ],
      "execution_count": null,
      "outputs": []
    },
    {
      "cell_type": "code",
      "metadata": {
        "id": "6dxqC7_J3Hkk"
      },
      "source": [
        "p = re.compile(r'\\d+')\n",
        "p.sub(hexrepl, 'Call 65490 for printing, 49152 for user code.')"
      ],
      "execution_count": null,
      "outputs": []
    },
    {
      "cell_type": "markdown",
      "metadata": {
        "id": "df-NBxM83M-4"
      },
      "source": [
        "hexrepl 함수는 match 객체(위에서 숫자에 매치되는)를 입력으로 받아 16진수로 변환하여 돌려주는 함수이다. sub의 첫 번째 매개변수로 함수를 사용할 경우 해당 함수의 첫 번째 매개변수에는 정규식과 매치된 match 객체가 입력된다. 그리고 매치되는 문자열은 함수의 반환 값으로 바뀌게 된다."
      ]
    },
    {
      "cell_type": "markdown",
      "metadata": {
        "id": "kbcsGhMd3OJi"
      },
      "source": [
        "## Greedy vs Non-Greedy"
      ]
    },
    {
      "cell_type": "markdown",
      "metadata": {
        "id": "5MsDTrD23TGM"
      },
      "source": [
        "정규식에서 Greedy(탐욕스러운)란 어떤 의미일까? 다음 예제를 보자."
      ]
    },
    {
      "cell_type": "code",
      "metadata": {
        "id": "ysAcPzcC3UJg"
      },
      "source": [
        "s = '<html><head><title>Title</title>'\n",
        "len(s)"
      ],
      "execution_count": null,
      "outputs": []
    },
    {
      "cell_type": "code",
      "metadata": {
        "id": "a-7fcjsT3YMA"
      },
      "source": [
        "print(re.match('<.*>', s).span())"
      ],
      "execution_count": null,
      "outputs": []
    },
    {
      "cell_type": "code",
      "metadata": {
        "id": "NOMjEUma3afV"
      },
      "source": [
        "print(re.match('<.*>', s).group())"
      ],
      "execution_count": null,
      "outputs": []
    }
  ]
}