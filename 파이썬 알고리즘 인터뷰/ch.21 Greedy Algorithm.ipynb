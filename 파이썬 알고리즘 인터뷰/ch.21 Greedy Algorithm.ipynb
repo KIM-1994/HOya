{
 "cells": [
  {
   "cell_type": "markdown",
   "metadata": {},
   "source": [
    "## **그리디 알고리즘**\n",
    "---"
   ]
  },
  {
   "cell_type": "markdown",
   "metadata": {},
   "source": [
    "+ 그리디 알고리즘(탐욕법)은 **현재 상황에서 지금 당장 좋은 것만 고르는 방법**을 의미한다.\n",
    "+ 일반적인 그리디 알고리즘은 문제를 풀기 위한 최소한의 아이디어를 떠올릴 수 있는 능력을 요구한다.\n",
    "+ 그리디 해법은 그 정당성 분석이 중요하다.\n",
    "    + 단순히 가장 좋아 보이는 것을 반복적으로 선택해도 최적의 해를 구할 수 있는지 검토한다."
   ]
  },
  {
   "cell_type": "markdown",
   "metadata": {},
   "source": [
    "##### **예제 문제**"
   ]
  },
  {
   "cell_type": "markdown",
   "metadata": {},
   "source": [
    "**<거스름돈 문제>**  \n",
    "+ 우리는 거스름돈을 줄 때 가장 적은 양의 화폐를 주는 것이 제일 편하다.  \n",
    "\n",
    "\n",
    "예를 들어 560원을 걸러주어야 할 때 10원짜리 56개를 주는 것 보다 500원짜리 1개, 50원짜리 1개, 10원짜리 1개를 주는 것이 총 3개로 더 편하다. 따라서 이런 경우 '무조건 더 큰 화폐 단위부터 거슬러 준다'는 알고리즘만 지키면 최적희 해를 보장할 수 있다."
   ]
  },
  {
   "cell_type": "markdown",
   "metadata": {},
   "source": [
    "이러한 그러디 알고리즘은 기본적으로 무조건 큰 경우대로, 무조건 작은 경우대로, 무조건 긴 경우대로, 무조건 짧은 경우대로 등으로 극단적인 문제에 접근한다는 점에서 **정렬(Sort) 기법**이 함께 사용되는 경우가 많다."
   ]
  },
  {
   "cell_type": "markdown",
   "metadata": {},
   "source": [
    "본격적으로 대표적인 예시인 거스름돈 문제를 구체적으로 살펴보자."
   ]
  },
  {
   "cell_type": "markdown",
   "metadata": {},
   "source": [
    "![](https://user-images.githubusercontent.com/72365693/103165251-a8212b00-4858-11eb-93bb-9ad2c362b5d8.JPG)"
   ]
  },
  {
   "cell_type": "markdown",
   "metadata": {},
   "source": [
    "위와 같은 문제를 만났을 때 어떻게 문제를 해결할 수 있을까? 앞서 말했듯이 무조건 큰 숫자의 화폐부터 골라서 거슬러주면 된다. 가장 먼저 500원짜리 동전으로 거슬러 줄 수 있는 경우를 계산한다."
   ]
  },
  {
   "cell_type": "markdown",
   "metadata": {},
   "source": [
    "![](https://user-images.githubusercontent.com/72365693/103165262-e585b880-4858-11eb-9175-8f1e67a6bcd5.JPG)"
   ]
  },
  {
   "cell_type": "markdown",
   "metadata": {},
   "source": [
    "이후에 100원짜리 동전으로 거슬러 줄 수 있는 경우를 계산한다."
   ]
  },
  {
   "cell_type": "markdown",
   "metadata": {},
   "source": [
    "![](https://user-images.githubusercontent.com/72365693/103165279-0ea64900-4859-11eb-9b25-52a3a6721d74.JPG)"
   ]
  },
  {
   "cell_type": "markdown",
   "metadata": {},
   "source": [
    "이후에 50원짜리 동전으로 거슬러 줄 수 있는 경우를 계산한다."
   ]
  },
  {
   "cell_type": "markdown",
   "metadata": {},
   "source": [
    "![](https://user-images.githubusercontent.com/72365693/103165291-2aa9ea80-4859-11eb-81e6-3b44f1c6dca3.JPG)"
   ]
  },
  {
   "cell_type": "markdown",
   "metadata": {},
   "source": [
    "이어서 10원짜리 동전의 경우도 계산한다."
   ]
  },
  {
   "cell_type": "markdown",
   "metadata": {},
   "source": [
    "![](https://user-images.githubusercontent.com/72365693/103165300-40b7ab00-4859-11eb-9b77-071733963174.JPG)"
   ]
  },
  {
   "cell_type": "markdown",
   "metadata": {},
   "source": [
    "이제 위와 같이 남은 돈이 0원이 되었다. 결과적으로 500 * 2 + 100 * 2 + 50 * 1 + 10 * 1 = 1260원으로 총 **6개의 동전**만 거슬러 주면 된다.  \n",
    "이렇게 단순하게 큰 경우부터 찾는 알고리즘과 같이 간단하게 탐욕적으로 문제를 해결하는 기법을 그리디 알고리즘이라고 말하는 것이다."
   ]
  },
  {
   "cell_type": "markdown",
   "metadata": {},
   "source": [
    "![풀이1](https://user-images.githubusercontent.com/72365693/103165385-6ee9ba80-485a-11eb-8c42-b800cbcc02f8.JPG)"
   ]
  },
  {
   "cell_type": "code",
   "execution_count": 8,
   "metadata": {},
   "outputs": [
    {
     "name": "stdout",
     "output_type": "stream",
     "text": [
      "주식 사고 팔기: 7\n"
     ]
    }
   ],
   "source": [
    "from typing import List\n",
    "\n",
    "\n",
    "class Solution:\n",
    "    def maxProfit(self, prices: List[int]) -> int:\n",
    "        result = 0\n",
    "        # 값이 오르는 경우 매 번 그리디 계산\n",
    "        for i in range(len(prices) - 1):\n",
    "            if prices[i + 1] > prices[i]:\n",
    "                result += prices[i + 1] - prices[i]\n",
    "        return result\n",
    "\n",
    "    \n",
    "sol = Solution()\n",
    "print('주식 사고 팔기:',sol.maxProfit([7,1,5,3,6,4]))"
   ]
  },
  {
   "cell_type": "markdown",
   "metadata": {},
   "source": [
    "[출처](https://blog.naver.com/ndb796/221242106787)"
   ]
  }
 ],
 "metadata": {
  "kernelspec": {
   "display_name": "Python 3",
   "language": "python",
   "name": "python3"
  },
  "language_info": {
   "codemirror_mode": {
    "name": "ipython",
    "version": 3
   },
   "file_extension": ".py",
   "mimetype": "text/x-python",
   "name": "python",
   "nbconvert_exporter": "python",
   "pygments_lexer": "ipython3",
   "version": "3.8.3"
  }
 },
 "nbformat": 4,
 "nbformat_minor": 4
}
