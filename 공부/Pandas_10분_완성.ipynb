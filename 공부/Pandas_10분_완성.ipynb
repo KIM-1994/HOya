{
  "nbformat": 4,
  "nbformat_minor": 0,
  "metadata": {
    "colab": {
      "name": "Pandas 10분 완성.ipynb",
      "provenance": [],
      "collapsed_sections": [],
      "authorship_tag": "ABX9TyMdHNy5njbT1uulmdhwqDar",
      "include_colab_link": true
    },
    "kernelspec": {
      "name": "python3",
      "display_name": "Python 3"
    }
  },
  "cells": [
    {
      "cell_type": "markdown",
      "metadata": {
        "id": "view-in-github",
        "colab_type": "text"
      },
      "source": [
        "<a href=\"https://colab.research.google.com/github/KIM-1994/HOya/blob/main/%EA%B3%B5%EB%B6%80/Pandas_10%EB%B6%84_%EC%99%84%EC%84%B1.ipynb\" target=\"_parent\"><img src=\"https://colab.research.google.com/assets/colab-badge.svg\" alt=\"Open In Colab\"/></a>"
      ]
    },
    {
      "cell_type": "markdown",
      "metadata": {
        "id": "oRXN4c3r4cQr"
      },
      "source": [
        "## Pandas 10분 완성\n",
        "\n",
        "**역자 주 : 본 자료는 10 Minutes to Pandas (하단 원문 링크 참조)의 한글 번역 자료로, 번역은 데잇걸즈2 프로그램 교육생 모두가 함께 진행하였습니다. 데잇걸즈2는 과학기술정보통신부와 한국정보화진흥원이 주관하는 SW여성인재 빅데이터 분석 교육과정으로, 상세한 소개는 페이스북 페이지를 참조 부탁 드립니다.**\n",
        "\n",
        "**본 자료의 저작권은 [BSD-3-Clause](https://opensource.org/licenses/BSD-3-Clause)인 점을 참조하여 주세요.**\n",
        "\n",
        "**This documentation is a Korean translation material of ‘10 Minutes to Pandas’. Every member of DATAITGIRLS2 program participated in the translation. If you want to know about DATAITGIRLS2 program, please visit [DATAITGIRLS2 program’s facebook page](https://ko-kr.facebook.com/dataitgirls/).**\n",
        "\n",
        "**The copyright conditions of this documentation are BSD-3-Clause.**\n",
        "\n",
        "**역자 주 (참조 자료) : [10 Minuts to Pandas 원문](https://pandas.pydata.org/pandas-docs/stable/user_guide/10min.html), [판다스 개발자의 PyCon Korea 2016 발표](https://www.youtube.com/watch?v=O5uFF1H0R0M) : Keynote, Pandas 10분 완성 원문의 인터넷 강의 영상, Pandas Cheat Sheet**\n",
        "\n",
        "\n",
        "\n",
        "---\n",
        "\n",
        "이 소개서는 주로 신규 사용자를 대상으로 한 판다스에 대한 간략한 소개로, 아래와 같이 구성되어 있습니다. 더 자세한 방법은[ Cookbook](https://pandas.pydata.org/pandas-docs/stable/user_guide/cookbook.html)에서 볼 수 있습니다.\n",
        "\n",
        "\n",
        "\n",
        "1.   Object Creation (객체 생성)\n",
        "2.   Viewing Data (데이터 확인하기)\n",
        "3.   Selection (선택)\n",
        "4.   Missing Data (결측치)\n",
        "5.   Operation (연산)\n",
        "6.   Merge (병합)\n",
        "7.   Grouping (그룹화)\n",
        "8.   Reshaping (변형)\n",
        "9.   Time Series (시계열)\n",
        "10.  Categoricals (범주화)\n",
        "11.  Plotting (그래프)\n",
        "12.  Getting Data In / Out (데이터 입 / 출력)\n",
        "13.  Gotchas (잡았다!)\n",
        "\n",
        "\n",
        "\n",
        "---\n",
        "\n",
        "\n",
        "일반적으로 각 패캐지는 pd, np, plt라는 이름으로 불러옵니다.\n",
        "\n",
        "\n"
      ]
    },
    {
      "cell_type": "code",
      "metadata": {
        "id": "a20g99lUSY9v"
      },
      "source": [
        "import pandas as pd\n",
        "import numpy as np\n",
        "import matplotlib.pyplot as plt"
      ],
      "execution_count": null,
      "outputs": []
    },
    {
      "cell_type": "markdown",
      "metadata": {
        "id": "O7y6xh3k6ZzN"
      },
      "source": [
        "## 1. Object Creation (객체 생성)\n",
        "\n",
        "**[데이터 구조 소개 섹션](https://pandas.pydata.org/pandas-docs/stable/user_guide/dsintro.html)을 참조하세요.**\n",
        "\n",
        "**Pandas는 값을 가지고 있는 리스트를 통해 [Series](https://pandas.pydata.org/pandas-docs/stable/reference/api/pandas.Series.html)를 만들고, 정수로 만들어진 인덱스를 기본값으로 불러올 것입니다.**"
      ]
    },
    {
      "cell_type": "code",
      "metadata": {
        "id": "b0vqZfZ76vx3",
        "outputId": "9997c6c5-0f09-4375-a330-6d5a0b530372",
        "colab": {
          "base_uri": "https://localhost:8080/"
        }
      },
      "source": [
        "a = pd.Series([1,3,5,np.nan,6,8])\n",
        "a"
      ],
      "execution_count": null,
      "outputs": [
        {
          "output_type": "execute_result",
          "data": {
            "text/plain": [
              "0    1.0\n",
              "1    3.0\n",
              "2    5.0\n",
              "3    NaN\n",
              "4    6.0\n",
              "5    8.0\n",
              "dtype: float64"
            ]
          },
          "metadata": {
            "tags": []
          },
          "execution_count": 31
        }
      ]
    },
    {
      "cell_type": "markdown",
      "metadata": {
        "id": "cK5Kwpsw7O4y"
      },
      "source": [
        "datetime 인덱스와 레이블이 있는 열을 가지고 있는 numpy 배열을 전달하여 데이터프레임을 만듭니다."
      ]
    },
    {
      "cell_type": "code",
      "metadata": {
        "id": "ozlRi3ks7RaN",
        "outputId": "0d2f54c5-db9c-4723-8d3c-5bcca6fe74c5",
        "colab": {
          "base_uri": "https://localhost:8080/"
        }
      },
      "source": [
        "dates = pd.date_range('20130101', periods = 6)\n",
        "dates"
      ],
      "execution_count": null,
      "outputs": [
        {
          "output_type": "execute_result",
          "data": {
            "text/plain": [
              "DatetimeIndex(['2013-01-01', '2013-01-02', '2013-01-03', '2013-01-04',\n",
              "               '2013-01-05', '2013-01-06'],\n",
              "              dtype='datetime64[ns]', freq='D')"
            ]
          },
          "metadata": {
            "tags": []
          },
          "execution_count": 32
        }
      ]
    },
    {
      "cell_type": "code",
      "metadata": {
        "id": "LLgR8Hl27cD1",
        "outputId": "3cfa85e1-1cfd-47a2-eeba-969448022fc7",
        "colab": {
          "base_uri": "https://localhost:8080/",
          "height": 225
        }
      },
      "source": [
        "df = pd.DataFrame(np.random.randn(6,4), index=dates, columns=list('ABCD'))\n",
        "df"
      ],
      "execution_count": null,
      "outputs": [
        {
          "output_type": "execute_result",
          "data": {
            "text/html": [
              "<div>\n",
              "<style scoped>\n",
              "    .dataframe tbody tr th:only-of-type {\n",
              "        vertical-align: middle;\n",
              "    }\n",
              "\n",
              "    .dataframe tbody tr th {\n",
              "        vertical-align: top;\n",
              "    }\n",
              "\n",
              "    .dataframe thead th {\n",
              "        text-align: right;\n",
              "    }\n",
              "</style>\n",
              "<table border=\"1\" class=\"dataframe\">\n",
              "  <thead>\n",
              "    <tr style=\"text-align: right;\">\n",
              "      <th></th>\n",
              "      <th>A</th>\n",
              "      <th>B</th>\n",
              "      <th>C</th>\n",
              "      <th>D</th>\n",
              "    </tr>\n",
              "  </thead>\n",
              "  <tbody>\n",
              "    <tr>\n",
              "      <th>2013-01-01</th>\n",
              "      <td>-1.784197</td>\n",
              "      <td>1.077572</td>\n",
              "      <td>0.139746</td>\n",
              "      <td>-1.198050</td>\n",
              "    </tr>\n",
              "    <tr>\n",
              "      <th>2013-01-02</th>\n",
              "      <td>-2.232713</td>\n",
              "      <td>0.528458</td>\n",
              "      <td>0.346990</td>\n",
              "      <td>1.620199</td>\n",
              "    </tr>\n",
              "    <tr>\n",
              "      <th>2013-01-03</th>\n",
              "      <td>0.990908</td>\n",
              "      <td>0.856409</td>\n",
              "      <td>0.687702</td>\n",
              "      <td>1.893413</td>\n",
              "    </tr>\n",
              "    <tr>\n",
              "      <th>2013-01-04</th>\n",
              "      <td>-1.128600</td>\n",
              "      <td>-2.073517</td>\n",
              "      <td>0.938502</td>\n",
              "      <td>0.216336</td>\n",
              "    </tr>\n",
              "    <tr>\n",
              "      <th>2013-01-05</th>\n",
              "      <td>-1.562463</td>\n",
              "      <td>-1.562747</td>\n",
              "      <td>0.597687</td>\n",
              "      <td>-0.685352</td>\n",
              "    </tr>\n",
              "    <tr>\n",
              "      <th>2013-01-06</th>\n",
              "      <td>0.117143</td>\n",
              "      <td>0.162055</td>\n",
              "      <td>0.453307</td>\n",
              "      <td>0.491534</td>\n",
              "    </tr>\n",
              "  </tbody>\n",
              "</table>\n",
              "</div>"
            ],
            "text/plain": [
              "                   A         B         C         D\n",
              "2013-01-01 -1.784197  1.077572  0.139746 -1.198050\n",
              "2013-01-02 -2.232713  0.528458  0.346990  1.620199\n",
              "2013-01-03  0.990908  0.856409  0.687702  1.893413\n",
              "2013-01-04 -1.128600 -2.073517  0.938502  0.216336\n",
              "2013-01-05 -1.562463 -1.562747  0.597687 -0.685352\n",
              "2013-01-06  0.117143  0.162055  0.453307  0.491534"
            ]
          },
          "metadata": {
            "tags": []
          },
          "execution_count": 43
        }
      ]
    },
    {
      "cell_type": "markdown",
      "metadata": {
        "id": "p98mWlSd8O7h"
      },
      "source": [
        "Series와 같은 것으로 변환될 수 있는 객체들의 dict로 구성된 데이터프레임을 만듭니다."
      ]
    },
    {
      "cell_type": "code",
      "metadata": {
        "id": "iRo075Kb8TEw",
        "outputId": "9fc99594-bc04-48c4-f400-483f5f17c1c8",
        "colab": {
          "base_uri": "https://localhost:8080/",
          "height": 166
        }
      },
      "source": [
        "df2 = pd.DataFrame({'A' : 1.,\n",
        "                    'B' : pd.Timestamp('20130102'),\n",
        "                    'C' : pd.Series(1,index=list(range(4)),dtype='float32'),\n",
        "                    'D' : np.array([3] * 4,dtype='int32'),\n",
        "                    'E' : pd.Categorical([\"test\",\"train\",\"test\",\"train\"]),\n",
        "                    'F' : 'foo' })\n",
        "df2"
      ],
      "execution_count": null,
      "outputs": [
        {
          "output_type": "execute_result",
          "data": {
            "text/html": [
              "<div>\n",
              "<style scoped>\n",
              "    .dataframe tbody tr th:only-of-type {\n",
              "        vertical-align: middle;\n",
              "    }\n",
              "\n",
              "    .dataframe tbody tr th {\n",
              "        vertical-align: top;\n",
              "    }\n",
              "\n",
              "    .dataframe thead th {\n",
              "        text-align: right;\n",
              "    }\n",
              "</style>\n",
              "<table border=\"1\" class=\"dataframe\">\n",
              "  <thead>\n",
              "    <tr style=\"text-align: right;\">\n",
              "      <th></th>\n",
              "      <th>A</th>\n",
              "      <th>B</th>\n",
              "      <th>C</th>\n",
              "      <th>D</th>\n",
              "      <th>E</th>\n",
              "      <th>F</th>\n",
              "    </tr>\n",
              "  </thead>\n",
              "  <tbody>\n",
              "    <tr>\n",
              "      <th>0</th>\n",
              "      <td>1.0</td>\n",
              "      <td>2013-01-02</td>\n",
              "      <td>1.0</td>\n",
              "      <td>3</td>\n",
              "      <td>test</td>\n",
              "      <td>foo</td>\n",
              "    </tr>\n",
              "    <tr>\n",
              "      <th>1</th>\n",
              "      <td>1.0</td>\n",
              "      <td>2013-01-02</td>\n",
              "      <td>1.0</td>\n",
              "      <td>3</td>\n",
              "      <td>train</td>\n",
              "      <td>foo</td>\n",
              "    </tr>\n",
              "    <tr>\n",
              "      <th>2</th>\n",
              "      <td>1.0</td>\n",
              "      <td>2013-01-02</td>\n",
              "      <td>1.0</td>\n",
              "      <td>3</td>\n",
              "      <td>test</td>\n",
              "      <td>foo</td>\n",
              "    </tr>\n",
              "    <tr>\n",
              "      <th>3</th>\n",
              "      <td>1.0</td>\n",
              "      <td>2013-01-02</td>\n",
              "      <td>1.0</td>\n",
              "      <td>3</td>\n",
              "      <td>train</td>\n",
              "      <td>foo</td>\n",
              "    </tr>\n",
              "  </tbody>\n",
              "</table>\n",
              "</div>"
            ],
            "text/plain": [
              "     A          B    C  D      E    F\n",
              "0  1.0 2013-01-02  1.0  3   test  foo\n",
              "1  1.0 2013-01-02  1.0  3  train  foo\n",
              "2  1.0 2013-01-02  1.0  3   test  foo\n",
              "3  1.0 2013-01-02  1.0  3  train  foo"
            ]
          },
          "metadata": {
            "tags": []
          },
          "execution_count": 49
        }
      ]
    },
    {
      "cell_type": "markdown",
      "metadata": {
        "id": "2meVqZy28-vZ"
      },
      "source": [
        "데이터프레임 결과물의 열은 다양한 데이터 타입 (dtypes)으로 구성됩니다."
      ]
    },
    {
      "cell_type": "code",
      "metadata": {
        "id": "iRphNGXR9jHS",
        "outputId": "56ec7fdf-d2f4-4d22-9582-f82f8b8e2844",
        "colab": {
          "base_uri": "https://localhost:8080/"
        }
      },
      "source": [
        "df2.dtypes"
      ],
      "execution_count": null,
      "outputs": [
        {
          "output_type": "execute_result",
          "data": {
            "text/plain": [
              "A           float64\n",
              "B    datetime64[ns]\n",
              "C           float32\n",
              "D             int32\n",
              "E          category\n",
              "F            object\n",
              "dtype: object"
            ]
          },
          "metadata": {
            "tags": []
          },
          "execution_count": 50
        }
      ]
    },
    {
      "cell_type": "markdown",
      "metadata": {
        "id": "MG9UBHnN9m_w"
      },
      "source": [
        "IPython을 이용하고 계시다면 (공용 속성을 포함한) 열 이름에 대한 Tap 자동완성 기능이 자동으로 활성화 됩니다. 다음은 완성될 속성에 대한 부분집합 (subset)입니다.\n",
        "\n",
        "**역자 주 : 아래 제시된 코드의 경우, IPython이 아닌 환경 (Google Colaboratory, Jupyter 등)에서는 사용이 불가능한 코드인 점에 주의하세요.**"
      ]
    },
    {
      "cell_type": "code",
      "metadata": {
        "id": "FZWF50oe9sO8"
      },
      "source": [
        "# df2.<TAB>"
      ],
      "execution_count": null,
      "outputs": []
    },
    {
      "cell_type": "markdown",
      "metadata": {
        "id": "twsWcUMp9uZ1"
      },
      "source": [
        "**역자 주 : IPython에서 실행하면 다음과 같은 결과값이 나옵니다.**\n",
        "\n",
        "![a.JPG](data:image/jpeg;base64,/9j/4AAQSkZJRgABAQEAeAB4AAD/4RDaRXhpZgAATU0AKgAAAAgABAE7AAIAAAAFAAAISodpAAQAAAABAAAIUJydAAEAAAAKAAAQyOocAAcAAAgMAAAAPgAAAAAc6gAAAAgAAAAAAAAAAAAAAAAAAAAAAAAAAAAAAAAAAAAAAAAAAAAAAAAAAAAAAAAAAAAAAAAAAAAAAAAAAAAAAAAAAAAAAAAAAAAAAAAAAAAAAAAAAAAAAAAAAAAAAAAAAAAAAAAAAAAAAAAAAAAAAAAAAAAAAAAAAAAAAAAAAAAAAAAAAAAAAAAAAAAAAAAAAAAAAAAAAAAAAAAAAAAAAAAAAAAAAAAAAAAAAAAAAAAAAAAAAAAAAAAAAAAAAAAAAAAAAAAAAAAAAAAAAAAAAAAAAAAAAAAAAAAAAAAAAAAAAAAAAAAAAAAAAAAAAAAAAAAAAAAAAAAAAAAAAAAAAAAAAAAAAAAAAAAAAAAAAAAAAAAAAAAAAAAAAAAAAAAAAAAAAAAAAAAAAAAAAAAAAAAAAAAAAAAAAAAAAAAAAAAAAAAAAAAAAAAAAAAAAAAAAAAAAAAAAAAAAAAAAAAAAAAAAAAAAAAAAAAAAAAAAAAAAAAAAAAAAAAAAAAAAAAAAAAAAAAAAAAAAAAAAAAAAAAAAAAAAAAAAAAAAAAAAAAAAAAAAAAAAAAAAAAAAAAAAAAAAAAAAAAAAAAAAAAAAAAAAAAAAAAAAAAAAAAAAAAAAAAAAAAAAAAAAAAAAAAAAAAAAAAAAAAAAAAAAAAAAAAAAAAAAAAAAAAAAAAAAAAAAAAAAAAAAAAAAAAAAAAAAAAAAAAAAAAAAAAAAAAAAAAAAAAAAAAAAAAAAAAAAAAAAAAAAAAAAAAAAAAAAAAAAAAAAAAAAAAAAAAAAAAAAAAAAAAAAAAAAAAAAAAAAAAAAAAAAAAAAAAAAAAAAAAAAAAAAAAAAAAAAAAAAAAAAAAAAAAAAAAAAAAAAAAAAAAAAAAAAAAAAAAAAAAAAAAAAAAAAAAAAAAAAAAAAAAAAAAAAAAAAAAAAAAAAAAAAAAAAAAAAAAAAAAAAAAAAAAAAAAAAAAAAAAAAAAAAAAAAAAAAAAAAAAAAAAAAAAAAAAAAAAAAAAAAAAAAAAAAAAAAAAAAAAAAAAAAAAAAAAAAAAAAAAAAAAAAAAAAAAAAAAAAAAAAAAAAAAAAAAAAAAAAAAAAAAAAAAAAAAAAAAAAAAAAAAAAAAAAAAAAAAAAAAAAAAAAAAAAAAAAAAAAAAAAAAAAAAAAAAAAAAAAAAAAAAAAAAAAAAAAAAAAAAAAAAAAAAAAAAAAAAAAAAAAAAAAAAAAAAAAAAAAAAAAAAAAAAAAAAAAAAAAAAAAAAAAAAAAAAAAAAAAAAAAAAAAAAAAAAAAAAAAAAAAAAAAAAAAAAAAAAAAAAAAAAAAAAAAAAAAAAAAAAAAAAAAAAAAAAAAAAAAAAAAAAAAAAAAAAAAAAAAAAAAAAAAAAAAAAAAAAAAAAAAAAAAAAAAAAAAAAAAAAAAAAAAAAAAAAAAAAAAAAAAAAAAAAAAAAAAAAAAAAAAAAAAAAAAAAAAAAAAAAAAAAAAAAAAAAAAAAAAAAAAAAAAAAAAAAAAAAAAAAAAAAAAAAAAAAAAAAAAAAAAAAAAAAAAAAAAAAAAAAAAAAAAAAAAAAAAAAAAAAAAAAAAAAAAAAAAAAAAAAAAAAAAAAAAAAAAAAAAAAAAAAAAAAAAAAAAAAAAAAAAAAAAAAAAAAAAAAAAAAAAAAAAAAAAAAAAAAAAAAAAAAAAAAAAAAAAAAAAAAAAAAAAAAAAAAAAAAAAAAAAAAAAAAAAAAAAAAAAAAAAAAAAAAAAAAAAAAAAAAAAAAAAAAAAAAAAAAAAAAAAAAAAAAAAAAAAAAAAAAAAAAAAAAAAAAAAAAAAAAAAAAAAAAAAAAAAAAAAAAAAAAAAAAAAAAAAAAAAAAAAAAAAAAAAAAAAAAAAAAAAAAAAAAAAAAAAAAAAAAAAAAAAAAAAAAAAAAAAAAAAAAAAAAAAAAAAAAAAAAAAAAAAAAAAAAAAAAAAAAAAAAAAAAAAAAAAAAAAAAAAAAAAAAAAAAAAAAAAAAAAAAAAAAAAAAAAAAAAAAAAAAAAAAAAAAAAAAAAAAAAAAAAAAAAAAAAAAAAAAAAAAAAAAAAAAAAAAAAAAAAAAAAAAAAAAAAAAAAAAAAAAAAAAAAAAAAAAAAAAAAAAAAAAAAAAAAAAAAAAAAAAAAAAAAAAAAAAAAAAAAAAAAAAAAAAAAAAAAAAAAAAAAAAAAAAAAAAAAAAAAAAAAAAAAAAAAAAAAAAAAAAAAAAAAAAAAAAAAAAAAAAAAAAAAAAAAAAAAAAAAAAAAAAAAAAAAAAAAAAAAAAAAAAAAAAAAAAAAAAAAAAAAAAAAAAAAAAAAAAAAAAAAAAAAAAAAAAAAAAAAAAAAAAAAAAAAAAAAAAAAAAAAAAAAAAAAAAAAAAAAAAAAAAAAAAAAAAAAAAAAAAAAAAAAAAAAAAAAAAAAAAAAAAAAAAAAAAAAAAAAAAAAAAAAAAAAAAAAAAAAAAAAAAAAAAAAAAAAAAAAAAAAAAAAAAAAAAAAAAAAAAAAAAAAAAAAAAAAAAAAAAAAAAAAAAAAAAAAAAAAAAAAAAAAAAAAAAAAAAAAAAAAAAAAAAAAAAAAAAAAAAAAAAAAAAAAAAAAAAAAAAAAAAAAAAAAAAAAAAAAAAAAAAAAAAAAAAAAAAAAAAAAAAAAAAAAAAAAAAAAAAAAAAAAAAAAAAAAAAAAAAAAAAAAAAAAAAAAAAAAAAAAAAAAAAAAAAAAAAAAAAAAAAAAAAAAAAAAAAAAAAAAAAAAAAAAHVzZXIAAAAFkAMAAgAAABQAABCekAQAAgAAABQAABCykpEAAgAAAAM0OQAAkpIAAgAAAAM0OQAA6hwABwAACAwAAAiSAAAAABzqAAAACAAAAAAAAAAAAAAAAAAAAAAAAAAAAAAAAAAAAAAAAAAAAAAAAAAAAAAAAAAAAAAAAAAAAAAAAAAAAAAAAAAAAAAAAAAAAAAAAAAAAAAAAAAAAAAAAAAAAAAAAAAAAAAAAAAAAAAAAAAAAAAAAAAAAAAAAAAAAAAAAAAAAAAAAAAAAAAAAAAAAAAAAAAAAAAAAAAAAAAAAAAAAAAAAAAAAAAAAAAAAAAAAAAAAAAAAAAAAAAAAAAAAAAAAAAAAAAAAAAAAAAAAAAAAAAAAAAAAAAAAAAAAAAAAAAAAAAAAAAAAAAAAAAAAAAAAAAAAAAAAAAAAAAAAAAAAAAAAAAAAAAAAAAAAAAAAAAAAAAAAAAAAAAAAAAAAAAAAAAAAAAAAAAAAAAAAAAAAAAAAAAAAAAAAAAAAAAAAAAAAAAAAAAAAAAAAAAAAAAAAAAAAAAAAAAAAAAAAAAAAAAAAAAAAAAAAAAAAAAAAAAAAAAAAAAAAAAAAAAAAAAAAAAAAAAAAAAAAAAAAAAAAAAAAAAAAAAAAAAAAAAAAAAAAAAAAAAAAAAAAAAAAAAAAAAAAAAAAAAAAAAAAAAAAAAAAAAAAAAAAAAAAAAAAAAAAAAAAAAAAAAAAAAAAAAAAAAAAAAAAAAAAAAAAAAAAAAAAAAAAAAAAAAAAAAAAAAAAAAAAAAAAAAAAAAAAAAAAAAAAAAAAAAAAAAAAAAAAAAAAAAAAAAAAAAAAAAAAAAAAAAAAAAAAAAAAAAAAAAAAAAAAAAAAAAAAAAAAAAAAAAAAAAAAAAAAAAAAAAAAAAAAAAAAAAAAAAAAAAAAAAAAAAAAAAAAAAAAAAAAAAAAAAAAAAAAAAAAAAAAAAAAAAAAAAAAAAAAAAAAAAAAAAAAAAAAAAAAAAAAAAAAAAAAAAAAAAAAAAAAAAAAAAAAAAAAAAAAAAAAAAAAAAAAAAAAAAAAAAAAAAAAAAAAAAAAAAAAAAAAAAAAAAAAAAAAAAAAAAAAAAAAAAAAAAAAAAAAAAAAAAAAAAAAAAAAAAAAAAAAAAAAAAAAAAAAAAAAAAAAAAAAAAAAAAAAAAAAAAAAAAAAAAAAAAAAAAAAAAAAAAAAAAAAAAAAAAAAAAAAAAAAAAAAAAAAAAAAAAAAAAAAAAAAAAAAAAAAAAAAAAAAAAAAAAAAAAAAAAAAAAAAAAAAAAAAAAAAAAAAAAAAAAAAAAAAAAAAAAAAAAAAAAAAAAAAAAAAAAAAAAAAAAAAAAAAAAAAAAAAAAAAAAAAAAAAAAAAAAAAAAAAAAAAAAAAAAAAAAAAAAAAAAAAAAAAAAAAAAAAAAAAAAAAAAAAAAAAAAAAAAAAAAAAAAAAAAAAAAAAAAAAAAAAAAAAAAAAAAAAAAAAAAAAAAAAAAAAAAAAAAAAAAAAAAAAAAAAAAAAAAAAAAAAAAAAAAAAAAAAAAAAAAAAAAAAAAAAAAAAAAAAAAAAAAAAAAAAAAAAAAAAAAAAAAAAAAAAAAAAAAAAAAAAAAAAAAAAAAAAAAAAAAAAAAAAAAAAAAAAAAAAAAAAAAAAAAAAAAAAAAAAAAAAAAAAAAAAAAAAAAAAAAAAAAAAAAAAAAAAAAAAAAAAAAAAAAAAAAAAAAAAAAAAAAAAAAAAAAAAAAAAAAAAAAAAAAAAAAAAAAAAAAAAAAAAAAAAAAAAAAAAAAAAAAAAAAAAAAAAAAAAAAAAAAAAAAAAAAAAAAAAAAAAAAAAAAAAAAAAAAAAAAAAAAAAAAAAAAAAAAAAAAAAAAAAAAAAAAAAAAAAAAAAAAAAAAAAAAAAAAAAAAAAAAAAAAAAAAAAAAAAAAAAAAAAAAAAAAAAAAAAAAAAAAAAAAAAAAAAAAAAAAAAAAAAAAAAAAAAAAAAAAAAAAAAAAAAAAAAAAAAAAAAAAAAAAAAAAAAAAAAAAAAAAAAAAAAAAAAAAAAAAAAAAAAAAAAAAAAAAAAAAAAAAAAAAAAAAAAAAAAAAAAAAAAAAAAAAAAAAAAAAAAAAAAAAAAAAAAAAAAAAAAAAAAAAAAAAAAAAAAAAAAAAAAAAAAAAAAAAAAAAAAAAAAAAAAAAAAAAAAAAAAAAAAAAAAAAAAAAAAAAAAAAAAAAAAAAAAAAAAAAAAAAAAAAAAAAAAAAAAAAAAAAAAAAAAAAAAAAAAAAAAAAAAAAAAAAAAAAAAAAAAAAAAAAAAAAAAAAAAAAAAAAAAAAAAAAAAAAAAAAAAAAAAAAAAAAAAAAAAAAAAAAAAAAAAAAAAAAAAAAAAAAAAAAAAAAAAAAAAAAAAAAAAAAAAAAAAAAAAAAAAAAAAAAAAAAAAAAAAAAAAAAAAAAAAAAAAAAAAAAAAAAAAAAAAAAAAAAAAAAAAAAAAAAAAAAAAAAAAAAAAAAAAAAAAAAAAAAAAAAAAAAAAAAAAAAAAAAAAAAAAAAAAAAAAAAAAAAAAAAAAAAAAAAAAAAAAAAAAAAAAAAAAAAAAAAAAAAAAAAAAAAAAAAAAAAAAAAAAAAAAAAAAAAAAAAAAAAAAAAAAAAAAAAAAAAAAAAAAAAAAAAAAAAAAAAAAAAAAAAAAAAAAAAAAAAAAAAAAAAAAAAAAAAAAAAAAAAAAAAAAAAAAAAAAAAAAAAAAAAAAAAAAAAAAAAAAAAAAAAAAAAAAAAAAAAAAAAAAAAAAAAAAAAAAAAAAAAAAAAAAAAAAAAAAAAAAAAAAAAAAAAAAAAAAAAAAAAAAAAAAAAAAAAAAAAAMjAyMDoxMTowMyAxMTozNzoyOQAyMDIwOjExOjAzIDExOjM3OjI5AAAAdQBzAGUAcgAAAP/hCxdodHRwOi8vbnMuYWRvYmUuY29tL3hhcC8xLjAvADw/eHBhY2tldCBiZWdpbj0n77u/JyBpZD0nVzVNME1wQ2VoaUh6cmVTek5UY3prYzlkJz8+DQo8eDp4bXBtZXRhIHhtbG5zOng9ImFkb2JlOm5zOm1ldGEvIj48cmRmOlJERiB4bWxuczpyZGY9Imh0dHA6Ly93d3cudzMub3JnLzE5OTkvMDIvMjItcmRmLXN5bnRheC1ucyMiPjxyZGY6RGVzY3JpcHRpb24gcmRmOmFib3V0PSJ1dWlkOmZhZjViZGQ1LWJhM2QtMTFkYS1hZDMxLWQzM2Q3NTE4MmYxYiIgeG1sbnM6ZGM9Imh0dHA6Ly9wdXJsLm9yZy9kYy9lbGVtZW50cy8xLjEvIi8+PHJkZjpEZXNjcmlwdGlvbiByZGY6YWJvdXQ9InV1aWQ6ZmFmNWJkZDUtYmEzZC0xMWRhLWFkMzEtZDMzZDc1MTgyZjFiIiB4bWxuczp4bXA9Imh0dHA6Ly9ucy5hZG9iZS5jb20veGFwLzEuMC8iPjx4bXA6Q3JlYXRlRGF0ZT4yMDIwLTExLTAzVDExOjM3OjI5LjQ4ODwveG1wOkNyZWF0ZURhdGU+PC9yZGY6RGVzY3JpcHRpb24+PHJkZjpEZXNjcmlwdGlvbiByZGY6YWJvdXQ9InV1aWQ6ZmFmNWJkZDUtYmEzZC0xMWRhLWFkMzEtZDMzZDc1MTgyZjFiIiB4bWxuczpkYz0iaHR0cDovL3B1cmwub3JnL2RjL2VsZW1lbnRzLzEuMS8iPjxkYzpjcmVhdG9yPjxyZGY6U2VxIHhtbG5zOnJkZj0iaHR0cDovL3d3dy53My5vcmcvMTk5OS8wMi8yMi1yZGYtc3ludGF4LW5zIyI+PHJkZjpsaT51c2VyPC9yZGY6bGk+PC9yZGY6U2VxPg0KCQkJPC9kYzpjcmVhdG9yPjwvcmRmOkRlc2NyaXB0aW9uPjwvcmRmOlJERj48L3g6eG1wbWV0YT4NCiAgICAgICAgICAgICAgICAgICAgICAgICAgICAgICAgICAgICAgICAgICAgICAgICAgICAgICAgICAgICAgICAgICAgICAgICAgICAgICAgICAgICAgICAgICAgICAgICAgICAKICAgICAgICAgICAgICAgICAgICAgICAgICAgICAgICAgICAgICAgICAgICAgICAgICAgICAgICAgICAgICAgICAgICAgICAgICAgICAgICAgICAgICAgICAgICAgICAgICAgIAogICAgICAgICAgICAgICAgICAgICAgICAgICAgICAgICAgICAgICAgICAgICAgICAgICAgICAgICAgICAgICAgICAgICAgICAgICAgICAgICAgICAgICAgICAgICAgICAgICAgCiAgICAgICAgICAgICAgICAgICAgICAgICAgICAgICAgICAgICAgICAgICAgICAgICAgICAgICAgICAgICAgICAgICAgICAgICAgICAgICAgICAgICAgICAgICAgICAgICAgICAKICAgICAgICAgICAgICAgICAgICAgICAgICAgICAgICAgICAgICAgICAgICAgICAgICAgICAgICAgICAgICAgICAgICAgICAgICAgICAgICAgICAgICAgICAgICAgICAgICAgIAogICAgICAgICAgICAgICAgICAgICAgICAgICAgICAgICAgICAgICAgICAgICAgICAgICAgICAgICAgICAgICAgICAgICAgICAgICAgICAgICAgICAgICAgICAgICAgICAgICAgCiAgICAgICAgICAgICAgICAgICAgICAgICAgICAgICAgICAgICAgICAgICAgICAgICAgICAgICAgICAgICAgICAgICAgICAgICAgICAgICAgICAgICAgICAgICAgICAgICAgICAKICAgICAgICAgICAgICAgICAgICAgICAgICAgICAgICAgICAgICAgICAgICAgICAgICAgICAgICAgICAgICAgICAgICAgICAgICAgICAgICAgICAgICAgICAgICAgICAgICAgIAogICAgICAgICAgICAgICAgICAgICAgICAgICAgICAgICAgICAgICAgICAgICAgICAgICAgICAgICAgICAgICAgICAgICAgICAgICAgICAgICAgICAgICAgICAgICAgICAgICAgCiAgICAgICAgICAgICAgICAgICAgICAgICAgICAgICAgICAgICAgICAgICAgICAgICAgICAgICAgICAgICAgICAgICAgICAgICAgICAgICAgICAgICAgICAgICAgICAgICAgICAKICAgICAgICAgICAgICAgICAgICAgICAgICAgICAgICAgICAgICAgICAgICAgICAgICAgICAgICAgICAgICAgICAgICAgICAgICAgICAgICAgICAgICAgICAgICAgICAgICAgIAogICAgICAgICAgICAgICAgICAgICAgICAgICAgICAgICAgICAgICAgICAgICAgICAgICAgICAgICAgICAgICAgICAgICAgICAgICAgICAgICAgICAgICAgICAgICAgICAgICAgCiAgICAgICAgICAgICAgICAgICAgICAgICAgICAgICAgICAgICAgICAgICAgICAgICAgICAgICAgICAgICAgICAgICAgICAgICAgICAgICAgICAgICAgICAgICAgICAgICAgICAKICAgICAgICAgICAgICAgICAgICAgICAgICAgICAgICAgICAgICAgICAgICAgICAgICAgICAgICAgICAgICAgICAgICAgICAgICAgICAgICAgICAgICAgICAgICAgICAgICAgIAogICAgICAgICAgICAgICAgICAgICAgICAgICAgICAgICAgICAgICAgICAgICAgICAgICAgICAgICAgICAgICAgICAgICAgICAgICAgICAgICAgICAgICAgICAgICAgICAgICAgCiAgICAgICAgICAgICAgICAgICAgICAgICAgICAgICAgICAgICAgICAgICAgICAgICAgICAgICAgICAgICAgICAgICAgICAgICAgICAgICAgICAgICAgICAgICAgICAgICAgICAKICAgICAgICAgICAgICAgICAgICAgICAgICAgICAgICAgICAgICAgICAgICAgICAgICAgICAgICAgICAgICAgICAgICAgICAgICAgICAgICAgICAgICAgICAgICAgICAgICAgIAogICAgICAgICAgICAgICAgICAgICAgICAgICAgICAgICAgICAgICAgICAgICAgICAgICAgICAgICAgICAgICAgICAgICAgICAgICAgICAgICAgICAgICAgICAgICAgICAgICAgCiAgICAgICAgICAgICAgICAgICAgICAgICAgICAgICAgICAgICAgICAgICAgICAgICAgICAgICAgICAgICAgICAgICAgICAgICAgICAgICAgICAgICAgICAgICAgICAgICAgICAKICAgICAgICAgICAgICAgICAgICAgICAgICAgICAgICAgICAgICAgICAgICAgICAgICAgICAgICAgICAgICAgICAgICAgICAgICAgICAgICAgICAgICAgICAgICAgICAgICAgIAogICAgICAgICAgICAgICAgICAgICAgICAgICAgPD94cGFja2V0IGVuZD0ndyc/Pv/bAEMABwUFBgUEBwYFBggHBwgKEQsKCQkKFQ8QDBEYFRoZGBUYFxseJyEbHSUdFxgiLiIlKCkrLCsaIC8zLyoyJyorKv/bAEMBBwgICgkKFAsLFCocGBwqKioqKioqKioqKioqKioqKioqKioqKioqKioqKioqKioqKioqKioqKioqKioqKioqKv/AABEIAckBzgMBIgACEQEDEQH/xAAfAAABBQEBAQEBAQAAAAAAAAAAAQIDBAUGBwgJCgv/xAC1EAACAQMDAgQDBQUEBAAAAX0BAgMABBEFEiExQQYTUWEHInEUMoGRoQgjQrHBFVLR8CQzYnKCCQoWFxgZGiUmJygpKjQ1Njc4OTpDREVGR0hJSlNUVVZXWFlaY2RlZmdoaWpzdHV2d3h5eoOEhYaHiImKkpOUlZaXmJmaoqOkpaanqKmqsrO0tba3uLm6wsPExcbHyMnK0tPU1dbX2Nna4eLj5OXm5+jp6vHy8/T19vf4+fr/xAAfAQADAQEBAQEBAQEBAAAAAAAAAQIDBAUGBwgJCgv/xAC1EQACAQIEBAMEBwUEBAABAncAAQIDEQQFITEGEkFRB2FxEyIygQgUQpGhscEJIzNS8BVictEKFiQ04SXxFxgZGiYnKCkqNTY3ODk6Q0RFRkdISUpTVFVWV1hZWmNkZWZnaGlqc3R1dnd4eXqCg4SFhoeIiYqSk5SVlpeYmZqio6Slpqeoqaqys7S1tre4ubrCw8TFxsfIycrS09TV1tfY2dri4+Tl5ufo6ery8/T19vf4+fr/2gAMAwEAAhEDEQA/APpGiiigAooooAKKKKACiiigAooooAKKKKACiiigAooooAKKKKACiiigAooooAKKKKACiiigAooooAKKKKACiiigAooooAKKKKACiiigAooooAKKKKACiiigAooooAKKKKACiiigAooooAKKKKACiiigAooooAKKKKACiiigAooooAKKKKACiiigAooooAKKKKACiiigAooooAKKKKACiiigAooooAKKKKACiiigAooooAKKKKACiiigAooooAKKKKACiiigAooooAKKKKACiiigAooooAKKKKACiiigAooooAKKKKACiiigAooqO4V3tpVhbbIyEKfQ44pN2VxrVnn3jr4q6FpFjfaZpGvRLr8ZVI444jLtfeAyltpTOM8E8fWtPx944tvDejvb2WraZBrMskMUcd1OuYRI4Uysmc7VBLenFecyeKNPt/g+3hK3sLv+3bVFTUoBasot2EgLyyORtIOMggknIrufidoOj3WmWN9c6VYzXb6nYwvcSWyNIyGZQVLEZKkEjHTFVy6pd2v0Jvu/Jlvwxc6yND1O6t/Flh44uQQLdbdIbeOJ8coXjLDnIPPPHvTNG8SeKrTxha6D4zstKB1CCWa0uNKkkKr5eNyOH5zgjkcf01tSn0D4eeFb/VINNt7Cytx5ssVjbLH5jEhRwoAJJIGTXFeB/HvhjxD4pjvr/Wo7jxFfoYLWyjtphHZxfe8pWZACxxlnPUgAcAU1rL+v6/r7x6R/r+tj1asfxVrE2h+H5LmzSOS8kkjt7VJQSrSyOETIBBIycnB6A1Hqniyw0nxRpOhXMN011qu/yHji3RrtGTubPH4A++K5nx0+vat4z0TSPCY05rrTlbVJhqJfyR1jjzs5zlnI/wB2p3t5/wBP8B7X/r0/E6bwjrdxrugCe/SKO/t55bW7jhBCLLG5U4BJIBwCMk8GtyvOfAz67o/jzWtJ8WDTlutViTVIf7NMnkkjEUmN/OeEJ+ua9GpvZP8Arz/EXVr+vL8AooopDCiiigAooooAKKKKACiiigAooooAKKKKACiiigAooooAKKKKACiiigAqrqeqWOjabLf6rdRWlpCMySythV/+v7d6tVw/xNdLS30HVL6F59K07VEnv1WMybI9jgOVHUKxU9KQyLQPiNpvinx5Lb6Dq63OkW+ltNNuhMYSUSAbiXUHG0/SsnX/ABydZ8VS6Z4e+IGh+HtPtbaOU3zGC5NzI5YFF3sFwoUZxzyPWrmg6/ZeLfio95YWszaY+htFFPcQlFuh5y7iqsMlecZIGeaTTfB3hiT4oa7aP4c0lraLT7R44TYxFEZmlyQu3AJwMnvgVSWkb+f5sm/xfL9DoNXk8Zx2djbeF10i9l8gG41HUndEkYAD5Y4xnLdeuB0qx4K8R3HibQGudQtFs722uZbS6hR9yCSNtpKnuDXO/EX4jWPhG6s9BS8TTbq8j3m9kgaSO0hyRuCKCWfghV6ZGTxwdn4far4Y1Dw2IPBt415Z2bmOSV43V2kPzMzF1BZiTkn1NC1u/wCv66A9LL+tv6Z1Nec6X8T9J0qbVofGOuwwTLrVzbWiNHllhRgFyEXgDn5m/Ouq8NeLLDxV/aP9nQ3UX9n3bWkv2iLZudepXk8fXB9q800rxT4a8N3fjLTNVtpZNa1DVbvy7OOxkeW8jbhFDBcEHnGTjnPelf8AL79irafP/M9R1rxRonh3R11TWdShtrJ8eXKSW8zIyNoXJbjngGk8P+K9D8Vae97oGpRXkEZxIy5Uof8AaVgCv4ivO3iPglPA2peLbWV7DS9LktbiZIzMLKdlj2swUE9FZciklV/G0vjHWPCFvOLK+0RbOGZomh+3zjeSyhgCcKQuSO/tTkrXt5/h39f1Jjra/l+P+X6HZ6b8TPB2r65/Y+na9bT3pbasYDBXPorkbWP0JrO8cv4m0nU9P1bTPEn2fTHvbW1l0z7DG+/fKFZvNOWGQegHauY1HxNoXi7w5pXhbwtY3C6zBc2pFr9ieM6ZsdS7uxUKuACODzn3rS+Kvjvw5py22i3mo+XqFvqFncyw+RIdsayq5bcFwflGcA5p2SlH1+9af8EV20/T7j0+is/Q9c07xJo8Oq6LcfabKfd5cuxk3YYqeGAPUHtWhSaadmUFFFFIAooooAKKKKACiiigAooooAKKKKACiiigAooooAKKKKACiiigAooooAKKKKACiiigAooooAKKKKACiiigAooooAKKKKACiiigAooooAKKKKACiiigAooooAKKKKACiiigAooooAKKKKACiiigAooooAKKKKACiiigAooooAKKKKACiiigAooooAKKKZNKsEDyv92NSx+gGaTdldhuV9U1Sz0XTZtQ1ObybWEAySbS2MkAcAE9SKdqOpWek6dNf6lcx2tpAu6SaRsKoryDxI/i7xL8N5/E9z4gt7PSbtEmTRorBWzEZF2Bpid27GCcDFbHxYTxdJbW0dguhPoz31mqLdCUzNN5q4DAfL5e7Ge+M07PRdW7Bdb9DsvDfjbw94uiupPD2oi7S0IE7GJ4wmc4++oz0PStHTta0rWPM/snU7O+8o4k+zXCybD6HaTisnStO1zVtBvLD4hQaNOJ22CLTPN8to8Dht/Oc+nGK57SND0hvipHe+D9PtbGy0q0lttQms4hHFPKxXbF8oAZkwSx7ZAPPAenNYWtrnolFFcl8RNcfQ9BilTxLZ+HPMl2td3Fqbl8YPEcf8TZx64GaluxS1OmvbyDTtPuL28k8u3tomllfaTtRRknA5PA7UtndwX9jBeWj+ZBcRrLE+CNysMg4PI4PevKdC8YXHibwB42tZ9ai16KwsJPJ1KOzNqZg8LkhoyBgggjjrT9MvfGfh/w34d1281Wyk0mX7Havo8VqP3cUm2NXExO4uNykjp1q+XWz8vxuS3on6/hY9Zorznx3ruu2PiSO0j18eFtJECPHqTaX9rjnlLENG7k7YgABjOM5PNd1o80txotnNPdW13K8Ks1xa/6qU4+8vJ4PXrUrVXG9HYuUUUUAFFFFABRRRQAUUUUAFFFFABRRRQAUUUUAFFFFABRRRQAUUUUAFFFc1401rUNNt9OsNDMKalq12LSCaddyQ/Kzs5X+LCqcD1IoA2jqlmNaGk+d/ppt/tIi2n/AFe7buzjHXjGc1leJfHfhrwe8SeItVjs5JhuSPY8jkeu1ASB71ymiab4i0z4pTx6zr8euXr6E7W8z2S2yx/vhhSqE5Ge/WsexT4lt8SdXkiXwidUWwtlmaQXPlCItJtCH72cg7s8fdoWqXz/ADf+Qd/K36f5nqMviHR7bSrfU7zU7W0srpFeGe6lEKuGGR9/HOD061fhmiuIUmt5ElikAZHRgysD3BHWuf8AEml+GWsxrXjOw0+4+xwbGluoRKq5IyFVgckngcZPSqvw10a40TweIbi3ezSe6mubezc/NaxO5ZIz6EDkjsSRT01FrZHW1S03WLHVxdf2dP532S5e1n+Rl2Sp95eQM4z1HFXa8g0Kz8Y3b+K5fDWtWek21rrl5IFe0E73Um7JVixwi4wMjJ5NK61v2v8Aiiraad7fg/8AI9forzuTxXr3iew8M2Xhya30m91rT2v7m8ki84WyKFBCIThiWcYz2FXPD974ji1zVPCXiDV47u8SyW7s9Wt7VIn2sWQ7o+U3Kw44wRTaa09fwJumr+n4ncUV5xovirxBrutweFjMlpqmkSbtbvI1RlkjXGzywQRmXIJ4+XkdcUXN1401/wAe+ItF0LXrbSLDTzbss72STyKXiDbFU4BBOSSxJHGKLdh/odrr/iHS/C+kPqeu3P2WzjZVaXy2fBJwOFBPX2pdC17TfEujxapolz9pspiwSXy2TOCQeGAPUHtWf4G1q913wvHcasIxfQTzWtw0QwjvFIyFgOwO3P41nfDqZbfwRczPnbHf37nHoLiQ0tEm36hq7W72/M7Ko5bmCB4lnmjjaZtkYdgC7YzgZ6nAPHtXlx1Tx/P4TbxzDrdjFZ/ZzepoRslZDABuAM+d2/b6cZqPxtY+ItY8Q+FtR0zxUbG01G8RrG3OmxyGzc2zkvuJy+QGGDwN3tTs72fdCurX9fwPWaKyfDmn6vpumGDxBrn9t3RkLC5+yJb4XAwu1Tjjnn3rWoGFFFFIAooooAKKKKACiiigApGUOpVhlWGCD3paKNwPNZvhLdzaVJoz+Lr46JGd1jp/2dQIDu3AO4IaVR2UkAceldn4j0H/AISDTre1+0/Z/IvILrd5e7d5UgfbjI64xnt71r0U7vTyFYy/Eul3et+G7zTdO1N9KuLlNi3kab2jGRnAyOoyM5GM5rmPCvgnxT4bmsYJPGyXWk2g2nT00WGEOuDxvU5Byc56nv1ru6KS0G9VYw9U0K/v/FGk6pba7dWdrY7/AD7CMfu7vcON3Pb3B9sdap+L/CFz4ivNN1HSdZfRtU0xpDb3ItkuFAcAMCjcE4Awe1dRRQHW5xul+AZrW18QR6pr1zqk2vWywTzyxKjIQjISoXjGG4GOMd6p6V8OdTil0+HxF4tuNY0vTHjktLAWUduoaMfJvZclwvBwe4Fd9RTu07/1oK2lv61OV8Q+GvEWpambjQvGM+kW8ihZrVrGK5Q44ypflcjr1rX8O6FbeGvD1ppFk8jw2qbVeQjc2SSScYHUnpWnRSWisPd3CiiigAooooAKKKKACiiigAooooAKKKKACiiigAooooAKKKKACiiigArC8WeGv+Em02COC/l02+s7hbmzvIkDmGQAjO08MCCQQeua3aKAOR8O+CLrR/Era9qev3GsahNZm2nkmiCBvnDDYqnaijB+UDqSc1r2uhfZvF2o659p3fbbaCDyPLxs8suc7s8539MDGK16KdxW38/6/Q4rxn4H1nxNr+nalpnij+yV09cxW76elyglyf3uGYDdggDIOMcEZrb8M6Zrml2c0fiPxD/bs7ybo5vsSW3lrgfLtQkHnJz71tUUlorDeruYfhrQr/Q/7R/tHXbrV/td208X2gY+zoeka8nge2B7Cuam+G+si+1NNO8aXVhpGq3UtzdWMVlEXJk++FmPzL6dK9Boo/4YP+HOS1nwHHdWmlf8I7qU2g32jxGGyuoYxKFjKgFHRuHBwDz3Gadovg++0mLUr2fXpNR8QahEsTanc2yhYwoO0LCpACgknGeTXV0Ub3A46H4fRWEGjy6TqD2+qabK0kt/JF5jXgkOZlkGRneeevykDHSubGieINX+K3i/+wfFL6FEhs1nRLGOdpswDGGY/IRzyPWvVaKd/wCv6/IDmD4SvNN8HW+ieEdbk0eaF9xvpbZLp5CSS5YNgEsxyTVLwX4K1zwu00Gp+KhrGmyiVvsZ02ODEkj72feGJPJb5enze1dpRR38wPOx8Lr5bY6KvjC/HhYkj+yRbx79hOfL8/72ztjHTiuj8VeFP+Eh0uzgsb+TSbvT51uLK6hjD+S6qVGVPDDBIxXQ0UgMnw5p+r6bphg8Qa5/bd0ZCwufsiW+FwMLtU4455961qKKe4bBRRRSAKKKKACiiigAooooAKKKKACivOvHXxV0LSLG+0zSNeiXX4yqRxxxGXa+8BlLbSmcZ4J4+tafj7xxbeG9He3stW0yDWZZIYo47qdcwiRwplZM52qCW9OKOifcOtjsqK4vwxc6yND1O6t/Flh44uQQLdbdIbeOJ8coXjLDnIPPPHvTNG8SeKrTxha6D4zstKB1CCWa0uNKkkKr5eNyOH5zgjkcf0dtbCvpc7eiisvxB4l0fwtpv2/xBfx2VsW2Kzgks2M4AAJJwDwBSGalFZPh/wAU6L4q05r7QNQjvLdG2uygqUPXDKwBH4iuQ1j4q6Hd61pWj+F9dinv5dVghnSKEsrxFiHAcrtPbkHPpTs+ZR6iurOR6LRXPeJPHvhjwjNHD4h1eK0mlG5ItjSOR67UBIHueKZ8PtZufEHgaw1O+n+0TXBkJl2BdwEjBeAAOgHaktVcb0djpKKKKACiiigAooooAKKKKACiiigAooooAKKKKACiiigAooooAKKKKACiiqup6pY6Npst/qt1FaWkIzJLK2FX/wCv7d6ALVFcFoHxG03xT48lt9B1dbnSLfS2mm3QmMJKJANxLqDjafpWTr/jk6z4ql0zw98QND8Pafa20cpvmMFybmRywKLvYLhQozjnketGunn/AMH/ACDTXy/4H+Z6nRXL6vJ4zjs7G28LrpF7L5ANxqOpO6JIwAHyxxjOW69cDpVjwV4juPE2gNc6haLZ3ttcy2l1Cj7kEkbbSVPcGnbcV9joKKK4KbxR4u8QatfQ+BNP0kWGnXDW0t7q0kgFxKv31jWMZG08ZPBpdbD6He0VXsJLqXT4H1GBLe6aMGaKN96o+OQG7jPerFABRRRQAUUUUAFFFFABRRRQAUUUUAFFFFABRRRQAUUUUAFR3Cu9tKsLbZGQhT6HHFSUUmrqw07O54PJ4o0+3+D7eErewu/7dtUVNSgFqyi3YSAvLI5G0g4yCCSciu5+J2g6PdaZY31zpVjNdvqdjC9xJbI0jIZlBUsRkqQSMdMV39FVe7Tfe5NtGvKxz2pT6B8PPCt/qkGm29hZW482WKxtlj8xiQo4UAEkkDJrivA/j3wx4h8Ux31/rUdx4iv0MFrZR20wjs4vveUrMgBY4yznqQAOAK9WooW92N7WRh6p4ssNJ8UaToVzDdNdarv8h44t0a7Rk7mzx+APviua+KfiO80D+yBBeR6PaTyyefrMlgbv7GQvyhUAPLZIyfQ16DRU9B9TxPwwmq61ovxDFvqNxq19eWUQgvJNP+xNcZicKRGPXoD3q3L4x0bXLHwlpPhyyudtlqlmLr/RWijs2Bx5bFgAWJPRc9Cc17DRVX96/p+BFtLev4nmI8Taf4O+IXiVNdtrqTUNUlhk00QWrStdxCJV8pCBgEMG4JA5zXQfCzf/AMK303zYzFJum3ITnafOfI/CuuopLRWG97hRRRQMKKKKACiiigAooooAKKKKACiiigAooooAKKKKACiiigAooooAK4f4mulpb6Dql9C8+ladqiT36rGZNkexwHKjqFYqeldxRR1TDpY840HX7Lxb8VHvLC1mbTH0Noop7iEot0POXcVVhkrzjJAzzSab4O8MSfFDXbR/DmktbRafaPHCbGIojM0uSF24BOBk98CvSKKaskkvP9X+otXfzt+Fv8jz34i/Eax8I3VnoKXiabdXke83skDSR2kOSNwRQSz8EKvTIyeODs/D7VfDGoeGxB4NvGvLOzcxySvG6u0h+ZmYuoLMSck+prqaKFtqN76GH4a8WWHir+0f7Ohuov7Pu2tJftEWzc69SvJ4+uD7VxGheMtN+HU+p+H/ABiLjT2/tGe4srgW0kkd3FK5cbSin5huIIr1OiktHfyt+X+QblewvE1HT4LyKOWOOeMSKsyFHAIyMqeQfarFFFABRRRQAUUUUAFFFFABRRRQAUUUUAFFFFABRRRQAUUUUAFFFFABRVTVNUs9F02bUNTm8m1hAMkm0tjJAHABPUinajqVnpOnTX+pXMdraQLukmkbCqKALNFYPhvxt4e8XRXUnh7URdpaECdjE8YTOcffUZ6HpWjp2taVrHmf2TqdnfeUcSfZrhZNh9DtJxTswuXaKKKQBRRVTUNUs9LFub+byhdXCW0Pylt0jfdXgHGfU8UAW6KKqaXqlnrOnR32mzedbSFgj7SudrFTwQD1BoAt0UUUAFFFFABRRWP4j8W6F4Rs47nxFqMdlFI22PcGZnPfCqCTj2FAGxRWNF4q0q58IyeJbGWS701IHnDxRNudUznCsAc8Hrirei6tBruh2eq2iSxwXkKzRrMm1wCM8j1p2eorovUUUUhhRRRQAUUUUAFFFFABRRRQAUUUUAFFFFABRVQ6pZjWhpPnf6abf7SItp/1e7buzjHXjGc1leJfHfhrwe8SeItVjs5JhuSPY8jkeu1ASB70AdBRWbL4h0e20q31O81O1tLK6RXhnupRCrhhkffxzg9OtX4ZoriFJreRJYpAGR0YMrA9wR1p2YXH0UUUgCisXxN4v0PwfZw3XiO++xwzSeXG3kvJubGcYRSegrR07ULXVtMttQ0+XzbW6jWWGTaV3KRkHBAI/GgCzRWPYeJ7LUfFGqaDBFcrdaYsbTPJFiNt4yNrZ5/T2zWxR0uAUUUUAFFFFABRRRQAUUUUAFFFFABRRRQAUUUUAFMmlWCB5X+7GpY/QDNPpGUOpVhlWGCD3pO9tBq19TxjxI/i7xL8N5/E9z4gt7PSbtEmTRorBWzEZF2Bpid27GCcDFbHxYTxdJbW0dguhPoz31mqLdCUzNN5q4DAfL5e7Ge+M1NN8JbubSpNGfxdfHRIzusdP+zqBAd24B3BDSqOykgDj0rs/Eeg/wDCQadb2v2n7P5F5BdbvL3bvKkD7cZHXGM9veq0vG2119xOut+zKeladrmraDeWHxCg0acTtsEWmeb5bR4HDb+c59OMVz2kaHpDfFSO98H6fa2NlpVpLbahNZxCOKeViu2L5QAzJglj2yAeeB2HiXS7vW/Dd5punam+lXFymxbyNN7RjIzgZHUZGcjGc1zHhXwT4p8NzWMEnjZLrSbQbTp6aLDCHXB43qcg5Oc9T360L4r/ANdv6/q417tv67nd1yXxE1x9D0GKVPEtn4c8yXa13cWpuXxg8Rx/xNnHrgZrR1TQr+/8UaTqltrt1Z2tjv8APsIx+7u9w43c9vcH2x1qn4v8IXPiK803UdJ1l9G1TTGkNvci2S4UBwAwKNwTgDB7VPQpbnK+DviPLN4a8UXt3q0XiODQ4hNFfx2htGuAULbWjI+UgrjI9ar6tp/jAzeGNU8R+JLe5trjV7RjpdvYKiQsxJGJclmx05611WkeATaw68muazca0ddhSK6eaNY2GEZTt28AYbgY4x3rOtvhpqRn0x9Z8YXmqJpN1FNZQyW6xoioejBT87kDG9umTxzV6c6f+H8NyHfka9f+AS3114p8VeJdVsPDOuwaBZaPIkDzGyW5kuJWQOeGICqAwHrnNXfhUrr8NdMWV/McGYM+Mbj5z5OO1R6t4DvbrxFd6ho3ie80a21IJ/aNrbwoxnKrtDI55ibaACR6VBHrvhf4SeH9N0LXtYMQxI1uxtpW3rvLfwhum4Dk89alaKxTu2d0ehrxvT9e+IVx8PF8aSa9Yi3sonmbT/sSk3kaMdxeQY2NgHAUY4Ge9djpXxa8E67qkGmaVrXn3ly2yKP7JMu44zjLIAPxNcZ8PvBOr+IvAOnJqniu4Ph6YuzaPDaRx7lErfIZh8xUkcj3xTSer9AurHW+IdX8SXXi/SNJ8MXdvZx6hpss8slzEJBBho8SBerMAxAXIHzZPSqt74h8T+B/A+t3niqe31GazmSOx1BohEtwsm0BnjjJKhWY5A5IHHrXVy6AJPF9lrazhFtLKW0FuI/vb2Rt27PGNmMY71Pr+iW3iLRLjTLxpI45gCJIm2vGykMrqexDAEfSk/h0/rX/ACBb6+X5f5nl/g34lSXPjPT9Kbxlb+KYtSZ0ZF0l7N7RghYFSQA68Ec88g07VU+Ir/FTTyq+FGvEsblrPzBcGNYfMjBLdxJyo44xurstC8OeLtN1iOfVvHDatp6BgbN9KhiLcYGZFOcg4PvWtPoXneMbPXvtO37NZy2vkeX97eyNu3Z4xs6Y71WnMn6/kxa2a9PzM3XbLxZd+E7d7XX7bRNVt4zLeSWlkLiKUhTlVEvIGe/WrHhe7v8AXfh3pd3cXrR397p8btdJGmVkZB84Ujb1OcYx7U7xZouua3ZxQaB4j/sP7wnb7Clz5ykYx8xG3HPI9az/AAp4T8Q+GvD0+lzeK01ALbpBp7PpiRizCgjJCtmT+Hqf4fep3Ur/ANb/APAHs0Y+i+KvEGu63B4WMyWmqaRJu1u8jVGWSNcbPLBBGZcgnj5eR1xXo9cdD8PorCDR5dJ1B7fVNNlaSW/ki8xrwSHMyyDIzvPPX5SBjpXY03t/X9WF1CiiikMKKKKACiiigAooooAKKKKACua8aa1qGm2+nWGhmFNS1a7FpBNOu5IflZ2cr/FhVOB6kV0tYXizw1/wk2mwRwX8um31ncLc2d5EgcwyAEZ2nhgQSCD1zSGcjomm+ItM+KU8es6/Hrl6+hO1vM9ktssf74YUqhORnv1rHsU+JbfEnV5Il8InVFsLZZmkFz5QiLSbQh+9nIO7PH3a7Xw74IutH8Str2p6/caxqE1mbaeSaIIG+cMNiqdqKMH5QOpJzWva6F9m8Xajrn2nd9ttoIPI8vGzyy5zuzznf0wMYqlol8/zf+ZPf5fp/kU/Eml+GWsxrXjOw0+4+xwbGluoRKq5IyFVgckngcZPSqvw10a40TweIbi3ezSe6mubezc/NaxO5ZIz6EDkjsSRVfxn4H1nxNr+nalpnij+yV09cxW76elyglyf3uGYDdggDIOMcEZrb8M6Zrml2c0fiPxD/bs7ybo5vsSW3lrgfLtQkHnJz70LZg+i/rY2q8/kufF/i/XNUHhzXrbQNN0u7NmpNitzJdSKAXLbiAq5OBjnrXSeGtCv9D/tH+0ddutX+13bTxfaBj7Oh6RryeB7YHsKxtR8CaqmuXeoeE/FlzoKahIJby2FpHcpI+MF13/cYgDJGaS3+X46f8EfT+tv6sdNdiceHZxdsjTi0bzTGCFLbOcZ7ZrI8AK7/C/QFify3OmQhXxnadgwcd6d4i8P67qekWtloXih9JaNDHcTSWUdy1yu0DncRg9TketVvCPhTXvDWgz6Xd+Kv7RjW3WCwb+zo4vse1SAeCfM6r94/wAPvT6S+X4X/wAw/l/rt/kVfB0viO08Y6zoniTxB/bgtrW3nhl+xR223eZARhOv3R1NZ9zdeNNf8e+ItF0LXrbSLDTzbss72STyKXiDbFU4BBOSSxJHGKl0vwD4vsPFH9tXPj/7U83lJdx/2LCn2iKNiQmQ3y/eYZAzz7VmDRPEGr/Fbxf/AGD4pfQokNms6JYxztNmAYwzH5COeR609/u/yBdTtPA2tXuu+F47jVhGL6Cea1uGiGEd4pGQsB2B25/GuhrN8PaFa+G9Dt9LsDI0UIJMkrbnkYkszse5JJJ+taVJ7iQUUUUhhRRRQAUUUUAFFFFABRRRQAUUUUAFFFFABRRRQAUUUUAFFFFABRRRQAUUUUAFFFFABRRRQAUUUUAFFFFABRRRQAUUUUAFFFFABRRRQAUUUUAFFFFABRRRQAUUUUAFFFFABRRRQAUUUUAFFFFABRRRQAUUUUAFFFFABRRRQAUUUUAFFFFABRRRQAUUVHcK720qwttkZCFPoccUm7K41qzz7x18VdC0ixvtM0jXol1+MqkcccRl2vvAZS20pnGeCePrWn4+8cW3hvR3t7LVtMg1mWSGKOO6nXMIkcKZWTOdqglvTivOZPFGn2/wfbwlb2F3/btqipqUAtWUW7CQF5ZHI2kHGQQSTkV3PxO0HR7rTLG+udKsZrt9TsYXuJLZGkZDMoKliMlSCRjpiq5dUu7X6E33fky34YudZGh6ndW/iyw8cXIIFutukNvHE+OULxlhzkHnnj3pmjeJPFVp4wtdB8Z2WlA6hBLNaXGlSSFV8vG5HD85wRyOP6a2pT6B8PPCt/qkGm29hZW482WKxtlj8xiQo4UAEkkDJrivA/j3wx4h8Ux31/rUdx4iv0MFrZR20wjs4vveUrMgBY4yznqQAOAKa1l/X9f1949I/wBf1serVl+IPEuj+FtN+3+IL+Oyti2xWcElmxnAABJOAeAKr6p4ssNJ8UaToVzDdNdarv8AIeOLdGu0ZO5s8fgD74rmvin4jvNA/sgQXkej2k8snn6zJYG7+xkL8oVADy2SMn0NR0uilvY6vw/4p0XxVpzX2gahHeW6NtdlBUoeuGVgCPxFchrHxV0O71rStH8L67FPfy6rBDOkUJZXiLEOA5Xae3IOfSuY8MJqutaL8Qxb6jcatfXllEILyTT/ALE1xmJwpEY9egPercvjHRtcsfCWk+HLK522WqWYuv8ARWijs2Bx5bFgAWJPRc9Cc1aXvpecfxZDfuN+v4I9A8SePfDHhGaOHxDq8VpNKNyRbGkcj12oCQPc8Uz4fazc+IPA1hqd9P8AaJrgyEy7Au4CRgvAAHQDtXKjxNp/g74heJU122upNQ1SWGTTRBatK13EIlXykIGAQwbgkDnNdB8LN/8AwrfTfNjMUm6bchOdp858j8KlfDf+v67jfxWOurmJPiP4Ri8SroD65b/2k0nleSAxAfONpcDaGzxjOc8V09eLt4osdF1iXTvB+pXV7cSXxkl8MahpUjkO0uZCkoUbMZLAsWFEdZJDekWz1v8Atix/t46N5/8AxMBbfavJ2N/qt23duxjrxjOaqjxVoQt72ebVLe3hsbo2lzLcv5KRzAA7Nz4B6jpxXIeJtesfB/xYt9Z19poNPu9GNnFOkDyAzCbds+UE5IPFJ8Orez8Tad4obWdHVoLnX5Zvseo26sVzHGV3IwIBwQfbNNK6uuz/APSrfkN2T+78r/mVPDnijUvFniRLuLx/pNjbG+kji0GGGGWW4hjcgZdm35YLnKjocirPi/x3Hca9ZaH4d8Z6LoyvFLLd6lJJDP5JQqBEFZgoYknrzhT6VY+GHhrQo9B/tBNF09b2LUbxY7kWqCRAJ5FADYyMLx9OKi1Dwj4bf4tabA/h/Smhm0u6mljNlGVkcSxYZhtwW5PJ55NCWsY/1tcT+0/63sXtX8R2Hh74dw/8JJ4y3SahE8MOuWtrnzHYEq6LEGAwOmDjjrW54fu4LTwLYXj6ncarbxWSym/eFzJcKFzv2YLEkc45P1NUvFniXw34H8OpbanPHplvPE8FpFFbsVyF+6AikKOR6Csb4ZeNfD138OLVIdSTOiafCNQLxugg+Q9SwAP3W6Z6UXupNeX6/wBfMLW5U/62OrfxToqaZp+ofble21N0js2jRnMzP90BQCfrxxg5xitevHvDkY0LxPYeJdVs2tdA1eaVNLhkJxpTykEMy9F87BP+znHc17DQ1pf+l5eor62/p+YUUUUhhRRRQAUUUUAFFFFABRRRQAVV1PVLHRtNlv8AVbqK0tIRmSWVsKv/ANf271arh/ia6WlvoOqX0Lz6Vp2qJPfqsZk2R7HAcqOoVip6UhkWgfEbTfFPjyW30HV1udIt9LaabdCYwkokA3EuoONp+lZOv+OTrPiqXTPD3xA0Pw9p9rbRym+YwXJuZHLAou9guFCjOOeR61c0HX7Lxb8VHvLC1mbTH0Noop7iEot0POXcVVhkrzjJAzzSab4O8MSfFDXbR/DmktbRafaPHCbGIojM0uSF24BOBk98CqS0jfz/ADZN/i+X6HQavJ4zjs7G28LrpF7L5ANxqOpO6JIwAHyxxjOW69cDpVjwV4juPE2gNc6haLZ3ttcy2l1Cj7kEkbbSVPcGud+IvxGsfCN1Z6Cl4mm3V5HvN7JA0kdpDkjcEUEs/BCr0yMnjg7Pw+1XwxqHhsQeDbxryzs3MckrxurtIfmZmLqCzEnJPqaFrd/1/XQHpZf1t/TOprm/EPxB8LeFb2Oz17WYbW5kAIi2s7AHoWCg7R7nFWPDXiyw8Vf2j/Z0N1F/Z921pL9oi2bnXqV5PH1wfauJsvFGieBfFfiSHxhHNZ3mpX5ntrs2kkou4CqhEVkU/dwRtOKS3+V/y/zuPodh4qg1jU9AS58K+Il0hkUzmdbOO5E6bSQoDcDPByKl8I6rPf8AgHSNV1SbzJ5rCOe4l2gZJQFjhRj8AKo+KfGXh/wz4Zhk1m5bTo7+3ZLWNrdyc7PulVU7cZHXFZfwu8Y6DqHw8tYbS+8yTRdOhF+PJkHk4Q56r833G+7npT6T8rfr/wAAP5fn+n/BJvBPiDSfE3irXNS0LxVc6tbukI/s+S3kjjs+CMrvAzuIJ4H1zxWnrXxF8KeHbm5t9Z1mK1ntXRJYmjdmBZdwwApLDBBJGQM84rjNB+J3hC8+K2oy22r701O2s7S0P2aYeZKHkBXlOPvrycDnrTD4u8LeE/jF4tl8RSiK9nS0S1K2ryu6+SNyqVU4ydvBxninbb0Bbv8ArseqafqFpqunw32nXEdzazoHiljOVYVYrlPhrY3Fh4KiF1aPZfaLm4uYrWQYaCOSVnRCOxCkcdq6uk9GJanC6a/ibS/ihHpmr+JP7V0+9sri6it/sMcHkbZECruXJbAfGSRW94l8aeHvCEUT+I9TisvOJ8tSrO746kKoJx74xXnt/wDFbwYPijYX51n/AEa10+5tZn+yzfLK0kZC42ZP3W5HHFa2sa7pngz4n32teKklhsb7T4IrHUBbvKkZRn3xfKCVLblPTnFH2Y/P83+lhv4pfL9LnX2vi7Qr6y0+7s9Rint9Sn+z2skQZg8mC204HynCn72KvahqlnpS27X83lC5nS2i+Rm3SOcKvAPX16V5LK0dr4a1bxctnNZaUPEdrqdrFJCUYxKY45JQnUbssRxz+NS6bFc2/jHQNF1ASF9Rvh4hw/IRjBL5iA/7Mmzj/appX/D8k/8AP7hN2Tfr+q/y+87rVviN4S0PXF0fVdct7a+OAY2DEJnpuYDan/AiK1NU8Q6TonkHVr6K1W4DmN5CQpCruY7ug4GeeteF393PoN1rujeIvHb+HFvL24d7Obw2LpbmN2JDiUAlwVI68jp2rvL/AEqze6+Gmn3MiarbRM22WaLAm2WpKOVOccgHB6VKV4X9Px/y9dfIb0k16/gdh4b8YaD4vgnm8OajHerbsFlCqyMhPTKsAcHBwehxW1VKLSLGDWrjVobcJfXMSQzShj86ISVGM443HnGau0AFFFFABRRRQAUUUUAFFFFABRRRQAUUUUAFFFFABXO+J9G8SarNbt4b8V/2CkakSp/Z0dz5pOMHLkYxz09a6KigDjdJ8NeNrPVre41X4gf2jZxvmW0/sWGLzR6b1OV+orsqKKdwCiiikAUUUUAFFFFABRRRQAUUUUAFFFFABRRRQAUUUUAFFFFABRRRQAUUUUAFFFFABRRRQAUUUUAFYul+Hv7N8U65rP2rzf7WMB8ny8eV5abPvZ+bPXoMVtUUAc74n0bxJqs1u3hvxX/YKRqRKn9nR3Pmk4wcuRjHPT1rP0nw142s9Wt7jVfiB/aNnG+ZbT+xYYvNHpvU5X6iuyooWgPUKKKKACiiigAooooAKKKKACiiigAooooAKKKZNKsEDyv92NSx+gGaTdldhuV9U1Sz0XTZtQ1ObybWEAySbS2MkAcAE9SKdqOpWek6dNf6lcx2tpAu6SaRsKoryDxI/i7xL8N5/E9z4gt7PSbtEmTRorBWzEZF2Bpid27GCcDFbHxYTxdJbW0dguhPoz31mqLdCUzNN5q4DAfL5e7Ge+M07PRdW7Bdb9DsvDfjbw94uiupPD2oi7S0IE7GJ4wmc4++oz0PStHTta0rWPM/snU7O+8o4k+zXCybD6HaTisnStO1zVtBvLD4hQaNOJ22CLTPN8to8Dht/Oc+nGK57SND0hvipHe+D9PtbGy0q0lttQms4hHFPKxXbF8oAZkwSx7ZAPPAenNYWtrnolFFcl8RNcfQ9BilTxLZ+HPMl2td3Fqbl8YPEcf8TZx64GaluxS1OrllSGF5ZTtRFLMcdAOtYPhjx14c8ZPcr4b1H7abUKZh5Eke3dnH31Geh6Vz/wALfGFx4mGr2s+tRa9FYSReTqUdmbUzB1JIaMgYIII461paV/yVzxF/2DbL/wBCmq7WdmTe8br+tbGt4j8T2XhiGxkv4rmUXt3HZxi3i3kO+cE88Dj6+xrYrhfHL+JtJ1PT9W0zxJ9n0x721tZdM+wxvv3yhWbzTlhkHoB2rR+Iev3nh3wylxp80NrJcXcVs17cJujtFdsGVh3A9+MkZqfs387fl/mPrbyv+Z1NFeXeCNU8Q33xAurKXx3b+JtKs7NZnktLGBY2dyyhC6dCMbuCcjrisi08S/EA/DuLxvda7Zi1tDltPFihN5GJdhZ5ONjdcBQBwM96dv6/AN7/ANeZ7RRSKdyg+ozS0g3CiiigAooooAKKKKACiiigAooooAKKKKACiiigAooooAKKK5rxprWoabb6dYaGYU1LVrsWkE067kh+VnZyv8WFU4HqRQBtHVLMa0NJ87/TTb/aRFtP+r3bd2cY68YzmsrxL478NeD3iTxFqsdnJMNyR7Hkcj12oCQPeuU0TTfEWmfFKePWdfj1y9fQna3meyW2WP8AfDClUJyM9+tY9inxLb4k6vJEvhE6othbLM0gufKERaTaEP3s5B3Z4+7QtUvn+b/yDv5W/T/M9Rl8Q6PbaVb6neana2lldIrwz3UohVwwyPv45wenWr8M0VxCk1vIksUgDI6MGVge4I61z/iTS/DLWY1rxnYafcfY4NjS3UIlVckZCqwOSTwOMnpVX4a6NcaJ4PENxbvZpPdTXNvZufmtYncskZ9CByR2JIp6ai1sjraKK8/kufF/i/XNUHhzXrbQNN0u7NmpNitzJdSKAXLbiAq5OBjnrS62H0udN4m8X6H4Ps4brxHffY4ZpPLjbyXk3NjOMIpPQVo6dqFrq2mW2oafL5trdRrLDJtK7lIyDggEfjUN2Jx4dnF2yNOLRvNMYIUts5xntmsjwArv8L9AWJ/Lc6ZCFfGdp2DBx3p9JeVvxv8A5B287/p/mXrDxPZaj4o1TQYIrlbrTFjaZ5IsRtvGRtbPP6e2a2K4jwdL4jtPGOs6J4k8Qf24La1t54ZfsUdtt3mQEYTr90dTWfc3XjTX/HviLRdC1620iw0827LO9kk8il4g2xVOAQTkksSRxiiwdWej0Vz3gbWr3XfC8dxqwjF9BPNa3DRDCO8UjIWA7A7c/jXQnoaT01BahRXmY8Xa3/wz/J4k+2/8TYQswufKTqJiv3cbenHSreuX/i3UfiI3h7w5q9tplsdKjupLia1WZoT5jKSinG4n5R8xwADxmm007f13DZXf9apfqeg0V5de+LvEum/DzXDPdQza3oupxWX2tIVVLlS8RDFSCFJWTBx07VpWd14x8P8Ai7R4fEus2eqWmtvJCYILMQiylWMyAI2cuvykZbnpQlf+vK/6iO/orwzWvi3M2salNb+NLPRjYXEsMGjSaRJcC5EZIBkmA+UsQfu9AR3zXaax4r1y+tfBsvhg28EuvqzOl0u5EBg35OBk7eTgEZxjNLePMvL8dv66dRvR29fwO/ormPCtt4t0/Ur6z8UahFrFoEjktdQS3S3Ysd2+MxqT0wpB9+p7dPQAUUUUAFFFFABSModSrDKsMEHvS0UbgeazfCW7m0qTRn8XXx0SM7rHT/s6gQHduAdwQ0qjspIA49K7PxHoP/CQadb2v2n7P5F5BdbvL3bvKkD7cZHXGM9veteind6eQrGX4l0u71vw3eabp2pvpVxcpsW8jTe0YyM4GR1GRnIxnNcx4V8E+KfDc1jBJ42S60m0G06emiwwh1weN6nIOTnPU9+td3RSWg3qrGHqmhX9/wCKNJ1S2126s7Wx3+fYRj93d7hxu57e4PtjrVPxf4QufEV5puo6TrL6NqmmNIbe5FslwoDgBgUbgnAGD2rqKKA63OU8P+Dr7Q5dZupfENxqF/qkcYN1PboDE6KwDBR8pHzAhccY6nNZGl+AfF9h4o/tq58f/anm8pLuP+xYU+0RRsSEyG+X7zDIGefavQqKd7O4raWOH8Y+CfEfii+Bs/GX9m6ekkU0Vl/Zcc2ySMhg28sCfmGcHjtWJ8SLTULDwHo1tr+sTXksWoq93rKaarRxLhyGkt1DKwwQuPXB9j6nRU9Ledyut/kePfDDVrk+JE03w9rEGv6A8Ukl1PBoI01LRxjYAVVQ7N3GOgzXXD4fY+FTeDP7T+9GU+2fZ/WTfnZu/D71dnRVtkxuncRRtUD0GKWiipGtAooooAKKKKACiiigAooooAKKKKACiiigAooooAKKKKACsLxZ4a/4SbTYI4L+XTb6zuFubO8iQOYZACM7TwwIJBB65rdooA5Hw74IutH8Str2p6/caxqE1mbaeSaIIG+cMNiqdqKMH5QOpJzWva6F9m8Xajrn2nd9ttoIPI8vGzyy5zuzznf0wMYrXop3Fbfz/r9DivGfgfWfE2v6dqWmeKP7JXT1zFbvp6XKCXJ/e4ZgN2CAMg4xwRmtvwzpmuaXZzR+I/EP9uzvJujm+xJbeWuB8u1CQecnPvW1RSWisN6u5h+GtCv9D/tH+0ddutX+13bTxfaBj7Oh6RryeB7YHsKxtR8CaqmuXeoeE/FlzoKahIJby2FpHcpI+MF13/cYgDJGa7WigDm/EXh/XdT0i1stC8UPpLRoY7iaSyjuWuV2gc7iMHqcj1qt4R8Ka94a0GfS7vxV/aMa26wWDf2dHF9j2qQDwT5nVfvH+H3rraKO/mHbyPPdL8A+L7DxR/bVz4/+1PN5SXcf9iwp9oijYkJkN8v3mGQM8+1Zg0TxBq/xW8X/ANg+KX0KJDZrOiWMc7TZgGMMx+Qjnketeq0U7h3OLm8QeEPhTpOn6NqupyWqujvG8sUkzzHdl3Yop5LNk9OtO0n4teCdd1a30zS9a8+7uW2RR/ZJl3H0yyAD8TXZUUb7i9DzG8+EF5d6Pd6GPGF7HoTM0lpp62qAQMWLYZwQ0igkkLx29KTXNK1vUvjNJF4d8QnQpY9CiMkwskuPMXzmG3DnA55zXp9FC6eX+VhvVP8Arqn+h5f448Mp4c+D2o2dteTXF3c3kM9xfTgNJLM08eXI6dhgdMACug0PwVqVvrlvq/ivxNN4hu7NXWzBtEto4NwwzbE6tjjJ7E12FFCdv68rCscNdeBdftb65fwh40n0SzuZnuHs5NPiulSRzlihcgqCcnHqTW5d+HZb7U/D19c3++bR2d5D5IH2lmhMZPBwnJ3d/St2il0sPrcKKKKACiiigAooooAKKKKACivOvHXxV0LSLG+0zSNeiXX4yqRxxxGXa+8BlLbSmcZ4J4+tafj7xxbeG9He3stW0yDWZZIYo47qdcwiRwplZM52qCW9OKOifcOtjsqK4vwxc6yND1O6t/Flh44uQQLdbdIbeOJ8coXjLDnIPPPHvTNG8SeKrTxha6D4zstKB1CCWa0uNKkkKr5eNyOH5zgjkcf0dtbCvpc7eiisvxB4l0fwtpv2/wAQX8dlbFtis4JLNjOAACScA8AUhmpRWPofibSPF2ky3fhrU47mMZj8xVIMbY4yjAEeuCOawPB0viO08Y6zoniTxB/bgtrW3nhl+xR223eZARhOv3R1NOzvZivpc7eiuF8cv4m0nU9P1bTPEn2fTHvbW1l0z7DG+/fKFZvNOWGQegHau6pbq/8AX9aj62CiiigAooooAKKKKACiiigAooooAKKKKACiiigAooooAKKKKACiiigAooqrqeqWOjabLf6rdRWlpCMySythV/8Ar+3egC1RXBaB8RtN8U+PJbfQdXW50i30tppt0JjCSiQDcS6g42n6Vk6/45Os+KpdM8PfEDQ/D2n2ttHKb5jBcm5kcsCi72C4UKM455HrRrp5/wDB/wAg018v+B/mep0Vy+ryeM47OxtvC66Rey+QDcajqTuiSMAB8scYzluvXA6VY8FeI7jxNoDXOoWi2d7bXMtpdQo+5BJG20lT3Bp23FfY6Ciiub8Q/EHwt4VvY7PXtZhtbmQAiLazsAehYKDtHucUhnSUVk6z4p0Tw/oyarrGpQ21lIB5cpJbzMjI2gZLcc8A0zQvFGj+LtLlufDOqRXKLlC6Kd0TEcbkYAj15HNGuvkGmnmbNFcR4Ol8R2njHWdE8SeIP7cFta288Mv2KO227zICMJ1+6OprqrXWLG91S+062n33enlBcx7GHl713LyRg5HPBNOwF2iudm8e+GbfSINUn1VIrK4MqxTPE6hjFkOOVyMFSOevbORRpPj7wxrmpwadpOsQ3N3Pb/aY4lVgTH+I4PfaecdqQbHRUVyMfxU8Ey3lnap4gtzNe48lSjjknADHbhDns2K0/EnjLw/4Qgil8R6nFZLMSI1Ks7PjrhVBJAyOcUB1sbdFU9K1ax1zS4NR0m5S6s513RyxnhucH6EEEYPSrlNprRhuFFFFIAooooAKKKKACiiigAqO4V3tpVhbbIyEKfQ44qSik1dWGnZ3PB5PFGn2/wAH28JW9hd/27aoqalALVlFuwkBeWRyNpBxkEEk5Fdz8TtB0e60yxvrnSrGa7fU7GF7iS2RpGQzKCpYjJUgkY6Yrv6Kq92m+9ybaNeVjntSn0D4eeFb/VINNt7Cytx5ssVjbLH5jEhRwoAJJIGTXFeB/HvhjxD4pjvr/Wo7jxFfoYLWyjtphHZxfe8pWZACxxlnPUgAcAV6tRQt7sb2sjD1TxZYaT4o0nQrmG6a61Xf5Dxxbo12jJ3Nnj8AffFc18U/Ed5oH9kCC8j0e0nlk8/WZLA3f2MhflCoAeWyRk+hr0Gip6D6nlPwu1Fxqni7U9U1WbUUCW07X82m/YzLGI3+cRAZxgcHGTimaD8TvCF58VtRlttX3pqdtZ2lofs0w8yUPICvKcffXk4HPWvWaKu+t+hNtGjzD4q+O/DmnLbaLeaj5eoW+oWdzLD5Eh2xrKrltwXB+UZwDmu/0PXNO8SaPDqui3H2myn3eXLsZN2GKnhgD1B7VoUUlpG3nf8Ar7hvV3CiiikAUUUUAFFFFABRRRQAUUUUAFFFFABRRRQAUUUUAFFFFABRRRQAVw/xNdLS30HVL6F59K07VEnv1WMybI9jgOVHUKxU9K7iijqmHSx5xoOv2Xi34qPeWFrM2mPobRRT3EJRboecu4qrDJXnGSBnmk03wd4Yk+KGu2j+HNJa2i0+0eOE2MRRGZpckLtwCcDJ74FekUU1ZJJef6v9Rau/nb8Lf5HnvxF+I1j4RurPQUvE026vI95vZIGkjtIckbgigln4IVemRk8cHZ+H2q+GNQ8NiDwbeNeWdm5jkleN1dpD8zMxdQWYk5J9TXU0ULbUb30MPw14ssPFX9o/2dDdRf2fdtaS/aItm516leTx9cH2ribLxRongXxX4kh8YRzWd5qV+Z7a7NpJKLuAqoRFZFP3cEbTivUqKS0d/K35f5B0sedeLNQstF8UeGPE2rWMy6Fb2c0fmC3ZvsMjhCjMiglflUrkDg8UvhjVbHVvGmu+L9Mjlh0H+zoonu3t2jF3IhZ2kVSAxCqducc/hXolFO/bzt8/z3Dffy/A8m0H4neELz4rajLbavvTU7aztLQ/Zph5koeQFeU4++vJwOetW5vFFh4K+J3ib+2o7vzNXS1k06OC2eU3RSMoyLtBG7PrjrXp1FAdWzxXwpbpeaX8OUvrbGNV1GQwyjlHXzmGfcMB+Ip/gW2hhHgeSKJUeW91Z5GA5Y5cZP4KB+Ar2eik9b26g9f69f8AM8St7G1t/wBlq6lgt40kmRppHCjLOLjAYn1GBz7V0/xA1PRNF1nTtRvtcvvD2ppatHb30dk1zBKjMC0bqFbPKg4+U89a9Gopyd3f+uw/+Cc14C1W81nwql3qFpHbu08oR4rdoFuE3HbMI2+Zd3XB+veuloooepKCiiikMKKKKACiiigAooooAKKKKACiqmqapZ6Lps2oanN5NrCAZJNpbGSAOACepFO1HUrPSdOmv9SuY7W0gXdJNI2FUUAWaKwfDfjbw94uiupPD2oi7S0IE7GJ4wmc4++oz0PStHTta0rWPM/snU7O+8o4k+zXCybD6HaTinZhcu0UUUgCiiigAooooAKKKKACiiigAooooAKKKKACiiigAooooAKKKKACiiigAooooAKKKKACiiigAoqodUsxrQ0nzv8ATTb/AGkRbT/q923dnGOvGM5rK8S+O/DXg94k8RarHZyTDckex5HI9dqAkD3oA6Cis2XxDo9tpVvqd5qdraWV0ivDPdSiFXDDI+/jnB6davwzRXEKTW8iSxSAMjowZWB7gjrTswuPooopAFFFFABRRVK11ixvdUvtOtp993p5QXMexh5e9dy8kYORzwTQBdopGYKpY5wBk4GayfC/iWz8W6FHq2nRXMUEjugW5j2PlWKnjJ9KANeiiigAooooAKKKKACiiigAooooAKKKKACmTSrBA8r/AHY1LH6AZp9Iyh1KsMqwwQe9J3toNWvqeMeJH8XeJfhvP4nufEFvZ6TdokyaNFYK2YjIuwNMTu3YwTgYrY+LCeLpLa2jsF0J9Ge+s1RboSmZpvNXAYD5fL3Yz3xmppvhLdzaVJoz+Lr46JGd1jp/2dQIDu3AO4IaVR2UkAceldn4j0H/AISDTre1+0/Z/IvILrd5e7d5UgfbjI64xnt71Wl422uvuJ11v2ZT0rTtc1bQbyw+IUGjTidtgi0zzfLaPA4bfznPpxiue0jQ9Ib4qR3vg/T7WxstKtJbbUJrOIRxTysV2xfKAGZMEse2QDzwOw8S6Xd634bvNN07U30q4uU2LeRpvaMZGcDI6jIzkYzmuY8K+CfFPhuaxgk8bJdaTaDadPTRYYQ64PG9TkHJznqe/WhfFf8Art/X9XGvdt/Xc7uuS+ImuPoegxSp4ls/DnmS7Wu7i1Ny+MHiOP8AibOPXAzWjqmhX9/4o0nVLbXbqztbHf59hGP3d3uHG7nt7g+2OtU/F/hC58RXmm6jpOsvo2qaY0ht7kWyXCgOAGBRuCcAYPap6FLc5Lwr481DVfB/i94dei1p9HtWltNVjsvsxkJiZhuiYYBVl9MGi01vxxYWvhnxDres2c9lq9zbWsulRWaqEWYYWTzc5LdCRwvJxXQ6f4Bubax8RxX/AIguNRudetRBLczwKDGwjZMhVIGPm4XjGOtXr7wd9t8O6BpX27Z/Y9zaT+b5OfO8jHGN3y7sdcnHvWl1zX/w/wDBJ+zb/F+liK21+603xlruna7dBrRLVdSsXZFXZABtlXIAztYZycnDCr3g241S98L299rkha5vS1wsZRV8mNzmOPgDopAJPOc1x/iuaw8deMdP0PQ3uZLrTrmSLV50gZYorYj95CzMACXIUADPQmvTQAqgKMAcADtUL4b/ANev5fc+438Vv6/rf70FFFFABRRRQAUUUUAFFFFABRRRQAUUUUAFFFFABRRRQAUUUUAFFFFABXNeNNa1DTbfTrDQzCmpatdi0gmnXckPys7OV/iwqnA9SK6WsLxZ4a/4SbTYI4L+XTb6zuFubO8iQOYZACM7TwwIJBB65pDOR0TTfEWmfFKePWdfj1y9fQna3meyW2WP98MKVQnIz361j2KfEtviTq8kS+ETqi2FsszSC58oRFpNoQ/ezkHdnj7tdr4d8EXWj+JW17U9fuNY1CazNtPJNEEDfOGGxVO1FGD8oHUk5rXtdC+zeLtR1z7Tu+220EHkeXjZ5Zc53Z5zv6YGMVS0S+f5v/Mnv8v0/wAin4k0vwy1mNa8Z2Gn3H2ODY0t1CJVXJGQqsDkk8DjJ6VV+GujXGieDxDcW72aT3U1zb2bn5rWJ3LJGfQgckdiSKr+M/A+s+Jtf07UtM8Uf2SunrmK3fT0uUEuT+9wzAbsEAZBxjgjNbfhnTNc0uzmj8R+If7dneTdHN9iS28tcD5dqEg85OfehbMH0X9bG1Xn8lz4v8X65qg8Oa9baBpul3Zs1JsVuZLqRQC5bcQFXJwMc9a6Tw1oV/of9o/2jrt1q/2u7aeL7QMfZ0PSNeTwPbA9hWNqPgTVU1y71Dwn4sudBTUJBLeWwtI7lJHxguu/7jEAZIzSW/y/HT/gj6f1t/Vh3iTUvEcup6R4a0O8tbDUry2kuLvUWg81YVj2g+XGeCSzjGegrn9S8T+KvC+l+JNL1bU4dR1HT9Oj1Cy1GK2WIyIzlCrx8qCCPyNdV4h8Gzaumm3Wm63daZrOmIY4NREayllYAMJEPDg4B7c1nN8N5bnw/rVvq2vz6hq+swLBPqU1uqhEU5VUiUgKvJOM8k5p9H8/+Bbt0BW0+X/Bv+JyV94m+IOn3GtpcaxYn+xvst7OFs1+YTEf6Mv+yPm+f7xwOma1FsvEupfFDxhb+GdXttFTNm8129sLiQnyBtRUYhcdck89MV0Wq+AP7Tn8Ryf2l5X9uQ2sWPI3eT5JPP3vmzn2x71BqngTWpPFF/q/h3xfNoo1IRC6gWwin3bE2Dazcrx/Oi6/r5f1/TEv6/r7/wCrEmi3niHxb4A/catHo2tRXMltNexWqzoWilKMQjHGGC/hmrnw91HUtT8HrNrd79uvY7q4ge48pY/M8uZ0B2qMDhRSnwneab4Ot9E8I63Jo80L7jfS2yXTyEklywbAJZjkmqfgjwbr3hSWWPUPFn9rWDiR1tP7Njg2yu+9n3hiTyW46fN7UPW6/q/l2Dov601OKtPEvxAPw7i8b3Wu2YtbQ5bTxYoTeRiXYWeTjY3XAUAcDPetX4h/EM6V4nj0KPxPD4WRbVbmS9fTmvXlZiQI1QAgABckn1GO9dAPh9j4VN4M/tP70ZT7Z9n9ZN+dm78PvVY8Q+D7/UNUTVvDfiGfQdT8hbeaVLdLiOaNSSoaN+Mgk4Oe5ola+m1/6/Erz/rf/K5F8NPFz+L/AA5cTzXMN7JZ3b2pu4IWiS5AAZZAjcqSGGR6g12FZXh2w1bTdL8jX9a/tq78wt9q+yJb/Lxhdi8cevvWrTla+hK2CiiipGFFFFABRRRQAUUUUAFFFFABRRRQAUUUUAFFFFABRRRQAUUUUAFFFFABRRRQAUUUUAFFFFABRRRQAUUUUAFFFFABRRRQAUUUUAFFFFABRRRQAUUUUAFFFFABRRRQAUUUUAFFFFABRRRQAUUUUAFFFFABRRRQAUUUUAFFFFABRRRQAUUVHcK720qwttkZCFPoccUm7K41qzz7x18VdC0ixvtM0jXol1+MqkcccRl2vvAZS20pnGeCePrWn4+8cW3hvR3t7LVtMg1mWSGKOO6nXMIkcKZWTOdqglvTivOZPFGn2/wfbwlb2F3/AG7aoqalALVlFuwkBeWRyNpBxkEEk5Fdz8TtB0e60yxvrnSrGa7fU7GF7iS2RpGQzKCpYjJUgkY6YquXVLu1+hN935Mt+GLnWRoep3Vv4ssPHFyCBbrbpDbxxPjlC8ZYc5B55496Zo3iTxVaeMLXQfGdlpQOoQSzWlxpUkhVfLxuRw/OcEcjj+mtqU+gfDzwrf6pBptvYWVuPNlisbZY/MYkKOFABJJAya4rwP498MeIfFMd9f61HceIr9DBa2UdtMI7OL73lKzIAWOMs56kADgCmtZf1/X9fePSP9f1serVl+IPEuj+FtN+3+IL+Oyti2xWcElmxnAABJOAeAKr6p4ssNJ8UaToVzDdNdarv8h44t0a7Rk7mzx+APviua+KfiO80D+yBBeR6PaTyyefrMlgbv7GQvyhUAPLZIyfQ1HS6KW9jpNL8aeHta8P3OtaXqcdzp9orPPKqNmMKu45QjcOOcY5qpY/EnwhqWuQ6PY67bzX0yho4gGAbIyBuI27v9nOe2K878M3Fxd6D8SLm71KbVHm01WF7NpwsjOvkSAMI/Tjg98Uum6/4f8AE3g/wx4W8Hwtc6jbXFnNP5No8aWZjZWlkZyoGThhkEklvetFH3ren47/AHEN+7f1/C1vvPRda+IvhTw7c3NvrOsxWs9q6JLE0bswLLuGAFJYYIJIyBnnFacniTR4vDv9vSalbrpZjEguy/yFT0/HPGOueOtebHxd4W8J/GLxbL4ilEV7OlolqVtXld18kblUqpxk7eDjPFUdT0XWLf4VaPcxJcaTHDrUmoyRiyFy9nA7yMhMB4bbvUle3XtUfZT9PxLejt/W1/8Agf1Y9O8N+NPD3i+GWTw7qcV6IT+8UKyOnoSrAHHvjFZsfxU8Ey3lnap4gtzNe48lSjjknADHbhDns2K5H4dXtrr3juXUl8fjxLeQWDwtCNENkRGXU5LYAbBA4561nW9ja2/7LV1LBbxpJMjTSOFGWcXGAxPqMDn2qrdX5fm/6/AUfe0R6n4k8X6D4Rto5/EWpRWSSkiMMGZnx1wqgk4+nes34f8AiY+LNP1XUI7z7XaLqcsVnJ5ez9yApUYwD3PXmsLW9d0/wj8Uf7W8TLMtpd6VFb2Fylu8oWUSMXjG0EhmDKffFafwxunvbHX7qW0ms2n1qeTyJwA8YKoQGA6HBGR2pR1u/J/mkS3ovVfk2dtRRRSKCiiigAooooAKKKKACiiigAooooAKKKKACiiigAqrqeqWOjabLf6rdRWlpCMySythV/8Ar+3erVcP8TXS0t9B1S+hefStO1RJ79VjMmyPY4DlR1CsVPSkMi0D4jab4p8eS2+g6utzpFvpbTTboTGElEgG4l1BxtP0rJ1/xydZ8VS6Z4e+IGh+HtPtbaOU3zGC5NzI5YFF3sFwoUZxzyPWrmg6/ZeLfio95YWszaY+htFFPcQlFuh5y7iqsMlecZIGeaTTfB3hiT4oa7aP4c0lraLT7R44TYxFEZmlyQu3AJwMnvgVSWkb+f5sm/xfL9DoNXk8Zx2djbeF10i9l8gG41HUndEkYAD5Y4xnLdeuB0qx4K8R3HibQGudQtFs722uZbS6hR9yCSNtpKnuDXO/EX4jWPhG6s9BS8TTbq8j3m9kgaSO0hyRuCKCWfghV6ZGTxwdn4far4Y1Dw2IPBt415Z2bmOSV43V2kPzMzF1BZiTkn1NC1u/6/roD0sv62/pnU1zfiH4g+FvCt7HZ69rMNrcyAERbWdgD0LBQdo9zirHhrxZYeKv7R/s6G6i/s+7a0l+0RbNzr1K8nj64PtXE2XijRPAvivxJD4wjms7zUr8z212bSSUXcBVQiKyKfu4I2nFJb/K/wCX+dx9DvNZ8U6J4f0ZNV1jUobaykA8uUkt5mRkbQMluOeAaqWHjzwzqnh+41vT9WinsLX/AF8io26L03JjcPyrm/FmoWWi+KPDHibVrGZdCt7OaPzBbs32GRwhRmRQSvyqVyBweK5jxHd23iTS/G3iXQ4JU0efR4rYXDwNELyUSEl1DAEhVIXJH8qdtHbz+Xr6/qC1t8vnft6foegD4o+Cy+0eILYk3X2MYDcyenT7v+1933rLm+Ilj4e8Y+JYPFesR2thayWqWUbR5YF4dz4CKWbkg5Oce1cn4k06ztrzx8ILaOMW2n6XDDtX/Vpn7o9B8q/kK028T+HPCHxb8UXXibdb3N4lqtlJ9jklaVRCAyoVU9Tgds49qNP6+X9f1qlr/X9d/wCr6d7qPi/QdO8LL4gutTRNKkVdl3EjSA7jgYCgnr7cd6p/DqaGfwTbTW3iG58RRPJIV1C5jZHf5zxhueOnPpxxisfwvq9j4F+G0WoeKd+j2lxeTSxQyQuzQLLK7xoVQEg7T0xxVT4R+MtB1bTJ9G0++86/S4u7tofJkXETXDFW3FQOjrxnPPSjbmt/XkHRev8AnqbsfxU8Ey3lnap4gtzNe48lSjjknADHbhDns2K0/EvjLw/4Qgil8R6nHZCYkRqVZ2fHXCqCcD1xivLbextbf9lq6lgt40kmRppHCjLOLjAYn1GBz7Vb+IE+oaF8Ql1mXxLL4asZ9Njgivxo4v0LB2LRk8mM8g9Pm/CiSs7eZXn/AFv/AME9X0vVbDW9Ni1DSbqK7tJhlJYmyD/gfbtVuuF+E8dp/wAI1e3dh4hHiCO8v5J3ulsDZgOVUMoj7cjOQAOa7qnJWZMXdHmnizx5HeeIrTQ/DnjbRNEiNvJPdanI8NxsZWVViAZgoY5J55wOOlaWveI9P0D4eQReI/GRWfUYHig1y1tSfMYgkSKsQIGAR0I6cGqN14Q8Nt8YLS2bw9pRt5NFnmeI2Ue1pPPjG8jbgtgnnrya2fGvifw54L8Mmx1K4j05Lq1lgsoYrdyp2pjaAikKBuXrgVnJ2pX6u/4NotK9T+uyZraBcwQeC9Pun1OXUbdLJJTfyoQ86bAfMKnnJHODz+NZ8PxJ8IXGs2mlQ67bve3iq0MQDfNuGVBOMKxyPlJB56VheCPE+ka98IzZ6Td/aJ9M0dILtPKdfLfySMZYAHlTyMjitLwZ4b0i9+Fnh20uLCIwfZbW82plMzAK+/K4Od3J9e/FayX7yXZW/G/+RmvgVvP8LGj4j8feGPCV1FbeINXitJ5huSLYztj1IUEge5wKo+NviLo/hLwwuom8hknvbd5dMXY7pcsFBA3KCADuXkkda57xrrmjeHvGVxdReIbvQdangjjeOXTXura/RQSowqk5G4jKsD7Vt6h/aWv/AARvBLpZs9Qu9IkH2GOMrtYoQFVeoz2XqM4rJ/w3L+uv9foaL40i74T+IvhvxjMbXRNSF1eRQiWaMW8qBBwDy6gHk+tdTXJeC/H3h7xTHHp2k3jvf21srXFtJbyI0WMKQSygEgnHBNdbWs1Z6GUG2tQoooqCwooooAKKKKACiiigCjrem/2xoGoaZ5vk/bLaS38zbu2b1K5xkZxnpmnaPp/9k6HY6d5nm/ZLeODzNu3ftUDOMnGcdKuUUBv/AF/XYxdL8Pf2b4p1zWftXm/2sYD5Pl48ry02fez82evQYraoooAKKKKACiiigAooooAKKKKACiiigAooooAKKKKACiiigAooooAKKKKACiiigAooooAKKKKACiiigAooooAKKKKACiiigAooooAxPE2l67qltAnhzxH/AGDKjkySfYUufMGOBhyMfWsG08K+PYbyGS6+JH2iBJFaSH+woE8xQeV3A5GRxntXc0ULQHqFFFFABRRRQAUUUUAFFFFABRRTJpVggeV/uxqWP0AzSbsrsNyvqmqWei6bNqGpzeTawgGSTaWxkgDgAnqRTtR1Kz0nTpr/AFK5jtbSBd0k0jYVRXkHiR/F3iX4bz+J7nxBb2ek3aJMmjRWCtmIyLsDTE7t2ME4GK2Piwni6S2to7BdCfRnvrNUW6EpmabzVwGA+Xy92M98Zp2ei6t2C636HZeG/G3h7xdFdSeHtRF2loQJ2MTxhM5x99RnoelaOna1pWseZ/ZOp2d95RxJ9muFk2H0O0nFZOladrmraDeWHxCg0acTtsEWmeb5bR4HDb+c59OMVz2kaHpDfFSO98H6fa2NlpVpLbahNZxCOKeViu2L5QAzJglj2yAeeA9OawtbXPRKKK5L4ia4+h6DFKniWz8OeZLta7uLU3L4weI4/wCJs49cDNS3YpanW0V5V4V8eahqvg/xe8OvRa0+j2rS2mqx2X2YyExMw3RMMAqy+mDTrfV/HWnaToninWNZsriwvZLWKfSorMLtSZlUSCXqXywJGAvXHFXyu9vT8dib6X9fw3PU6zdf8Q6X4X0h9T125+y2cbKrS+Wz4JOBwoJ6+1cVc3XjTX/HviLRdC1620iw0827LO9kk8il4g2xVOAQTkksSRxium8Da1e674XjuNWEYvoJ5rW4aIYR3ikZCwHYHbn8andDej1NDQte03xLo8WqaJc/abKYsEl8tkzgkHhgD1B7Vo1x3w4Vn8FzrG5jZtQvgrgAlT9ok554rOh8Waw3w7kiaZT4oS9Oj7/LXBud+0SbcYxsIkxjGKfXTy/H+vxD18/w/wCGPQqKZCjxwRpLIZXVQGkIALnHJwOOfan0gCiiigAooooAKKKKACiiigAooooAKKKKACiiigAooooAKKK5rxprWoabb6dYaGYU1LVrsWkE067kh+VnZyv8WFU4HqRQBtHVLMa0NJ87/TTb/aRFtP8Aq923dnGOvGM5rK8S+O/DXg94k8RarHZyTDckex5HI9dqAkD3rlNE03xFpnxSnj1nX49cvX0J2t5nsltlj/fDClUJyM9+tY9inxLb4k6vJEvhE6othbLM0gufKERaTaEP3s5B3Z4+7QtUvn+b/wAg7+Vv0/zPUZfEOj22lW+p3mp2tpZXSK8M91KIVcMMj7+OcHp1q/DNFcQpNbyJLFIAyOjBlYHuCOtc/wCJNL8MtZjWvGdhp9x9jg2NLdQiVVyRkKrA5JPA4yelVfhro1xong8Q3Fu9mk91Nc29m5+a1idyyRn0IHJHYkinpqLWyOtoorz+S58X+L9c1QeHNettA03S7s2ak2K3Ml1IoBctuICrk4GOetLrYfS56BRXGeJNS8Ry6npHhrQ7y1sNSvLaS4u9RaDzVhWPaD5cZ4JLOMZ6Cuf1LxP4q8L6X4k0vVtTh1HUdP06PULLUYrZYjIjOUKvHyoII/I0dL+vzsH9feep0V4xfeJviDp9xraXGsWJ/sb7LezhbNfmExH+jL/sj5vn+8cDpmuguLrxpr/jzxFo2ha9baRYaebZlneySeRS8QbYqnAIJySWJI4xTt/X9f1+Ak7/ANf1/XzPR6K83i8ZeIL3wlpNrai1j8QahqU2lvcsmYYmhL75Qvf5Y8hfU+lXtGvPE/h/xlaaD4n1mHXYNTtpZba7WzW2kjkj2lkKqSCpDcHrkUv6/C/5Bf8Ar52/M7qivMx4u1v/AIZ/k8Sfbf8AibCFmFz5SdRMV+7jb046Va1zUPF2o/EY+HfDmrW+m2raVHdS3EtqszQt5jLlFONxPyj5jgAHvTaadv67j2V3/WqX6noVU7jVbK11Sz02ebZd3wka3j2Md4QAtyBgYBHUiuDtPG2t2ngO/e7a3vtctNXbRop2Ty45pTIqLIyjoPmyQPSoIdK8R6b8VfDDeJfEia15sN6YkSwS3EB8tdwBUksDkdfShK78v+Bf/ITdv687Hp9FFFIYUUUUAFFFFABRRRQAUjKHUqwyrDBB70tFG4Hms3wlu5tKk0Z/F18dEjO6x0/7OoEB3bgHcENKo7KSAOPSuz8R6D/wkGnW9r9p+z+ReQXW7y927ypA+3GR1xjPb3rXop3enkKxl+JdLu9b8N3mm6dqb6VcXKbFvI03tGMjOBkdRkZyMZzXMeFfBPinw3NYwSeNkutJtBtOnposMIdcHjepyDk5z1PfrXd0UloN6qxh6poV/f8AijSdUttdurO1sd/n2EY/d3e4cbue3uD7Y61T8X+ELnxFeabqOk6y+jappjSG3uRbJcKA4AYFG4JwBg9q6iigOtzz278JXPh3wj4yvr/W7jV7nUtMcyyzxKhDJC44C8Ac8DHGO9VfB/gfVdQ0bw/d+JvFU+qadbQwXVrpqWccCIwQFA7LzIF4xnuAa9Mopp2d/T8LiaukvX8bf5HlQ0TxBq/xW8X/ANg+KX0KJDZrOiWMc7TZgGMMx+QjnketdcfCV5pvg630TwjrcmjzQvuN9LbJdPISSXLBsAlmOSa6eil0sPrc4fwl4W1jwPDdTaz4u/tPSY45p2t/7MSHY7N5jyblJY/xfL0546Cs7wtHa+LPiNeeKtI+0HQkiQxNNCY0ubvaUMyBgDgRnbkgZJ9q9Jop31uJrSwUUUUhhRRRQAUUUUAFFFFABRRRQAUUUUAFFFFABRRRQAUUUUAFYXizw1/wk2mwRwX8um31ncLc2d5EgcwyAEZ2nhgQSCD1zW7RQByPh3wRdaP4lbXtT1+41jUJrM208k0QQN84YbFU7UUYPygdSTmte10L7N4u1HXPtO77bbQQeR5eNnllzndnnO/pgYxWvRTuK2/n/X6HFeM/A+s+Jtf07UtM8Uf2SunrmK3fT0uUEuT+9wzAbsEAZBxjgjNbfhnTNc0uzmj8R+If7dneTdHN9iS28tcD5dqEg85OfetqiktFYb1dzD8NaFf6H/aP9o67dav9ru2ni+0DH2dD0jXk8D2wPYVjaj4E1VNcu9Q8J+LLnQU1CQS3lsLSO5SR8YLrv+4xAGSM12tFAHLeIfBs2rppt1put3WmazpiGODURGspZWADCRDw4OAe3NZzfDeW58P61b6tr8+oavrMCwT6lNbqoRFOVVIlICryTjPJOa7qincNrHHar4A/tOfxHJ/aXlf25DaxY8jd5Pkk8/e+bOfbHvXNLoniDVvir4v/ALB8UvoUSfY1nRLGOdpswDGGY/IRz09a9WooA5G5+Hdi3hOw0fT726sp9Nm+02moKwaZZ8ktI2eG3FmyDwc0/wAO+Db3T9Z/tnxL4gn1/U0hNvDK9ulvHDGSCwWNOMnAy2e1dXRRfW4uh5jefCC8u9Hu9DHjC9j0JmaS009bVAIGLFsM4IaRQSSF47eldnD4d8rxvJ4h+1Z8zTksfs/l9Nrl9+7PvjGPxrboou1/XyG9d/61v+Zx7fD6Gbw/remT6hJnU9Tk1KK4ij2PayFldMcnO0qOeM+1RaR4D1C28S6fr2u+J7jWb+zWWPMlusUZR1wAqKcKe5PJPHTFdrRQnb+vK35A9d/66/mFFFFIAooooAKKKKACiiigAooooAKK868dfFXQtIsb7TNI16JdfjKpHHHEZdr7wGUttKZxngnj61p+PvHFt4b0d7ey1bTINZlkhijjup1zCJHCmVkznaoJb04o6J9w62Oyori/DFzrI0PU7q38WWHji5BAt1t0ht44nxyheMsOcg888e9M0bxJ4qtPGFroPjOy0oHUIJZrS40qSQqvl43I4fnOCORx/R21sK+lzt6KKy/EHiXR/C2m/b/EF/HZWxbYrOCSzYzgAAknAPAFIZqUVhaX408Pa14fuda0vU47nT7RWeeVUbMYVdxyhG4cc4xzVSx+JPhDUtch0ex123mvplDRxAMA2RkDcRt3f7Oc9sU7O9hXVrnUUVzOtfEXwp4dubm31nWYrWe1dEliaN2YFl3DACksMEEkZAzzirl+1z4l8MJN4R1+Owa5CyQahHbrcLtzz8jcHPT2pdLjNqiuV8AarqF74L+1a9em+uoLi5iluBCqFxHK6g7EGBwvQfrWsviXSH8Mf8JEt4p0ryDcfadjY2DqduN2fbGe2KHoC10NSiuc1H4geF9Juo7bU9WjtZpDEFjljcE+YMpxt4GBye3fFT6b4z8O6vY6headq1vNbaazLdzZKrFgZJJIGRj+IZB7GgDcorm/D3xC8K+K7+Sy0DWIru5jUs0Wx0JA6kbgNw+mar6h8UPBmlXDQahrsMEy3D2zRmNyyuhw2QF4Gf4j8p9aAOsopsUqTQpLC6yRuoZHU5DA9CDTqACiiigAooooAKKKKACiiigAooooAKKKKACiiqup6pY6Npst/qt1FaWkIzJLK2FX/wCv7d6ALVFcFoHxG03xT48lt9B1dbnSLfS2mm3QmMJKJANxLqDjafpWTr/jk6z4ql0zw98QND8Pafa20cpvmMFybmRywKLvYLhQozjnketGunn/AMH/ACDTXy/4H+Z6nRXL6vJ4zjs7G28LrpF7L5ANxqOpO6JIwAHyxxjOW69cDpVjwV4juPE2gNc6haLZ3ttcy2l1Cj7kEkbbSVPcGnbcV9joKKK5vxD8QfC3hW9js9e1mG1uZACItrOwB6FgoO0e5xSGdJRWTrPinRPD+jJqusalDbWUgHlyklvMyMjaBktxzwDVfS/G3h3W9ButZ0rVIrmxs0Z7iRFbdEFBY7kI3DgE9Oe1HfyDe1upvUVzFh8SPCGp65Do9hrtvPfTKGjiUNhsjON2Nu7H8Oc+1TeJPHnhnwjNDD4h1aKzmmG5ItjOxHqVUEge54o2Dc6Gis668QaTZaD/AG3dahBHphjWUXRf5Cp6EHvnIwB1ql4a8ceHPF/m/wDCO6rFeNDzJGFZHUeu1gDj3xinZ3sHS5vUVwumv4m0v4oR6Zq/iT+1dPvbK4uorf7DHB5G2RAq7lyWwHxkkUfE3xNoum6SNH1HxTceG728CyQXVtbyyOFVxnGwcZxjqOtLovP/AIb9A6tdjuqKrzXMFhp7XN7crHBDHuknmYKAAOWJ6CuFs/iZpfiT4haLpXhXWFu7Zo7o30awMoJVFMZ3Oo77vun600ruyFfS7PQqK5bVviX4P0PW/wCyNV12C3vQQGjKuwQnszAFV/EiqPj34naR4KSC3ku4jqE5hkSF4pGUwNJtd9yjHChiBnPHSl28x9zt6KwfDXjfw94whuZfDuoi7S1IEzGGSPZnOPvqPQ9Kr6R8RvCWu602k6Trlvc3ykgRAMA+OuxiAH/4CTTs72FdWudNRRRSGFFFFABUdwrvbSrC22RkIU+hxxUlFJq6sNOzueDyeKNPt/g+3hK3sLv+3bVFTUoBasot2EgLyyORtIOMggknIrufidoOj3WmWN9c6VYzXb6nYwvcSWyNIyGZQVLEZKkEjHTFd/RVXu033uTbRrysc9qU+gfDzwrf6pBptvYWVuPNlisbZY/MYkKOFABJJAya4rwP498MeIfFMd9f61HceIr9DBa2UdtMI7OL73lKzIAWOMs56kADgCvVqKFvdje1kYeqeLLDSfFGk6Fcw3TXWq7/ACHji3RrtGTubPH4A++K5r4p+I7zQP7IEF5Ho9pPLJ5+syWBu/sZC/KFQA8tkjJ9DXoNFT0H1PE/DNxcXeg/Ei5u9Sm1R5tNVhezacLIzr5EgDCP044PfFLpuv8Ah/xN4P8ADHhbwfC1zqNtcWc0/k2jxpZmNlaWRnKgZOGGQSSW969d1vTf7Y0DUNM83yftltJb+Zt3bN6lc4yM4z0zTtH0/wDsnQ7HTvM837JbxweZt279qgZxk4zjpVp639PwuS17qXr+Njy8+LvC3hP4xeLZfEUoivZ0tEtStq8ruvkjcqlVOMnbwcZ4rc8L6vY+BfhtFqHinfo9pcXk0sUMkLs0Cyyu8aFUBIO09McV02l+Hv7N8U65rP2rzf7WMB8ny8eV5abPvZ+bPXoMVtUui9EN6v8ArtY81+EXjLQdW02fRtPvvOv1ubu7aHyZFxE1wxVtxUDkOvGc89KqRWTr4im+HZRvsTaiNVHy/L9hJ8wx/wDf8bMehr1C6jlls5o7ab7PM8bLHNsDeWxHDYPBwecVheGPCsuiXF1qGr6tNrWr3aqk17NEsYCL91EReEXJJwOpOaFa9+39fov6Yns/N/1+bsedfEK1ge6+Ity8SmaPSrCNHI5VWdiwH12r+VaWo3c/h2bx3PomnRXD29pp6x25h3oq+WVJKDqFXnHoK9VopdLIrrf+un+R4f4V1m41z4neHLlvFcviW3QXKrKNE+xRwMYjlA+AXPHTtipdG8Y+FNCuvGumX8TXOtX2r3irZwWbyy3SE4VNwUjGc8E9zXtdYvhvw9/wjw1QfavtH9oajNff6vZ5fmEHZ1OcY68Z9Kbs9HtZr8UJXSv1un9yY3wVp11pHgXRdP1Abbq2soo5VznawUZGfbpW5RRRJ8zbFFWVgooopDCiiigAooooAKKKKACiiigAooooAK4f4mulpb6Dql9C8+ladqiT36rGZNkexwHKjqFYqeldxRR1TDpY840HX7Lxb8VHvLC1mbTH0Noop7iEot0POXcVVhkrzjJAzzSab4O8MSfFDXbR/DmktbRafaPHCbGIojM0uSF24BOBk98CvSKKaskkvP8AV/qLV387fhb/ACPPfiL8RrHwjdWegpeJpt1eR7zeyQNJHaQ5I3BFBLPwQq9MjJ44Oz8PtV8Mah4bEHg28a8s7NzHJK8bq7SH5mZi6gsxJyT6mupooW2o3voYfhrxZYeKv7R/s6G6i/s+7a0l+0RbNzr1K8nj64PtXE2XijRPAvivxJD4wjms7zUr8z212bSSUXcBVQiKyKfu4I2nFepUUlo7+Vvy/wAg6WPOvFmoWWi+KPDHibVrGZdCt7OaPzBbs32GRwhRmRQSvyqVyBweKyZby38Rt438S6FBKmjzeH2thcvA0QvJlWRi6hgCQqkLkj+Vet0UPVW9fx/4ccXZp+n4f8MeV6jY2tj8N/ACWdvHCq6npjjYuPmbG4/U5OT3zUvjjW9F8P8AjF7seIbzw/rM1vHEfM017q2vYwSVXAU8gkjKsp+ten0VUpXbfm396S/QmKskvK343PL9avLu68HeD/EGu6G8dtY3q3Oo2MEDEQrsdVk8o87VJVsdQD7VZ0nWtO8bfE3Ttb8KpLNY2FjPFeagbd4kmLldkQLAFiCC3t+Nej0Ur639fxVgtpb+t7nkN/8AFbwYPijYX51n/RrXT7m1mf7LN8srSRkLjZk/dbkccVq/GLxjoWmeD9S0G+vvK1O+s99vB5LtvBbAO4LtH3T1I6V6TRS+yl/XcpO0uY848V6/pvjL4YvqXh15NV061vrdryOOBwZIo5EaRdjAE/Lz0wcVBbeK9N8W/EzwtP4fink063hvEF48DRRyMY1+RAwBO0LzxjkV6dRTTs/67WItokeAeMPFeq6hL4l0uXXm0iZXuIl0C20AzvdRAECRpiONw53A8Dmu98UJMfgzpk8EEtx9lTT7mSOJSzFI3idiAOuACa9CopLSNvT8BtXlf1/E4W+8UaZ8RPAPiK28E3zXt0tm8W0QvEQ7KcL84HJwRxXneiX8Gr6z4f0i/wDiOzT2d5A8OkSeGPszxyIR+63qBs4ypOcfWvfqKaaUr+n4A7uNvX8QooopDCiiigAooooAKKqapqlnoumzahqc3k2sIBkk2lsZIA4AJ6kU7UdSs9J06a/1K5jtbSBd0k0jYVRQBZorB8N+NvD3i6K6k8PaiLtLQgTsYnjCZzj76jPQ9K0dO1rStY8z+ydTs77yjiT7NcLJsPodpOKdmFy7RRWdqfiHRdEeNNZ1ew09pQTGt3cpEXA6kbiM0gNGiobW7tr62S5sbiK5gkGUlhcOrfQjg1NQAUUUUAFFFFABRRRQAUUUUAFFFFABRRRQAUUUUAFFFFABRRRQAUUUUAFFFFABRRRQAUUUUAFFFFABRRRQAUUUUAFFFFABRRRQAUUUUAFFFFABRRRQAUUUUAFFFFABRRRQAUyaVYIHlf7salj9AM0+kZQ6lWGVYYIPek720GrX1PGPEj+LvEvw3n8T3PiC3s9Ju0SZNGisFbMRkXYGmJ3bsYJwMVsfFhPF0ltbR2C6E+jPfWaot0JTM03mrgMB8vl7sZ74zU03wlu5tKk0Z/F18dEjO6x0/wCzqBAd24B3BDSqOykgDj0rs/Eeg/8ACQadb2v2n7P5F5BdbvL3bvKkD7cZHXGM9veq0vG2119xOut+zKeladrmraDeWHxCg0acTtsEWmeb5bR4HDb+c59OMVz2kaHpDfFSO98H6fa2NlpVpLbahNZxCOKeViu2L5QAzJglj2yAeeB2HiXS7vW/Dd5punam+lXFymxbyNN7RjIzgZHUZGcjGc1zHhXwT4p8NzWMEnjZLrSbQbTp6aLDCHXB43qcg5Oc9T360L4r/wBdv6/q417tv67nd1wXiTS9P1j4vaDbatY219b/ANlXbeVcwrIuQ8WDhgRnmuh1TQr+/wDFGk6pba7dWdrY7/PsIx+7u9w43c9vcH2x1rN8V+D9W1vxBYaxoHiT+w7qzgkgLfYUud6uVJ4ZgB90dqlbp+v5Mb2a9PzRmeG9OtfDXxc1bRtDiW20260yK+ktYuI4pvMKZVei5UdB6V6DXPeFvCMfhyS8vLm/uNV1W/Km6vrnAZ9owqqo4VRk4A9a6Gq6Jf1/XQXVv+v66hRRRSGFFFFABRRRQAUUUUAFFFFABRRRQAUUUUAFFFFABRRRQAUUUUAFFFFABRRRQAUUUUAFFFFABRRRQAUUUUAFFFFABRRRQAUUUUAFFFFABRRRQAUUUUAFFFFABRRRQAUUUUAFFFFABRRRQAUUUUAFFFFABRRRQAUUUUAFFFFABRRRQAUUUUAFFFFABRRRQAUUUUAFFFFABRRRQAUUUUAFFFFABRRRQAUUUUAFFFFABRRRQAUUUUAFFFFABRRRQAUUUUAFFFFABRRRQAUUUUAFFFFAH//Z)"
      ]
    },
    {
      "cell_type": "markdown",
      "metadata": {
        "id": "znhYV-vd-AJP"
      },
      "source": [
        "보시다시피 A, B, C, D열이 탭 자동완성 기능으로 실행됩니다. 물론 E도 있습니다. 나머지 속성들은 간결하게 잘라 버렸습니다."
      ]
    },
    {
      "cell_type": "markdown",
      "metadata": {
        "id": "-ngmVF2F-C0E"
      },
      "source": [
        "## 2. Viewing Data (데이터 확인하기)\n",
        "\n",
        "**[Basic Section](https://pandas.pydata.org/pandas-docs/stable/user_guide/basics.html)을 참조하세요.**\n",
        "\n",
        "\n",
        "**데이터프레임의 가장 윗 줄과 마지막 줄을 확인하고 싶을 때에 사용하는 방법은 다음과 같습니다.**\n",
        "\n",
        "**역자 주: 괄호() 안에는 숫자가 들어갈 수도 있고 안 들어갈 수도 있습니다. 숫자가 들어간다면, 윗 / 마지막 줄의 특정 줄을 불러올 수 있습니다. 숫자가 들어가지 않다면, 기본값인 5로 처리됩니다.**\n",
        "\n",
        "\n",
        "*예시*"
      ]
    },
    {
      "cell_type": "code",
      "metadata": {
        "id": "Szp00QEO-bzR",
        "outputId": "a9b707e0-0d47-4346-c05e-b9b8b96ea0be",
        "colab": {
          "base_uri": "https://localhost:8080/",
          "height": 195
        }
      },
      "source": [
        "df.tail(3) # 끝에서 마지막 3줄을 불러옴\n",
        "df.tail() # 끝에서 마지막 5줄 불러옴\n",
        "df.head()"
      ],
      "execution_count": null,
      "outputs": [
        {
          "output_type": "execute_result",
          "data": {
            "text/html": [
              "<div>\n",
              "<style scoped>\n",
              "    .dataframe tbody tr th:only-of-type {\n",
              "        vertical-align: middle;\n",
              "    }\n",
              "\n",
              "    .dataframe tbody tr th {\n",
              "        vertical-align: top;\n",
              "    }\n",
              "\n",
              "    .dataframe thead th {\n",
              "        text-align: right;\n",
              "    }\n",
              "</style>\n",
              "<table border=\"1\" class=\"dataframe\">\n",
              "  <thead>\n",
              "    <tr style=\"text-align: right;\">\n",
              "      <th></th>\n",
              "      <th>A</th>\n",
              "      <th>B</th>\n",
              "      <th>C</th>\n",
              "      <th>D</th>\n",
              "    </tr>\n",
              "  </thead>\n",
              "  <tbody>\n",
              "    <tr>\n",
              "      <th>2013-01-01</th>\n",
              "      <td>-1.784197</td>\n",
              "      <td>1.077572</td>\n",
              "      <td>0.139746</td>\n",
              "      <td>-1.198050</td>\n",
              "    </tr>\n",
              "    <tr>\n",
              "      <th>2013-01-02</th>\n",
              "      <td>-2.232713</td>\n",
              "      <td>0.528458</td>\n",
              "      <td>0.346990</td>\n",
              "      <td>1.620199</td>\n",
              "    </tr>\n",
              "    <tr>\n",
              "      <th>2013-01-03</th>\n",
              "      <td>0.990908</td>\n",
              "      <td>0.856409</td>\n",
              "      <td>0.687702</td>\n",
              "      <td>1.893413</td>\n",
              "    </tr>\n",
              "    <tr>\n",
              "      <th>2013-01-04</th>\n",
              "      <td>-1.128600</td>\n",
              "      <td>-2.073517</td>\n",
              "      <td>0.938502</td>\n",
              "      <td>0.216336</td>\n",
              "    </tr>\n",
              "    <tr>\n",
              "      <th>2013-01-05</th>\n",
              "      <td>-1.562463</td>\n",
              "      <td>-1.562747</td>\n",
              "      <td>0.597687</td>\n",
              "      <td>-0.685352</td>\n",
              "    </tr>\n",
              "  </tbody>\n",
              "</table>\n",
              "</div>"
            ],
            "text/plain": [
              "                   A         B         C         D\n",
              "2013-01-01 -1.784197  1.077572  0.139746 -1.198050\n",
              "2013-01-02 -2.232713  0.528458  0.346990  1.620199\n",
              "2013-01-03  0.990908  0.856409  0.687702  1.893413\n",
              "2013-01-04 -1.128600 -2.073517  0.938502  0.216336\n",
              "2013-01-05 -1.562463 -1.562747  0.597687 -0.685352"
            ]
          },
          "metadata": {
            "tags": []
          },
          "execution_count": 52
        }
      ]
    },
    {
      "cell_type": "code",
      "metadata": {
        "id": "jgCYSwGA-oE9",
        "outputId": "f0e94263-e001-425b-8789-12fce84d01ba",
        "colab": {
          "base_uri": "https://localhost:8080/",
          "height": 136
        }
      },
      "source": [
        "df.tail(3)"
      ],
      "execution_count": null,
      "outputs": [
        {
          "output_type": "execute_result",
          "data": {
            "text/html": [
              "<div>\n",
              "<style scoped>\n",
              "    .dataframe tbody tr th:only-of-type {\n",
              "        vertical-align: middle;\n",
              "    }\n",
              "\n",
              "    .dataframe tbody tr th {\n",
              "        vertical-align: top;\n",
              "    }\n",
              "\n",
              "    .dataframe thead th {\n",
              "        text-align: right;\n",
              "    }\n",
              "</style>\n",
              "<table border=\"1\" class=\"dataframe\">\n",
              "  <thead>\n",
              "    <tr style=\"text-align: right;\">\n",
              "      <th></th>\n",
              "      <th>A</th>\n",
              "      <th>B</th>\n",
              "      <th>C</th>\n",
              "      <th>D</th>\n",
              "    </tr>\n",
              "  </thead>\n",
              "  <tbody>\n",
              "    <tr>\n",
              "      <th>2013-01-04</th>\n",
              "      <td>-1.128600</td>\n",
              "      <td>-2.073517</td>\n",
              "      <td>0.938502</td>\n",
              "      <td>0.216336</td>\n",
              "    </tr>\n",
              "    <tr>\n",
              "      <th>2013-01-05</th>\n",
              "      <td>-1.562463</td>\n",
              "      <td>-1.562747</td>\n",
              "      <td>0.597687</td>\n",
              "      <td>-0.685352</td>\n",
              "    </tr>\n",
              "    <tr>\n",
              "      <th>2013-01-06</th>\n",
              "      <td>0.117143</td>\n",
              "      <td>0.162055</td>\n",
              "      <td>0.453307</td>\n",
              "      <td>0.491534</td>\n",
              "    </tr>\n",
              "  </tbody>\n",
              "</table>\n",
              "</div>"
            ],
            "text/plain": [
              "                   A         B         C         D\n",
              "2013-01-04 -1.128600 -2.073517  0.938502  0.216336\n",
              "2013-01-05 -1.562463 -1.562747  0.597687 -0.685352\n",
              "2013-01-06  0.117143  0.162055  0.453307  0.491534"
            ]
          },
          "metadata": {
            "tags": []
          },
          "execution_count": 53
        }
      ]
    },
    {
      "cell_type": "markdown",
      "metadata": {
        "id": "TeVqVexS-vtd"
      },
      "source": [
        "인덱스 (index), 열 (column) 그리고 numpy 데이터에 대한 세부 정보를 봅니다."
      ]
    },
    {
      "cell_type": "code",
      "metadata": {
        "id": "inOlAeRE-u38",
        "outputId": "1ee370a4-19cd-4443-89a7-6dee8bcc8051",
        "colab": {
          "base_uri": "https://localhost:8080/"
        }
      },
      "source": [
        "df.index"
      ],
      "execution_count": 54,
      "outputs": [
        {
          "output_type": "execute_result",
          "data": {
            "text/plain": [
              "DatetimeIndex(['2013-01-01', '2013-01-02', '2013-01-03', '2013-01-04',\n",
              "               '2013-01-05', '2013-01-06'],\n",
              "              dtype='datetime64[ns]', freq='D')"
            ]
          },
          "metadata": {
            "tags": []
          },
          "execution_count": 54
        }
      ]
    },
    {
      "cell_type": "code",
      "metadata": {
        "id": "B1ekgUfoA5Yy",
        "outputId": "9fce94f7-76bb-44a3-b547-c1610ae58f20",
        "colab": {
          "base_uri": "https://localhost:8080/"
        }
      },
      "source": [
        "df.columns"
      ],
      "execution_count": 55,
      "outputs": [
        {
          "output_type": "execute_result",
          "data": {
            "text/plain": [
              "Index(['A', 'B', 'C', 'D'], dtype='object')"
            ]
          },
          "metadata": {
            "tags": []
          },
          "execution_count": 55
        }
      ]
    },
    {
      "cell_type": "code",
      "metadata": {
        "id": "rIp64oIKA8IA",
        "outputId": "85cd5380-4a81-4151-8ad2-fb48d2851302",
        "colab": {
          "base_uri": "https://localhost:8080/"
        }
      },
      "source": [
        "df.values"
      ],
      "execution_count": 56,
      "outputs": [
        {
          "output_type": "execute_result",
          "data": {
            "text/plain": [
              "array([[-1.78419675,  1.07757237,  0.13974557, -1.19804997],\n",
              "       [-2.23271321,  0.52845771,  0.34698955,  1.6201991 ],\n",
              "       [ 0.99090803,  0.85640899,  0.68770189,  1.89341261],\n",
              "       [-1.12860021, -2.07351673,  0.93850151,  0.216336  ],\n",
              "       [-1.56246275, -1.56274735,  0.5976873 , -0.68535186],\n",
              "       [ 0.11714315,  0.16205511,  0.4533069 ,  0.49153355]])"
            ]
          },
          "metadata": {
            "tags": []
          },
          "execution_count": 56
        }
      ]
    },
    {
      "cell_type": "markdown",
      "metadata": {
        "id": "t53XQfyEA-pJ"
      },
      "source": [
        "[describe()](https://pandas.pydata.org/pandas-docs/stable/reference/api/pandas.DataFrame.describe.html)는 데이터의 대략적인 통계적 정보 요약을 보여줍니다."
      ]
    },
    {
      "cell_type": "code",
      "metadata": {
        "id": "2rNx4JFwBETe",
        "outputId": "a9966564-8af4-42cd-ca03-e5a674db9334",
        "colab": {
          "base_uri": "https://localhost:8080/",
          "height": 284
        }
      },
      "source": [
        "df.describe()"
      ],
      "execution_count": 57,
      "outputs": [
        {
          "output_type": "execute_result",
          "data": {
            "text/html": [
              "<div>\n",
              "<style scoped>\n",
              "    .dataframe tbody tr th:only-of-type {\n",
              "        vertical-align: middle;\n",
              "    }\n",
              "\n",
              "    .dataframe tbody tr th {\n",
              "        vertical-align: top;\n",
              "    }\n",
              "\n",
              "    .dataframe thead th {\n",
              "        text-align: right;\n",
              "    }\n",
              "</style>\n",
              "<table border=\"1\" class=\"dataframe\">\n",
              "  <thead>\n",
              "    <tr style=\"text-align: right;\">\n",
              "      <th></th>\n",
              "      <th>A</th>\n",
              "      <th>B</th>\n",
              "      <th>C</th>\n",
              "      <th>D</th>\n",
              "    </tr>\n",
              "  </thead>\n",
              "  <tbody>\n",
              "    <tr>\n",
              "      <th>count</th>\n",
              "      <td>6.000000</td>\n",
              "      <td>6.000000</td>\n",
              "      <td>6.000000</td>\n",
              "      <td>6.000000</td>\n",
              "    </tr>\n",
              "    <tr>\n",
              "      <th>mean</th>\n",
              "      <td>-0.933320</td>\n",
              "      <td>-0.168628</td>\n",
              "      <td>0.527322</td>\n",
              "      <td>0.389680</td>\n",
              "    </tr>\n",
              "    <tr>\n",
              "      <th>std</th>\n",
              "      <td>1.237133</td>\n",
              "      <td>1.324475</td>\n",
              "      <td>0.278552</td>\n",
              "      <td>1.224123</td>\n",
              "    </tr>\n",
              "    <tr>\n",
              "      <th>min</th>\n",
              "      <td>-2.232713</td>\n",
              "      <td>-2.073517</td>\n",
              "      <td>0.139746</td>\n",
              "      <td>-1.198050</td>\n",
              "    </tr>\n",
              "    <tr>\n",
              "      <th>25%</th>\n",
              "      <td>-1.728763</td>\n",
              "      <td>-1.131547</td>\n",
              "      <td>0.373569</td>\n",
              "      <td>-0.459930</td>\n",
              "    </tr>\n",
              "    <tr>\n",
              "      <th>50%</th>\n",
              "      <td>-1.345531</td>\n",
              "      <td>0.345256</td>\n",
              "      <td>0.525497</td>\n",
              "      <td>0.353935</td>\n",
              "    </tr>\n",
              "    <tr>\n",
              "      <th>75%</th>\n",
              "      <td>-0.194293</td>\n",
              "      <td>0.774421</td>\n",
              "      <td>0.665198</td>\n",
              "      <td>1.338033</td>\n",
              "    </tr>\n",
              "    <tr>\n",
              "      <th>max</th>\n",
              "      <td>0.990908</td>\n",
              "      <td>1.077572</td>\n",
              "      <td>0.938502</td>\n",
              "      <td>1.893413</td>\n",
              "    </tr>\n",
              "  </tbody>\n",
              "</table>\n",
              "</div>"
            ],
            "text/plain": [
              "              A         B         C         D\n",
              "count  6.000000  6.000000  6.000000  6.000000\n",
              "mean  -0.933320 -0.168628  0.527322  0.389680\n",
              "std    1.237133  1.324475  0.278552  1.224123\n",
              "min   -2.232713 -2.073517  0.139746 -1.198050\n",
              "25%   -1.728763 -1.131547  0.373569 -0.459930\n",
              "50%   -1.345531  0.345256  0.525497  0.353935\n",
              "75%   -0.194293  0.774421  0.665198  1.338033\n",
              "max    0.990908  1.077572  0.938502  1.893413"
            ]
          },
          "metadata": {
            "tags": []
          },
          "execution_count": 57
        }
      ]
    },
    {
      "cell_type": "markdown",
      "metadata": {
        "id": "HY6HFCoPBgeS"
      },
      "source": [
        "데이터를 전치합니다."
      ]
    },
    {
      "cell_type": "code",
      "metadata": {
        "id": "cJ3VlPXGBik9",
        "outputId": "c0104a51-a7a2-4f7c-c2ac-18c0dcc0c374",
        "colab": {
          "base_uri": "https://localhost:8080/",
          "height": 166
        }
      },
      "source": [
        "df.T"
      ],
      "execution_count": 58,
      "outputs": [
        {
          "output_type": "execute_result",
          "data": {
            "text/html": [
              "<div>\n",
              "<style scoped>\n",
              "    .dataframe tbody tr th:only-of-type {\n",
              "        vertical-align: middle;\n",
              "    }\n",
              "\n",
              "    .dataframe tbody tr th {\n",
              "        vertical-align: top;\n",
              "    }\n",
              "\n",
              "    .dataframe thead th {\n",
              "        text-align: right;\n",
              "    }\n",
              "</style>\n",
              "<table border=\"1\" class=\"dataframe\">\n",
              "  <thead>\n",
              "    <tr style=\"text-align: right;\">\n",
              "      <th></th>\n",
              "      <th>2013-01-01</th>\n",
              "      <th>2013-01-02</th>\n",
              "      <th>2013-01-03</th>\n",
              "      <th>2013-01-04</th>\n",
              "      <th>2013-01-05</th>\n",
              "      <th>2013-01-06</th>\n",
              "    </tr>\n",
              "  </thead>\n",
              "  <tbody>\n",
              "    <tr>\n",
              "      <th>A</th>\n",
              "      <td>-1.784197</td>\n",
              "      <td>-2.232713</td>\n",
              "      <td>0.990908</td>\n",
              "      <td>-1.128600</td>\n",
              "      <td>-1.562463</td>\n",
              "      <td>0.117143</td>\n",
              "    </tr>\n",
              "    <tr>\n",
              "      <th>B</th>\n",
              "      <td>1.077572</td>\n",
              "      <td>0.528458</td>\n",
              "      <td>0.856409</td>\n",
              "      <td>-2.073517</td>\n",
              "      <td>-1.562747</td>\n",
              "      <td>0.162055</td>\n",
              "    </tr>\n",
              "    <tr>\n",
              "      <th>C</th>\n",
              "      <td>0.139746</td>\n",
              "      <td>0.346990</td>\n",
              "      <td>0.687702</td>\n",
              "      <td>0.938502</td>\n",
              "      <td>0.597687</td>\n",
              "      <td>0.453307</td>\n",
              "    </tr>\n",
              "    <tr>\n",
              "      <th>D</th>\n",
              "      <td>-1.198050</td>\n",
              "      <td>1.620199</td>\n",
              "      <td>1.893413</td>\n",
              "      <td>0.216336</td>\n",
              "      <td>-0.685352</td>\n",
              "      <td>0.491534</td>\n",
              "    </tr>\n",
              "  </tbody>\n",
              "</table>\n",
              "</div>"
            ],
            "text/plain": [
              "   2013-01-01  2013-01-02  2013-01-03  2013-01-04  2013-01-05  2013-01-06\n",
              "A   -1.784197   -2.232713    0.990908   -1.128600   -1.562463    0.117143\n",
              "B    1.077572    0.528458    0.856409   -2.073517   -1.562747    0.162055\n",
              "C    0.139746    0.346990    0.687702    0.938502    0.597687    0.453307\n",
              "D   -1.198050    1.620199    1.893413    0.216336   -0.685352    0.491534"
            ]
          },
          "metadata": {
            "tags": []
          },
          "execution_count": 58
        }
      ]
    },
    {
      "cell_type": "markdown",
      "metadata": {
        "id": "E9k3AgMzBlU1"
      },
      "source": [
        "축 별로 정렬."
      ]
    },
    {
      "cell_type": "code",
      "metadata": {
        "id": "-JReDiiNBnun",
        "outputId": "558c05c3-f25e-4255-84fa-bb20dcc1bbe2",
        "colab": {
          "base_uri": "https://localhost:8080/",
          "height": 225
        }
      },
      "source": [
        "df.sort_index(axis = 1, ascending = False)"
      ],
      "execution_count": 59,
      "outputs": [
        {
          "output_type": "execute_result",
          "data": {
            "text/html": [
              "<div>\n",
              "<style scoped>\n",
              "    .dataframe tbody tr th:only-of-type {\n",
              "        vertical-align: middle;\n",
              "    }\n",
              "\n",
              "    .dataframe tbody tr th {\n",
              "        vertical-align: top;\n",
              "    }\n",
              "\n",
              "    .dataframe thead th {\n",
              "        text-align: right;\n",
              "    }\n",
              "</style>\n",
              "<table border=\"1\" class=\"dataframe\">\n",
              "  <thead>\n",
              "    <tr style=\"text-align: right;\">\n",
              "      <th></th>\n",
              "      <th>D</th>\n",
              "      <th>C</th>\n",
              "      <th>B</th>\n",
              "      <th>A</th>\n",
              "    </tr>\n",
              "  </thead>\n",
              "  <tbody>\n",
              "    <tr>\n",
              "      <th>2013-01-01</th>\n",
              "      <td>-1.198050</td>\n",
              "      <td>0.139746</td>\n",
              "      <td>1.077572</td>\n",
              "      <td>-1.784197</td>\n",
              "    </tr>\n",
              "    <tr>\n",
              "      <th>2013-01-02</th>\n",
              "      <td>1.620199</td>\n",
              "      <td>0.346990</td>\n",
              "      <td>0.528458</td>\n",
              "      <td>-2.232713</td>\n",
              "    </tr>\n",
              "    <tr>\n",
              "      <th>2013-01-03</th>\n",
              "      <td>1.893413</td>\n",
              "      <td>0.687702</td>\n",
              "      <td>0.856409</td>\n",
              "      <td>0.990908</td>\n",
              "    </tr>\n",
              "    <tr>\n",
              "      <th>2013-01-04</th>\n",
              "      <td>0.216336</td>\n",
              "      <td>0.938502</td>\n",
              "      <td>-2.073517</td>\n",
              "      <td>-1.128600</td>\n",
              "    </tr>\n",
              "    <tr>\n",
              "      <th>2013-01-05</th>\n",
              "      <td>-0.685352</td>\n",
              "      <td>0.597687</td>\n",
              "      <td>-1.562747</td>\n",
              "      <td>-1.562463</td>\n",
              "    </tr>\n",
              "    <tr>\n",
              "      <th>2013-01-06</th>\n",
              "      <td>0.491534</td>\n",
              "      <td>0.453307</td>\n",
              "      <td>0.162055</td>\n",
              "      <td>0.117143</td>\n",
              "    </tr>\n",
              "  </tbody>\n",
              "</table>\n",
              "</div>"
            ],
            "text/plain": [
              "                   D         C         B         A\n",
              "2013-01-01 -1.198050  0.139746  1.077572 -1.784197\n",
              "2013-01-02  1.620199  0.346990  0.528458 -2.232713\n",
              "2013-01-03  1.893413  0.687702  0.856409  0.990908\n",
              "2013-01-04  0.216336  0.938502 -2.073517 -1.128600\n",
              "2013-01-05 -0.685352  0.597687 -1.562747 -1.562463\n",
              "2013-01-06  0.491534  0.453307  0.162055  0.117143"
            ]
          },
          "metadata": {
            "tags": []
          },
          "execution_count": 59
        }
      ]
    },
    {
      "cell_type": "markdown",
      "metadata": {
        "id": "_LoubEwgBvBH"
      },
      "source": [
        "값 별로 정렬."
      ]
    },
    {
      "cell_type": "code",
      "metadata": {
        "id": "IDOWdhEGBwmn",
        "outputId": "bd56c635-5712-4b56-b17e-4a85c8b035bc",
        "colab": {
          "base_uri": "https://localhost:8080/",
          "height": 225
        }
      },
      "source": [
        "df.sort_values(by = 'B')"
      ],
      "execution_count": 60,
      "outputs": [
        {
          "output_type": "execute_result",
          "data": {
            "text/html": [
              "<div>\n",
              "<style scoped>\n",
              "    .dataframe tbody tr th:only-of-type {\n",
              "        vertical-align: middle;\n",
              "    }\n",
              "\n",
              "    .dataframe tbody tr th {\n",
              "        vertical-align: top;\n",
              "    }\n",
              "\n",
              "    .dataframe thead th {\n",
              "        text-align: right;\n",
              "    }\n",
              "</style>\n",
              "<table border=\"1\" class=\"dataframe\">\n",
              "  <thead>\n",
              "    <tr style=\"text-align: right;\">\n",
              "      <th></th>\n",
              "      <th>A</th>\n",
              "      <th>B</th>\n",
              "      <th>C</th>\n",
              "      <th>D</th>\n",
              "    </tr>\n",
              "  </thead>\n",
              "  <tbody>\n",
              "    <tr>\n",
              "      <th>2013-01-04</th>\n",
              "      <td>-1.128600</td>\n",
              "      <td>-2.073517</td>\n",
              "      <td>0.938502</td>\n",
              "      <td>0.216336</td>\n",
              "    </tr>\n",
              "    <tr>\n",
              "      <th>2013-01-05</th>\n",
              "      <td>-1.562463</td>\n",
              "      <td>-1.562747</td>\n",
              "      <td>0.597687</td>\n",
              "      <td>-0.685352</td>\n",
              "    </tr>\n",
              "    <tr>\n",
              "      <th>2013-01-06</th>\n",
              "      <td>0.117143</td>\n",
              "      <td>0.162055</td>\n",
              "      <td>0.453307</td>\n",
              "      <td>0.491534</td>\n",
              "    </tr>\n",
              "    <tr>\n",
              "      <th>2013-01-02</th>\n",
              "      <td>-2.232713</td>\n",
              "      <td>0.528458</td>\n",
              "      <td>0.346990</td>\n",
              "      <td>1.620199</td>\n",
              "    </tr>\n",
              "    <tr>\n",
              "      <th>2013-01-03</th>\n",
              "      <td>0.990908</td>\n",
              "      <td>0.856409</td>\n",
              "      <td>0.687702</td>\n",
              "      <td>1.893413</td>\n",
              "    </tr>\n",
              "    <tr>\n",
              "      <th>2013-01-01</th>\n",
              "      <td>-1.784197</td>\n",
              "      <td>1.077572</td>\n",
              "      <td>0.139746</td>\n",
              "      <td>-1.198050</td>\n",
              "    </tr>\n",
              "  </tbody>\n",
              "</table>\n",
              "</div>"
            ],
            "text/plain": [
              "                   A         B         C         D\n",
              "2013-01-04 -1.128600 -2.073517  0.938502  0.216336\n",
              "2013-01-05 -1.562463 -1.562747  0.597687 -0.685352\n",
              "2013-01-06  0.117143  0.162055  0.453307  0.491534\n",
              "2013-01-02 -2.232713  0.528458  0.346990  1.620199\n",
              "2013-01-03  0.990908  0.856409  0.687702  1.893413\n",
              "2013-01-01 -1.784197  1.077572  0.139746 -1.198050"
            ]
          },
          "metadata": {
            "tags": []
          },
          "execution_count": 60
        }
      ]
    },
    {
      "cell_type": "markdown",
      "metadata": {
        "id": "lvsyV6S0B2lQ"
      },
      "source": [
        "## 3. Selection (선택)\n",
        "\n",
        "**주석 (Note) : 선택과 설정을 위한 Python / Numpy의 표준화된 표현들이 직관적이며, 코드 작성을 위한 양방향 작업에 유용하지만 우리는 Pandas에 최적화된 데이터 접근 방법인 .at, .iat, .loc 및 .iloc 을 추천합니다.**\n",
        "\n",
        "[데이터 인덱싱 및 선택](https://pandas.pydata.org/pandas-docs/stable/user_guide/indexing.html) 문서와 [다중 인덱싱 / 심화 인덱싱](https://pandas.pydata.org/pandas-docs/stable/user_guide/advanced.html) 문서를 참조하세요.\n"
      ]
    },
    {
      "cell_type": "markdown",
      "metadata": {
        "id": "kix5s3cKDrai"
      },
      "source": [
        "### Getting (데이터 얻기)\n",
        "df.A 와 동일한 Series를 생성하는 단일 열을 선택합니다."
      ]
    },
    {
      "cell_type": "code",
      "metadata": {
        "id": "EQAuuQUuDuiC",
        "outputId": "2be96ebc-b233-4619-ee3b-c4a3c2765e6f",
        "colab": {
          "base_uri": "https://localhost:8080/"
        }
      },
      "source": [
        "df['A']"
      ],
      "execution_count": 63,
      "outputs": [
        {
          "output_type": "execute_result",
          "data": {
            "text/plain": [
              "2013-01-01   -1.784197\n",
              "2013-01-02   -2.232713\n",
              "2013-01-03    0.990908\n",
              "2013-01-04   -1.128600\n",
              "2013-01-05   -1.562463\n",
              "2013-01-06    0.117143\n",
              "Freq: D, Name: A, dtype: float64"
            ]
          },
          "metadata": {
            "tags": []
          },
          "execution_count": 63
        }
      ]
    },
    {
      "cell_type": "markdown",
      "metadata": {
        "id": "ZMfRZ8crD3NF"
      },
      "source": [
        "행을 분할하는 [ ]를 통해 선택합니다."
      ]
    },
    {
      "cell_type": "code",
      "metadata": {
        "id": "epIny9SEEtNw",
        "outputId": "fe72293c-9e4a-486b-8777-56e455f5048e",
        "colab": {
          "base_uri": "https://localhost:8080/",
          "height": 136
        }
      },
      "source": [
        "df[0:3]"
      ],
      "execution_count": 64,
      "outputs": [
        {
          "output_type": "execute_result",
          "data": {
            "text/html": [
              "<div>\n",
              "<style scoped>\n",
              "    .dataframe tbody tr th:only-of-type {\n",
              "        vertical-align: middle;\n",
              "    }\n",
              "\n",
              "    .dataframe tbody tr th {\n",
              "        vertical-align: top;\n",
              "    }\n",
              "\n",
              "    .dataframe thead th {\n",
              "        text-align: right;\n",
              "    }\n",
              "</style>\n",
              "<table border=\"1\" class=\"dataframe\">\n",
              "  <thead>\n",
              "    <tr style=\"text-align: right;\">\n",
              "      <th></th>\n",
              "      <th>A</th>\n",
              "      <th>B</th>\n",
              "      <th>C</th>\n",
              "      <th>D</th>\n",
              "    </tr>\n",
              "  </thead>\n",
              "  <tbody>\n",
              "    <tr>\n",
              "      <th>2013-01-01</th>\n",
              "      <td>-1.784197</td>\n",
              "      <td>1.077572</td>\n",
              "      <td>0.139746</td>\n",
              "      <td>-1.198050</td>\n",
              "    </tr>\n",
              "    <tr>\n",
              "      <th>2013-01-02</th>\n",
              "      <td>-2.232713</td>\n",
              "      <td>0.528458</td>\n",
              "      <td>0.346990</td>\n",
              "      <td>1.620199</td>\n",
              "    </tr>\n",
              "    <tr>\n",
              "      <th>2013-01-03</th>\n",
              "      <td>0.990908</td>\n",
              "      <td>0.856409</td>\n",
              "      <td>0.687702</td>\n",
              "      <td>1.893413</td>\n",
              "    </tr>\n",
              "  </tbody>\n",
              "</table>\n",
              "</div>"
            ],
            "text/plain": [
              "                   A         B         C         D\n",
              "2013-01-01 -1.784197  1.077572  0.139746 -1.198050\n",
              "2013-01-02 -2.232713  0.528458  0.346990  1.620199\n",
              "2013-01-03  0.990908  0.856409  0.687702  1.893413"
            ]
          },
          "metadata": {
            "tags": []
          },
          "execution_count": 64
        }
      ]
    },
    {
      "cell_type": "code",
      "metadata": {
        "id": "vU9H4-R4Ex3Q",
        "outputId": "b1bb2204-ce50-4a6b-ef45-6b070615bc2a",
        "colab": {
          "base_uri": "https://localhost:8080/",
          "height": 136
        }
      },
      "source": [
        "df['20130102':'20130104']"
      ],
      "execution_count": 65,
      "outputs": [
        {
          "output_type": "execute_result",
          "data": {
            "text/html": [
              "<div>\n",
              "<style scoped>\n",
              "    .dataframe tbody tr th:only-of-type {\n",
              "        vertical-align: middle;\n",
              "    }\n",
              "\n",
              "    .dataframe tbody tr th {\n",
              "        vertical-align: top;\n",
              "    }\n",
              "\n",
              "    .dataframe thead th {\n",
              "        text-align: right;\n",
              "    }\n",
              "</style>\n",
              "<table border=\"1\" class=\"dataframe\">\n",
              "  <thead>\n",
              "    <tr style=\"text-align: right;\">\n",
              "      <th></th>\n",
              "      <th>A</th>\n",
              "      <th>B</th>\n",
              "      <th>C</th>\n",
              "      <th>D</th>\n",
              "    </tr>\n",
              "  </thead>\n",
              "  <tbody>\n",
              "    <tr>\n",
              "      <th>2013-01-02</th>\n",
              "      <td>-2.232713</td>\n",
              "      <td>0.528458</td>\n",
              "      <td>0.346990</td>\n",
              "      <td>1.620199</td>\n",
              "    </tr>\n",
              "    <tr>\n",
              "      <th>2013-01-03</th>\n",
              "      <td>0.990908</td>\n",
              "      <td>0.856409</td>\n",
              "      <td>0.687702</td>\n",
              "      <td>1.893413</td>\n",
              "    </tr>\n",
              "    <tr>\n",
              "      <th>2013-01-04</th>\n",
              "      <td>-1.128600</td>\n",
              "      <td>-2.073517</td>\n",
              "      <td>0.938502</td>\n",
              "      <td>0.216336</td>\n",
              "    </tr>\n",
              "  </tbody>\n",
              "</table>\n",
              "</div>"
            ],
            "text/plain": [
              "                   A         B         C         D\n",
              "2013-01-02 -2.232713  0.528458  0.346990  1.620199\n",
              "2013-01-03  0.990908  0.856409  0.687702  1.893413\n",
              "2013-01-04 -1.128600 -2.073517  0.938502  0.216336"
            ]
          },
          "metadata": {
            "tags": []
          },
          "execution_count": 65
        }
      ]
    },
    {
      "cell_type": "markdown",
      "metadata": {
        "id": "rVHUkyEwE3fn"
      },
      "source": [
        "### Selection by Label (Label 을 통한 선택)\n",
        "[Label을 통한 선택](https://pandas.pydata.org/pandas-docs/stable/user_guide/indexing.html)에서 더 많은 내용을 확인하세요.\n",
        "\n",
        "라벨을 사용하여 횡단면을 얻습니다."
      ]
    },
    {
      "cell_type": "code",
      "metadata": {
        "id": "hYRcCNHvFC3J",
        "outputId": "24fc69c6-89ba-45df-f0c4-469ec9673f0d",
        "colab": {
          "base_uri": "https://localhost:8080/"
        }
      },
      "source": [
        "df.loc[dates[0]]"
      ],
      "execution_count": 66,
      "outputs": [
        {
          "output_type": "execute_result",
          "data": {
            "text/plain": [
              "A   -1.784197\n",
              "B    1.077572\n",
              "C    0.139746\n",
              "D   -1.198050\n",
              "Name: 2013-01-01 00:00:00, dtype: float64"
            ]
          },
          "metadata": {
            "tags": []
          },
          "execution_count": 66
        }
      ]
    },
    {
      "cell_type": "markdown",
      "metadata": {
        "id": "swg_lE-BFHwe"
      },
      "source": [
        "라벨을 사용하여 여러 축 (의 데이터)을 얻습니다."
      ]
    },
    {
      "cell_type": "code",
      "metadata": {
        "id": "DQeAdYY_FJhN",
        "outputId": "a92833fd-adfd-4189-a415-b829e23e7db4",
        "colab": {
          "base_uri": "https://localhost:8080/",
          "height": 225
        }
      },
      "source": [
        "df.loc[:,['A', 'B']]"
      ],
      "execution_count": 67,
      "outputs": [
        {
          "output_type": "execute_result",
          "data": {
            "text/html": [
              "<div>\n",
              "<style scoped>\n",
              "    .dataframe tbody tr th:only-of-type {\n",
              "        vertical-align: middle;\n",
              "    }\n",
              "\n",
              "    .dataframe tbody tr th {\n",
              "        vertical-align: top;\n",
              "    }\n",
              "\n",
              "    .dataframe thead th {\n",
              "        text-align: right;\n",
              "    }\n",
              "</style>\n",
              "<table border=\"1\" class=\"dataframe\">\n",
              "  <thead>\n",
              "    <tr style=\"text-align: right;\">\n",
              "      <th></th>\n",
              "      <th>A</th>\n",
              "      <th>B</th>\n",
              "    </tr>\n",
              "  </thead>\n",
              "  <tbody>\n",
              "    <tr>\n",
              "      <th>2013-01-01</th>\n",
              "      <td>-1.784197</td>\n",
              "      <td>1.077572</td>\n",
              "    </tr>\n",
              "    <tr>\n",
              "      <th>2013-01-02</th>\n",
              "      <td>-2.232713</td>\n",
              "      <td>0.528458</td>\n",
              "    </tr>\n",
              "    <tr>\n",
              "      <th>2013-01-03</th>\n",
              "      <td>0.990908</td>\n",
              "      <td>0.856409</td>\n",
              "    </tr>\n",
              "    <tr>\n",
              "      <th>2013-01-04</th>\n",
              "      <td>-1.128600</td>\n",
              "      <td>-2.073517</td>\n",
              "    </tr>\n",
              "    <tr>\n",
              "      <th>2013-01-05</th>\n",
              "      <td>-1.562463</td>\n",
              "      <td>-1.562747</td>\n",
              "    </tr>\n",
              "    <tr>\n",
              "      <th>2013-01-06</th>\n",
              "      <td>0.117143</td>\n",
              "      <td>0.162055</td>\n",
              "    </tr>\n",
              "  </tbody>\n",
              "</table>\n",
              "</div>"
            ],
            "text/plain": [
              "                   A         B\n",
              "2013-01-01 -1.784197  1.077572\n",
              "2013-01-02 -2.232713  0.528458\n",
              "2013-01-03  0.990908  0.856409\n",
              "2013-01-04 -1.128600 -2.073517\n",
              "2013-01-05 -1.562463 -1.562747\n",
              "2013-01-06  0.117143  0.162055"
            ]
          },
          "metadata": {
            "tags": []
          },
          "execution_count": 67
        }
      ]
    },
    {
      "cell_type": "markdown",
      "metadata": {
        "id": "rjk5BsupFQRF"
      },
      "source": [
        "양쪽 종단점을 포함한 라벨 슬라이싱을 봅니다."
      ]
    },
    {
      "cell_type": "code",
      "metadata": {
        "id": "6m0FHtyNFS9G",
        "outputId": "c6260ce4-3646-448d-e01c-8a36a4645493",
        "colab": {
          "base_uri": "https://localhost:8080/",
          "height": 136
        }
      },
      "source": [
        "df.loc['20130102':'20130104', ['A','B']]"
      ],
      "execution_count": 68,
      "outputs": [
        {
          "output_type": "execute_result",
          "data": {
            "text/html": [
              "<div>\n",
              "<style scoped>\n",
              "    .dataframe tbody tr th:only-of-type {\n",
              "        vertical-align: middle;\n",
              "    }\n",
              "\n",
              "    .dataframe tbody tr th {\n",
              "        vertical-align: top;\n",
              "    }\n",
              "\n",
              "    .dataframe thead th {\n",
              "        text-align: right;\n",
              "    }\n",
              "</style>\n",
              "<table border=\"1\" class=\"dataframe\">\n",
              "  <thead>\n",
              "    <tr style=\"text-align: right;\">\n",
              "      <th></th>\n",
              "      <th>A</th>\n",
              "      <th>B</th>\n",
              "    </tr>\n",
              "  </thead>\n",
              "  <tbody>\n",
              "    <tr>\n",
              "      <th>2013-01-02</th>\n",
              "      <td>-2.232713</td>\n",
              "      <td>0.528458</td>\n",
              "    </tr>\n",
              "    <tr>\n",
              "      <th>2013-01-03</th>\n",
              "      <td>0.990908</td>\n",
              "      <td>0.856409</td>\n",
              "    </tr>\n",
              "    <tr>\n",
              "      <th>2013-01-04</th>\n",
              "      <td>-1.128600</td>\n",
              "      <td>-2.073517</td>\n",
              "    </tr>\n",
              "  </tbody>\n",
              "</table>\n",
              "</div>"
            ],
            "text/plain": [
              "                   A         B\n",
              "2013-01-02 -2.232713  0.528458\n",
              "2013-01-03  0.990908  0.856409\n",
              "2013-01-04 -1.128600 -2.073517"
            ]
          },
          "metadata": {
            "tags": []
          },
          "execution_count": 68
        }
      ]
    },
    {
      "cell_type": "markdown",
      "metadata": {
        "id": "eZmfosGuFg7G"
      },
      "source": [
        "반환되는 객체의 차원를 줄입니다."
      ]
    },
    {
      "cell_type": "code",
      "metadata": {
        "id": "QWpklQCfFigH",
        "outputId": "51172c74-2223-4b15-b6d7-41ccf393ef4b",
        "colab": {
          "base_uri": "https://localhost:8080/"
        }
      },
      "source": [
        "df.loc['20130102',['A','B']]"
      ],
      "execution_count": 69,
      "outputs": [
        {
          "output_type": "execute_result",
          "data": {
            "text/plain": [
              "A   -2.232713\n",
              "B    0.528458\n",
              "Name: 2013-01-02 00:00:00, dtype: float64"
            ]
          },
          "metadata": {
            "tags": []
          },
          "execution_count": 69
        }
      ]
    },
    {
      "cell_type": "markdown",
      "metadata": {
        "id": "LIDO83JLF199"
      },
      "source": [
        "스칼라 값을 얻습니다."
      ]
    },
    {
      "cell_type": "code",
      "metadata": {
        "id": "gFfAnkm7F4cC",
        "outputId": "10444e76-2220-4b40-ebb8-82654c820181",
        "colab": {
          "base_uri": "https://localhost:8080/"
        }
      },
      "source": [
        "df.at[dates[0],'A']"
      ],
      "execution_count": 70,
      "outputs": [
        {
          "output_type": "execute_result",
          "data": {
            "text/plain": [
              "-1.7841967522604094"
            ]
          },
          "metadata": {
            "tags": []
          },
          "execution_count": 70
        }
      ]
    },
    {
      "cell_type": "markdown",
      "metadata": {
        "id": "yTHjKUKFF9w0"
      },
      "source": [
        "### Selection by Position (위치로 선택하기)\n",
        "자세한 내용은 [위치로 선택하기](https://pandas.pydata.org/pandas-docs/stable/user_guide/indexing.html)를 참고해주세요.\n",
        "\n",
        "넘겨받은 정수의 위치를 기준으로 선택합니다."
      ]
    },
    {
      "cell_type": "code",
      "metadata": {
        "id": "BIADD3kmGK5s",
        "outputId": "b7cbdcc1-7dea-4f4d-9f4a-25c5d8b1973d",
        "colab": {
          "base_uri": "https://localhost:8080/"
        }
      },
      "source": [
        "df.iloc[3]"
      ],
      "execution_count": 71,
      "outputs": [
        {
          "output_type": "execute_result",
          "data": {
            "text/plain": [
              "A   -1.128600\n",
              "B   -2.073517\n",
              "C    0.938502\n",
              "D    0.216336\n",
              "Name: 2013-01-04 00:00:00, dtype: float64"
            ]
          },
          "metadata": {
            "tags": []
          },
          "execution_count": 71
        }
      ]
    },
    {
      "cell_type": "markdown",
      "metadata": {
        "id": "eMt47NKNGNn0"
      },
      "source": [
        "정수로 표기된 슬라이스들을 통해, numpy / python과 유사하게 작동합니다."
      ]
    },
    {
      "cell_type": "code",
      "metadata": {
        "id": "2YgSPEAgGOzL",
        "outputId": "95b3069f-2b5f-4e2d-ce6e-265af2c7e098",
        "colab": {
          "base_uri": "https://localhost:8080/",
          "height": 106
        }
      },
      "source": [
        "df.iloc[3:5,0:2]"
      ],
      "execution_count": 72,
      "outputs": [
        {
          "output_type": "execute_result",
          "data": {
            "text/html": [
              "<div>\n",
              "<style scoped>\n",
              "    .dataframe tbody tr th:only-of-type {\n",
              "        vertical-align: middle;\n",
              "    }\n",
              "\n",
              "    .dataframe tbody tr th {\n",
              "        vertical-align: top;\n",
              "    }\n",
              "\n",
              "    .dataframe thead th {\n",
              "        text-align: right;\n",
              "    }\n",
              "</style>\n",
              "<table border=\"1\" class=\"dataframe\">\n",
              "  <thead>\n",
              "    <tr style=\"text-align: right;\">\n",
              "      <th></th>\n",
              "      <th>A</th>\n",
              "      <th>B</th>\n",
              "    </tr>\n",
              "  </thead>\n",
              "  <tbody>\n",
              "    <tr>\n",
              "      <th>2013-01-04</th>\n",
              "      <td>-1.128600</td>\n",
              "      <td>-2.073517</td>\n",
              "    </tr>\n",
              "    <tr>\n",
              "      <th>2013-01-05</th>\n",
              "      <td>-1.562463</td>\n",
              "      <td>-1.562747</td>\n",
              "    </tr>\n",
              "  </tbody>\n",
              "</table>\n",
              "</div>"
            ],
            "text/plain": [
              "                   A         B\n",
              "2013-01-04 -1.128600 -2.073517\n",
              "2013-01-05 -1.562463 -1.562747"
            ]
          },
          "metadata": {
            "tags": []
          },
          "execution_count": 72
        }
      ]
    },
    {
      "cell_type": "markdown",
      "metadata": {
        "id": "QuVLerDRGT23"
      },
      "source": [
        "정수로 표기된 위치값의 리스트들을 통해, numpy / python의 스타일과 유사해집니다."
      ]
    },
    {
      "cell_type": "code",
      "metadata": {
        "id": "4iobXTrMGVLE",
        "outputId": "f28b0099-355b-44d4-d3cf-29ffdbc747aa",
        "colab": {
          "base_uri": "https://localhost:8080/",
          "height": 136
        }
      },
      "source": [
        "df.iloc[[1,2,4],[0,2]]"
      ],
      "execution_count": 73,
      "outputs": [
        {
          "output_type": "execute_result",
          "data": {
            "text/html": [
              "<div>\n",
              "<style scoped>\n",
              "    .dataframe tbody tr th:only-of-type {\n",
              "        vertical-align: middle;\n",
              "    }\n",
              "\n",
              "    .dataframe tbody tr th {\n",
              "        vertical-align: top;\n",
              "    }\n",
              "\n",
              "    .dataframe thead th {\n",
              "        text-align: right;\n",
              "    }\n",
              "</style>\n",
              "<table border=\"1\" class=\"dataframe\">\n",
              "  <thead>\n",
              "    <tr style=\"text-align: right;\">\n",
              "      <th></th>\n",
              "      <th>A</th>\n",
              "      <th>C</th>\n",
              "    </tr>\n",
              "  </thead>\n",
              "  <tbody>\n",
              "    <tr>\n",
              "      <th>2013-01-02</th>\n",
              "      <td>-2.232713</td>\n",
              "      <td>0.346990</td>\n",
              "    </tr>\n",
              "    <tr>\n",
              "      <th>2013-01-03</th>\n",
              "      <td>0.990908</td>\n",
              "      <td>0.687702</td>\n",
              "    </tr>\n",
              "    <tr>\n",
              "      <th>2013-01-05</th>\n",
              "      <td>-1.562463</td>\n",
              "      <td>0.597687</td>\n",
              "    </tr>\n",
              "  </tbody>\n",
              "</table>\n",
              "</div>"
            ],
            "text/plain": [
              "                   A         C\n",
              "2013-01-02 -2.232713  0.346990\n",
              "2013-01-03  0.990908  0.687702\n",
              "2013-01-05 -1.562463  0.597687"
            ]
          },
          "metadata": {
            "tags": []
          },
          "execution_count": 73
        }
      ]
    },
    {
      "cell_type": "markdown",
      "metadata": {
        "id": "RThb19fpGcG-"
      },
      "source": [
        "명시적으로 행을 나누고자 하는 경우입니다."
      ]
    },
    {
      "cell_type": "code",
      "metadata": {
        "id": "h7E85xb3GdGU",
        "outputId": "f5568bcd-cfc1-432d-c4f2-272ba31af717",
        "colab": {
          "base_uri": "https://localhost:8080/",
          "height": 106
        }
      },
      "source": [
        "df.iloc[1:3,:]"
      ],
      "execution_count": 74,
      "outputs": [
        {
          "output_type": "execute_result",
          "data": {
            "text/html": [
              "<div>\n",
              "<style scoped>\n",
              "    .dataframe tbody tr th:only-of-type {\n",
              "        vertical-align: middle;\n",
              "    }\n",
              "\n",
              "    .dataframe tbody tr th {\n",
              "        vertical-align: top;\n",
              "    }\n",
              "\n",
              "    .dataframe thead th {\n",
              "        text-align: right;\n",
              "    }\n",
              "</style>\n",
              "<table border=\"1\" class=\"dataframe\">\n",
              "  <thead>\n",
              "    <tr style=\"text-align: right;\">\n",
              "      <th></th>\n",
              "      <th>A</th>\n",
              "      <th>B</th>\n",
              "      <th>C</th>\n",
              "      <th>D</th>\n",
              "    </tr>\n",
              "  </thead>\n",
              "  <tbody>\n",
              "    <tr>\n",
              "      <th>2013-01-02</th>\n",
              "      <td>-2.232713</td>\n",
              "      <td>0.528458</td>\n",
              "      <td>0.346990</td>\n",
              "      <td>1.620199</td>\n",
              "    </tr>\n",
              "    <tr>\n",
              "      <th>2013-01-03</th>\n",
              "      <td>0.990908</td>\n",
              "      <td>0.856409</td>\n",
              "      <td>0.687702</td>\n",
              "      <td>1.893413</td>\n",
              "    </tr>\n",
              "  </tbody>\n",
              "</table>\n",
              "</div>"
            ],
            "text/plain": [
              "                   A         B         C         D\n",
              "2013-01-02 -2.232713  0.528458  0.346990  1.620199\n",
              "2013-01-03  0.990908  0.856409  0.687702  1.893413"
            ]
          },
          "metadata": {
            "tags": []
          },
          "execution_count": 74
        }
      ]
    },
    {
      "cell_type": "markdown",
      "metadata": {
        "id": "2VR5lJxxHOy7"
      },
      "source": [
        "명시적으로 열을 나누고자 하는 경우입니다."
      ]
    },
    {
      "cell_type": "code",
      "metadata": {
        "id": "KBuL5nv4HP5c",
        "outputId": "eba5ae4a-f37d-4906-cf14-29888de9dec6",
        "colab": {
          "base_uri": "https://localhost:8080/",
          "height": 225
        }
      },
      "source": [
        "df.iloc[:,1:3]"
      ],
      "execution_count": 75,
      "outputs": [
        {
          "output_type": "execute_result",
          "data": {
            "text/html": [
              "<div>\n",
              "<style scoped>\n",
              "    .dataframe tbody tr th:only-of-type {\n",
              "        vertical-align: middle;\n",
              "    }\n",
              "\n",
              "    .dataframe tbody tr th {\n",
              "        vertical-align: top;\n",
              "    }\n",
              "\n",
              "    .dataframe thead th {\n",
              "        text-align: right;\n",
              "    }\n",
              "</style>\n",
              "<table border=\"1\" class=\"dataframe\">\n",
              "  <thead>\n",
              "    <tr style=\"text-align: right;\">\n",
              "      <th></th>\n",
              "      <th>B</th>\n",
              "      <th>C</th>\n",
              "    </tr>\n",
              "  </thead>\n",
              "  <tbody>\n",
              "    <tr>\n",
              "      <th>2013-01-01</th>\n",
              "      <td>1.077572</td>\n",
              "      <td>0.139746</td>\n",
              "    </tr>\n",
              "    <tr>\n",
              "      <th>2013-01-02</th>\n",
              "      <td>0.528458</td>\n",
              "      <td>0.346990</td>\n",
              "    </tr>\n",
              "    <tr>\n",
              "      <th>2013-01-03</th>\n",
              "      <td>0.856409</td>\n",
              "      <td>0.687702</td>\n",
              "    </tr>\n",
              "    <tr>\n",
              "      <th>2013-01-04</th>\n",
              "      <td>-2.073517</td>\n",
              "      <td>0.938502</td>\n",
              "    </tr>\n",
              "    <tr>\n",
              "      <th>2013-01-05</th>\n",
              "      <td>-1.562747</td>\n",
              "      <td>0.597687</td>\n",
              "    </tr>\n",
              "    <tr>\n",
              "      <th>2013-01-06</th>\n",
              "      <td>0.162055</td>\n",
              "      <td>0.453307</td>\n",
              "    </tr>\n",
              "  </tbody>\n",
              "</table>\n",
              "</div>"
            ],
            "text/plain": [
              "                   B         C\n",
              "2013-01-01  1.077572  0.139746\n",
              "2013-01-02  0.528458  0.346990\n",
              "2013-01-03  0.856409  0.687702\n",
              "2013-01-04 -2.073517  0.938502\n",
              "2013-01-05 -1.562747  0.597687\n",
              "2013-01-06  0.162055  0.453307"
            ]
          },
          "metadata": {
            "tags": []
          },
          "execution_count": 75
        }
      ]
    },
    {
      "cell_type": "markdown",
      "metadata": {
        "id": "oicnBAV-HTps"
      },
      "source": [
        "명시적으로 (특정한) 값을 얻고자 하는 경우입니다."
      ]
    },
    {
      "cell_type": "code",
      "metadata": {
        "id": "1O-JMCtHHU1K",
        "outputId": "f176fb3b-bb47-4bae-ecb8-93097bc0123c",
        "colab": {
          "base_uri": "https://localhost:8080/"
        }
      },
      "source": [
        "df.iloc[1,1]"
      ],
      "execution_count": 76,
      "outputs": [
        {
          "output_type": "execute_result",
          "data": {
            "text/plain": [
              "0.5284577127556394"
            ]
          },
          "metadata": {
            "tags": []
          },
          "execution_count": 76
        }
      ]
    },
    {
      "cell_type": "markdown",
      "metadata": {
        "id": "l4GiFQW1HXsk"
      },
      "source": [
        "스칼라 값을 빠르게 얻는 방법입니다 (위의 방식과 동일합니다)."
      ]
    },
    {
      "cell_type": "code",
      "metadata": {
        "id": "ZmIAGiT4HbPY",
        "outputId": "ed720be5-fac1-4ae4-a0fb-97494fa6f137",
        "colab": {
          "base_uri": "https://localhost:8080/"
        }
      },
      "source": [
        "df.iat[1,1]"
      ],
      "execution_count": 77,
      "outputs": [
        {
          "output_type": "execute_result",
          "data": {
            "text/plain": [
              "0.5284577127556394"
            ]
          },
          "metadata": {
            "tags": []
          },
          "execution_count": 77
        }
      ]
    },
    {
      "cell_type": "markdown",
      "metadata": {
        "id": "VtlEyBgbHeJP"
      },
      "source": [
        "### Boolean Indexing\n",
        "데이터를 선택하기 위해 단일 열의 값을 사용합니다."
      ]
    },
    {
      "cell_type": "code",
      "metadata": {
        "id": "WIaIseKFHhXV",
        "outputId": "87d38e5d-7387-4574-c04d-c5737a2ae617",
        "colab": {
          "base_uri": "https://localhost:8080/",
          "height": 106
        }
      },
      "source": [
        "df[df.A > 0]"
      ],
      "execution_count": 78,
      "outputs": [
        {
          "output_type": "execute_result",
          "data": {
            "text/html": [
              "<div>\n",
              "<style scoped>\n",
              "    .dataframe tbody tr th:only-of-type {\n",
              "        vertical-align: middle;\n",
              "    }\n",
              "\n",
              "    .dataframe tbody tr th {\n",
              "        vertical-align: top;\n",
              "    }\n",
              "\n",
              "    .dataframe thead th {\n",
              "        text-align: right;\n",
              "    }\n",
              "</style>\n",
              "<table border=\"1\" class=\"dataframe\">\n",
              "  <thead>\n",
              "    <tr style=\"text-align: right;\">\n",
              "      <th></th>\n",
              "      <th>A</th>\n",
              "      <th>B</th>\n",
              "      <th>C</th>\n",
              "      <th>D</th>\n",
              "    </tr>\n",
              "  </thead>\n",
              "  <tbody>\n",
              "    <tr>\n",
              "      <th>2013-01-03</th>\n",
              "      <td>0.990908</td>\n",
              "      <td>0.856409</td>\n",
              "      <td>0.687702</td>\n",
              "      <td>1.893413</td>\n",
              "    </tr>\n",
              "    <tr>\n",
              "      <th>2013-01-06</th>\n",
              "      <td>0.117143</td>\n",
              "      <td>0.162055</td>\n",
              "      <td>0.453307</td>\n",
              "      <td>0.491534</td>\n",
              "    </tr>\n",
              "  </tbody>\n",
              "</table>\n",
              "</div>"
            ],
            "text/plain": [
              "                   A         B         C         D\n",
              "2013-01-03  0.990908  0.856409  0.687702  1.893413\n",
              "2013-01-06  0.117143  0.162055  0.453307  0.491534"
            ]
          },
          "metadata": {
            "tags": []
          },
          "execution_count": 78
        }
      ]
    },
    {
      "cell_type": "markdown",
      "metadata": {
        "id": "IhKjb1V3Hn52"
      },
      "source": [
        "Boolean 조건을 충족하는 데이터프레임에서 값을 선택합니다."
      ]
    },
    {
      "cell_type": "code",
      "metadata": {
        "id": "QJYZxwa5Hpc3",
        "outputId": "6f851c16-480e-4ba8-b7be-26cff0bf03a7",
        "colab": {
          "base_uri": "https://localhost:8080/",
          "height": 225
        }
      },
      "source": [
        "df[df > 0]"
      ],
      "execution_count": 79,
      "outputs": [
        {
          "output_type": "execute_result",
          "data": {
            "text/html": [
              "<div>\n",
              "<style scoped>\n",
              "    .dataframe tbody tr th:only-of-type {\n",
              "        vertical-align: middle;\n",
              "    }\n",
              "\n",
              "    .dataframe tbody tr th {\n",
              "        vertical-align: top;\n",
              "    }\n",
              "\n",
              "    .dataframe thead th {\n",
              "        text-align: right;\n",
              "    }\n",
              "</style>\n",
              "<table border=\"1\" class=\"dataframe\">\n",
              "  <thead>\n",
              "    <tr style=\"text-align: right;\">\n",
              "      <th></th>\n",
              "      <th>A</th>\n",
              "      <th>B</th>\n",
              "      <th>C</th>\n",
              "      <th>D</th>\n",
              "    </tr>\n",
              "  </thead>\n",
              "  <tbody>\n",
              "    <tr>\n",
              "      <th>2013-01-01</th>\n",
              "      <td>NaN</td>\n",
              "      <td>1.077572</td>\n",
              "      <td>0.139746</td>\n",
              "      <td>NaN</td>\n",
              "    </tr>\n",
              "    <tr>\n",
              "      <th>2013-01-02</th>\n",
              "      <td>NaN</td>\n",
              "      <td>0.528458</td>\n",
              "      <td>0.346990</td>\n",
              "      <td>1.620199</td>\n",
              "    </tr>\n",
              "    <tr>\n",
              "      <th>2013-01-03</th>\n",
              "      <td>0.990908</td>\n",
              "      <td>0.856409</td>\n",
              "      <td>0.687702</td>\n",
              "      <td>1.893413</td>\n",
              "    </tr>\n",
              "    <tr>\n",
              "      <th>2013-01-04</th>\n",
              "      <td>NaN</td>\n",
              "      <td>NaN</td>\n",
              "      <td>0.938502</td>\n",
              "      <td>0.216336</td>\n",
              "    </tr>\n",
              "    <tr>\n",
              "      <th>2013-01-05</th>\n",
              "      <td>NaN</td>\n",
              "      <td>NaN</td>\n",
              "      <td>0.597687</td>\n",
              "      <td>NaN</td>\n",
              "    </tr>\n",
              "    <tr>\n",
              "      <th>2013-01-06</th>\n",
              "      <td>0.117143</td>\n",
              "      <td>0.162055</td>\n",
              "      <td>0.453307</td>\n",
              "      <td>0.491534</td>\n",
              "    </tr>\n",
              "  </tbody>\n",
              "</table>\n",
              "</div>"
            ],
            "text/plain": [
              "                   A         B         C         D\n",
              "2013-01-01       NaN  1.077572  0.139746       NaN\n",
              "2013-01-02       NaN  0.528458  0.346990  1.620199\n",
              "2013-01-03  0.990908  0.856409  0.687702  1.893413\n",
              "2013-01-04       NaN       NaN  0.938502  0.216336\n",
              "2013-01-05       NaN       NaN  0.597687       NaN\n",
              "2013-01-06  0.117143  0.162055  0.453307  0.491534"
            ]
          },
          "metadata": {
            "tags": []
          },
          "execution_count": 79
        }
      ]
    },
    {
      "cell_type": "markdown",
      "metadata": {
        "id": "GyS56a-RHs99"
      },
      "source": [
        "필터링을 위한 메소드 [isin()](https://pandas.pydata.org/pandas-docs/stable/reference/api/pandas.Series.isin.html)을 사용합니다."
      ]
    },
    {
      "cell_type": "code",
      "metadata": {
        "id": "rFKLxnGFH1CV",
        "outputId": "8a99c844-6e33-46e8-bd19-31816c5e448d",
        "colab": {
          "base_uri": "https://localhost:8080/",
          "height": 225
        }
      },
      "source": [
        "df2 = df.copy()\n",
        "df2['E'] = ['one', 'one', 'two', 'three', 'four', 'three']\n",
        "df2"
      ],
      "execution_count": 80,
      "outputs": [
        {
          "output_type": "execute_result",
          "data": {
            "text/html": [
              "<div>\n",
              "<style scoped>\n",
              "    .dataframe tbody tr th:only-of-type {\n",
              "        vertical-align: middle;\n",
              "    }\n",
              "\n",
              "    .dataframe tbody tr th {\n",
              "        vertical-align: top;\n",
              "    }\n",
              "\n",
              "    .dataframe thead th {\n",
              "        text-align: right;\n",
              "    }\n",
              "</style>\n",
              "<table border=\"1\" class=\"dataframe\">\n",
              "  <thead>\n",
              "    <tr style=\"text-align: right;\">\n",
              "      <th></th>\n",
              "      <th>A</th>\n",
              "      <th>B</th>\n",
              "      <th>C</th>\n",
              "      <th>D</th>\n",
              "      <th>E</th>\n",
              "    </tr>\n",
              "  </thead>\n",
              "  <tbody>\n",
              "    <tr>\n",
              "      <th>2013-01-01</th>\n",
              "      <td>-1.784197</td>\n",
              "      <td>1.077572</td>\n",
              "      <td>0.139746</td>\n",
              "      <td>-1.198050</td>\n",
              "      <td>one</td>\n",
              "    </tr>\n",
              "    <tr>\n",
              "      <th>2013-01-02</th>\n",
              "      <td>-2.232713</td>\n",
              "      <td>0.528458</td>\n",
              "      <td>0.346990</td>\n",
              "      <td>1.620199</td>\n",
              "      <td>one</td>\n",
              "    </tr>\n",
              "    <tr>\n",
              "      <th>2013-01-03</th>\n",
              "      <td>0.990908</td>\n",
              "      <td>0.856409</td>\n",
              "      <td>0.687702</td>\n",
              "      <td>1.893413</td>\n",
              "      <td>two</td>\n",
              "    </tr>\n",
              "    <tr>\n",
              "      <th>2013-01-04</th>\n",
              "      <td>-1.128600</td>\n",
              "      <td>-2.073517</td>\n",
              "      <td>0.938502</td>\n",
              "      <td>0.216336</td>\n",
              "      <td>three</td>\n",
              "    </tr>\n",
              "    <tr>\n",
              "      <th>2013-01-05</th>\n",
              "      <td>-1.562463</td>\n",
              "      <td>-1.562747</td>\n",
              "      <td>0.597687</td>\n",
              "      <td>-0.685352</td>\n",
              "      <td>four</td>\n",
              "    </tr>\n",
              "    <tr>\n",
              "      <th>2013-01-06</th>\n",
              "      <td>0.117143</td>\n",
              "      <td>0.162055</td>\n",
              "      <td>0.453307</td>\n",
              "      <td>0.491534</td>\n",
              "      <td>three</td>\n",
              "    </tr>\n",
              "  </tbody>\n",
              "</table>\n",
              "</div>"
            ],
            "text/plain": [
              "                   A         B         C         D      E\n",
              "2013-01-01 -1.784197  1.077572  0.139746 -1.198050    one\n",
              "2013-01-02 -2.232713  0.528458  0.346990  1.620199    one\n",
              "2013-01-03  0.990908  0.856409  0.687702  1.893413    two\n",
              "2013-01-04 -1.128600 -2.073517  0.938502  0.216336  three\n",
              "2013-01-05 -1.562463 -1.562747  0.597687 -0.685352   four\n",
              "2013-01-06  0.117143  0.162055  0.453307  0.491534  three"
            ]
          },
          "metadata": {
            "tags": []
          },
          "execution_count": 80
        }
      ]
    },
    {
      "cell_type": "code",
      "metadata": {
        "id": "ywPpYp_ZIHfN",
        "outputId": "85082a0f-3476-46c2-c54f-468664f14cb3",
        "colab": {
          "base_uri": "https://localhost:8080/",
          "height": 106
        }
      },
      "source": [
        "df2[df2['E'].isin(['two', 'four'])]"
      ],
      "execution_count": 81,
      "outputs": [
        {
          "output_type": "execute_result",
          "data": {
            "text/html": [
              "<div>\n",
              "<style scoped>\n",
              "    .dataframe tbody tr th:only-of-type {\n",
              "        vertical-align: middle;\n",
              "    }\n",
              "\n",
              "    .dataframe tbody tr th {\n",
              "        vertical-align: top;\n",
              "    }\n",
              "\n",
              "    .dataframe thead th {\n",
              "        text-align: right;\n",
              "    }\n",
              "</style>\n",
              "<table border=\"1\" class=\"dataframe\">\n",
              "  <thead>\n",
              "    <tr style=\"text-align: right;\">\n",
              "      <th></th>\n",
              "      <th>A</th>\n",
              "      <th>B</th>\n",
              "      <th>C</th>\n",
              "      <th>D</th>\n",
              "      <th>E</th>\n",
              "    </tr>\n",
              "  </thead>\n",
              "  <tbody>\n",
              "    <tr>\n",
              "      <th>2013-01-03</th>\n",
              "      <td>0.990908</td>\n",
              "      <td>0.856409</td>\n",
              "      <td>0.687702</td>\n",
              "      <td>1.893413</td>\n",
              "      <td>two</td>\n",
              "    </tr>\n",
              "    <tr>\n",
              "      <th>2013-01-05</th>\n",
              "      <td>-1.562463</td>\n",
              "      <td>-1.562747</td>\n",
              "      <td>0.597687</td>\n",
              "      <td>-0.685352</td>\n",
              "      <td>four</td>\n",
              "    </tr>\n",
              "  </tbody>\n",
              "</table>\n",
              "</div>"
            ],
            "text/plain": [
              "                   A         B         C         D     E\n",
              "2013-01-03  0.990908  0.856409  0.687702  1.893413   two\n",
              "2013-01-05 -1.562463 -1.562747  0.597687 -0.685352  four"
            ]
          },
          "metadata": {
            "tags": []
          },
          "execution_count": 81
        }
      ]
    },
    {
      "cell_type": "markdown",
      "metadata": {
        "id": "XFtawEL5IBLX"
      },
      "source": [
        "### Setting (설정)\n",
        "새 열을 설정하면 데이터가 인덱스 별로 자동 정렬됩니다."
      ]
    },
    {
      "cell_type": "code",
      "metadata": {
        "id": "le9Dn4AtIT-S",
        "outputId": "bd9b31b2-4f78-428d-ad5d-43f1e1057f26",
        "colab": {
          "base_uri": "https://localhost:8080/"
        }
      },
      "source": [
        "s1 = pd.Series([1,2,3,4,5,6], index = pd.date_range('20130102', periods=6))\n",
        "s1"
      ],
      "execution_count": 84,
      "outputs": [
        {
          "output_type": "execute_result",
          "data": {
            "text/plain": [
              "2013-01-02    1\n",
              "2013-01-03    2\n",
              "2013-01-04    3\n",
              "2013-01-05    4\n",
              "2013-01-06    5\n",
              "2013-01-07    6\n",
              "Freq: D, dtype: int64"
            ]
          },
          "metadata": {
            "tags": []
          },
          "execution_count": 84
        }
      ]
    },
    {
      "cell_type": "code",
      "metadata": {
        "id": "2p9tx7GwI4K0"
      },
      "source": [
        "df['F'] = s1"
      ],
      "execution_count": 85,
      "outputs": []
    },
    {
      "cell_type": "markdown",
      "metadata": {
        "id": "spqd1tJtI8_y"
      },
      "source": [
        "라벨에 의해 값을 설정합니다."
      ]
    },
    {
      "cell_type": "code",
      "metadata": {
        "id": "LEEw7pkjI-Pe"
      },
      "source": [
        "df.at[dates[0], 'A'] = 0"
      ],
      "execution_count": 87,
      "outputs": []
    },
    {
      "cell_type": "markdown",
      "metadata": {
        "id": "2ed3ST_kJLKl"
      },
      "source": [
        "위치에 의해 값을 설정합니다."
      ]
    },
    {
      "cell_type": "code",
      "metadata": {
        "id": "k9Y9PuLdJMsc"
      },
      "source": [
        "df.iat[0,1] = 0"
      ],
      "execution_count": 88,
      "outputs": []
    },
    {
      "cell_type": "markdown",
      "metadata": {
        "id": "ONydhU7EJRll"
      },
      "source": [
        "Numpy 배열을 사용한 할당에 의해 값을 설정합니다."
      ]
    },
    {
      "cell_type": "code",
      "metadata": {
        "id": "LMFoZhFeJWGF"
      },
      "source": [
        "df.loc[:,'D'] = np.array([5] * len(df))"
      ],
      "execution_count": 89,
      "outputs": []
    },
    {
      "cell_type": "markdown",
      "metadata": {
        "id": "2UxNxCr2JjBD"
      },
      "source": [
        "위 설정대로 작동한 결과입니다."
      ]
    },
    {
      "cell_type": "code",
      "metadata": {
        "id": "yyjuXufEJkTk",
        "outputId": "4566b06b-ff2e-4ed3-e045-7ef6a3194fc3",
        "colab": {
          "base_uri": "https://localhost:8080/",
          "height": 225
        }
      },
      "source": [
        "df"
      ],
      "execution_count": 90,
      "outputs": [
        {
          "output_type": "execute_result",
          "data": {
            "text/html": [
              "<div>\n",
              "<style scoped>\n",
              "    .dataframe tbody tr th:only-of-type {\n",
              "        vertical-align: middle;\n",
              "    }\n",
              "\n",
              "    .dataframe tbody tr th {\n",
              "        vertical-align: top;\n",
              "    }\n",
              "\n",
              "    .dataframe thead th {\n",
              "        text-align: right;\n",
              "    }\n",
              "</style>\n",
              "<table border=\"1\" class=\"dataframe\">\n",
              "  <thead>\n",
              "    <tr style=\"text-align: right;\">\n",
              "      <th></th>\n",
              "      <th>A</th>\n",
              "      <th>B</th>\n",
              "      <th>C</th>\n",
              "      <th>D</th>\n",
              "      <th>F</th>\n",
              "    </tr>\n",
              "  </thead>\n",
              "  <tbody>\n",
              "    <tr>\n",
              "      <th>2013-01-01</th>\n",
              "      <td>0.000000</td>\n",
              "      <td>0.000000</td>\n",
              "      <td>0.139746</td>\n",
              "      <td>5</td>\n",
              "      <td>NaN</td>\n",
              "    </tr>\n",
              "    <tr>\n",
              "      <th>2013-01-02</th>\n",
              "      <td>-2.232713</td>\n",
              "      <td>0.528458</td>\n",
              "      <td>0.346990</td>\n",
              "      <td>5</td>\n",
              "      <td>1.0</td>\n",
              "    </tr>\n",
              "    <tr>\n",
              "      <th>2013-01-03</th>\n",
              "      <td>0.990908</td>\n",
              "      <td>0.856409</td>\n",
              "      <td>0.687702</td>\n",
              "      <td>5</td>\n",
              "      <td>2.0</td>\n",
              "    </tr>\n",
              "    <tr>\n",
              "      <th>2013-01-04</th>\n",
              "      <td>-1.128600</td>\n",
              "      <td>-2.073517</td>\n",
              "      <td>0.938502</td>\n",
              "      <td>5</td>\n",
              "      <td>3.0</td>\n",
              "    </tr>\n",
              "    <tr>\n",
              "      <th>2013-01-05</th>\n",
              "      <td>-1.562463</td>\n",
              "      <td>-1.562747</td>\n",
              "      <td>0.597687</td>\n",
              "      <td>5</td>\n",
              "      <td>4.0</td>\n",
              "    </tr>\n",
              "    <tr>\n",
              "      <th>2013-01-06</th>\n",
              "      <td>0.117143</td>\n",
              "      <td>0.162055</td>\n",
              "      <td>0.453307</td>\n",
              "      <td>5</td>\n",
              "      <td>5.0</td>\n",
              "    </tr>\n",
              "  </tbody>\n",
              "</table>\n",
              "</div>"
            ],
            "text/plain": [
              "                   A         B         C  D    F\n",
              "2013-01-01  0.000000  0.000000  0.139746  5  NaN\n",
              "2013-01-02 -2.232713  0.528458  0.346990  5  1.0\n",
              "2013-01-03  0.990908  0.856409  0.687702  5  2.0\n",
              "2013-01-04 -1.128600 -2.073517  0.938502  5  3.0\n",
              "2013-01-05 -1.562463 -1.562747  0.597687  5  4.0\n",
              "2013-01-06  0.117143  0.162055  0.453307  5  5.0"
            ]
          },
          "metadata": {
            "tags": []
          },
          "execution_count": 90
        }
      ]
    },
    {
      "cell_type": "markdown",
      "metadata": {
        "id": "6zglTT3pJmRs"
      },
      "source": [
        "where 연산을 설정합니다."
      ]
    },
    {
      "cell_type": "code",
      "metadata": {
        "id": "2wd1KZbaJoQd",
        "outputId": "a472608d-2076-4fe4-fcf5-3385c23f1c38",
        "colab": {
          "base_uri": "https://localhost:8080/",
          "height": 225
        }
      },
      "source": [
        "df2 = df.copy()\n",
        "df2[df2 > 0] = -df2\n",
        "df2"
      ],
      "execution_count": 91,
      "outputs": [
        {
          "output_type": "execute_result",
          "data": {
            "text/html": [
              "<div>\n",
              "<style scoped>\n",
              "    .dataframe tbody tr th:only-of-type {\n",
              "        vertical-align: middle;\n",
              "    }\n",
              "\n",
              "    .dataframe tbody tr th {\n",
              "        vertical-align: top;\n",
              "    }\n",
              "\n",
              "    .dataframe thead th {\n",
              "        text-align: right;\n",
              "    }\n",
              "</style>\n",
              "<table border=\"1\" class=\"dataframe\">\n",
              "  <thead>\n",
              "    <tr style=\"text-align: right;\">\n",
              "      <th></th>\n",
              "      <th>A</th>\n",
              "      <th>B</th>\n",
              "      <th>C</th>\n",
              "      <th>D</th>\n",
              "      <th>F</th>\n",
              "    </tr>\n",
              "  </thead>\n",
              "  <tbody>\n",
              "    <tr>\n",
              "      <th>2013-01-01</th>\n",
              "      <td>0.000000</td>\n",
              "      <td>0.000000</td>\n",
              "      <td>-0.139746</td>\n",
              "      <td>-5</td>\n",
              "      <td>NaN</td>\n",
              "    </tr>\n",
              "    <tr>\n",
              "      <th>2013-01-02</th>\n",
              "      <td>-2.232713</td>\n",
              "      <td>-0.528458</td>\n",
              "      <td>-0.346990</td>\n",
              "      <td>-5</td>\n",
              "      <td>-1.0</td>\n",
              "    </tr>\n",
              "    <tr>\n",
              "      <th>2013-01-03</th>\n",
              "      <td>-0.990908</td>\n",
              "      <td>-0.856409</td>\n",
              "      <td>-0.687702</td>\n",
              "      <td>-5</td>\n",
              "      <td>-2.0</td>\n",
              "    </tr>\n",
              "    <tr>\n",
              "      <th>2013-01-04</th>\n",
              "      <td>-1.128600</td>\n",
              "      <td>-2.073517</td>\n",
              "      <td>-0.938502</td>\n",
              "      <td>-5</td>\n",
              "      <td>-3.0</td>\n",
              "    </tr>\n",
              "    <tr>\n",
              "      <th>2013-01-05</th>\n",
              "      <td>-1.562463</td>\n",
              "      <td>-1.562747</td>\n",
              "      <td>-0.597687</td>\n",
              "      <td>-5</td>\n",
              "      <td>-4.0</td>\n",
              "    </tr>\n",
              "    <tr>\n",
              "      <th>2013-01-06</th>\n",
              "      <td>-0.117143</td>\n",
              "      <td>-0.162055</td>\n",
              "      <td>-0.453307</td>\n",
              "      <td>-5</td>\n",
              "      <td>-5.0</td>\n",
              "    </tr>\n",
              "  </tbody>\n",
              "</table>\n",
              "</div>"
            ],
            "text/plain": [
              "                   A         B         C  D    F\n",
              "2013-01-01  0.000000  0.000000 -0.139746 -5  NaN\n",
              "2013-01-02 -2.232713 -0.528458 -0.346990 -5 -1.0\n",
              "2013-01-03 -0.990908 -0.856409 -0.687702 -5 -2.0\n",
              "2013-01-04 -1.128600 -2.073517 -0.938502 -5 -3.0\n",
              "2013-01-05 -1.562463 -1.562747 -0.597687 -5 -4.0\n",
              "2013-01-06 -0.117143 -0.162055 -0.453307 -5 -5.0"
            ]
          },
          "metadata": {
            "tags": []
          },
          "execution_count": 91
        }
      ]
    },
    {
      "cell_type": "markdown",
      "metadata": {
        "id": "YUiD-9EgJqhV"
      },
      "source": [
        "## 4. Missing Data (결측치)\n",
        "\n",
        "**Pandas는 결측치를 표현하기 위해 주로 np.nan 값을 사용합니다. 이 방법은 기본 설정값이지만 계산에는 포함되지 않습니다. [Missing data section](https://pandas.pydata.org/pandas-docs/stable/user_guide/missing_data.html)을 참조하세요.**\n",
        "\n",
        "**Reindexing으로 지정된 축 상의 인덱스를 변경 / 추가 / 삭제할 수 있습니다. Reindexing은 데이터의 복사본을 반환합니다.**\n"
      ]
    },
    {
      "cell_type": "code",
      "metadata": {
        "id": "yPpn-xI2J8_O",
        "outputId": "a1f4ac48-c5ff-4c05-9260-c603a78e5c2c",
        "colab": {
          "base_uri": "https://localhost:8080/",
          "height": 166
        }
      },
      "source": [
        "df1 = df.reindex(index=dates[0:4], columns=list(df.columns) + ['E'])\n",
        "df1.loc[dates[0]:dates[1],'E'] = 1\n",
        "df1"
      ],
      "execution_count": 92,
      "outputs": [
        {
          "output_type": "execute_result",
          "data": {
            "text/html": [
              "<div>\n",
              "<style scoped>\n",
              "    .dataframe tbody tr th:only-of-type {\n",
              "        vertical-align: middle;\n",
              "    }\n",
              "\n",
              "    .dataframe tbody tr th {\n",
              "        vertical-align: top;\n",
              "    }\n",
              "\n",
              "    .dataframe thead th {\n",
              "        text-align: right;\n",
              "    }\n",
              "</style>\n",
              "<table border=\"1\" class=\"dataframe\">\n",
              "  <thead>\n",
              "    <tr style=\"text-align: right;\">\n",
              "      <th></th>\n",
              "      <th>A</th>\n",
              "      <th>B</th>\n",
              "      <th>C</th>\n",
              "      <th>D</th>\n",
              "      <th>F</th>\n",
              "      <th>E</th>\n",
              "    </tr>\n",
              "  </thead>\n",
              "  <tbody>\n",
              "    <tr>\n",
              "      <th>2013-01-01</th>\n",
              "      <td>0.000000</td>\n",
              "      <td>0.000000</td>\n",
              "      <td>0.139746</td>\n",
              "      <td>5</td>\n",
              "      <td>NaN</td>\n",
              "      <td>1.0</td>\n",
              "    </tr>\n",
              "    <tr>\n",
              "      <th>2013-01-02</th>\n",
              "      <td>-2.232713</td>\n",
              "      <td>0.528458</td>\n",
              "      <td>0.346990</td>\n",
              "      <td>5</td>\n",
              "      <td>1.0</td>\n",
              "      <td>1.0</td>\n",
              "    </tr>\n",
              "    <tr>\n",
              "      <th>2013-01-03</th>\n",
              "      <td>0.990908</td>\n",
              "      <td>0.856409</td>\n",
              "      <td>0.687702</td>\n",
              "      <td>5</td>\n",
              "      <td>2.0</td>\n",
              "      <td>NaN</td>\n",
              "    </tr>\n",
              "    <tr>\n",
              "      <th>2013-01-04</th>\n",
              "      <td>-1.128600</td>\n",
              "      <td>-2.073517</td>\n",
              "      <td>0.938502</td>\n",
              "      <td>5</td>\n",
              "      <td>3.0</td>\n",
              "      <td>NaN</td>\n",
              "    </tr>\n",
              "  </tbody>\n",
              "</table>\n",
              "</div>"
            ],
            "text/plain": [
              "                   A         B         C  D    F    E\n",
              "2013-01-01  0.000000  0.000000  0.139746  5  NaN  1.0\n",
              "2013-01-02 -2.232713  0.528458  0.346990  5  1.0  1.0\n",
              "2013-01-03  0.990908  0.856409  0.687702  5  2.0  NaN\n",
              "2013-01-04 -1.128600 -2.073517  0.938502  5  3.0  NaN"
            ]
          },
          "metadata": {
            "tags": []
          },
          "execution_count": 92
        }
      ]
    },
    {
      "cell_type": "code",
      "metadata": {
        "id": "HQgUr4yjJ_8-",
        "outputId": "f4b3d2de-e663-40aa-d3d4-0fb7a3d94030",
        "colab": {
          "base_uri": "https://localhost:8080/",
          "height": 77
        }
      },
      "source": [
        "df1.dropna(how='any') # 결측치를 가지고 있는 행들을 지웁니다."
      ],
      "execution_count": 93,
      "outputs": [
        {
          "output_type": "execute_result",
          "data": {
            "text/html": [
              "<div>\n",
              "<style scoped>\n",
              "    .dataframe tbody tr th:only-of-type {\n",
              "        vertical-align: middle;\n",
              "    }\n",
              "\n",
              "    .dataframe tbody tr th {\n",
              "        vertical-align: top;\n",
              "    }\n",
              "\n",
              "    .dataframe thead th {\n",
              "        text-align: right;\n",
              "    }\n",
              "</style>\n",
              "<table border=\"1\" class=\"dataframe\">\n",
              "  <thead>\n",
              "    <tr style=\"text-align: right;\">\n",
              "      <th></th>\n",
              "      <th>A</th>\n",
              "      <th>B</th>\n",
              "      <th>C</th>\n",
              "      <th>D</th>\n",
              "      <th>F</th>\n",
              "      <th>E</th>\n",
              "    </tr>\n",
              "  </thead>\n",
              "  <tbody>\n",
              "    <tr>\n",
              "      <th>2013-01-02</th>\n",
              "      <td>-2.232713</td>\n",
              "      <td>0.528458</td>\n",
              "      <td>0.34699</td>\n",
              "      <td>5</td>\n",
              "      <td>1.0</td>\n",
              "      <td>1.0</td>\n",
              "    </tr>\n",
              "  </tbody>\n",
              "</table>\n",
              "</div>"
            ],
            "text/plain": [
              "                   A         B        C  D    F    E\n",
              "2013-01-02 -2.232713  0.528458  0.34699  5  1.0  1.0"
            ]
          },
          "metadata": {
            "tags": []
          },
          "execution_count": 93
        }
      ]
    },
    {
      "cell_type": "code",
      "metadata": {
        "id": "8QIbMM3GKDrl",
        "outputId": "5910a7f3-7a8c-4a52-d202-6aa04ea83bd0",
        "colab": {
          "base_uri": "https://localhost:8080/",
          "height": 166
        }
      },
      "source": [
        "df1.fillna(value=5) # 결측치를 채워 넣습니다."
      ],
      "execution_count": 94,
      "outputs": [
        {
          "output_type": "execute_result",
          "data": {
            "text/html": [
              "<div>\n",
              "<style scoped>\n",
              "    .dataframe tbody tr th:only-of-type {\n",
              "        vertical-align: middle;\n",
              "    }\n",
              "\n",
              "    .dataframe tbody tr th {\n",
              "        vertical-align: top;\n",
              "    }\n",
              "\n",
              "    .dataframe thead th {\n",
              "        text-align: right;\n",
              "    }\n",
              "</style>\n",
              "<table border=\"1\" class=\"dataframe\">\n",
              "  <thead>\n",
              "    <tr style=\"text-align: right;\">\n",
              "      <th></th>\n",
              "      <th>A</th>\n",
              "      <th>B</th>\n",
              "      <th>C</th>\n",
              "      <th>D</th>\n",
              "      <th>F</th>\n",
              "      <th>E</th>\n",
              "    </tr>\n",
              "  </thead>\n",
              "  <tbody>\n",
              "    <tr>\n",
              "      <th>2013-01-01</th>\n",
              "      <td>0.000000</td>\n",
              "      <td>0.000000</td>\n",
              "      <td>0.139746</td>\n",
              "      <td>5</td>\n",
              "      <td>5.0</td>\n",
              "      <td>1.0</td>\n",
              "    </tr>\n",
              "    <tr>\n",
              "      <th>2013-01-02</th>\n",
              "      <td>-2.232713</td>\n",
              "      <td>0.528458</td>\n",
              "      <td>0.346990</td>\n",
              "      <td>5</td>\n",
              "      <td>1.0</td>\n",
              "      <td>1.0</td>\n",
              "    </tr>\n",
              "    <tr>\n",
              "      <th>2013-01-03</th>\n",
              "      <td>0.990908</td>\n",
              "      <td>0.856409</td>\n",
              "      <td>0.687702</td>\n",
              "      <td>5</td>\n",
              "      <td>2.0</td>\n",
              "      <td>5.0</td>\n",
              "    </tr>\n",
              "    <tr>\n",
              "      <th>2013-01-04</th>\n",
              "      <td>-1.128600</td>\n",
              "      <td>-2.073517</td>\n",
              "      <td>0.938502</td>\n",
              "      <td>5</td>\n",
              "      <td>3.0</td>\n",
              "      <td>5.0</td>\n",
              "    </tr>\n",
              "  </tbody>\n",
              "</table>\n",
              "</div>"
            ],
            "text/plain": [
              "                   A         B         C  D    F    E\n",
              "2013-01-01  0.000000  0.000000  0.139746  5  5.0  1.0\n",
              "2013-01-02 -2.232713  0.528458  0.346990  5  1.0  1.0\n",
              "2013-01-03  0.990908  0.856409  0.687702  5  2.0  5.0\n",
              "2013-01-04 -1.128600 -2.073517  0.938502  5  3.0  5.0"
            ]
          },
          "metadata": {
            "tags": []
          },
          "execution_count": 94
        }
      ]
    },
    {
      "cell_type": "code",
      "metadata": {
        "id": "6cDu6eO2KIRP",
        "outputId": "b282ee09-d994-42f5-ca8b-8fc827431777",
        "colab": {
          "base_uri": "https://localhost:8080/",
          "height": 166
        }
      },
      "source": [
        "pd.isna(df1) # nan인 값에 boolean을 통한 표식을 얻습니다.\n",
        "             # 역자 주 : 데이터프레임의 모든 값이 boolean 형태로 표시되도록 하며, nan인 값에만 True가 표시되게 하는 함수입니다."
      ],
      "execution_count": 95,
      "outputs": [
        {
          "output_type": "execute_result",
          "data": {
            "text/html": [
              "<div>\n",
              "<style scoped>\n",
              "    .dataframe tbody tr th:only-of-type {\n",
              "        vertical-align: middle;\n",
              "    }\n",
              "\n",
              "    .dataframe tbody tr th {\n",
              "        vertical-align: top;\n",
              "    }\n",
              "\n",
              "    .dataframe thead th {\n",
              "        text-align: right;\n",
              "    }\n",
              "</style>\n",
              "<table border=\"1\" class=\"dataframe\">\n",
              "  <thead>\n",
              "    <tr style=\"text-align: right;\">\n",
              "      <th></th>\n",
              "      <th>A</th>\n",
              "      <th>B</th>\n",
              "      <th>C</th>\n",
              "      <th>D</th>\n",
              "      <th>F</th>\n",
              "      <th>E</th>\n",
              "    </tr>\n",
              "  </thead>\n",
              "  <tbody>\n",
              "    <tr>\n",
              "      <th>2013-01-01</th>\n",
              "      <td>False</td>\n",
              "      <td>False</td>\n",
              "      <td>False</td>\n",
              "      <td>False</td>\n",
              "      <td>True</td>\n",
              "      <td>False</td>\n",
              "    </tr>\n",
              "    <tr>\n",
              "      <th>2013-01-02</th>\n",
              "      <td>False</td>\n",
              "      <td>False</td>\n",
              "      <td>False</td>\n",
              "      <td>False</td>\n",
              "      <td>False</td>\n",
              "      <td>False</td>\n",
              "    </tr>\n",
              "    <tr>\n",
              "      <th>2013-01-03</th>\n",
              "      <td>False</td>\n",
              "      <td>False</td>\n",
              "      <td>False</td>\n",
              "      <td>False</td>\n",
              "      <td>False</td>\n",
              "      <td>True</td>\n",
              "    </tr>\n",
              "    <tr>\n",
              "      <th>2013-01-04</th>\n",
              "      <td>False</td>\n",
              "      <td>False</td>\n",
              "      <td>False</td>\n",
              "      <td>False</td>\n",
              "      <td>False</td>\n",
              "      <td>True</td>\n",
              "    </tr>\n",
              "  </tbody>\n",
              "</table>\n",
              "</div>"
            ],
            "text/plain": [
              "                A      B      C      D      F      E\n",
              "2013-01-01  False  False  False  False   True  False\n",
              "2013-01-02  False  False  False  False  False  False\n",
              "2013-01-03  False  False  False  False  False   True\n",
              "2013-01-04  False  False  False  False  False   True"
            ]
          },
          "metadata": {
            "tags": []
          },
          "execution_count": 95
        }
      ]
    },
    {
      "cell_type": "markdown",
      "metadata": {
        "id": "iyahsEkbKZSN"
      },
      "source": [
        "## 5. Operation (연산)\n",
        "[이진 (Binary) 연산의 기본 섹션](https://pandas.pydata.org/pandas-docs/stable/user_guide/basics.html)을 참조하세요.\n",
        "\n",
        "\n",
        "\n",
        "### Stats (통계)\n",
        "일반적으로 결측치를 제외한 후 연산됩니다.\n",
        "\n",
        "기술통계를 수행합니다."
      ]
    },
    {
      "cell_type": "code",
      "metadata": {
        "id": "eD7zeaW2Kpq-",
        "outputId": "eecc6470-d185-40e5-92e3-231b7373cfcf",
        "colab": {
          "base_uri": "https://localhost:8080/"
        }
      },
      "source": [
        "df.mean()"
      ],
      "execution_count": 96,
      "outputs": [
        {
          "output_type": "execute_result",
          "data": {
            "text/plain": [
              "A   -0.635954\n",
              "B   -0.348224\n",
              "C    0.527322\n",
              "D    5.000000\n",
              "F    3.000000\n",
              "dtype: float64"
            ]
          },
          "metadata": {
            "tags": []
          },
          "execution_count": 96
        }
      ]
    },
    {
      "cell_type": "code",
      "metadata": {
        "id": "wj0mK95tKscX",
        "outputId": "2fdc6efd-ab42-4547-dd2c-b2c83b776316",
        "colab": {
          "base_uri": "https://localhost:8080/"
        }
      },
      "source": [
        "df.mean(1) # 다른 축에서 동일한 연산을 수행합니다."
      ],
      "execution_count": 97,
      "outputs": [
        {
          "output_type": "execute_result",
          "data": {
            "text/plain": [
              "2013-01-01    1.284936\n",
              "2013-01-02    0.928547\n",
              "2013-01-03    1.907004\n",
              "2013-01-04    1.147277\n",
              "2013-01-05    1.294495\n",
              "2013-01-06    2.146501\n",
              "Freq: D, dtype: float64"
            ]
          },
          "metadata": {
            "tags": []
          },
          "execution_count": 97
        }
      ]
    },
    {
      "cell_type": "code",
      "metadata": {
        "id": "eEHjDTgSKwt1",
        "outputId": "16a2d462-a07e-4a24-a995-68faaed50e19",
        "colab": {
          "base_uri": "https://localhost:8080/"
        }
      },
      "source": [
        "s = pd.Series([1,3,5,np.nan,6,8], index=dates).shift(2)\n",
        "s\n",
        "# 정렬이 필요하며, 차원이 다른 객체로 연산해보겠습니다. 또한, pandas는 지정된 차원을 따라 자동으로 브로드 캐스팅됩니다.\n",
        "# 역자 주 : broadcast란 numpy에서 유래한 용어로, n차원이나 스칼라 값으로 연산을 수행할 때 도출되는 결과의 규칙을 설명하는 것을 의미합니다."
      ],
      "execution_count": 100,
      "outputs": [
        {
          "output_type": "execute_result",
          "data": {
            "text/plain": [
              "2013-01-01    NaN\n",
              "2013-01-02    NaN\n",
              "2013-01-03    1.0\n",
              "2013-01-04    3.0\n",
              "2013-01-05    5.0\n",
              "2013-01-06    NaN\n",
              "Freq: D, dtype: float64"
            ]
          },
          "metadata": {
            "tags": []
          },
          "execution_count": 100
        }
      ]
    },
    {
      "cell_type": "code",
      "metadata": {
        "id": "FeY-7IcnLEJK",
        "outputId": "ff0df478-04f6-437b-96b7-759d8c20ffb4",
        "colab": {
          "base_uri": "https://localhost:8080/",
          "height": 225
        }
      },
      "source": [
        "df.sub(s, axis='index')"
      ],
      "execution_count": 101,
      "outputs": [
        {
          "output_type": "execute_result",
          "data": {
            "text/html": [
              "<div>\n",
              "<style scoped>\n",
              "    .dataframe tbody tr th:only-of-type {\n",
              "        vertical-align: middle;\n",
              "    }\n",
              "\n",
              "    .dataframe tbody tr th {\n",
              "        vertical-align: top;\n",
              "    }\n",
              "\n",
              "    .dataframe thead th {\n",
              "        text-align: right;\n",
              "    }\n",
              "</style>\n",
              "<table border=\"1\" class=\"dataframe\">\n",
              "  <thead>\n",
              "    <tr style=\"text-align: right;\">\n",
              "      <th></th>\n",
              "      <th>A</th>\n",
              "      <th>B</th>\n",
              "      <th>C</th>\n",
              "      <th>D</th>\n",
              "      <th>F</th>\n",
              "    </tr>\n",
              "  </thead>\n",
              "  <tbody>\n",
              "    <tr>\n",
              "      <th>2013-01-01</th>\n",
              "      <td>NaN</td>\n",
              "      <td>NaN</td>\n",
              "      <td>NaN</td>\n",
              "      <td>NaN</td>\n",
              "      <td>NaN</td>\n",
              "    </tr>\n",
              "    <tr>\n",
              "      <th>2013-01-02</th>\n",
              "      <td>NaN</td>\n",
              "      <td>NaN</td>\n",
              "      <td>NaN</td>\n",
              "      <td>NaN</td>\n",
              "      <td>NaN</td>\n",
              "    </tr>\n",
              "    <tr>\n",
              "      <th>2013-01-03</th>\n",
              "      <td>-0.009092</td>\n",
              "      <td>-0.143591</td>\n",
              "      <td>-0.312298</td>\n",
              "      <td>4.0</td>\n",
              "      <td>1.0</td>\n",
              "    </tr>\n",
              "    <tr>\n",
              "      <th>2013-01-04</th>\n",
              "      <td>-4.128600</td>\n",
              "      <td>-5.073517</td>\n",
              "      <td>-2.061498</td>\n",
              "      <td>2.0</td>\n",
              "      <td>0.0</td>\n",
              "    </tr>\n",
              "    <tr>\n",
              "      <th>2013-01-05</th>\n",
              "      <td>-6.562463</td>\n",
              "      <td>-6.562747</td>\n",
              "      <td>-4.402313</td>\n",
              "      <td>0.0</td>\n",
              "      <td>-1.0</td>\n",
              "    </tr>\n",
              "    <tr>\n",
              "      <th>2013-01-06</th>\n",
              "      <td>NaN</td>\n",
              "      <td>NaN</td>\n",
              "      <td>NaN</td>\n",
              "      <td>NaN</td>\n",
              "      <td>NaN</td>\n",
              "    </tr>\n",
              "  </tbody>\n",
              "</table>\n",
              "</div>"
            ],
            "text/plain": [
              "                   A         B         C    D    F\n",
              "2013-01-01       NaN       NaN       NaN  NaN  NaN\n",
              "2013-01-02       NaN       NaN       NaN  NaN  NaN\n",
              "2013-01-03 -0.009092 -0.143591 -0.312298  4.0  1.0\n",
              "2013-01-04 -4.128600 -5.073517 -2.061498  2.0  0.0\n",
              "2013-01-05 -6.562463 -6.562747 -4.402313  0.0 -1.0\n",
              "2013-01-06       NaN       NaN       NaN  NaN  NaN"
            ]
          },
          "metadata": {
            "tags": []
          },
          "execution_count": 101
        }
      ]
    },
    {
      "cell_type": "markdown",
      "metadata": {
        "id": "NM3ED1-pLGni"
      },
      "source": [
        "### Apply (적용)\n"
      ]
    },
    {
      "cell_type": "code",
      "metadata": {
        "id": "z-97sWUsLJO9",
        "outputId": "e6836f58-802b-4eda-854d-5c069ad60aac",
        "colab": {
          "base_uri": "https://localhost:8080/",
          "height": 225
        }
      },
      "source": [
        "df.apply(np.cumsum) # 데이터에 함수를 적용합니다."
      ],
      "execution_count": 102,
      "outputs": [
        {
          "output_type": "execute_result",
          "data": {
            "text/html": [
              "<div>\n",
              "<style scoped>\n",
              "    .dataframe tbody tr th:only-of-type {\n",
              "        vertical-align: middle;\n",
              "    }\n",
              "\n",
              "    .dataframe tbody tr th {\n",
              "        vertical-align: top;\n",
              "    }\n",
              "\n",
              "    .dataframe thead th {\n",
              "        text-align: right;\n",
              "    }\n",
              "</style>\n",
              "<table border=\"1\" class=\"dataframe\">\n",
              "  <thead>\n",
              "    <tr style=\"text-align: right;\">\n",
              "      <th></th>\n",
              "      <th>A</th>\n",
              "      <th>B</th>\n",
              "      <th>C</th>\n",
              "      <th>D</th>\n",
              "      <th>F</th>\n",
              "    </tr>\n",
              "  </thead>\n",
              "  <tbody>\n",
              "    <tr>\n",
              "      <th>2013-01-01</th>\n",
              "      <td>0.000000</td>\n",
              "      <td>0.000000</td>\n",
              "      <td>0.139746</td>\n",
              "      <td>5</td>\n",
              "      <td>NaN</td>\n",
              "    </tr>\n",
              "    <tr>\n",
              "      <th>2013-01-02</th>\n",
              "      <td>-2.232713</td>\n",
              "      <td>0.528458</td>\n",
              "      <td>0.486735</td>\n",
              "      <td>10</td>\n",
              "      <td>1.0</td>\n",
              "    </tr>\n",
              "    <tr>\n",
              "      <th>2013-01-03</th>\n",
              "      <td>-1.241805</td>\n",
              "      <td>1.384867</td>\n",
              "      <td>1.174437</td>\n",
              "      <td>15</td>\n",
              "      <td>3.0</td>\n",
              "    </tr>\n",
              "    <tr>\n",
              "      <th>2013-01-04</th>\n",
              "      <td>-2.370405</td>\n",
              "      <td>-0.688650</td>\n",
              "      <td>2.112939</td>\n",
              "      <td>20</td>\n",
              "      <td>6.0</td>\n",
              "    </tr>\n",
              "    <tr>\n",
              "      <th>2013-01-05</th>\n",
              "      <td>-3.932868</td>\n",
              "      <td>-2.251397</td>\n",
              "      <td>2.710626</td>\n",
              "      <td>25</td>\n",
              "      <td>10.0</td>\n",
              "    </tr>\n",
              "    <tr>\n",
              "      <th>2013-01-06</th>\n",
              "      <td>-3.815725</td>\n",
              "      <td>-2.089342</td>\n",
              "      <td>3.163933</td>\n",
              "      <td>30</td>\n",
              "      <td>15.0</td>\n",
              "    </tr>\n",
              "  </tbody>\n",
              "</table>\n",
              "</div>"
            ],
            "text/plain": [
              "                   A         B         C   D     F\n",
              "2013-01-01  0.000000  0.000000  0.139746   5   NaN\n",
              "2013-01-02 -2.232713  0.528458  0.486735  10   1.0\n",
              "2013-01-03 -1.241805  1.384867  1.174437  15   3.0\n",
              "2013-01-04 -2.370405 -0.688650  2.112939  20   6.0\n",
              "2013-01-05 -3.932868 -2.251397  2.710626  25  10.0\n",
              "2013-01-06 -3.815725 -2.089342  3.163933  30  15.0"
            ]
          },
          "metadata": {
            "tags": []
          },
          "execution_count": 102
        }
      ]
    },
    {
      "cell_type": "code",
      "metadata": {
        "id": "4cGFyT0VLMyl",
        "outputId": "be0d2e02-171e-4c24-c2b9-fa835a80d31a",
        "colab": {
          "base_uri": "https://localhost:8080/"
        }
      },
      "source": [
        "df.apply(lambda x: x.max() - x.min())"
      ],
      "execution_count": 103,
      "outputs": [
        {
          "output_type": "execute_result",
          "data": {
            "text/plain": [
              "A    3.223621\n",
              "B    2.929926\n",
              "C    0.798756\n",
              "D    0.000000\n",
              "F    4.000000\n",
              "dtype: float64"
            ]
          },
          "metadata": {
            "tags": []
          },
          "execution_count": 103
        }
      ]
    },
    {
      "cell_type": "markdown",
      "metadata": {
        "id": "K2kK0XeMLPRl"
      },
      "source": [
        "### Histogramming (히스토그래밍)\n",
        "더 많은 내용은 [Histogramming and Discretization (히스토그래밍과 이산화)](https://pandas.pydata.org/pandas-docs/stable/user_guide/basics.html) 항목을 참조하세요."
      ]
    },
    {
      "cell_type": "code",
      "metadata": {
        "id": "j1sY87Q5LZl1",
        "outputId": "17cbefb2-7165-478b-cafc-f5fdd47c6714",
        "colab": {
          "base_uri": "https://localhost:8080/"
        }
      },
      "source": [
        "s = pd.Series(np.random.randint(0, 7, size=10))\n",
        "s"
      ],
      "execution_count": 104,
      "outputs": [
        {
          "output_type": "execute_result",
          "data": {
            "text/plain": [
              "0    6\n",
              "1    5\n",
              "2    2\n",
              "3    5\n",
              "4    4\n",
              "5    1\n",
              "6    4\n",
              "7    5\n",
              "8    1\n",
              "9    0\n",
              "dtype: int64"
            ]
          },
          "metadata": {
            "tags": []
          },
          "execution_count": 104
        }
      ]
    },
    {
      "cell_type": "code",
      "metadata": {
        "id": "_wurP2Q8LcD1",
        "outputId": "c3ceac8c-09b5-4770-8e7b-b1ca82d55382",
        "colab": {
          "base_uri": "https://localhost:8080/"
        }
      },
      "source": [
        "s.value_counts()"
      ],
      "execution_count": 105,
      "outputs": [
        {
          "output_type": "execute_result",
          "data": {
            "text/plain": [
              "5    3\n",
              "4    2\n",
              "1    2\n",
              "6    1\n",
              "2    1\n",
              "0    1\n",
              "dtype: int64"
            ]
          },
          "metadata": {
            "tags": []
          },
          "execution_count": 105
        }
      ]
    },
    {
      "cell_type": "markdown",
      "metadata": {
        "id": "Y9Oj1KhHLxpe"
      },
      "source": [
        "### String Methods (문자열 메소드)\n",
        "Series는 다음의 코드와 같이 문자열 처리 메소드 모음 (set)을 가지고 있습니다.\n",
        "이 모음은 배열의 각 요소를 쉽게 조작할 수 있도록 만들어주는 문자열의 속성에 포함되어 있습니다.\n",
        "\n",
        "문자열의 패턴 일치 확인은 기본적으로 정규 표현식을 사용하며, 몇몇 경우에는 항상 정규 표현식을 사용함에 유의하십시오.\n",
        "\n",
        "좀 더 자세한 내용은 [벡터화된 문자열 메소드](https://pandas.pydata.org/pandas-docs/stable/user_guide/text.html) 부분에서 확인할 수 있습니다."
      ]
    },
    {
      "cell_type": "code",
      "metadata": {
        "id": "uej5AxhUL5xd",
        "outputId": "641aa262-89c4-46cf-9ad0-b440c579fba4",
        "colab": {
          "base_uri": "https://localhost:8080/"
        }
      },
      "source": [
        "s = pd.Series(['A', 'B', 'C', 'Aaba', 'Baca', np.nan, 'CABA', 'dog', 'cat'])\n",
        "s.str.lower()"
      ],
      "execution_count": 106,
      "outputs": [
        {
          "output_type": "execute_result",
          "data": {
            "text/plain": [
              "0       a\n",
              "1       b\n",
              "2       c\n",
              "3    aaba\n",
              "4    baca\n",
              "5     NaN\n",
              "6    caba\n",
              "7     dog\n",
              "8     cat\n",
              "dtype: object"
            ]
          },
          "metadata": {
            "tags": []
          },
          "execution_count": 106
        }
      ]
    },
    {
      "cell_type": "markdown",
      "metadata": {
        "id": "wKeAJLn-L8B-"
      },
      "source": [
        "## 6. Merge (병합)\n",
        "\n",
        "\n",
        "\n",
        "\n",
        "\n",
        "\n",
        "\n",
        "### Concat (연결)\n",
        "결합 (join) / 병합 (merge) 형태의 연산에 대한 인덱스, 관계 대수 기능을 위한 다양한 형태의 논리를 포함한 Series, 데이터프레임, Panel 객체를 손쉽게 결합할 수 있도록 하는 다양한 기능을 pandas 에서 제공합니다.\n",
        "\n",
        "[Merging](https://pandas.pydata.org/pandas-docs/stable/user_guide/merging.html) 부분을 참조하세요.\n",
        "\n",
        "[concat()](https://pandas.pydata.org/pandas-docs/stable/reference/api/pandas.concat.html)으로 pandas 객체를 연결합니다."
      ]
    },
    {
      "cell_type": "code",
      "metadata": {
        "id": "5OzE1hbsMNcs",
        "outputId": "2d5b8fe0-ce98-4649-a227-3a3ae0ca9d20",
        "colab": {
          "base_uri": "https://localhost:8080/",
          "height": 343
        }
      },
      "source": [
        "df = pd.DataFrame(np.random.randn(10, 4))\n",
        "df"
      ],
      "execution_count": 107,
      "outputs": [
        {
          "output_type": "execute_result",
          "data": {
            "text/html": [
              "<div>\n",
              "<style scoped>\n",
              "    .dataframe tbody tr th:only-of-type {\n",
              "        vertical-align: middle;\n",
              "    }\n",
              "\n",
              "    .dataframe tbody tr th {\n",
              "        vertical-align: top;\n",
              "    }\n",
              "\n",
              "    .dataframe thead th {\n",
              "        text-align: right;\n",
              "    }\n",
              "</style>\n",
              "<table border=\"1\" class=\"dataframe\">\n",
              "  <thead>\n",
              "    <tr style=\"text-align: right;\">\n",
              "      <th></th>\n",
              "      <th>0</th>\n",
              "      <th>1</th>\n",
              "      <th>2</th>\n",
              "      <th>3</th>\n",
              "    </tr>\n",
              "  </thead>\n",
              "  <tbody>\n",
              "    <tr>\n",
              "      <th>0</th>\n",
              "      <td>0.733578</td>\n",
              "      <td>1.228137</td>\n",
              "      <td>-1.833701</td>\n",
              "      <td>-0.952756</td>\n",
              "    </tr>\n",
              "    <tr>\n",
              "      <th>1</th>\n",
              "      <td>0.391078</td>\n",
              "      <td>0.721598</td>\n",
              "      <td>-1.986794</td>\n",
              "      <td>1.527362</td>\n",
              "    </tr>\n",
              "    <tr>\n",
              "      <th>2</th>\n",
              "      <td>-0.625992</td>\n",
              "      <td>3.057374</td>\n",
              "      <td>1.141255</td>\n",
              "      <td>-0.734184</td>\n",
              "    </tr>\n",
              "    <tr>\n",
              "      <th>3</th>\n",
              "      <td>-0.408969</td>\n",
              "      <td>0.678740</td>\n",
              "      <td>0.560878</td>\n",
              "      <td>-0.050654</td>\n",
              "    </tr>\n",
              "    <tr>\n",
              "      <th>4</th>\n",
              "      <td>1.058433</td>\n",
              "      <td>1.206137</td>\n",
              "      <td>-0.500783</td>\n",
              "      <td>-0.115460</td>\n",
              "    </tr>\n",
              "    <tr>\n",
              "      <th>5</th>\n",
              "      <td>-0.426039</td>\n",
              "      <td>0.226530</td>\n",
              "      <td>-2.209731</td>\n",
              "      <td>0.195165</td>\n",
              "    </tr>\n",
              "    <tr>\n",
              "      <th>6</th>\n",
              "      <td>1.344975</td>\n",
              "      <td>-0.203215</td>\n",
              "      <td>1.760650</td>\n",
              "      <td>-0.673908</td>\n",
              "    </tr>\n",
              "    <tr>\n",
              "      <th>7</th>\n",
              "      <td>0.052268</td>\n",
              "      <td>-0.609325</td>\n",
              "      <td>1.352174</td>\n",
              "      <td>0.576748</td>\n",
              "    </tr>\n",
              "    <tr>\n",
              "      <th>8</th>\n",
              "      <td>-0.303488</td>\n",
              "      <td>-0.922569</td>\n",
              "      <td>0.841751</td>\n",
              "      <td>0.385337</td>\n",
              "    </tr>\n",
              "    <tr>\n",
              "      <th>9</th>\n",
              "      <td>1.374013</td>\n",
              "      <td>0.740030</td>\n",
              "      <td>-1.436092</td>\n",
              "      <td>-1.591320</td>\n",
              "    </tr>\n",
              "  </tbody>\n",
              "</table>\n",
              "</div>"
            ],
            "text/plain": [
              "          0         1         2         3\n",
              "0  0.733578  1.228137 -1.833701 -0.952756\n",
              "1  0.391078  0.721598 -1.986794  1.527362\n",
              "2 -0.625992  3.057374  1.141255 -0.734184\n",
              "3 -0.408969  0.678740  0.560878 -0.050654\n",
              "4  1.058433  1.206137 -0.500783 -0.115460\n",
              "5 -0.426039  0.226530 -2.209731  0.195165\n",
              "6  1.344975 -0.203215  1.760650 -0.673908\n",
              "7  0.052268 -0.609325  1.352174  0.576748\n",
              "8 -0.303488 -0.922569  0.841751  0.385337\n",
              "9  1.374013  0.740030 -1.436092 -1.591320"
            ]
          },
          "metadata": {
            "tags": []
          },
          "execution_count": 107
        }
      ]
    },
    {
      "cell_type": "code",
      "metadata": {
        "id": "V1Ct7kRZMQJI",
        "outputId": "7a2192b6-1eb8-44cf-a21f-daf29d155a28",
        "colab": {
          "base_uri": "https://localhost:8080/",
          "height": 343
        }
      },
      "source": [
        "# break it into pieces\n",
        "pieces = [df[:3], df[3:7], df[7:]]\n",
        "pd.concat(pieces)"
      ],
      "execution_count": 108,
      "outputs": [
        {
          "output_type": "execute_result",
          "data": {
            "text/html": [
              "<div>\n",
              "<style scoped>\n",
              "    .dataframe tbody tr th:only-of-type {\n",
              "        vertical-align: middle;\n",
              "    }\n",
              "\n",
              "    .dataframe tbody tr th {\n",
              "        vertical-align: top;\n",
              "    }\n",
              "\n",
              "    .dataframe thead th {\n",
              "        text-align: right;\n",
              "    }\n",
              "</style>\n",
              "<table border=\"1\" class=\"dataframe\">\n",
              "  <thead>\n",
              "    <tr style=\"text-align: right;\">\n",
              "      <th></th>\n",
              "      <th>0</th>\n",
              "      <th>1</th>\n",
              "      <th>2</th>\n",
              "      <th>3</th>\n",
              "    </tr>\n",
              "  </thead>\n",
              "  <tbody>\n",
              "    <tr>\n",
              "      <th>0</th>\n",
              "      <td>0.733578</td>\n",
              "      <td>1.228137</td>\n",
              "      <td>-1.833701</td>\n",
              "      <td>-0.952756</td>\n",
              "    </tr>\n",
              "    <tr>\n",
              "      <th>1</th>\n",
              "      <td>0.391078</td>\n",
              "      <td>0.721598</td>\n",
              "      <td>-1.986794</td>\n",
              "      <td>1.527362</td>\n",
              "    </tr>\n",
              "    <tr>\n",
              "      <th>2</th>\n",
              "      <td>-0.625992</td>\n",
              "      <td>3.057374</td>\n",
              "      <td>1.141255</td>\n",
              "      <td>-0.734184</td>\n",
              "    </tr>\n",
              "    <tr>\n",
              "      <th>3</th>\n",
              "      <td>-0.408969</td>\n",
              "      <td>0.678740</td>\n",
              "      <td>0.560878</td>\n",
              "      <td>-0.050654</td>\n",
              "    </tr>\n",
              "    <tr>\n",
              "      <th>4</th>\n",
              "      <td>1.058433</td>\n",
              "      <td>1.206137</td>\n",
              "      <td>-0.500783</td>\n",
              "      <td>-0.115460</td>\n",
              "    </tr>\n",
              "    <tr>\n",
              "      <th>5</th>\n",
              "      <td>-0.426039</td>\n",
              "      <td>0.226530</td>\n",
              "      <td>-2.209731</td>\n",
              "      <td>0.195165</td>\n",
              "    </tr>\n",
              "    <tr>\n",
              "      <th>6</th>\n",
              "      <td>1.344975</td>\n",
              "      <td>-0.203215</td>\n",
              "      <td>1.760650</td>\n",
              "      <td>-0.673908</td>\n",
              "    </tr>\n",
              "    <tr>\n",
              "      <th>7</th>\n",
              "      <td>0.052268</td>\n",
              "      <td>-0.609325</td>\n",
              "      <td>1.352174</td>\n",
              "      <td>0.576748</td>\n",
              "    </tr>\n",
              "    <tr>\n",
              "      <th>8</th>\n",
              "      <td>-0.303488</td>\n",
              "      <td>-0.922569</td>\n",
              "      <td>0.841751</td>\n",
              "      <td>0.385337</td>\n",
              "    </tr>\n",
              "    <tr>\n",
              "      <th>9</th>\n",
              "      <td>1.374013</td>\n",
              "      <td>0.740030</td>\n",
              "      <td>-1.436092</td>\n",
              "      <td>-1.591320</td>\n",
              "    </tr>\n",
              "  </tbody>\n",
              "</table>\n",
              "</div>"
            ],
            "text/plain": [
              "          0         1         2         3\n",
              "0  0.733578  1.228137 -1.833701 -0.952756\n",
              "1  0.391078  0.721598 -1.986794  1.527362\n",
              "2 -0.625992  3.057374  1.141255 -0.734184\n",
              "3 -0.408969  0.678740  0.560878 -0.050654\n",
              "4  1.058433  1.206137 -0.500783 -0.115460\n",
              "5 -0.426039  0.226530 -2.209731  0.195165\n",
              "6  1.344975 -0.203215  1.760650 -0.673908\n",
              "7  0.052268 -0.609325  1.352174  0.576748\n",
              "8 -0.303488 -0.922569  0.841751  0.385337\n",
              "9  1.374013  0.740030 -1.436092 -1.591320"
            ]
          },
          "metadata": {
            "tags": []
          },
          "execution_count": 108
        }
      ]
    },
    {
      "cell_type": "markdown",
      "metadata": {
        "id": "Dobiu1PkMTEF"
      },
      "source": [
        "### Join (결합)\n",
        "SQL 방식으로 병합합니다. [데이터베이스 스타일 결합](https://pandas.pydata.org/pandas-docs/stable/user_guide/merging.html) 부분을 참고하세요."
      ]
    },
    {
      "cell_type": "code",
      "metadata": {
        "id": "NxHsXDX1MZ_R",
        "outputId": "3b6f7ba8-7f87-4729-e7f0-710de50fecc4",
        "colab": {
          "base_uri": "https://localhost:8080/",
          "height": 106
        }
      },
      "source": [
        "left = pd.DataFrame({'key': ['foo', 'foo'], 'lval': [1, 2]})\n",
        "right = pd.DataFrame({'key': ['foo', 'foo'], 'rval': [4, 5]})\n",
        "left"
      ],
      "execution_count": 109,
      "outputs": [
        {
          "output_type": "execute_result",
          "data": {
            "text/html": [
              "<div>\n",
              "<style scoped>\n",
              "    .dataframe tbody tr th:only-of-type {\n",
              "        vertical-align: middle;\n",
              "    }\n",
              "\n",
              "    .dataframe tbody tr th {\n",
              "        vertical-align: top;\n",
              "    }\n",
              "\n",
              "    .dataframe thead th {\n",
              "        text-align: right;\n",
              "    }\n",
              "</style>\n",
              "<table border=\"1\" class=\"dataframe\">\n",
              "  <thead>\n",
              "    <tr style=\"text-align: right;\">\n",
              "      <th></th>\n",
              "      <th>key</th>\n",
              "      <th>lval</th>\n",
              "    </tr>\n",
              "  </thead>\n",
              "  <tbody>\n",
              "    <tr>\n",
              "      <th>0</th>\n",
              "      <td>foo</td>\n",
              "      <td>1</td>\n",
              "    </tr>\n",
              "    <tr>\n",
              "      <th>1</th>\n",
              "      <td>foo</td>\n",
              "      <td>2</td>\n",
              "    </tr>\n",
              "  </tbody>\n",
              "</table>\n",
              "</div>"
            ],
            "text/plain": [
              "   key  lval\n",
              "0  foo     1\n",
              "1  foo     2"
            ]
          },
          "metadata": {
            "tags": []
          },
          "execution_count": 109
        }
      ]
    },
    {
      "cell_type": "code",
      "metadata": {
        "id": "UwSWLt9vMcFU",
        "outputId": "8dab4acb-2988-4fd0-c2fb-e7536e47e853",
        "colab": {
          "base_uri": "https://localhost:8080/",
          "height": 106
        }
      },
      "source": [
        "right"
      ],
      "execution_count": 110,
      "outputs": [
        {
          "output_type": "execute_result",
          "data": {
            "text/html": [
              "<div>\n",
              "<style scoped>\n",
              "    .dataframe tbody tr th:only-of-type {\n",
              "        vertical-align: middle;\n",
              "    }\n",
              "\n",
              "    .dataframe tbody tr th {\n",
              "        vertical-align: top;\n",
              "    }\n",
              "\n",
              "    .dataframe thead th {\n",
              "        text-align: right;\n",
              "    }\n",
              "</style>\n",
              "<table border=\"1\" class=\"dataframe\">\n",
              "  <thead>\n",
              "    <tr style=\"text-align: right;\">\n",
              "      <th></th>\n",
              "      <th>key</th>\n",
              "      <th>rval</th>\n",
              "    </tr>\n",
              "  </thead>\n",
              "  <tbody>\n",
              "    <tr>\n",
              "      <th>0</th>\n",
              "      <td>foo</td>\n",
              "      <td>4</td>\n",
              "    </tr>\n",
              "    <tr>\n",
              "      <th>1</th>\n",
              "      <td>foo</td>\n",
              "      <td>5</td>\n",
              "    </tr>\n",
              "  </tbody>\n",
              "</table>\n",
              "</div>"
            ],
            "text/plain": [
              "   key  rval\n",
              "0  foo     4\n",
              "1  foo     5"
            ]
          },
          "metadata": {
            "tags": []
          },
          "execution_count": 110
        }
      ]
    },
    {
      "cell_type": "code",
      "metadata": {
        "id": "Z57_UT1cMdsN",
        "outputId": "397d4f2c-867a-4152-9c55-484253b27093",
        "colab": {
          "base_uri": "https://localhost:8080/",
          "height": 166
        }
      },
      "source": [
        "pd.merge(left, right, on= 'key')"
      ],
      "execution_count": 111,
      "outputs": [
        {
          "output_type": "execute_result",
          "data": {
            "text/html": [
              "<div>\n",
              "<style scoped>\n",
              "    .dataframe tbody tr th:only-of-type {\n",
              "        vertical-align: middle;\n",
              "    }\n",
              "\n",
              "    .dataframe tbody tr th {\n",
              "        vertical-align: top;\n",
              "    }\n",
              "\n",
              "    .dataframe thead th {\n",
              "        text-align: right;\n",
              "    }\n",
              "</style>\n",
              "<table border=\"1\" class=\"dataframe\">\n",
              "  <thead>\n",
              "    <tr style=\"text-align: right;\">\n",
              "      <th></th>\n",
              "      <th>key</th>\n",
              "      <th>lval</th>\n",
              "      <th>rval</th>\n",
              "    </tr>\n",
              "  </thead>\n",
              "  <tbody>\n",
              "    <tr>\n",
              "      <th>0</th>\n",
              "      <td>foo</td>\n",
              "      <td>1</td>\n",
              "      <td>4</td>\n",
              "    </tr>\n",
              "    <tr>\n",
              "      <th>1</th>\n",
              "      <td>foo</td>\n",
              "      <td>1</td>\n",
              "      <td>5</td>\n",
              "    </tr>\n",
              "    <tr>\n",
              "      <th>2</th>\n",
              "      <td>foo</td>\n",
              "      <td>2</td>\n",
              "      <td>4</td>\n",
              "    </tr>\n",
              "    <tr>\n",
              "      <th>3</th>\n",
              "      <td>foo</td>\n",
              "      <td>2</td>\n",
              "      <td>5</td>\n",
              "    </tr>\n",
              "  </tbody>\n",
              "</table>\n",
              "</div>"
            ],
            "text/plain": [
              "   key  lval  rval\n",
              "0  foo     1     4\n",
              "1  foo     1     5\n",
              "2  foo     2     4\n",
              "3  foo     2     5"
            ]
          },
          "metadata": {
            "tags": []
          },
          "execution_count": 111
        }
      ]
    },
    {
      "cell_type": "code",
      "metadata": {
        "id": "e5LtOX20Mf5l",
        "outputId": "9e7f7f7e-0107-4ee1-80d8-3c4545baedb0",
        "colab": {
          "base_uri": "https://localhost:8080/",
          "height": 106
        }
      },
      "source": [
        "# 다른 예시입니다.\n",
        "left = pd.DataFrame({'key' : ['foo', 'bar'], 'lval' : [1, 2]})\n",
        "right = pd.DataFrame({'key': ['foo', 'bar'], 'rval': [4, 5]})\n",
        "left"
      ],
      "execution_count": 112,
      "outputs": [
        {
          "output_type": "execute_result",
          "data": {
            "text/html": [
              "<div>\n",
              "<style scoped>\n",
              "    .dataframe tbody tr th:only-of-type {\n",
              "        vertical-align: middle;\n",
              "    }\n",
              "\n",
              "    .dataframe tbody tr th {\n",
              "        vertical-align: top;\n",
              "    }\n",
              "\n",
              "    .dataframe thead th {\n",
              "        text-align: right;\n",
              "    }\n",
              "</style>\n",
              "<table border=\"1\" class=\"dataframe\">\n",
              "  <thead>\n",
              "    <tr style=\"text-align: right;\">\n",
              "      <th></th>\n",
              "      <th>key</th>\n",
              "      <th>lval</th>\n",
              "    </tr>\n",
              "  </thead>\n",
              "  <tbody>\n",
              "    <tr>\n",
              "      <th>0</th>\n",
              "      <td>foo</td>\n",
              "      <td>1</td>\n",
              "    </tr>\n",
              "    <tr>\n",
              "      <th>1</th>\n",
              "      <td>bar</td>\n",
              "      <td>2</td>\n",
              "    </tr>\n",
              "  </tbody>\n",
              "</table>\n",
              "</div>"
            ],
            "text/plain": [
              "   key  lval\n",
              "0  foo     1\n",
              "1  bar     2"
            ]
          },
          "metadata": {
            "tags": []
          },
          "execution_count": 112
        }
      ]
    },
    {
      "cell_type": "code",
      "metadata": {
        "id": "y8irFYH-Mh9y",
        "outputId": "ee7d8a13-6af6-4f2e-e476-2ed8a80bdebb",
        "colab": {
          "base_uri": "https://localhost:8080/",
          "height": 106
        }
      },
      "source": [
        "right"
      ],
      "execution_count": 113,
      "outputs": [
        {
          "output_type": "execute_result",
          "data": {
            "text/html": [
              "<div>\n",
              "<style scoped>\n",
              "    .dataframe tbody tr th:only-of-type {\n",
              "        vertical-align: middle;\n",
              "    }\n",
              "\n",
              "    .dataframe tbody tr th {\n",
              "        vertical-align: top;\n",
              "    }\n",
              "\n",
              "    .dataframe thead th {\n",
              "        text-align: right;\n",
              "    }\n",
              "</style>\n",
              "<table border=\"1\" class=\"dataframe\">\n",
              "  <thead>\n",
              "    <tr style=\"text-align: right;\">\n",
              "      <th></th>\n",
              "      <th>key</th>\n",
              "      <th>rval</th>\n",
              "    </tr>\n",
              "  </thead>\n",
              "  <tbody>\n",
              "    <tr>\n",
              "      <th>0</th>\n",
              "      <td>foo</td>\n",
              "      <td>4</td>\n",
              "    </tr>\n",
              "    <tr>\n",
              "      <th>1</th>\n",
              "      <td>bar</td>\n",
              "      <td>5</td>\n",
              "    </tr>\n",
              "  </tbody>\n",
              "</table>\n",
              "</div>"
            ],
            "text/plain": [
              "   key  rval\n",
              "0  foo     4\n",
              "1  bar     5"
            ]
          },
          "metadata": {
            "tags": []
          },
          "execution_count": 113
        }
      ]
    },
    {
      "cell_type": "code",
      "metadata": {
        "id": "Rb9pE_XGMlhF",
        "outputId": "caa74d7c-eede-4fed-8526-f9322f737706",
        "colab": {
          "base_uri": "https://localhost:8080/",
          "height": 106
        }
      },
      "source": [
        "pd.merge(left, right, on= 'key')"
      ],
      "execution_count": 114,
      "outputs": [
        {
          "output_type": "execute_result",
          "data": {
            "text/html": [
              "<div>\n",
              "<style scoped>\n",
              "    .dataframe tbody tr th:only-of-type {\n",
              "        vertical-align: middle;\n",
              "    }\n",
              "\n",
              "    .dataframe tbody tr th {\n",
              "        vertical-align: top;\n",
              "    }\n",
              "\n",
              "    .dataframe thead th {\n",
              "        text-align: right;\n",
              "    }\n",
              "</style>\n",
              "<table border=\"1\" class=\"dataframe\">\n",
              "  <thead>\n",
              "    <tr style=\"text-align: right;\">\n",
              "      <th></th>\n",
              "      <th>key</th>\n",
              "      <th>lval</th>\n",
              "      <th>rval</th>\n",
              "    </tr>\n",
              "  </thead>\n",
              "  <tbody>\n",
              "    <tr>\n",
              "      <th>0</th>\n",
              "      <td>foo</td>\n",
              "      <td>1</td>\n",
              "      <td>4</td>\n",
              "    </tr>\n",
              "    <tr>\n",
              "      <th>1</th>\n",
              "      <td>bar</td>\n",
              "      <td>2</td>\n",
              "      <td>5</td>\n",
              "    </tr>\n",
              "  </tbody>\n",
              "</table>\n",
              "</div>"
            ],
            "text/plain": [
              "   key  lval  rval\n",
              "0  foo     1     4\n",
              "1  bar     2     5"
            ]
          },
          "metadata": {
            "tags": []
          },
          "execution_count": 114
        }
      ]
    },
    {
      "cell_type": "markdown",
      "metadata": {
        "id": "u5BA5bt8MnnF"
      },
      "source": [
        "### Append (추가)\n",
        "데이터프레임에 행을 추가합니다. [Appending](https://pandas.pydata.org/pandas-docs/stable/user_guide/merging.html) 부분을 참조하세요."
      ]
    },
    {
      "cell_type": "code",
      "metadata": {
        "id": "XYnON3iuMuuR",
        "outputId": "d79cc4a4-c728-4fa4-9b15-7cd9fda26695",
        "colab": {
          "base_uri": "https://localhost:8080/",
          "height": 284
        }
      },
      "source": [
        "df = pd.DataFrame(np.random.randn(8, 4), columns=['A', 'B', 'C', 'D'])\n",
        "df"
      ],
      "execution_count": 115,
      "outputs": [
        {
          "output_type": "execute_result",
          "data": {
            "text/html": [
              "<div>\n",
              "<style scoped>\n",
              "    .dataframe tbody tr th:only-of-type {\n",
              "        vertical-align: middle;\n",
              "    }\n",
              "\n",
              "    .dataframe tbody tr th {\n",
              "        vertical-align: top;\n",
              "    }\n",
              "\n",
              "    .dataframe thead th {\n",
              "        text-align: right;\n",
              "    }\n",
              "</style>\n",
              "<table border=\"1\" class=\"dataframe\">\n",
              "  <thead>\n",
              "    <tr style=\"text-align: right;\">\n",
              "      <th></th>\n",
              "      <th>A</th>\n",
              "      <th>B</th>\n",
              "      <th>C</th>\n",
              "      <th>D</th>\n",
              "    </tr>\n",
              "  </thead>\n",
              "  <tbody>\n",
              "    <tr>\n",
              "      <th>0</th>\n",
              "      <td>1.379226</td>\n",
              "      <td>-0.608122</td>\n",
              "      <td>-0.800055</td>\n",
              "      <td>-1.816816</td>\n",
              "    </tr>\n",
              "    <tr>\n",
              "      <th>1</th>\n",
              "      <td>0.537774</td>\n",
              "      <td>-0.364637</td>\n",
              "      <td>-2.658569</td>\n",
              "      <td>0.285823</td>\n",
              "    </tr>\n",
              "    <tr>\n",
              "      <th>2</th>\n",
              "      <td>0.076924</td>\n",
              "      <td>-1.007423</td>\n",
              "      <td>-1.680829</td>\n",
              "      <td>0.707108</td>\n",
              "    </tr>\n",
              "    <tr>\n",
              "      <th>3</th>\n",
              "      <td>-0.490647</td>\n",
              "      <td>-1.311245</td>\n",
              "      <td>-0.424570</td>\n",
              "      <td>-0.209350</td>\n",
              "    </tr>\n",
              "    <tr>\n",
              "      <th>4</th>\n",
              "      <td>-0.397407</td>\n",
              "      <td>0.489723</td>\n",
              "      <td>-2.312983</td>\n",
              "      <td>0.151319</td>\n",
              "    </tr>\n",
              "    <tr>\n",
              "      <th>5</th>\n",
              "      <td>-1.166020</td>\n",
              "      <td>-0.992152</td>\n",
              "      <td>0.643036</td>\n",
              "      <td>-0.474378</td>\n",
              "    </tr>\n",
              "    <tr>\n",
              "      <th>6</th>\n",
              "      <td>1.601418</td>\n",
              "      <td>0.385410</td>\n",
              "      <td>2.794652</td>\n",
              "      <td>0.746820</td>\n",
              "    </tr>\n",
              "    <tr>\n",
              "      <th>7</th>\n",
              "      <td>0.989776</td>\n",
              "      <td>1.117094</td>\n",
              "      <td>0.686266</td>\n",
              "      <td>0.720299</td>\n",
              "    </tr>\n",
              "  </tbody>\n",
              "</table>\n",
              "</div>"
            ],
            "text/plain": [
              "          A         B         C         D\n",
              "0  1.379226 -0.608122 -0.800055 -1.816816\n",
              "1  0.537774 -0.364637 -2.658569  0.285823\n",
              "2  0.076924 -1.007423 -1.680829  0.707108\n",
              "3 -0.490647 -1.311245 -0.424570 -0.209350\n",
              "4 -0.397407  0.489723 -2.312983  0.151319\n",
              "5 -1.166020 -0.992152  0.643036 -0.474378\n",
              "6  1.601418  0.385410  2.794652  0.746820\n",
              "7  0.989776  1.117094  0.686266  0.720299"
            ]
          },
          "metadata": {
            "tags": []
          },
          "execution_count": 115
        }
      ]
    },
    {
      "cell_type": "code",
      "metadata": {
        "id": "KvfHKhmeMw2s",
        "outputId": "e727c64c-2d32-4c85-db9a-bd6044fb5845",
        "colab": {
          "base_uri": "https://localhost:8080/",
          "height": 314
        }
      },
      "source": [
        "s = df.iloc[3]\n",
        "df.append(s, ignore_index=True)"
      ],
      "execution_count": 116,
      "outputs": [
        {
          "output_type": "execute_result",
          "data": {
            "text/html": [
              "<div>\n",
              "<style scoped>\n",
              "    .dataframe tbody tr th:only-of-type {\n",
              "        vertical-align: middle;\n",
              "    }\n",
              "\n",
              "    .dataframe tbody tr th {\n",
              "        vertical-align: top;\n",
              "    }\n",
              "\n",
              "    .dataframe thead th {\n",
              "        text-align: right;\n",
              "    }\n",
              "</style>\n",
              "<table border=\"1\" class=\"dataframe\">\n",
              "  <thead>\n",
              "    <tr style=\"text-align: right;\">\n",
              "      <th></th>\n",
              "      <th>A</th>\n",
              "      <th>B</th>\n",
              "      <th>C</th>\n",
              "      <th>D</th>\n",
              "    </tr>\n",
              "  </thead>\n",
              "  <tbody>\n",
              "    <tr>\n",
              "      <th>0</th>\n",
              "      <td>1.379226</td>\n",
              "      <td>-0.608122</td>\n",
              "      <td>-0.800055</td>\n",
              "      <td>-1.816816</td>\n",
              "    </tr>\n",
              "    <tr>\n",
              "      <th>1</th>\n",
              "      <td>0.537774</td>\n",
              "      <td>-0.364637</td>\n",
              "      <td>-2.658569</td>\n",
              "      <td>0.285823</td>\n",
              "    </tr>\n",
              "    <tr>\n",
              "      <th>2</th>\n",
              "      <td>0.076924</td>\n",
              "      <td>-1.007423</td>\n",
              "      <td>-1.680829</td>\n",
              "      <td>0.707108</td>\n",
              "    </tr>\n",
              "    <tr>\n",
              "      <th>3</th>\n",
              "      <td>-0.490647</td>\n",
              "      <td>-1.311245</td>\n",
              "      <td>-0.424570</td>\n",
              "      <td>-0.209350</td>\n",
              "    </tr>\n",
              "    <tr>\n",
              "      <th>4</th>\n",
              "      <td>-0.397407</td>\n",
              "      <td>0.489723</td>\n",
              "      <td>-2.312983</td>\n",
              "      <td>0.151319</td>\n",
              "    </tr>\n",
              "    <tr>\n",
              "      <th>5</th>\n",
              "      <td>-1.166020</td>\n",
              "      <td>-0.992152</td>\n",
              "      <td>0.643036</td>\n",
              "      <td>-0.474378</td>\n",
              "    </tr>\n",
              "    <tr>\n",
              "      <th>6</th>\n",
              "      <td>1.601418</td>\n",
              "      <td>0.385410</td>\n",
              "      <td>2.794652</td>\n",
              "      <td>0.746820</td>\n",
              "    </tr>\n",
              "    <tr>\n",
              "      <th>7</th>\n",
              "      <td>0.989776</td>\n",
              "      <td>1.117094</td>\n",
              "      <td>0.686266</td>\n",
              "      <td>0.720299</td>\n",
              "    </tr>\n",
              "    <tr>\n",
              "      <th>8</th>\n",
              "      <td>-0.490647</td>\n",
              "      <td>-1.311245</td>\n",
              "      <td>-0.424570</td>\n",
              "      <td>-0.209350</td>\n",
              "    </tr>\n",
              "  </tbody>\n",
              "</table>\n",
              "</div>"
            ],
            "text/plain": [
              "          A         B         C         D\n",
              "0  1.379226 -0.608122 -0.800055 -1.816816\n",
              "1  0.537774 -0.364637 -2.658569  0.285823\n",
              "2  0.076924 -1.007423 -1.680829  0.707108\n",
              "3 -0.490647 -1.311245 -0.424570 -0.209350\n",
              "4 -0.397407  0.489723 -2.312983  0.151319\n",
              "5 -1.166020 -0.992152  0.643036 -0.474378\n",
              "6  1.601418  0.385410  2.794652  0.746820\n",
              "7  0.989776  1.117094  0.686266  0.720299\n",
              "8 -0.490647 -1.311245 -0.424570 -0.209350"
            ]
          },
          "metadata": {
            "tags": []
          },
          "execution_count": 116
        }
      ]
    },
    {
      "cell_type": "markdown",
      "metadata": {
        "id": "iCxB5U80My71"
      },
      "source": [
        "## 7. Grouping (그룹화)\n",
        "\n",
        "**그룹화는 다음 단계 중 하나 이상을 포함하는 과정을 가리킵니다.**\n",
        "  + 몇몇 기준에 따라 여러 그룹으로 데이터를 **분할 (splitting)**\n",
        "  + 각 그룹에 독립적으로 함수를 **적용 (applying)**\n",
        "  + 결과물들을 하나의 데이터 구조로 **결합 (combining)**\n",
        "\n",
        "  자세한 내용은 [그룹화](https://pandas.pydata.org/pandas-docs/stable/user_guide/groupby.html) 부분을 참조하세요."
      ]
    },
    {
      "cell_type": "code",
      "metadata": {
        "id": "LnfJywrlNHi-",
        "outputId": "713e82ab-cd6f-4553-f692-26570f1b2a5f",
        "colab": {
          "base_uri": "https://localhost:8080/",
          "height": 284
        }
      },
      "source": [
        "df = pd.DataFrame(\n",
        "    {\n",
        "        'A' : ['foo', 'bar', 'foo', 'bar', 'foo', 'bar', 'foo', 'foo'],\n",
        "        'B' : ['one', 'one', 'two', 'three', 'two', 'two', 'one', 'three'],\n",
        "        'C' : np.random.randn(8),\n",
        "        'D' : np.random.randn(8)\n",
        "    })\n",
        "df"
      ],
      "execution_count": 117,
      "outputs": [
        {
          "output_type": "execute_result",
          "data": {
            "text/html": [
              "<div>\n",
              "<style scoped>\n",
              "    .dataframe tbody tr th:only-of-type {\n",
              "        vertical-align: middle;\n",
              "    }\n",
              "\n",
              "    .dataframe tbody tr th {\n",
              "        vertical-align: top;\n",
              "    }\n",
              "\n",
              "    .dataframe thead th {\n",
              "        text-align: right;\n",
              "    }\n",
              "</style>\n",
              "<table border=\"1\" class=\"dataframe\">\n",
              "  <thead>\n",
              "    <tr style=\"text-align: right;\">\n",
              "      <th></th>\n",
              "      <th>A</th>\n",
              "      <th>B</th>\n",
              "      <th>C</th>\n",
              "      <th>D</th>\n",
              "    </tr>\n",
              "  </thead>\n",
              "  <tbody>\n",
              "    <tr>\n",
              "      <th>0</th>\n",
              "      <td>foo</td>\n",
              "      <td>one</td>\n",
              "      <td>0.449320</td>\n",
              "      <td>1.374187</td>\n",
              "    </tr>\n",
              "    <tr>\n",
              "      <th>1</th>\n",
              "      <td>bar</td>\n",
              "      <td>one</td>\n",
              "      <td>2.017928</td>\n",
              "      <td>-1.962633</td>\n",
              "    </tr>\n",
              "    <tr>\n",
              "      <th>2</th>\n",
              "      <td>foo</td>\n",
              "      <td>two</td>\n",
              "      <td>-1.055495</td>\n",
              "      <td>0.912869</td>\n",
              "    </tr>\n",
              "    <tr>\n",
              "      <th>3</th>\n",
              "      <td>bar</td>\n",
              "      <td>three</td>\n",
              "      <td>0.215963</td>\n",
              "      <td>-1.864048</td>\n",
              "    </tr>\n",
              "    <tr>\n",
              "      <th>4</th>\n",
              "      <td>foo</td>\n",
              "      <td>two</td>\n",
              "      <td>-0.991970</td>\n",
              "      <td>0.586371</td>\n",
              "    </tr>\n",
              "    <tr>\n",
              "      <th>5</th>\n",
              "      <td>bar</td>\n",
              "      <td>two</td>\n",
              "      <td>-0.113300</td>\n",
              "      <td>-0.402824</td>\n",
              "    </tr>\n",
              "    <tr>\n",
              "      <th>6</th>\n",
              "      <td>foo</td>\n",
              "      <td>one</td>\n",
              "      <td>0.055763</td>\n",
              "      <td>-1.782163</td>\n",
              "    </tr>\n",
              "    <tr>\n",
              "      <th>7</th>\n",
              "      <td>foo</td>\n",
              "      <td>three</td>\n",
              "      <td>2.547896</td>\n",
              "      <td>-1.241989</td>\n",
              "    </tr>\n",
              "  </tbody>\n",
              "</table>\n",
              "</div>"
            ],
            "text/plain": [
              "     A      B         C         D\n",
              "0  foo    one  0.449320  1.374187\n",
              "1  bar    one  2.017928 -1.962633\n",
              "2  foo    two -1.055495  0.912869\n",
              "3  bar  three  0.215963 -1.864048\n",
              "4  foo    two -0.991970  0.586371\n",
              "5  bar    two -0.113300 -0.402824\n",
              "6  foo    one  0.055763 -1.782163\n",
              "7  foo  three  2.547896 -1.241989"
            ]
          },
          "metadata": {
            "tags": []
          },
          "execution_count": 117
        }
      ]
    },
    {
      "cell_type": "markdown",
      "metadata": {
        "id": "g1Z9dq0sNNVC"
      },
      "source": [
        "생성된 데이터프레임을 그룹화한 후 각 그룹에 [sum()](https://pandas.pydata.org/pandas-docs/stable/reference/api/pandas.DataFrame.sum.html) 함수를 적용합니다."
      ]
    },
    {
      "cell_type": "code",
      "metadata": {
        "id": "-rm5uNm_NVYW",
        "outputId": "f837e444-6ac6-407b-eca4-7c0ad3125eab",
        "colab": {
          "base_uri": "https://localhost:8080/",
          "height": 136
        }
      },
      "source": [
        "df.groupby('A').sum()"
      ],
      "execution_count": 118,
      "outputs": [
        {
          "output_type": "execute_result",
          "data": {
            "text/html": [
              "<div>\n",
              "<style scoped>\n",
              "    .dataframe tbody tr th:only-of-type {\n",
              "        vertical-align: middle;\n",
              "    }\n",
              "\n",
              "    .dataframe tbody tr th {\n",
              "        vertical-align: top;\n",
              "    }\n",
              "\n",
              "    .dataframe thead th {\n",
              "        text-align: right;\n",
              "    }\n",
              "</style>\n",
              "<table border=\"1\" class=\"dataframe\">\n",
              "  <thead>\n",
              "    <tr style=\"text-align: right;\">\n",
              "      <th></th>\n",
              "      <th>C</th>\n",
              "      <th>D</th>\n",
              "    </tr>\n",
              "    <tr>\n",
              "      <th>A</th>\n",
              "      <th></th>\n",
              "      <th></th>\n",
              "    </tr>\n",
              "  </thead>\n",
              "  <tbody>\n",
              "    <tr>\n",
              "      <th>bar</th>\n",
              "      <td>2.120590</td>\n",
              "      <td>-4.229506</td>\n",
              "    </tr>\n",
              "    <tr>\n",
              "      <th>foo</th>\n",
              "      <td>1.005513</td>\n",
              "      <td>-0.150726</td>\n",
              "    </tr>\n",
              "  </tbody>\n",
              "</table>\n",
              "</div>"
            ],
            "text/plain": [
              "            C         D\n",
              "A                      \n",
              "bar  2.120590 -4.229506\n",
              "foo  1.005513 -0.150726"
            ]
          },
          "metadata": {
            "tags": []
          },
          "execution_count": 118
        }
      ]
    },
    {
      "cell_type": "code",
      "metadata": {
        "id": "U7qeCxMsNXaV",
        "outputId": "133bb8a0-0e2e-4859-c50c-9d533f0b4d03",
        "colab": {
          "base_uri": "https://localhost:8080/",
          "height": 254
        }
      },
      "source": [
        "# 여러 열을 기준으로 그룹화하면 계층적 인덱스가 형성됩니다. 여기에도 sum 함수를 적용할 수 있습니다.\n",
        "df.groupby(['A','B']).sum()"
      ],
      "execution_count": 119,
      "outputs": [
        {
          "output_type": "execute_result",
          "data": {
            "text/html": [
              "<div>\n",
              "<style scoped>\n",
              "    .dataframe tbody tr th:only-of-type {\n",
              "        vertical-align: middle;\n",
              "    }\n",
              "\n",
              "    .dataframe tbody tr th {\n",
              "        vertical-align: top;\n",
              "    }\n",
              "\n",
              "    .dataframe thead th {\n",
              "        text-align: right;\n",
              "    }\n",
              "</style>\n",
              "<table border=\"1\" class=\"dataframe\">\n",
              "  <thead>\n",
              "    <tr style=\"text-align: right;\">\n",
              "      <th></th>\n",
              "      <th></th>\n",
              "      <th>C</th>\n",
              "      <th>D</th>\n",
              "    </tr>\n",
              "    <tr>\n",
              "      <th>A</th>\n",
              "      <th>B</th>\n",
              "      <th></th>\n",
              "      <th></th>\n",
              "    </tr>\n",
              "  </thead>\n",
              "  <tbody>\n",
              "    <tr>\n",
              "      <th rowspan=\"3\" valign=\"top\">bar</th>\n",
              "      <th>one</th>\n",
              "      <td>2.017928</td>\n",
              "      <td>-1.962633</td>\n",
              "    </tr>\n",
              "    <tr>\n",
              "      <th>three</th>\n",
              "      <td>0.215963</td>\n",
              "      <td>-1.864048</td>\n",
              "    </tr>\n",
              "    <tr>\n",
              "      <th>two</th>\n",
              "      <td>-0.113300</td>\n",
              "      <td>-0.402824</td>\n",
              "    </tr>\n",
              "    <tr>\n",
              "      <th rowspan=\"3\" valign=\"top\">foo</th>\n",
              "      <th>one</th>\n",
              "      <td>0.505083</td>\n",
              "      <td>-0.407977</td>\n",
              "    </tr>\n",
              "    <tr>\n",
              "      <th>three</th>\n",
              "      <td>2.547896</td>\n",
              "      <td>-1.241989</td>\n",
              "    </tr>\n",
              "    <tr>\n",
              "      <th>two</th>\n",
              "      <td>-2.047465</td>\n",
              "      <td>1.499240</td>\n",
              "    </tr>\n",
              "  </tbody>\n",
              "</table>\n",
              "</div>"
            ],
            "text/plain": [
              "                  C         D\n",
              "A   B                        \n",
              "bar one    2.017928 -1.962633\n",
              "    three  0.215963 -1.864048\n",
              "    two   -0.113300 -0.402824\n",
              "foo one    0.505083 -0.407977\n",
              "    three  2.547896 -1.241989\n",
              "    two   -2.047465  1.499240"
            ]
          },
          "metadata": {
            "tags": []
          },
          "execution_count": 119
        }
      ]
    },
    {
      "cell_type": "markdown",
      "metadata": {
        "id": "BraOU9XjNbat"
      },
      "source": [
        "## 8. Reshaping (변형)\n",
        "\n",
        "[계층적 인덱싱](https://pandas.pydata.org/pandas-docs/stable/user_guide/advanced.html) 및 [변형](https://pandas.pydata.org/pandas-docs/stable/user_guide/reshaping.html) 부분을 참조하세요."
      ]
    },
    {
      "cell_type": "markdown",
      "metadata": {
        "id": "OwwKAHs5cUXk"
      },
      "source": [
        "### Stack (스택)"
      ]
    },
    {
      "cell_type": "code",
      "metadata": {
        "id": "fEijmzsVcXWP",
        "outputId": "0df3af38-70e6-4487-ee03-13486fb6ebb4",
        "colab": {
          "base_uri": "https://localhost:8080/",
          "height": 195
        }
      },
      "source": [
        "tuples = list(zip(*[['bar', 'bar', 'baz', 'baz',\n",
        "                     'foo', 'foo', 'qux', 'qux'],\n",
        "                    ['one', 'two', 'one', 'two',\n",
        "                     'one', 'two', 'one', 'two']]))\n",
        "index = pd.MultiIndex.from_tuples(tuples, names=['first', 'second'])\n",
        "df = pd.DataFrame(np.random.randn(8, 2), index=index, columns=['A', 'B'])\n",
        "df2  =  df[:4]\n",
        "df2"
      ],
      "execution_count": 120,
      "outputs": [
        {
          "output_type": "execute_result",
          "data": {
            "text/html": [
              "<div>\n",
              "<style scoped>\n",
              "    .dataframe tbody tr th:only-of-type {\n",
              "        vertical-align: middle;\n",
              "    }\n",
              "\n",
              "    .dataframe tbody tr th {\n",
              "        vertical-align: top;\n",
              "    }\n",
              "\n",
              "    .dataframe thead th {\n",
              "        text-align: right;\n",
              "    }\n",
              "</style>\n",
              "<table border=\"1\" class=\"dataframe\">\n",
              "  <thead>\n",
              "    <tr style=\"text-align: right;\">\n",
              "      <th></th>\n",
              "      <th></th>\n",
              "      <th>A</th>\n",
              "      <th>B</th>\n",
              "    </tr>\n",
              "    <tr>\n",
              "      <th>first</th>\n",
              "      <th>second</th>\n",
              "      <th></th>\n",
              "      <th></th>\n",
              "    </tr>\n",
              "  </thead>\n",
              "  <tbody>\n",
              "    <tr>\n",
              "      <th rowspan=\"2\" valign=\"top\">bar</th>\n",
              "      <th>one</th>\n",
              "      <td>-1.017002</td>\n",
              "      <td>-2.503916</td>\n",
              "    </tr>\n",
              "    <tr>\n",
              "      <th>two</th>\n",
              "      <td>-0.800330</td>\n",
              "      <td>-1.603330</td>\n",
              "    </tr>\n",
              "    <tr>\n",
              "      <th rowspan=\"2\" valign=\"top\">baz</th>\n",
              "      <th>one</th>\n",
              "      <td>0.559939</td>\n",
              "      <td>0.995776</td>\n",
              "    </tr>\n",
              "    <tr>\n",
              "      <th>two</th>\n",
              "      <td>0.143518</td>\n",
              "      <td>0.222902</td>\n",
              "    </tr>\n",
              "  </tbody>\n",
              "</table>\n",
              "</div>"
            ],
            "text/plain": [
              "                     A         B\n",
              "first second                    \n",
              "bar   one    -1.017002 -2.503916\n",
              "      two    -0.800330 -1.603330\n",
              "baz   one     0.559939  0.995776\n",
              "      two     0.143518  0.222902"
            ]
          },
          "metadata": {
            "tags": []
          },
          "execution_count": 120
        }
      ]
    },
    {
      "cell_type": "markdown",
      "metadata": {
        "id": "jQvg7351cZwC"
      },
      "source": [
        "[stack()](https://pandas.pydata.org/pandas-docs/stable/reference/api/pandas.DataFrame.stack.html) 메소드는 데이터프레임 열들의 계층을 “압축”합니다.\n",
        "\n"
      ]
    },
    {
      "cell_type": "code",
      "metadata": {
        "id": "Kn4i-e42ciBH",
        "outputId": "741e56fa-3264-4c3a-d83d-e7bd492cb6cd",
        "colab": {
          "base_uri": "https://localhost:8080/"
        }
      },
      "source": [
        "stacked = df2.stack()\n",
        "stacked"
      ],
      "execution_count": 121,
      "outputs": [
        {
          "output_type": "execute_result",
          "data": {
            "text/plain": [
              "first  second   \n",
              "bar    one     A   -1.017002\n",
              "               B   -2.503916\n",
              "       two     A   -0.800330\n",
              "               B   -1.603330\n",
              "baz    one     A    0.559939\n",
              "               B    0.995776\n",
              "       two     A    0.143518\n",
              "               B    0.222902\n",
              "dtype: float64"
            ]
          },
          "metadata": {
            "tags": []
          },
          "execution_count": 121
        }
      ]
    },
    {
      "cell_type": "markdown",
      "metadata": {
        "id": "8mmoycvuckWn"
      },
      "source": [
        "“Stack된” 데이터프레임 또는 (MultiIndex를 인덱스로 사용하는) Series인 경우, [stack()](https://pandas.pydata.org/pandas-docs/stable/reference/api/pandas.DataFrame.stack.html)의 역 연산은 [unstack()](https://pandas.pydata.org/pandas-docs/stable/reference/api/pandas.DataFrame.unstack.html)이며, 기본적으로 **마지막 계층**을 unstack합니다."
      ]
    },
    {
      "cell_type": "code",
      "metadata": {
        "id": "vB2wojUvc0tO",
        "outputId": "f79c117a-19a3-473f-de92-94d7eb3e884b",
        "colab": {
          "base_uri": "https://localhost:8080/",
          "height": 195
        }
      },
      "source": [
        "stacked.unstack()"
      ],
      "execution_count": 122,
      "outputs": [
        {
          "output_type": "execute_result",
          "data": {
            "text/html": [
              "<div>\n",
              "<style scoped>\n",
              "    .dataframe tbody tr th:only-of-type {\n",
              "        vertical-align: middle;\n",
              "    }\n",
              "\n",
              "    .dataframe tbody tr th {\n",
              "        vertical-align: top;\n",
              "    }\n",
              "\n",
              "    .dataframe thead th {\n",
              "        text-align: right;\n",
              "    }\n",
              "</style>\n",
              "<table border=\"1\" class=\"dataframe\">\n",
              "  <thead>\n",
              "    <tr style=\"text-align: right;\">\n",
              "      <th></th>\n",
              "      <th></th>\n",
              "      <th>A</th>\n",
              "      <th>B</th>\n",
              "    </tr>\n",
              "    <tr>\n",
              "      <th>first</th>\n",
              "      <th>second</th>\n",
              "      <th></th>\n",
              "      <th></th>\n",
              "    </tr>\n",
              "  </thead>\n",
              "  <tbody>\n",
              "    <tr>\n",
              "      <th rowspan=\"2\" valign=\"top\">bar</th>\n",
              "      <th>one</th>\n",
              "      <td>-1.017002</td>\n",
              "      <td>-2.503916</td>\n",
              "    </tr>\n",
              "    <tr>\n",
              "      <th>two</th>\n",
              "      <td>-0.800330</td>\n",
              "      <td>-1.603330</td>\n",
              "    </tr>\n",
              "    <tr>\n",
              "      <th rowspan=\"2\" valign=\"top\">baz</th>\n",
              "      <th>one</th>\n",
              "      <td>0.559939</td>\n",
              "      <td>0.995776</td>\n",
              "    </tr>\n",
              "    <tr>\n",
              "      <th>two</th>\n",
              "      <td>0.143518</td>\n",
              "      <td>0.222902</td>\n",
              "    </tr>\n",
              "  </tbody>\n",
              "</table>\n",
              "</div>"
            ],
            "text/plain": [
              "                     A         B\n",
              "first second                    \n",
              "bar   one    -1.017002 -2.503916\n",
              "      two    -0.800330 -1.603330\n",
              "baz   one     0.559939  0.995776\n",
              "      two     0.143518  0.222902"
            ]
          },
          "metadata": {
            "tags": []
          },
          "execution_count": 122
        }
      ]
    },
    {
      "cell_type": "code",
      "metadata": {
        "id": "3Sux7ijrdZhr",
        "outputId": "f14c59d3-baba-41e8-86c2-79bf82c5faa4",
        "colab": {
          "base_uri": "https://localhost:8080/",
          "height": 195
        }
      },
      "source": [
        "stacked.unstack(1)"
      ],
      "execution_count": 123,
      "outputs": [
        {
          "output_type": "execute_result",
          "data": {
            "text/html": [
              "<div>\n",
              "<style scoped>\n",
              "    .dataframe tbody tr th:only-of-type {\n",
              "        vertical-align: middle;\n",
              "    }\n",
              "\n",
              "    .dataframe tbody tr th {\n",
              "        vertical-align: top;\n",
              "    }\n",
              "\n",
              "    .dataframe thead th {\n",
              "        text-align: right;\n",
              "    }\n",
              "</style>\n",
              "<table border=\"1\" class=\"dataframe\">\n",
              "  <thead>\n",
              "    <tr style=\"text-align: right;\">\n",
              "      <th></th>\n",
              "      <th>second</th>\n",
              "      <th>one</th>\n",
              "      <th>two</th>\n",
              "    </tr>\n",
              "    <tr>\n",
              "      <th>first</th>\n",
              "      <th></th>\n",
              "      <th></th>\n",
              "      <th></th>\n",
              "    </tr>\n",
              "  </thead>\n",
              "  <tbody>\n",
              "    <tr>\n",
              "      <th rowspan=\"2\" valign=\"top\">bar</th>\n",
              "      <th>A</th>\n",
              "      <td>-1.017002</td>\n",
              "      <td>-0.800330</td>\n",
              "    </tr>\n",
              "    <tr>\n",
              "      <th>B</th>\n",
              "      <td>-2.503916</td>\n",
              "      <td>-1.603330</td>\n",
              "    </tr>\n",
              "    <tr>\n",
              "      <th rowspan=\"2\" valign=\"top\">baz</th>\n",
              "      <th>A</th>\n",
              "      <td>0.559939</td>\n",
              "      <td>0.143518</td>\n",
              "    </tr>\n",
              "    <tr>\n",
              "      <th>B</th>\n",
              "      <td>0.995776</td>\n",
              "      <td>0.222902</td>\n",
              "    </tr>\n",
              "  </tbody>\n",
              "</table>\n",
              "</div>"
            ],
            "text/plain": [
              "second        one       two\n",
              "first                      \n",
              "bar   A -1.017002 -0.800330\n",
              "      B -2.503916 -1.603330\n",
              "baz   A  0.559939  0.143518\n",
              "      B  0.995776  0.222902"
            ]
          },
          "metadata": {
            "tags": []
          },
          "execution_count": 123
        }
      ]
    },
    {
      "cell_type": "code",
      "metadata": {
        "id": "C6cb8oObda6r",
        "outputId": "5b38b460-9ce8-4e52-a6a7-5f14b59e19cc",
        "colab": {
          "base_uri": "https://localhost:8080/",
          "height": 195
        }
      },
      "source": [
        "stacked.unstack(0)"
      ],
      "execution_count": 124,
      "outputs": [
        {
          "output_type": "execute_result",
          "data": {
            "text/html": [
              "<div>\n",
              "<style scoped>\n",
              "    .dataframe tbody tr th:only-of-type {\n",
              "        vertical-align: middle;\n",
              "    }\n",
              "\n",
              "    .dataframe tbody tr th {\n",
              "        vertical-align: top;\n",
              "    }\n",
              "\n",
              "    .dataframe thead th {\n",
              "        text-align: right;\n",
              "    }\n",
              "</style>\n",
              "<table border=\"1\" class=\"dataframe\">\n",
              "  <thead>\n",
              "    <tr style=\"text-align: right;\">\n",
              "      <th></th>\n",
              "      <th>first</th>\n",
              "      <th>bar</th>\n",
              "      <th>baz</th>\n",
              "    </tr>\n",
              "    <tr>\n",
              "      <th>second</th>\n",
              "      <th></th>\n",
              "      <th></th>\n",
              "      <th></th>\n",
              "    </tr>\n",
              "  </thead>\n",
              "  <tbody>\n",
              "    <tr>\n",
              "      <th rowspan=\"2\" valign=\"top\">one</th>\n",
              "      <th>A</th>\n",
              "      <td>-1.017002</td>\n",
              "      <td>0.559939</td>\n",
              "    </tr>\n",
              "    <tr>\n",
              "      <th>B</th>\n",
              "      <td>-2.503916</td>\n",
              "      <td>0.995776</td>\n",
              "    </tr>\n",
              "    <tr>\n",
              "      <th rowspan=\"2\" valign=\"top\">two</th>\n",
              "      <th>A</th>\n",
              "      <td>-0.800330</td>\n",
              "      <td>0.143518</td>\n",
              "    </tr>\n",
              "    <tr>\n",
              "      <th>B</th>\n",
              "      <td>-1.603330</td>\n",
              "      <td>0.222902</td>\n",
              "    </tr>\n",
              "  </tbody>\n",
              "</table>\n",
              "</div>"
            ],
            "text/plain": [
              "first          bar       baz\n",
              "second                      \n",
              "one    A -1.017002  0.559939\n",
              "       B -2.503916  0.995776\n",
              "two    A -0.800330  0.143518\n",
              "       B -1.603330  0.222902"
            ]
          },
          "metadata": {
            "tags": []
          },
          "execution_count": 124
        }
      ]
    },
    {
      "cell_type": "markdown",
      "metadata": {
        "id": "T0wtUOp3dcCA"
      },
      "source": [
        "### Pivot Tables (피봇 테이블)\n",
        "\n",
        "[피봇 테이블](https://pandas.pydata.org/pandas-docs/stable/user_guide/reshaping.html) 부분을 참조하세요.\n"
      ]
    },
    {
      "cell_type": "code",
      "metadata": {
        "id": "6AQpPOGwdjvA",
        "outputId": "389cafd7-ea0f-4649-8fa2-45b8dc5fa681",
        "colab": {
          "base_uri": "https://localhost:8080/",
          "height": 402
        }
      },
      "source": [
        "df = pd.DataFrame({'A' : ['one', 'one', 'two', 'three'] * 3,\n",
        "                   'B' : ['A', 'B', 'C'] * 4,\n",
        "                   'C' : ['foo', 'foo', 'foo', 'bar', 'bar', 'bar'] * 2,\n",
        "                   'D' : np.random.randn(12),\n",
        "                   'E' : np.random.randn(12)})\n",
        "df\n"
      ],
      "execution_count": 125,
      "outputs": [
        {
          "output_type": "execute_result",
          "data": {
            "text/html": [
              "<div>\n",
              "<style scoped>\n",
              "    .dataframe tbody tr th:only-of-type {\n",
              "        vertical-align: middle;\n",
              "    }\n",
              "\n",
              "    .dataframe tbody tr th {\n",
              "        vertical-align: top;\n",
              "    }\n",
              "\n",
              "    .dataframe thead th {\n",
              "        text-align: right;\n",
              "    }\n",
              "</style>\n",
              "<table border=\"1\" class=\"dataframe\">\n",
              "  <thead>\n",
              "    <tr style=\"text-align: right;\">\n",
              "      <th></th>\n",
              "      <th>A</th>\n",
              "      <th>B</th>\n",
              "      <th>C</th>\n",
              "      <th>D</th>\n",
              "      <th>E</th>\n",
              "    </tr>\n",
              "  </thead>\n",
              "  <tbody>\n",
              "    <tr>\n",
              "      <th>0</th>\n",
              "      <td>one</td>\n",
              "      <td>A</td>\n",
              "      <td>foo</td>\n",
              "      <td>-0.175164</td>\n",
              "      <td>1.044611</td>\n",
              "    </tr>\n",
              "    <tr>\n",
              "      <th>1</th>\n",
              "      <td>one</td>\n",
              "      <td>B</td>\n",
              "      <td>foo</td>\n",
              "      <td>0.282403</td>\n",
              "      <td>0.958270</td>\n",
              "    </tr>\n",
              "    <tr>\n",
              "      <th>2</th>\n",
              "      <td>two</td>\n",
              "      <td>C</td>\n",
              "      <td>foo</td>\n",
              "      <td>-0.534821</td>\n",
              "      <td>0.715206</td>\n",
              "    </tr>\n",
              "    <tr>\n",
              "      <th>3</th>\n",
              "      <td>three</td>\n",
              "      <td>A</td>\n",
              "      <td>bar</td>\n",
              "      <td>-0.524857</td>\n",
              "      <td>1.907144</td>\n",
              "    </tr>\n",
              "    <tr>\n",
              "      <th>4</th>\n",
              "      <td>one</td>\n",
              "      <td>B</td>\n",
              "      <td>bar</td>\n",
              "      <td>-1.387544</td>\n",
              "      <td>-0.819291</td>\n",
              "    </tr>\n",
              "    <tr>\n",
              "      <th>5</th>\n",
              "      <td>one</td>\n",
              "      <td>C</td>\n",
              "      <td>bar</td>\n",
              "      <td>-2.779696</td>\n",
              "      <td>-1.790588</td>\n",
              "    </tr>\n",
              "    <tr>\n",
              "      <th>6</th>\n",
              "      <td>two</td>\n",
              "      <td>A</td>\n",
              "      <td>foo</td>\n",
              "      <td>-1.631109</td>\n",
              "      <td>1.656552</td>\n",
              "    </tr>\n",
              "    <tr>\n",
              "      <th>7</th>\n",
              "      <td>three</td>\n",
              "      <td>B</td>\n",
              "      <td>foo</td>\n",
              "      <td>-0.303848</td>\n",
              "      <td>0.060369</td>\n",
              "    </tr>\n",
              "    <tr>\n",
              "      <th>8</th>\n",
              "      <td>one</td>\n",
              "      <td>C</td>\n",
              "      <td>foo</td>\n",
              "      <td>0.160134</td>\n",
              "      <td>-1.700891</td>\n",
              "    </tr>\n",
              "    <tr>\n",
              "      <th>9</th>\n",
              "      <td>one</td>\n",
              "      <td>A</td>\n",
              "      <td>bar</td>\n",
              "      <td>0.860555</td>\n",
              "      <td>-0.273484</td>\n",
              "    </tr>\n",
              "    <tr>\n",
              "      <th>10</th>\n",
              "      <td>two</td>\n",
              "      <td>B</td>\n",
              "      <td>bar</td>\n",
              "      <td>0.408618</td>\n",
              "      <td>0.540941</td>\n",
              "    </tr>\n",
              "    <tr>\n",
              "      <th>11</th>\n",
              "      <td>three</td>\n",
              "      <td>C</td>\n",
              "      <td>bar</td>\n",
              "      <td>0.780834</td>\n",
              "      <td>-2.669501</td>\n",
              "    </tr>\n",
              "  </tbody>\n",
              "</table>\n",
              "</div>"
            ],
            "text/plain": [
              "        A  B    C         D         E\n",
              "0     one  A  foo -0.175164  1.044611\n",
              "1     one  B  foo  0.282403  0.958270\n",
              "2     two  C  foo -0.534821  0.715206\n",
              "3   three  A  bar -0.524857  1.907144\n",
              "4     one  B  bar -1.387544 -0.819291\n",
              "5     one  C  bar -2.779696 -1.790588\n",
              "6     two  A  foo -1.631109  1.656552\n",
              "7   three  B  foo -0.303848  0.060369\n",
              "8     one  C  foo  0.160134 -1.700891\n",
              "9     one  A  bar  0.860555 -0.273484\n",
              "10    two  B  bar  0.408618  0.540941\n",
              "11  three  C  bar  0.780834 -2.669501"
            ]
          },
          "metadata": {
            "tags": []
          },
          "execution_count": 125
        }
      ]
    },
    {
      "cell_type": "code",
      "metadata": {
        "id": "sBUUbD60do8L",
        "outputId": "852f561e-c122-4df7-f7d2-b3c87b44bed3",
        "colab": {
          "base_uri": "https://localhost:8080/",
          "height": 343
        }
      },
      "source": [
        "# 이 데이터로부터 피봇 테이블을 매우 쉽게 생성할 수 있습니다.\n",
        "pd.pivot_table(df, values='D', index=['A', 'B'], columns=['C'])"
      ],
      "execution_count": 126,
      "outputs": [
        {
          "output_type": "execute_result",
          "data": {
            "text/html": [
              "<div>\n",
              "<style scoped>\n",
              "    .dataframe tbody tr th:only-of-type {\n",
              "        vertical-align: middle;\n",
              "    }\n",
              "\n",
              "    .dataframe tbody tr th {\n",
              "        vertical-align: top;\n",
              "    }\n",
              "\n",
              "    .dataframe thead th {\n",
              "        text-align: right;\n",
              "    }\n",
              "</style>\n",
              "<table border=\"1\" class=\"dataframe\">\n",
              "  <thead>\n",
              "    <tr style=\"text-align: right;\">\n",
              "      <th></th>\n",
              "      <th>C</th>\n",
              "      <th>bar</th>\n",
              "      <th>foo</th>\n",
              "    </tr>\n",
              "    <tr>\n",
              "      <th>A</th>\n",
              "      <th>B</th>\n",
              "      <th></th>\n",
              "      <th></th>\n",
              "    </tr>\n",
              "  </thead>\n",
              "  <tbody>\n",
              "    <tr>\n",
              "      <th rowspan=\"3\" valign=\"top\">one</th>\n",
              "      <th>A</th>\n",
              "      <td>0.860555</td>\n",
              "      <td>-0.175164</td>\n",
              "    </tr>\n",
              "    <tr>\n",
              "      <th>B</th>\n",
              "      <td>-1.387544</td>\n",
              "      <td>0.282403</td>\n",
              "    </tr>\n",
              "    <tr>\n",
              "      <th>C</th>\n",
              "      <td>-2.779696</td>\n",
              "      <td>0.160134</td>\n",
              "    </tr>\n",
              "    <tr>\n",
              "      <th rowspan=\"3\" valign=\"top\">three</th>\n",
              "      <th>A</th>\n",
              "      <td>-0.524857</td>\n",
              "      <td>NaN</td>\n",
              "    </tr>\n",
              "    <tr>\n",
              "      <th>B</th>\n",
              "      <td>NaN</td>\n",
              "      <td>-0.303848</td>\n",
              "    </tr>\n",
              "    <tr>\n",
              "      <th>C</th>\n",
              "      <td>0.780834</td>\n",
              "      <td>NaN</td>\n",
              "    </tr>\n",
              "    <tr>\n",
              "      <th rowspan=\"3\" valign=\"top\">two</th>\n",
              "      <th>A</th>\n",
              "      <td>NaN</td>\n",
              "      <td>-1.631109</td>\n",
              "    </tr>\n",
              "    <tr>\n",
              "      <th>B</th>\n",
              "      <td>0.408618</td>\n",
              "      <td>NaN</td>\n",
              "    </tr>\n",
              "    <tr>\n",
              "      <th>C</th>\n",
              "      <td>NaN</td>\n",
              "      <td>-0.534821</td>\n",
              "    </tr>\n",
              "  </tbody>\n",
              "</table>\n",
              "</div>"
            ],
            "text/plain": [
              "C             bar       foo\n",
              "A     B                    \n",
              "one   A  0.860555 -0.175164\n",
              "      B -1.387544  0.282403\n",
              "      C -2.779696  0.160134\n",
              "three A -0.524857       NaN\n",
              "      B       NaN -0.303848\n",
              "      C  0.780834       NaN\n",
              "two   A       NaN -1.631109\n",
              "      B  0.408618       NaN\n",
              "      C       NaN -0.534821"
            ]
          },
          "metadata": {
            "tags": []
          },
          "execution_count": 126
        }
      ]
    },
    {
      "cell_type": "markdown",
      "metadata": {
        "id": "dODORnqNdtiP"
      },
      "source": [
        "## 9. Time Series (시계열)\n",
        "**Pandas는 자주 일어나는 변환 (예시 : 5분마다 일어나는 데이터에 대한 2차 데이터 변환) 사이에 수행하는 리샘플링 연산을 위한 간단하고, 강력하며, 효율적인 함수를 제공합니다. 이는 재무 (금융) 응용에서 매우 일반적이지만 이에 국한되지는 않습니다. [시계열](https://pandas.pydata.org/pandas-docs/stable/user_guide/timeseries.html) 부분을 참고하세요.**"
      ]
    },
    {
      "cell_type": "code",
      "metadata": {
        "id": "OMn8Mq5Bd1s5",
        "outputId": "51f8ac01-d9d4-4520-e470-63d6f42c2eb2",
        "colab": {
          "base_uri": "https://localhost:8080/"
        }
      },
      "source": [
        "rng = pd.date_range('1/1/2012', periods=100, freq='S')\n",
        "ts = pd.Series(np.random.randint(0, 500, len(rng)), index=rng)\n",
        "ts.resample('5Min').sum()"
      ],
      "execution_count": 127,
      "outputs": [
        {
          "output_type": "execute_result",
          "data": {
            "text/plain": [
              "2012-01-01    22496\n",
              "Freq: 5T, dtype: int64"
            ]
          },
          "metadata": {
            "tags": []
          },
          "execution_count": 127
        }
      ]
    },
    {
      "cell_type": "code",
      "metadata": {
        "id": "x85dkXRGd4qi",
        "outputId": "20fe542d-349c-4faa-dd85-35e15031eba9",
        "colab": {
          "base_uri": "https://localhost:8080/"
        }
      },
      "source": [
        "# 시간대를 표현합니다.\n",
        "rng = pd.date_range('3/6/2012 00:00', periods=5, freq='D')\n",
        "ts = pd.Series(np.random.randn(len(rng)), rng)\n",
        "ts"
      ],
      "execution_count": 128,
      "outputs": [
        {
          "output_type": "execute_result",
          "data": {
            "text/plain": [
              "2012-03-06    0.939946\n",
              "2012-03-07   -0.789702\n",
              "2012-03-08   -1.690984\n",
              "2012-03-09   -0.245848\n",
              "2012-03-10   -1.418156\n",
              "Freq: D, dtype: float64"
            ]
          },
          "metadata": {
            "tags": []
          },
          "execution_count": 128
        }
      ]
    },
    {
      "cell_type": "code",
      "metadata": {
        "id": "b5eruvdLd8Ij",
        "outputId": "01b7e8e4-f6fc-40c2-f4b0-19ec766d19e9",
        "colab": {
          "base_uri": "https://localhost:8080/"
        }
      },
      "source": [
        "ts_utc = ts.tz_localize('UTC')\n",
        "ts_utc"
      ],
      "execution_count": 129,
      "outputs": [
        {
          "output_type": "execute_result",
          "data": {
            "text/plain": [
              "2012-03-06 00:00:00+00:00    0.939946\n",
              "2012-03-07 00:00:00+00:00   -0.789702\n",
              "2012-03-08 00:00:00+00:00   -1.690984\n",
              "2012-03-09 00:00:00+00:00   -0.245848\n",
              "2012-03-10 00:00:00+00:00   -1.418156\n",
              "Freq: D, dtype: float64"
            ]
          },
          "metadata": {
            "tags": []
          },
          "execution_count": 129
        }
      ]
    },
    {
      "cell_type": "code",
      "metadata": {
        "id": "rlUiNjemd-Ai",
        "outputId": "1df33e9e-4ba3-47d4-e56f-4255ecfc31cc",
        "colab": {
          "base_uri": "https://localhost:8080/"
        }
      },
      "source": [
        "# 다른 시간대로 변환합니다.\n",
        "ts_utc.tz_convert('US/Eastern')"
      ],
      "execution_count": 130,
      "outputs": [
        {
          "output_type": "execute_result",
          "data": {
            "text/plain": [
              "2012-03-05 19:00:00-05:00    0.939946\n",
              "2012-03-06 19:00:00-05:00   -0.789702\n",
              "2012-03-07 19:00:00-05:00   -1.690984\n",
              "2012-03-08 19:00:00-05:00   -0.245848\n",
              "2012-03-09 19:00:00-05:00   -1.418156\n",
              "Freq: D, dtype: float64"
            ]
          },
          "metadata": {
            "tags": []
          },
          "execution_count": 130
        }
      ]
    },
    {
      "cell_type": "code",
      "metadata": {
        "id": "QlbEgvZWeBnf",
        "outputId": "f6bd37f3-5d5d-47bd-967d-7ba4a193ce8c",
        "colab": {
          "base_uri": "https://localhost:8080/"
        }
      },
      "source": [
        "# 시간 표현 ↔ 기간 표현으로 변환합니다.\n",
        "rng = pd.date_range('1/1/2012', periods=5, freq='M')\n",
        "ts = pd.Series(np.random.randn(len(rng)), index=rng)\n",
        "ts"
      ],
      "execution_count": 131,
      "outputs": [
        {
          "output_type": "execute_result",
          "data": {
            "text/plain": [
              "2012-01-31   -1.052905\n",
              "2012-02-29   -1.134462\n",
              "2012-03-31    0.083476\n",
              "2012-04-30    0.734212\n",
              "2012-05-31    0.359874\n",
              "Freq: M, dtype: float64"
            ]
          },
          "metadata": {
            "tags": []
          },
          "execution_count": 131
        }
      ]
    },
    {
      "cell_type": "code",
      "metadata": {
        "id": "QUwEkAw5eFwu",
        "outputId": "407109e1-8085-4faf-bc35-94d0bcdedcc7",
        "colab": {
          "base_uri": "https://localhost:8080/"
        }
      },
      "source": [
        "ps = ts.to_period()\n",
        "ps"
      ],
      "execution_count": 132,
      "outputs": [
        {
          "output_type": "execute_result",
          "data": {
            "text/plain": [
              "2012-01   -1.052905\n",
              "2012-02   -1.134462\n",
              "2012-03    0.083476\n",
              "2012-04    0.734212\n",
              "2012-05    0.359874\n",
              "Freq: M, dtype: float64"
            ]
          },
          "metadata": {
            "tags": []
          },
          "execution_count": 132
        }
      ]
    },
    {
      "cell_type": "code",
      "metadata": {
        "id": "B8y-bf2leSLX",
        "outputId": "fa2ef87f-7408-4053-f62a-76b1b8c7cf72",
        "colab": {
          "base_uri": "https://localhost:8080/"
        }
      },
      "source": [
        "ps.to_timestamp()"
      ],
      "execution_count": 133,
      "outputs": [
        {
          "output_type": "execute_result",
          "data": {
            "text/plain": [
              "2012-01-01   -1.052905\n",
              "2012-02-01   -1.134462\n",
              "2012-03-01    0.083476\n",
              "2012-04-01    0.734212\n",
              "2012-05-01    0.359874\n",
              "Freq: MS, dtype: float64"
            ]
          },
          "metadata": {
            "tags": []
          },
          "execution_count": 133
        }
      ]
    },
    {
      "cell_type": "code",
      "metadata": {
        "id": "XNbqllYdeYA7",
        "outputId": "9d0c4095-5290-4a7b-ad3a-bec51f455e43",
        "colab": {
          "base_uri": "https://localhost:8080/"
        }
      },
      "source": [
        "# 기간 ↔ 시간 변환은 편리한 산술 기능들을 사용할 수 있도록 만들어줍니다. \n",
        "# 다음 예제에서, 우리는 11월에 끝나는 연말 결산의 분기별 빈도를 분기말 익월의 월말일 오전 9시로 변환합니다.\n",
        "prng = pd.period_range('1990Q1', '2000Q4', freq='Q-NOV')\n",
        "ts = pd.Series(np.random.randn(len(prng)), prng)\n",
        "ts.index = (prng.asfreq('M', 'e') + 1).asfreq('H', 's') + 9\n",
        "ts.head()\n"
      ],
      "execution_count": 134,
      "outputs": [
        {
          "output_type": "execute_result",
          "data": {
            "text/plain": [
              "1990-03-01 09:00   -1.337905\n",
              "1990-06-01 09:00    0.918601\n",
              "1990-09-01 09:00   -0.581719\n",
              "1990-12-01 09:00    0.163105\n",
              "1991-03-01 09:00   -1.178317\n",
              "Freq: H, dtype: float64"
            ]
          },
          "metadata": {
            "tags": []
          },
          "execution_count": 134
        }
      ]
    },
    {
      "cell_type": "markdown",
      "metadata": {
        "id": "yJoU6x-6eeUN"
      },
      "source": [
        "## 10. Categoricals (범주화)\n",
        "**Pandas는 데이터프레임 내에 범주형 데이터를 포함할 수 있습니다. [범주형 소개](https://pandas.pydata.org/pandas-docs/stable/user_guide/categorical.html) 와 [API 문서](https://pandas.pydata.org/pandas-docs/stable/reference/index.html) 부분을 참조하세요.**"
      ]
    },
    {
      "cell_type": "code",
      "metadata": {
        "id": "j3k-F8COepLH"
      },
      "source": [
        "df = pd.DataFrame({\"id\":[1,2,3,4,5,6], \"raw_grade\":['a', 'b', 'b', 'a', 'a', 'e']})"
      ],
      "execution_count": 135,
      "outputs": []
    },
    {
      "cell_type": "code",
      "metadata": {
        "id": "CNjxbQtmerdJ",
        "outputId": "722de3bd-00da-4121-a0ea-b67457271780",
        "colab": {
          "base_uri": "https://localhost:8080/"
        }
      },
      "source": [
        "# 가공하지 않은 성적을 범주형 데이터로 변환합니다.\n",
        "df[\"grade\"] = df[\"raw_grade\"].astype(\"category\")\n",
        "df[\"grade\"]"
      ],
      "execution_count": 136,
      "outputs": [
        {
          "output_type": "execute_result",
          "data": {
            "text/plain": [
              "0    a\n",
              "1    b\n",
              "2    b\n",
              "3    a\n",
              "4    a\n",
              "5    e\n",
              "Name: grade, dtype: category\n",
              "Categories (3, object): ['a', 'b', 'e']"
            ]
          },
          "metadata": {
            "tags": []
          },
          "execution_count": 136
        }
      ]
    },
    {
      "cell_type": "code",
      "metadata": {
        "id": "PS1nWyx4eu_3"
      },
      "source": [
        "# 범주에 더 의미 있는 이름을 붙여주세요 (Series.cat.categories로 할당하는 것이 적합합니다).\n",
        "df[\"grade\"].cat.categories = [\"very good\", \"good\", \"very bad\"]"
      ],
      "execution_count": 138,
      "outputs": []
    },
    {
      "cell_type": "code",
      "metadata": {
        "id": "Jtqtmb45ezM3",
        "outputId": "82aea859-5286-4c8a-fe63-1bf39ce119e7",
        "colab": {
          "base_uri": "https://localhost:8080/"
        }
      },
      "source": [
        "# 범주의 순서를 바꾸고 동시에 누락된 범주를 추가합니다 (Series.cat에 속하는 메소드는 기본적으로 새로운 Series를 반환합니다).\n",
        "df[\"grade\"] = df[\"grade\"].cat.set_categories([\"very bad\", \"bad\", \"medium\", \"good\", \"very good\"])\n",
        "df[\"grade\"]"
      ],
      "execution_count": 140,
      "outputs": [
        {
          "output_type": "execute_result",
          "data": {
            "text/plain": [
              "0    very good\n",
              "1         good\n",
              "2         good\n",
              "3    very good\n",
              "4    very good\n",
              "5     very bad\n",
              "Name: grade, dtype: category\n",
              "Categories (5, object): ['very bad', 'bad', 'medium', 'good', 'very good']"
            ]
          },
          "metadata": {
            "tags": []
          },
          "execution_count": 140
        }
      ]
    },
    {
      "cell_type": "markdown",
      "metadata": {
        "id": "Y5V4R9Sfe7WH"
      },
      "source": [
        "정렬은 사전 순서가 아닌, 해당 범주에서 지정된 순서대로 배열합니다.\n",
        "\n",
        "**역자 주 : 131번에서 very bad, bad, medium, good, very good 의 순서로 기재되어 있기 때문에 정렬 결과도 해당 순서대로 배열됩니다.**"
      ]
    },
    {
      "cell_type": "code",
      "metadata": {
        "id": "zjN92DgXe-lf",
        "outputId": "fb8ac45d-910c-4f2c-b1aa-616b40a14edf",
        "colab": {
          "base_uri": "https://localhost:8080/",
          "height": 225
        }
      },
      "source": [
        "df.sort_values(by=\"grade\")"
      ],
      "execution_count": 141,
      "outputs": [
        {
          "output_type": "execute_result",
          "data": {
            "text/html": [
              "<div>\n",
              "<style scoped>\n",
              "    .dataframe tbody tr th:only-of-type {\n",
              "        vertical-align: middle;\n",
              "    }\n",
              "\n",
              "    .dataframe tbody tr th {\n",
              "        vertical-align: top;\n",
              "    }\n",
              "\n",
              "    .dataframe thead th {\n",
              "        text-align: right;\n",
              "    }\n",
              "</style>\n",
              "<table border=\"1\" class=\"dataframe\">\n",
              "  <thead>\n",
              "    <tr style=\"text-align: right;\">\n",
              "      <th></th>\n",
              "      <th>id</th>\n",
              "      <th>raw_grade</th>\n",
              "      <th>grade</th>\n",
              "    </tr>\n",
              "  </thead>\n",
              "  <tbody>\n",
              "    <tr>\n",
              "      <th>5</th>\n",
              "      <td>6</td>\n",
              "      <td>e</td>\n",
              "      <td>very bad</td>\n",
              "    </tr>\n",
              "    <tr>\n",
              "      <th>1</th>\n",
              "      <td>2</td>\n",
              "      <td>b</td>\n",
              "      <td>good</td>\n",
              "    </tr>\n",
              "    <tr>\n",
              "      <th>2</th>\n",
              "      <td>3</td>\n",
              "      <td>b</td>\n",
              "      <td>good</td>\n",
              "    </tr>\n",
              "    <tr>\n",
              "      <th>0</th>\n",
              "      <td>1</td>\n",
              "      <td>a</td>\n",
              "      <td>very good</td>\n",
              "    </tr>\n",
              "    <tr>\n",
              "      <th>3</th>\n",
              "      <td>4</td>\n",
              "      <td>a</td>\n",
              "      <td>very good</td>\n",
              "    </tr>\n",
              "    <tr>\n",
              "      <th>4</th>\n",
              "      <td>5</td>\n",
              "      <td>a</td>\n",
              "      <td>very good</td>\n",
              "    </tr>\n",
              "  </tbody>\n",
              "</table>\n",
              "</div>"
            ],
            "text/plain": [
              "   id raw_grade      grade\n",
              "5   6         e   very bad\n",
              "1   2         b       good\n",
              "2   3         b       good\n",
              "0   1         a  very good\n",
              "3   4         a  very good\n",
              "4   5         a  very good"
            ]
          },
          "metadata": {
            "tags": []
          },
          "execution_count": 141
        }
      ]
    },
    {
      "cell_type": "code",
      "metadata": {
        "id": "3l6O0gtZfAUJ",
        "outputId": "b491130a-41f5-49e9-9106-249208927859",
        "colab": {
          "base_uri": "https://localhost:8080/"
        }
      },
      "source": [
        "# 범주의 열을 기준으로 그룹화하면 빈 범주도 표시됩니다.\n",
        "df.groupby(\"grade\").size()"
      ],
      "execution_count": 142,
      "outputs": [
        {
          "output_type": "execute_result",
          "data": {
            "text/plain": [
              "grade\n",
              "very bad     1\n",
              "bad          0\n",
              "medium       0\n",
              "good         2\n",
              "very good    3\n",
              "dtype: int64"
            ]
          },
          "metadata": {
            "tags": []
          },
          "execution_count": 142
        }
      ]
    },
    {
      "cell_type": "markdown",
      "metadata": {
        "id": "LlStCzu1fEE3"
      },
      "source": [
        "## 11. Plotting (그래프)\n",
        "[Plotting](https://pandas.pydata.org/pandas-docs/stable/user_guide/visualization.html) 부분을 참조하세요.\n",
        "\n"
      ]
    },
    {
      "cell_type": "code",
      "metadata": {
        "id": "SdiODd06fLE_",
        "outputId": "4ef0d373-a4c8-4554-ba9f-0d86b5488d2b",
        "colab": {
          "base_uri": "https://localhost:8080/",
          "height": 294
        }
      },
      "source": [
        "ts = pd.Series(np.random.randn(1000), index=pd.date_range('1/1/2000', periods=1000))\n",
        "ts = ts.cumsum()\n",
        "ts.plot()"
      ],
      "execution_count": 143,
      "outputs": [
        {
          "output_type": "execute_result",
          "data": {
            "text/plain": [
              "<matplotlib.axes._subplots.AxesSubplot at 0x7fdfcbbe7898>"
            ]
          },
          "metadata": {
            "tags": []
          },
          "execution_count": 143
        },
        {
          "output_type": "display_data",
          "data": {
            "image/png": "[encoded data removed]",
            "text/plain": [
              "<Figure size 432x288 with 1 Axes>"
            ]
          },
          "metadata": {
            "tags": [],
            "needs_background": "light"
          }
        }
      ]
    },
    {
      "cell_type": "markdown",
      "metadata": {
        "id": "fhQpLo4IfNpP"
      },
      "source": [
        "데이터프레임에서 [plot()](https://pandas.pydata.org/pandas-docs/stable/reference/api/pandas.DataFrame.plot.html) 메소드는 라벨이 존재하는 모든 열을 그릴 때 편리합니다."
      ]
    },
    {
      "cell_type": "code",
      "metadata": {
        "id": "A-rxBYsKfT-n",
        "outputId": "48cbcb4a-80e9-49c9-f61a-f06732f2d9bc",
        "colab": {
          "base_uri": "https://localhost:8080/",
          "height": 312
        }
      },
      "source": [
        "df = pd.DataFrame(np.random.randn(1000, 4), index=ts.index,\n",
        "                  columns=['A', 'B', 'C', 'D'])  \n",
        "df = df.cumsum()\n",
        "plt.figure(); df.plot(); plt.legend(loc='best')"
      ],
      "execution_count": 144,
      "outputs": [
        {
          "output_type": "execute_result",
          "data": {
            "text/plain": [
              "<matplotlib.legend.Legend at 0x7fdfcba98780>"
            ]
          },
          "metadata": {
            "tags": []
          },
          "execution_count": 144
        },
        {
          "output_type": "display_data",
          "data": {
            "text/plain": [
              "<Figure size 432x288 with 0 Axes>"
            ]
          },
          "metadata": {
            "tags": []
          }
        },
        {
          "output_type": "display_data",
          "data": {
            "image/png": "[encoded data removed]",
            "text/plain": [
              "<Figure size 432x288 with 1 Axes>"
            ]
          },
          "metadata": {
            "tags": [],
            "needs_background": "light"
          }
        }
      ]
    },
    {
      "cell_type": "markdown",
      "metadata": {
        "id": "FjjdA-6MfXn3"
      },
      "source": [
        "## 12. Getting Data In / Out (데이터 입 / 출력)\n",
        "\n",
        "### CSV\n",
        "\n",
        "[csv 파일에 씁니다.](https://pandas.pydata.org/pandas-docs/stable/user_guide/io.html)"
      ]
    },
    {
      "cell_type": "code",
      "metadata": {
        "id": "TAfNGT0Vfhka"
      },
      "source": [
        "df.to_csv('foo.csv')"
      ],
      "execution_count": 145,
      "outputs": []
    },
    {
      "cell_type": "markdown",
      "metadata": {
        "id": "dxkgODJCfjcu"
      },
      "source": [
        "[csv 파일을 읽습니다.](https://pandas.pydata.org/pandas-docs/stable/user_guide/io.html)"
      ]
    },
    {
      "cell_type": "code",
      "metadata": {
        "id": "MKbOoia-foGN",
        "outputId": "b45b3997-cd3c-46fc-f700-9d66efdffe02",
        "colab": {
          "base_uri": "https://localhost:8080/",
          "height": 402
        }
      },
      "source": [
        "pd.read_csv('foo.csv')"
      ],
      "execution_count": 146,
      "outputs": [
        {
          "output_type": "execute_result",
          "data": {
            "text/html": [
              "<div>\n",
              "<style scoped>\n",
              "    .dataframe tbody tr th:only-of-type {\n",
              "        vertical-align: middle;\n",
              "    }\n",
              "\n",
              "    .dataframe tbody tr th {\n",
              "        vertical-align: top;\n",
              "    }\n",
              "\n",
              "    .dataframe thead th {\n",
              "        text-align: right;\n",
              "    }\n",
              "</style>\n",
              "<table border=\"1\" class=\"dataframe\">\n",
              "  <thead>\n",
              "    <tr style=\"text-align: right;\">\n",
              "      <th></th>\n",
              "      <th>Unnamed: 0</th>\n",
              "      <th>A</th>\n",
              "      <th>B</th>\n",
              "      <th>C</th>\n",
              "      <th>D</th>\n",
              "    </tr>\n",
              "  </thead>\n",
              "  <tbody>\n",
              "    <tr>\n",
              "      <th>0</th>\n",
              "      <td>2000-01-01</td>\n",
              "      <td>1.218595</td>\n",
              "      <td>-0.270654</td>\n",
              "      <td>0.153881</td>\n",
              "      <td>0.644591</td>\n",
              "    </tr>\n",
              "    <tr>\n",
              "      <th>1</th>\n",
              "      <td>2000-01-02</td>\n",
              "      <td>2.212506</td>\n",
              "      <td>1.377502</td>\n",
              "      <td>1.794741</td>\n",
              "      <td>2.086978</td>\n",
              "    </tr>\n",
              "    <tr>\n",
              "      <th>2</th>\n",
              "      <td>2000-01-03</td>\n",
              "      <td>0.832892</td>\n",
              "      <td>1.359415</td>\n",
              "      <td>2.451803</td>\n",
              "      <td>2.066917</td>\n",
              "    </tr>\n",
              "    <tr>\n",
              "      <th>3</th>\n",
              "      <td>2000-01-04</td>\n",
              "      <td>-0.893484</td>\n",
              "      <td>1.082835</td>\n",
              "      <td>2.932478</td>\n",
              "      <td>1.457873</td>\n",
              "    </tr>\n",
              "    <tr>\n",
              "      <th>4</th>\n",
              "      <td>2000-01-05</td>\n",
              "      <td>0.747530</td>\n",
              "      <td>1.113115</td>\n",
              "      <td>3.319548</td>\n",
              "      <td>1.076956</td>\n",
              "    </tr>\n",
              "    <tr>\n",
              "      <th>...</th>\n",
              "      <td>...</td>\n",
              "      <td>...</td>\n",
              "      <td>...</td>\n",
              "      <td>...</td>\n",
              "      <td>...</td>\n",
              "    </tr>\n",
              "    <tr>\n",
              "      <th>995</th>\n",
              "      <td>2002-09-22</td>\n",
              "      <td>47.906570</td>\n",
              "      <td>49.556528</td>\n",
              "      <td>9.609421</td>\n",
              "      <td>-47.221320</td>\n",
              "    </tr>\n",
              "    <tr>\n",
              "      <th>996</th>\n",
              "      <td>2002-09-23</td>\n",
              "      <td>47.671415</td>\n",
              "      <td>49.353200</td>\n",
              "      <td>11.308364</td>\n",
              "      <td>-47.245735</td>\n",
              "    </tr>\n",
              "    <tr>\n",
              "      <th>997</th>\n",
              "      <td>2002-09-24</td>\n",
              "      <td>47.822482</td>\n",
              "      <td>49.740872</td>\n",
              "      <td>10.935801</td>\n",
              "      <td>-48.743709</td>\n",
              "    </tr>\n",
              "    <tr>\n",
              "      <th>998</th>\n",
              "      <td>2002-09-25</td>\n",
              "      <td>50.414646</td>\n",
              "      <td>50.717678</td>\n",
              "      <td>9.334884</td>\n",
              "      <td>-48.023769</td>\n",
              "    </tr>\n",
              "    <tr>\n",
              "      <th>999</th>\n",
              "      <td>2002-09-26</td>\n",
              "      <td>51.037103</td>\n",
              "      <td>50.047309</td>\n",
              "      <td>9.474186</td>\n",
              "      <td>-47.682913</td>\n",
              "    </tr>\n",
              "  </tbody>\n",
              "</table>\n",
              "<p>1000 rows × 5 columns</p>\n",
              "</div>"
            ],
            "text/plain": [
              "     Unnamed: 0          A          B          C          D\n",
              "0    2000-01-01   1.218595  -0.270654   0.153881   0.644591\n",
              "1    2000-01-02   2.212506   1.377502   1.794741   2.086978\n",
              "2    2000-01-03   0.832892   1.359415   2.451803   2.066917\n",
              "3    2000-01-04  -0.893484   1.082835   2.932478   1.457873\n",
              "4    2000-01-05   0.747530   1.113115   3.319548   1.076956\n",
              "..          ...        ...        ...        ...        ...\n",
              "995  2002-09-22  47.906570  49.556528   9.609421 -47.221320\n",
              "996  2002-09-23  47.671415  49.353200  11.308364 -47.245735\n",
              "997  2002-09-24  47.822482  49.740872  10.935801 -48.743709\n",
              "998  2002-09-25  50.414646  50.717678   9.334884 -48.023769\n",
              "999  2002-09-26  51.037103  50.047309   9.474186 -47.682913\n",
              "\n",
              "[1000 rows x 5 columns]"
            ]
          },
          "metadata": {
            "tags": []
          },
          "execution_count": 146
        }
      ]
    },
    {
      "cell_type": "markdown",
      "metadata": {
        "id": "2zjLPKtKfscn"
      },
      "source": [
        "### HDF5\n",
        "[HDFStores](https://pandas.pydata.org/pandas-docs/stable/user_guide/io.html)에 읽고 씁니다.\n",
        "\n"
      ]
    },
    {
      "cell_type": "code",
      "metadata": {
        "id": "Xrjqasjkf6xm"
      },
      "source": [
        "# HDF5 Store에 씁니다.\n",
        "df.to_hdf('foo.h5','df')"
      ],
      "execution_count": 148,
      "outputs": []
    },
    {
      "cell_type": "code",
      "metadata": {
        "id": "wqs02Fcpf-ms",
        "outputId": "621a0420-3782-4ccb-87ed-8cff184bc2fb",
        "colab": {
          "base_uri": "https://localhost:8080/",
          "height": 402
        }
      },
      "source": [
        "# HDF5 Store에서 읽어옵니다.\n",
        "pd.read_hdf('foo.h5','df')"
      ],
      "execution_count": 149,
      "outputs": [
        {
          "output_type": "execute_result",
          "data": {
            "text/html": [
              "<div>\n",
              "<style scoped>\n",
              "    .dataframe tbody tr th:only-of-type {\n",
              "        vertical-align: middle;\n",
              "    }\n",
              "\n",
              "    .dataframe tbody tr th {\n",
              "        vertical-align: top;\n",
              "    }\n",
              "\n",
              "    .dataframe thead th {\n",
              "        text-align: right;\n",
              "    }\n",
              "</style>\n",
              "<table border=\"1\" class=\"dataframe\">\n",
              "  <thead>\n",
              "    <tr style=\"text-align: right;\">\n",
              "      <th></th>\n",
              "      <th>A</th>\n",
              "      <th>B</th>\n",
              "      <th>C</th>\n",
              "      <th>D</th>\n",
              "    </tr>\n",
              "  </thead>\n",
              "  <tbody>\n",
              "    <tr>\n",
              "      <th>2000-01-01</th>\n",
              "      <td>1.218595</td>\n",
              "      <td>-0.270654</td>\n",
              "      <td>0.153881</td>\n",
              "      <td>0.644591</td>\n",
              "    </tr>\n",
              "    <tr>\n",
              "      <th>2000-01-02</th>\n",
              "      <td>2.212506</td>\n",
              "      <td>1.377502</td>\n",
              "      <td>1.794741</td>\n",
              "      <td>2.086978</td>\n",
              "    </tr>\n",
              "    <tr>\n",
              "      <th>2000-01-03</th>\n",
              "      <td>0.832892</td>\n",
              "      <td>1.359415</td>\n",
              "      <td>2.451803</td>\n",
              "      <td>2.066917</td>\n",
              "    </tr>\n",
              "    <tr>\n",
              "      <th>2000-01-04</th>\n",
              "      <td>-0.893484</td>\n",
              "      <td>1.082835</td>\n",
              "      <td>2.932478</td>\n",
              "      <td>1.457873</td>\n",
              "    </tr>\n",
              "    <tr>\n",
              "      <th>2000-01-05</th>\n",
              "      <td>0.747530</td>\n",
              "      <td>1.113115</td>\n",
              "      <td>3.319548</td>\n",
              "      <td>1.076956</td>\n",
              "    </tr>\n",
              "    <tr>\n",
              "      <th>...</th>\n",
              "      <td>...</td>\n",
              "      <td>...</td>\n",
              "      <td>...</td>\n",
              "      <td>...</td>\n",
              "    </tr>\n",
              "    <tr>\n",
              "      <th>2002-09-22</th>\n",
              "      <td>47.906570</td>\n",
              "      <td>49.556528</td>\n",
              "      <td>9.609421</td>\n",
              "      <td>-47.221320</td>\n",
              "    </tr>\n",
              "    <tr>\n",
              "      <th>2002-09-23</th>\n",
              "      <td>47.671415</td>\n",
              "      <td>49.353200</td>\n",
              "      <td>11.308364</td>\n",
              "      <td>-47.245735</td>\n",
              "    </tr>\n",
              "    <tr>\n",
              "      <th>2002-09-24</th>\n",
              "      <td>47.822482</td>\n",
              "      <td>49.740872</td>\n",
              "      <td>10.935801</td>\n",
              "      <td>-48.743709</td>\n",
              "    </tr>\n",
              "    <tr>\n",
              "      <th>2002-09-25</th>\n",
              "      <td>50.414646</td>\n",
              "      <td>50.717678</td>\n",
              "      <td>9.334884</td>\n",
              "      <td>-48.023769</td>\n",
              "    </tr>\n",
              "    <tr>\n",
              "      <th>2002-09-26</th>\n",
              "      <td>51.037103</td>\n",
              "      <td>50.047309</td>\n",
              "      <td>9.474186</td>\n",
              "      <td>-47.682913</td>\n",
              "    </tr>\n",
              "  </tbody>\n",
              "</table>\n",
              "<p>1000 rows × 4 columns</p>\n",
              "</div>"
            ],
            "text/plain": [
              "                    A          B          C          D\n",
              "2000-01-01   1.218595  -0.270654   0.153881   0.644591\n",
              "2000-01-02   2.212506   1.377502   1.794741   2.086978\n",
              "2000-01-03   0.832892   1.359415   2.451803   2.066917\n",
              "2000-01-04  -0.893484   1.082835   2.932478   1.457873\n",
              "2000-01-05   0.747530   1.113115   3.319548   1.076956\n",
              "...               ...        ...        ...        ...\n",
              "2002-09-22  47.906570  49.556528   9.609421 -47.221320\n",
              "2002-09-23  47.671415  49.353200  11.308364 -47.245735\n",
              "2002-09-24  47.822482  49.740872  10.935801 -48.743709\n",
              "2002-09-25  50.414646  50.717678   9.334884 -48.023769\n",
              "2002-09-26  51.037103  50.047309   9.474186 -47.682913\n",
              "\n",
              "[1000 rows x 4 columns]"
            ]
          },
          "metadata": {
            "tags": []
          },
          "execution_count": 149
        }
      ]
    },
    {
      "cell_type": "markdown",
      "metadata": {
        "id": "5lwhljangCtl"
      },
      "source": [
        "### Excel\n",
        "[MS Excel](https://pandas.pydata.org/pandas-docs/stable/user_guide/io.html)에 읽고 씁니다."
      ]
    },
    {
      "cell_type": "code",
      "metadata": {
        "id": "QFZtJugegI0l"
      },
      "source": [
        "# 엑셀 파일에 씁니다.\n",
        "df.to_excel('foo.xlsx', sheet_name='Sheet1')"
      ],
      "execution_count": 150,
      "outputs": []
    },
    {
      "cell_type": "code",
      "metadata": {
        "id": "QThQN520gLuv",
        "outputId": "a8f075e8-1cae-4386-f402-39e4b540d265",
        "colab": {
          "base_uri": "https://localhost:8080/",
          "height": 402
        }
      },
      "source": [
        "# 엑셀 파일을 읽어옵니다.\n",
        "pd.read_excel('foo.xlsx', 'Sheet1', index_col=None, na_values=['NA'])"
      ],
      "execution_count": 151,
      "outputs": [
        {
          "output_type": "execute_result",
          "data": {
            "text/html": [
              "<div>\n",
              "<style scoped>\n",
              "    .dataframe tbody tr th:only-of-type {\n",
              "        vertical-align: middle;\n",
              "    }\n",
              "\n",
              "    .dataframe tbody tr th {\n",
              "        vertical-align: top;\n",
              "    }\n",
              "\n",
              "    .dataframe thead th {\n",
              "        text-align: right;\n",
              "    }\n",
              "</style>\n",
              "<table border=\"1\" class=\"dataframe\">\n",
              "  <thead>\n",
              "    <tr style=\"text-align: right;\">\n",
              "      <th></th>\n",
              "      <th>Unnamed: 0</th>\n",
              "      <th>A</th>\n",
              "      <th>B</th>\n",
              "      <th>C</th>\n",
              "      <th>D</th>\n",
              "    </tr>\n",
              "  </thead>\n",
              "  <tbody>\n",
              "    <tr>\n",
              "      <th>0</th>\n",
              "      <td>2000-01-01</td>\n",
              "      <td>1.218595</td>\n",
              "      <td>-0.270654</td>\n",
              "      <td>0.153881</td>\n",
              "      <td>0.644591</td>\n",
              "    </tr>\n",
              "    <tr>\n",
              "      <th>1</th>\n",
              "      <td>2000-01-02</td>\n",
              "      <td>2.212506</td>\n",
              "      <td>1.377502</td>\n",
              "      <td>1.794741</td>\n",
              "      <td>2.086978</td>\n",
              "    </tr>\n",
              "    <tr>\n",
              "      <th>2</th>\n",
              "      <td>2000-01-03</td>\n",
              "      <td>0.832892</td>\n",
              "      <td>1.359415</td>\n",
              "      <td>2.451803</td>\n",
              "      <td>2.066917</td>\n",
              "    </tr>\n",
              "    <tr>\n",
              "      <th>3</th>\n",
              "      <td>2000-01-04</td>\n",
              "      <td>-0.893484</td>\n",
              "      <td>1.082835</td>\n",
              "      <td>2.932478</td>\n",
              "      <td>1.457873</td>\n",
              "    </tr>\n",
              "    <tr>\n",
              "      <th>4</th>\n",
              "      <td>2000-01-05</td>\n",
              "      <td>0.747530</td>\n",
              "      <td>1.113115</td>\n",
              "      <td>3.319548</td>\n",
              "      <td>1.076956</td>\n",
              "    </tr>\n",
              "    <tr>\n",
              "      <th>...</th>\n",
              "      <td>...</td>\n",
              "      <td>...</td>\n",
              "      <td>...</td>\n",
              "      <td>...</td>\n",
              "      <td>...</td>\n",
              "    </tr>\n",
              "    <tr>\n",
              "      <th>995</th>\n",
              "      <td>2002-09-22</td>\n",
              "      <td>47.906570</td>\n",
              "      <td>49.556528</td>\n",
              "      <td>9.609421</td>\n",
              "      <td>-47.221320</td>\n",
              "    </tr>\n",
              "    <tr>\n",
              "      <th>996</th>\n",
              "      <td>2002-09-23</td>\n",
              "      <td>47.671415</td>\n",
              "      <td>49.353200</td>\n",
              "      <td>11.308364</td>\n",
              "      <td>-47.245735</td>\n",
              "    </tr>\n",
              "    <tr>\n",
              "      <th>997</th>\n",
              "      <td>2002-09-24</td>\n",
              "      <td>47.822482</td>\n",
              "      <td>49.740872</td>\n",
              "      <td>10.935801</td>\n",
              "      <td>-48.743709</td>\n",
              "    </tr>\n",
              "    <tr>\n",
              "      <th>998</th>\n",
              "      <td>2002-09-25</td>\n",
              "      <td>50.414646</td>\n",
              "      <td>50.717678</td>\n",
              "      <td>9.334884</td>\n",
              "      <td>-48.023769</td>\n",
              "    </tr>\n",
              "    <tr>\n",
              "      <th>999</th>\n",
              "      <td>2002-09-26</td>\n",
              "      <td>51.037103</td>\n",
              "      <td>50.047309</td>\n",
              "      <td>9.474186</td>\n",
              "      <td>-47.682913</td>\n",
              "    </tr>\n",
              "  </tbody>\n",
              "</table>\n",
              "<p>1000 rows × 5 columns</p>\n",
              "</div>"
            ],
            "text/plain": [
              "    Unnamed: 0          A          B          C          D\n",
              "0   2000-01-01   1.218595  -0.270654   0.153881   0.644591\n",
              "1   2000-01-02   2.212506   1.377502   1.794741   2.086978\n",
              "2   2000-01-03   0.832892   1.359415   2.451803   2.066917\n",
              "3   2000-01-04  -0.893484   1.082835   2.932478   1.457873\n",
              "4   2000-01-05   0.747530   1.113115   3.319548   1.076956\n",
              "..         ...        ...        ...        ...        ...\n",
              "995 2002-09-22  47.906570  49.556528   9.609421 -47.221320\n",
              "996 2002-09-23  47.671415  49.353200  11.308364 -47.245735\n",
              "997 2002-09-24  47.822482  49.740872  10.935801 -48.743709\n",
              "998 2002-09-25  50.414646  50.717678   9.334884 -48.023769\n",
              "999 2002-09-26  51.037103  50.047309   9.474186 -47.682913\n",
              "\n",
              "[1000 rows x 5 columns]"
            ]
          },
          "metadata": {
            "tags": []
          },
          "execution_count": 151
        }
      ]
    },
    {
      "cell_type": "markdown",
      "metadata": {
        "id": "GZEFlZB7gP-L"
      },
      "source": [
        "## 13. Gotchas (잡았다!)\n",
        "**연산 수행 시 다음과 같은 예외 상황을 볼 수도 있습니다.**"
      ]
    },
    {
      "cell_type": "code",
      "metadata": {
        "id": "HV5qFa2PgSd3",
        "outputId": "0fae4274-467a-4fec-cb24-44bcc33838d4",
        "colab": {
          "base_uri": "https://localhost:8080/",
          "height": 310
        }
      },
      "source": [
        "if pd.Series([False, True, False]):\n",
        "    print(\"I was true\")"
      ],
      "execution_count": 154,
      "outputs": [
        {
          "output_type": "error",
          "ename": "ValueError",
          "evalue": "ignored",
          "traceback": [
            "\u001b[0;31m---------------------------------------------------------------------------\u001b[0m",
            "\u001b[0;31mValueError\u001b[0m                                Traceback (most recent call last)",
            "\u001b[0;32m<ipython-input-154-5c782b38cd2f>\u001b[0m in \u001b[0;36m<module>\u001b[0;34m()\u001b[0m\n\u001b[0;32m----> 1\u001b[0;31m \u001b[0;32mif\u001b[0m \u001b[0mpd\u001b[0m\u001b[0;34m.\u001b[0m\u001b[0mSeries\u001b[0m\u001b[0;34m(\u001b[0m\u001b[0;34m[\u001b[0m\u001b[0;32mFalse\u001b[0m\u001b[0;34m,\u001b[0m \u001b[0;32mTrue\u001b[0m\u001b[0;34m,\u001b[0m \u001b[0;32mFalse\u001b[0m\u001b[0;34m]\u001b[0m\u001b[0;34m)\u001b[0m\u001b[0;34m:\u001b[0m\u001b[0;34m\u001b[0m\u001b[0;34m\u001b[0m\u001b[0m\n\u001b[0m\u001b[1;32m      2\u001b[0m     \u001b[0mprint\u001b[0m\u001b[0;34m(\u001b[0m\u001b[0;34m\"I was true\"\u001b[0m\u001b[0;34m)\u001b[0m\u001b[0;34m\u001b[0m\u001b[0;34m\u001b[0m\u001b[0m\n",
            "\u001b[0;32m/usr/local/lib/python3.6/dist-packages/pandas/core/generic.py\u001b[0m in \u001b[0;36m__nonzero__\u001b[0;34m(self)\u001b[0m\n\u001b[1;32m   1328\u001b[0m     \u001b[0;32mdef\u001b[0m \u001b[0m__nonzero__\u001b[0m\u001b[0;34m(\u001b[0m\u001b[0mself\u001b[0m\u001b[0;34m)\u001b[0m\u001b[0;34m:\u001b[0m\u001b[0;34m\u001b[0m\u001b[0;34m\u001b[0m\u001b[0m\n\u001b[1;32m   1329\u001b[0m         raise ValueError(\n\u001b[0;32m-> 1330\u001b[0;31m             \u001b[0;34mf\"The truth value of a {type(self).__name__} is ambiguous. \"\u001b[0m\u001b[0;34m\u001b[0m\u001b[0;34m\u001b[0m\u001b[0m\n\u001b[0m\u001b[1;32m   1331\u001b[0m             \u001b[0;34m\"Use a.empty, a.bool(), a.item(), a.any() or a.all().\"\u001b[0m\u001b[0;34m\u001b[0m\u001b[0;34m\u001b[0m\u001b[0m\n\u001b[1;32m   1332\u001b[0m         )\n",
            "\u001b[0;31mValueError\u001b[0m: The truth value of a Series is ambiguous. Use a.empty, a.bool(), a.item(), a.any() or a.all()."
          ]
        }
      ]
    },
    {
      "cell_type": "code",
      "metadata": {
        "id": "phr3csCCgsiH",
        "outputId": "b0e86986-89f0-4d64-b67c-df3c1f0b8a61",
        "colab": {
          "base_uri": "https://localhost:8080/"
        }
      },
      "source": [
        "# 이러한 경우에는 any(), all(), empty 등을 사용해서 무엇을 원하는지를 선택 (반영)해주어야 합니다.\n",
        "if pd.Series([False, True, False])is not None:\n",
        "      print(\"I was not None\")"
      ],
      "execution_count": 155,
      "outputs": [
        {
          "output_type": "stream",
          "text": [
            "I was not None\n"
          ],
          "name": "stdout"
        }
      ]
    },
    {
      "cell_type": "markdown",
      "metadata": {
        "id": "FVxJAzwvgwkT"
      },
      "source": [
        "위에 대한 설명과 자세한 내용은 [비교](https://pandas.pydata.org/pandas-docs/stable/user_guide/basics.html) 부분을 참조하세요.\n",
        "\n",
        "[Gotchas](https://pandas.pydata.org/pandas-docs/stable/user_guide/gotchas.html) 부분도 참조하세요.\n",
        "\n",
        "\n",
        "\n",
        "\n",
        "\n",
        "\n",
        "\n",
        "\n",
        "---\n",
        "\n",
        "본 자료의 저작권은 [BSD-3-Clause](https://opensource.org/licenses/BSD-3-Clause)인 점을 참조하여 주세요.\n",
        "\n",
        "This documentation is a Korean translation material of ‘10 Minutes to Pandas’. Every members of DATAITGIRLS2 program participated in the translation. If you want to know about [DATAITGIRLS2 program, please visit DATAITGIRLS2 program’s homepage.](https://annefromk.github.io/dataitgirls2/)\n",
        "\n",
        "The copyright conditions of this documentation are BSD-3-Clause.\n"
      ]
    }
  ]
}