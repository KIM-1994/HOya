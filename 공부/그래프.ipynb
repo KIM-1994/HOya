{
 "cells": [
  {
   "cell_type": "markdown",
   "metadata": {},
   "source": [
    "## **그래프 탐색이란**"
   ]
  },
  {
   "cell_type": "markdown",
   "metadata": {},
   "source": [
    "+ 하나의 정점으로부터 시작하여 차례대로 모든 정점들을 한 번씩 방문하는 것  \n",
    "+ Ex) 특정 도시에서 다른 도시로 갈 수 있는지 없는지, 전자 회로에서 특정 단자와 단자가 서로 연결되어 있는지"
   ]
  },
  {
   "cell_type": "markdown",
   "metadata": {},
   "source": [
    "## **깊이 우선 탐색(DFS,Depth-First Search)**"
   ]
  },
  {
   "cell_type": "markdown",
   "metadata": {},
   "source": [
    "### **깊이 우선 탐색이란**"
   ]
  },
  {
   "cell_type": "markdown",
   "metadata": {},
   "source": [
    "루트 노드(혹은 다른 임의의 노드)에서 시작해서 다음 분기(branch)로 넘어가기 전에 해당 분기를 완벽하게 탐색하는 방법\n",
    "\n",
    "+ 미로를 탐색할 때 한 방향으로 갈 수 있을 때까지 계속 가다가 더 이상 갈 수 없게 되면 다시 가장 가까운 갈림길로 돌아와서 이곳으로부터 다른 방향으로 다시 탐색을 진행하는 방법과 유사하다.  \n",
    "+ 즉, 넓게(wide) 탐색하기 전에 깊이(deep) 탐색하는 것이다.  \n",
    "+ 사용하는 경우 : **모든 노드를 방문** 하고자 하는 경우에 이 방법을 선택한다.  \n",
    "+ 깊이 우선 탐색(DFS)이 너비 우선 탐색(BFS)보다 좀 더 간단하다.  \n",
    "+ 단순 검색 속도 자체는 너비 우선 탐색(BFS)에 비해서 느리다."
   ]
  },
  {
   "cell_type": "markdown",
   "metadata": {},
   "source": [
    "### **깊이 우선 탐색(DFS)의 특징**"
   ]
  },
  {
   "cell_type": "markdown",
   "metadata": {},
   "source": [
    "+ 자기 자신을 호출하는 **순환 알고리즘의 형태(재귀호출)**를 가지고 있다.\n",
    "+ 전위 순회(Pre-Order Traversals)를 포함한 다른 형태의 트리 순회는 모두 DFS의 한 종류이다.\n",
    "+ 이 알고리즘을 구현할 때 가장 큰 차이점은, 그래프 탐색의 경우 **어떤 노드를 방문했었는지 여부를 반드시 검사**해야 한다는 것이다.\n",
    "    + 이를 검사하지 않을 경우 무한루프에 빠질 위험이 있다."
   ]
  },
  {
   "cell_type": "markdown",
   "metadata": {},
   "source": [
    "### **깊이 우선 탐색(DFS)의 과정**"
   ]
  },
  {
   "cell_type": "markdown",
   "metadata": {},
   "source": [
    "![캡처](https://user-images.githubusercontent.com/72365693/102313488-142ba580-3fb4-11eb-943a-4a119a6490f9.JPG)"
   ]
  },
  {
   "cell_type": "markdown",
   "metadata": {},
   "source": [
    "1. a 노드(시작노드)를 방문한다.\n",
    "    + 방문한 노드는 방문했다고 표시한다.\n",
    "2. a와 인접한 노드들을 차례로 순회한다.\n",
    "    + a와 인접한 노드가 없다면 종료한다.\n",
    "3. a와 이웃한 노드 b를 방문했다면, a와 인접한 또 다른 노드를 방문하기 전에 b의 이웃 노드들을 전부 방문해야 한다.\n",
    "    + b를 시작 정점으로 DFS를 다시 시작하여 b의 이웃 노드들을 방문한다.\n",
    "4. b의 분기를 전부 완벽하게 탐색한 뒤에야 a의 다른 이웃 노드를 방문할 수 있다는 뜻이다.\n",
    "    + 즉, b의 분기를 전부 완벽하게 탐색한 뒤에야 a의 다른 이웃 노드를 방문할 수 있다는 뜻이다.\n",
    "    + 아직 방문이 안 된 정점이 없으면 종료한다.\n",
    "    + 있으면 다시 그 정점을 시작 정점으로 DFS를 시작한다."
   ]
  },
  {
   "cell_type": "code",
   "execution_count": 8,
   "metadata": {},
   "outputs": [
    {
     "name": "stdout",
     "output_type": "stream",
     "text": [
      "3\n"
     ]
    }
   ],
   "source": [
    "from typing import List\n",
    "\n",
    "\n",
    "class Solution:\n",
    "    def numIslands(self, grid: List[List[str]]) -> int:\n",
    "        def dfs(i, j):\n",
    "            # 더 이상 땅이 아닌 경우 종료\n",
    "            if i < 0 or i >= len(grid) or \\\n",
    "                    j < 0 or j >= len(grid[0]) or \\\n",
    "                    grid[i][j] != '1':\n",
    "                return\n",
    "\n",
    "            grid[i][j] = 0\n",
    "\n",
    "            # 동서남북 탐색\n",
    "            dfs(i + 1, j)\n",
    "            dfs(i - 1, j)\n",
    "            dfs(i, j + 1)\n",
    "            dfs(i, j - 1)\n",
    "\n",
    "        count = 0\n",
    "        for i in range(len(grid)):\n",
    "            for j in range(len(grid[0])):\n",
    "                if grid[i][j] == '1':\n",
    "                    dfs(i, j)\n",
    "                    # 모든 육지 탐색 후 카운트 1 증가\n",
    "                    count += 1\n",
    "        return count\n",
    "num_of_islands = Solution()\n",
    "print(num_of_islands.numIslands([[\"1\",\"1\",\"0\",\"0\",\"0\"],[\"1\",\"1\",\"0\",\"0\",\"0\"],[\"0\",\"0\",\"1\",\"0\",\"0\"],[\"0\",\"0\",\"0\",\"1\",\"1\"]]))"
   ]
  },
  {
   "cell_type": "markdown",
   "metadata": {},
   "source": [
    "[출처](https://gmlwjd9405.github.io/2018/08/14/algorithm-dfs.html)"
   ]
  }
 ],
 "metadata": {
  "kernelspec": {
   "display_name": "Python 3",
   "language": "python",
   "name": "python3"
  },
  "language_info": {
   "codemirror_mode": {
    "name": "ipython",
    "version": 3
   },
   "file_extension": ".py",
   "mimetype": "text/x-python",
   "name": "python",
   "nbconvert_exporter": "python",
   "pygments_lexer": "ipython3",
   "version": "3.8.3"
  }
 },
 "nbformat": 4,
 "nbformat_minor": 4
}
