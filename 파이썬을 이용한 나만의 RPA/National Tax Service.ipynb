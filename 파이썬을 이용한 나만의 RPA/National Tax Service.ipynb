{
 "cells": [
  {
   "cell_type": "code",
   "execution_count": 2,
   "metadata": {},
   "outputs": [
    {
     "name": "stderr",
     "output_type": "stream",
     "text": [
      "<ipython-input-2-d4c626ba9ca5>:15: DeprecationWarning: use options instead of chrome_options\n",
      "  driver = webdriver.Chrome('chromedriver.exe',chrome_options=options)\n"
     ]
    }
   ],
   "source": [
    "# 셀레니움 드라이버 임포트\n",
    "import selenium\n",
    "import pandas as pd\n",
    "\n",
    "# 웹드라이버 임포트\n",
    "from selenium import webdriver\n",
    "from selenium.webdriver.common.keys import Keys\n",
    "\n",
    "# time 임포트\n",
    "import time\n",
    "\n",
    "# 크롬 창 크기를 최대화 한다.\n",
    "options = webdriver.ChromeOptions()\n",
    "options.add_argument(\"--start-maximized\")\n",
    "driver = webdriver.Chrome('chromedriver.exe',chrome_options=options)\n",
    "\n",
    "#\n",
    "driver.get('https://teht.hometax.go.kr/websquare/websquare.html?w2xPath=/ui/ab/a/a/UTEABAAA13.xml')\n",
    "\n",
    "# 엑셀을 데이터프레임으로 \n",
    "사업자 = pd.read_excel('사업자번호.xlsx')"
   ]
  },
  {
   "cell_type": "code",
   "execution_count": 3,
   "metadata": {},
   "outputs": [
    {
     "name": "stdout",
     "output_type": "stream",
     "text": [
      "767-82-00017 부가가치세 일반과세자 입니다. 2021-01-02\n",
      "101-12-36861 폐업자 (과세유형: 부가가치세 일반과세자, 폐업일자:2020-10-31) 입니다. 2021-01-02\n",
      "639-12-00222 사업을 하지 않고 있습니다. 2021-01-02\n",
      "211-86-59478 부가가치세 일반과세자 입니다. 2021-01-02\n",
      "481-03-01529 부가가치세 간이과세자 입니다. 2021-01-02\n",
      "717-26-00807 부가가치세 일반과세자 입니다. 2021-01-02\n",
      "729-33-00282 부가가치세 일반과세자 입니다. 2021-01-02\n",
      "211-88-95935 부가가치세 일반과세자 입니다. 2021-01-02\n",
      "493-19-01014 부가가치세 일반과세자 입니다. 2021-01-02\n",
      "110-12-97799 부가가치세 일반과세자 입니다. 2021-01-02\n"
     ]
    }
   ],
   "source": [
    "# 사업자번호 \n",
    "테이블_리스트 = []\n",
    "for i in range(len(사업자)):\n",
    "    사업자번호 = 사업자.iloc[i]['사업자번호']\n",
    "\n",
    "    # 사업자번호 카피하여 붙이기\n",
    "    elem = driver.find_element_by_xpath('//*[@id=\"bsno\"]')\n",
    "    elem.send_keys(사업자번호)\n",
    "    \n",
    "    # 시간 주기\n",
    "    time.sleep(4.5)\n",
    "    driver.find_element_by_xpath('//*[@id=\"trigger5\"]').click()\n",
    "\n",
    "    # 테이블_바디로 이동\n",
    "    테이블_바디 = driver.find_element_by_xpath('//*[@id=\"grid2_body_tbody\"]')\n",
    "    time.sleep(1)\n",
    "    print(테이블_바디.text)\n",
    "    \n",
    "    테이블_바디_쪼개기 = 테이블_바디.text.split(\" \")\n",
    "    \n",
    "    테이블_리스트 = 테이블_리스트 + [[테이블_바디_쪼개기[0], \" \".join(테이블_바디_쪼개기[1:-1]), 테이블_바디_쪼개기[-1]]]\n",
    "    \n",
    "# 결과를 엑셀로 저장하기 : list of list 는 from_records() 함수를 이용한다. \n",
    "df = pd.DataFrame.from_records(테이블_리스트, columns=['사업자등록번호', '과세여부', '조회일'] )\n",
    "\n",
    "\n",
    "import xlwings as xw\n",
    "xw.view(df)"
   ]
  }
 ],
 "metadata": {
  "kernelspec": {
   "display_name": "Python 3",
   "language": "python",
   "name": "python3"
  },
  "language_info": {
   "codemirror_mode": {
    "name": "ipython",
    "version": 3
   },
   "file_extension": ".py",
   "mimetype": "text/x-python",
   "name": "python",
   "nbconvert_exporter": "python",
   "pygments_lexer": "ipython3",
   "version": "3.8.3"
  }
 },
 "nbformat": 4,
 "nbformat_minor": 4
}
