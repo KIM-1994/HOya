{
 "cells": [
  {
   "cell_type": "code",
   "execution_count": 7,
   "metadata": {},
   "outputs": [
    {
     "name": "stderr",
     "output_type": "stream",
     "text": [
      "<ipython-input-7-9c6a98efe96d>:17: DeprecationWarning: use options instead of chrome_options\n",
      "  driver = webdriver.Chrome('chromedriver.exe',chrome_options=options)\n"
     ]
    }
   ],
   "source": [
    "# 셀레니움 드라이버 임포트\n",
    "import selenium\n",
    "import pandas as pd\n",
    "\n",
    "# 웹드라이버 임포트\n",
    "from selenium import webdriver\n",
    "\n",
    "# pyautogui 임포트\n",
    "#import pyautogui as p\n",
    "\n",
    "# time 임포트\n",
    "import time\n",
    "\n",
    "# 크롬 창 크기를 최대화 한다.\n",
    "options = webdriver.ChromeOptions()\n",
    "options.add_argument(\"--start-maximized\")\n",
    "driver = webdriver.Chrome('chromedriver.exe',chrome_options=options)\n",
    "\n",
    "#원하는 URL 접속한다.\n",
    "driver.get('http://www.daum.net')\n",
    "\n",
    "\n",
    "# 검색창 클릭\n",
    "검색어 = '시청률'\n",
    "driver.find_element_by_xpath('//*[@id=\"q\"]').send_keys(검색어)\n",
    "\n",
    "\n",
    "#검색버튼 누르기 \n",
    "driver.find_element_by_xpath('//*[@id=\"daumSearch\"]/fieldset/div/div/button[2]').click()\n",
    "time.sleep(1)\n",
    "\n",
    "# 일일시청률 버튼 누르기\n",
    "driver.find_element_by_xpath('//*[@id=\"jupTvRatingColl\"]/div[2]/div[1]/div[1]/ul/li[1]/a').click()\n",
    "time.sleep(1)\n",
    "\n",
    "\n",
    "# 일일시청률 테이블 형식의 text 갖고 오기\n",
    "시청률_텍스트 = driver.find_element_by_xpath('//*[@id=\"jupTvRatingColl\"]/div[2]/div[1]/div[3]/div/table/tbody').text"
   ]
  },
  {
   "cell_type": "code",
   "execution_count": 17,
   "metadata": {},
   "outputs": [
    {
     "data": {
      "text/html": [
       "<div>\n",
       "<style scoped>\n",
       "    .dataframe tbody tr th:only-of-type {\n",
       "        vertical-align: middle;\n",
       "    }\n",
       "\n",
       "    .dataframe tbody tr th {\n",
       "        vertical-align: top;\n",
       "    }\n",
       "\n",
       "    .dataframe thead th {\n",
       "        text-align: right;\n",
       "    }\n",
       "</style>\n",
       "<table border=\"1\" class=\"dataframe\">\n",
       "  <thead>\n",
       "    <tr style=\"text-align: right;\">\n",
       "      <th></th>\n",
       "      <th>순위</th>\n",
       "      <th>프로그램</th>\n",
       "      <th>채널</th>\n",
       "      <th>시청률</th>\n",
       "    </tr>\n",
       "  </thead>\n",
       "  <tbody>\n",
       "    <tr>\n",
       "      <th>0</th>\n",
       "      <td>1</td>\n",
       "      <td>누가 뭐래도</td>\n",
       "      <td>KBS1</td>\n",
       "      <td>21.2%</td>\n",
       "    </tr>\n",
       "    <tr>\n",
       "      <th>1</th>\n",
       "      <td>2</td>\n",
       "      <td>비밀의 남자</td>\n",
       "      <td>KBS2</td>\n",
       "      <td>19.1%</td>\n",
       "    </tr>\n",
       "    <tr>\n",
       "      <th>2</th>\n",
       "      <td>3</td>\n",
       "      <td>아침마당</td>\n",
       "      <td>KBS1</td>\n",
       "      <td>12%</td>\n",
       "    </tr>\n",
       "    <tr>\n",
       "      <th>3</th>\n",
       "      <td>4</td>\n",
       "      <td>KBS 뉴스9</td>\n",
       "      <td>KBS1</td>\n",
       "      <td>11.8%</td>\n",
       "    </tr>\n",
       "    <tr>\n",
       "      <th>4</th>\n",
       "      <td>5</td>\n",
       "      <td>트롯신이 떴다</td>\n",
       "      <td>SBS</td>\n",
       "      <td>11.4%</td>\n",
       "    </tr>\n",
       "  </tbody>\n",
       "</table>\n",
       "</div>"
      ],
      "text/plain": [
       "  순위     프로그램    채널    시청률\n",
       "0  1   누가 뭐래도  KBS1  21.2%\n",
       "1  2   비밀의 남자  KBS2  19.1%\n",
       "2  3     아침마당  KBS1    12%\n",
       "3  4  KBS 뉴스9  KBS1  11.8%\n",
       "4  5  트롯신이 떴다   SBS  11.4%"
      ]
     },
     "execution_count": 17,
     "metadata": {},
     "output_type": "execute_result"
    }
   ],
   "source": [
    "time.sleep(1)\n",
    "tmp = [i.split() for i in 시청률_텍스트.split('\\n')]\n",
    "tmp_1 = [tmp[i]+tmp[i+1] for i in range(0,len(tmp),2)]\n",
    "테이블_리스트 = [[tmp_1[i][0],\" \".join(tmp_1[i][1:-2]),tmp_1[i][-2],tmp_1[i][-1]] for i in range(len(tmp_1))]\n",
    "\n",
    "time.sleep(1)\n",
    "df = pd.DataFrame.from_records(테이블_리스트, columns=['순위', '프로그램', '채널', '시청률'])\n",
    "\n",
    "\n",
    "\n",
    "import xlwings as xw\n",
    "\n",
    "xw.view(df) # 엑셀로 표시\n",
    "df.head() # 프레임으로 표시"
   ]
  }
 ],
 "metadata": {
  "kernelspec": {
   "display_name": "Python 3",
   "language": "python",
   "name": "python3"
  },
  "language_info": {
   "codemirror_mode": {
    "name": "ipython",
    "version": 3
   },
   "file_extension": ".py",
   "mimetype": "text/x-python",
   "name": "python",
   "nbconvert_exporter": "python",
   "pygments_lexer": "ipython3",
   "version": "3.8.3"
  }
 },
 "nbformat": 4,
 "nbformat_minor": 4
}
